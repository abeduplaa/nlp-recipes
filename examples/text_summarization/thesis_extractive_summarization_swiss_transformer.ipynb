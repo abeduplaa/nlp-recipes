{
 "cells": [
  {
   "cell_type": "markdown",
   "metadata": {},
   "source": [
    "Copyright (c) Microsoft Corporation. All rights reserved.\n",
    "\n",
    "Licensed under the MIT License."
   ]
  },
  {
   "cell_type": "markdown",
   "metadata": {},
   "source": [
    "## Extractive Summarization on CNN/DM Dataset using Transformer Version of BertSum\n",
    "\n",
    "\n",
    "### Summary\n",
    "\n",
    "This notebook demonstrates how to fine tune Transformers for extractive text summarization. Utility functions and classes in the NLP Best Practices repo are used to facilitate data preprocessing, model training, model scoring, result postprocessing, and model evaluation.\n",
    "\n",
    "BertSum refers to  [Fine-tune BERT for Extractive Summarization](https://arxiv.org/pdf/1903.10318.pdf) with [published example](https://github.com/nlpyang/BertSum/). And the Transformer version of Bertsum refers to our modification of BertSum and the source code can be accessed at (https://github.com/daden-ms/BertSum/). \n",
    "\n",
    "Extractive summarization are usually used in document summarization where each input document consists of mutiple sentences. The preprocessing of the input training data involves assigning label 0 or 1 to the document sentences based on the give summary. The summarization problem is also simplfied to classifying whether a document sentence should be included in the summary. \n",
    "\n",
    "The figure below illustrates how BERTSum can be fine tuned for extractive summarization task. [CLS] token is inserted at the beginning of each sentence, so is [SEP] token at the end. Interval segment embedding and positional embedding are added upon the token embedding as the input of the BERT model. The [CLS] token representation is used as sentence embedding and only the [CLS] tokens are used as the input for the summarization model. The summarization layer predicts the probability for each  sentence being included in the summary. Techniques like trigram blocking can be used to improve model accuarcy.   \n",
    "\n",
    "<img src=\"https://nlpbp.blob.core.windows.net/images/BertSum.PNG\">\n",
    "\n",
    "\n",
    "### Before You Start\n",
    "\n",
    "The running time shown in this notebook is on a Standard_NC24s_v3 Azure Ubuntu Virtual Machine with 4 NVIDIA Tesla V100 GPUs. \n",
    "> **Tip**: If you want to run through the notebook quickly, you can set the **`QUICK_RUN`** flag in the cell below to **`True`** to run the notebook on a small subset of the data and a smaller number of epochs. \n",
    "\n",
    "Using only 1 NVIDIA Tesla V100 GPUs, 16GB GPU memory configuration,\n",
    "- for data preprocessing, it takes around 1 minutes to preprocess the data for quick run. Otherwise it takes ~20 minutes to finish the data preprocessing. This time estimation assumes that the chosen transformer model is \"distilbert-base-uncased\" and the sentence selection method is \"greedy\", which is the default. The preprocessing time can be significantly longer if the sentence selection method is \"combination\", which can achieve better model performance.\n",
    "\n",
    "- for model fine tuning, it takes around 2 minutes for quick run. Otherwise, it takes around ~3 hours to finish. This estimation assumes the chosen encoder method is \"transformer\". The model fine tuning time can be shorter if other encoder method is chosen, which may result in worse model performance. \n",
    "\n",
    "### Additional Notes\n",
    "\n",
    "* **ROUGE Evalation**: To run rouge evaluation, please refer to the section of compute_rouge_perl in [summarization_evaluation.ipynb](./summarization_evaluation.ipynb) for setup.\n",
    "\n",
    "* **Distributed Training**:\n",
    "Please note that the jupyter notebook only allows to use pytorch [DataParallel](https://pytorch.org/docs/master/nn.html#dataparallel). Faster speed and larger batch size can be achieved with pytorch [DistributedDataParallel](https://pytorch.org/docs/master/notes/ddp.html)(DDP). Script [extractive_summarization_cnndm_distributed_train.py](./extractive_summarization_cnndm_distributed_train.py) shows an example of how to use DDP.\n",
    "\n"
   ]
  },
  {
   "cell_type": "code",
   "execution_count": 1,
   "metadata": {},
   "outputs": [],
   "source": [
    "%load_ext autoreload\n",
    "\n",
    "%autoreload 2"
   ]
  },
  {
   "cell_type": "code",
   "execution_count": 22,
   "metadata": {
    "tags": [
     "parameters"
    ]
   },
   "outputs": [],
   "source": [
    "## Set QUICK_RUN = True to run the notebook on a small subset of data and a smaller number of epochs.\n",
    "QUICK_RUN = True\n",
    "## Set USE_PREPROCSSED_DATA = True to skip the data preprocessing\n",
    "USE_PREPROCSSED_DATA = False"
   ]
  },
  {
   "cell_type": "markdown",
   "metadata": {},
   "source": [
    "### Configuration\n"
   ]
  },
  {
   "cell_type": "code",
   "execution_count": 23,
   "metadata": {},
   "outputs": [],
   "source": [
    "import os\n",
    "import shutil\n",
    "import sys\n",
    "from tempfile import TemporaryDirectory\n",
    "import torch\n",
    "\n",
    "nlp_path = os.path.abspath(\"../../\")\n",
    "if nlp_path not in sys.path:\n",
    "    sys.path.insert(0, nlp_path)\n",
    "\n",
    "from utils_nlp.dataset.cnndm import CNNDMBertSumProcessedData, CNNDMSummarizationDataset\n",
    "# from utils_nlp.dataset.bundesministerium import BUNDBertSumProcessedData, BUNDSummarizationDataset\n",
    "from utils_nlp.dataset.swiss import SwissSummarizationDataset\n",
    "\n",
    "from utils_nlp.eval import compute_rouge_python, compute_rouge_perl\n",
    "from utils_nlp.models.transformers.extractive_summarization import (\n",
    "    ExtractiveSummarizer,\n",
    "    ExtSumProcessedData,\n",
    "    ExtSumProcessor,\n",
    ")\n",
    "\n",
    "from utils_nlp.models.transformers.datasets import SummarizationDataset\n",
    "import nltk\n",
    "from nltk import tokenize\n",
    "\n",
    "import pandas as pd\n",
    "import scrapbook as sb\n",
    "import pprint"
   ]
  },
  {
   "cell_type": "markdown",
   "metadata": {},
   "source": [
    "\n",
    "### Configuration: choose the transformer model to be used"
   ]
  },
  {
   "cell_type": "markdown",
   "metadata": {},
   "source": [
    "Several pretrained models have been made available by [Hugging Face](https://github.com/huggingface/transformers). For extractive summarization, the following pretrained models are supported. "
   ]
  },
  {
   "cell_type": "code",
   "execution_count": 24,
   "metadata": {},
   "outputs": [
    {
     "data": {
      "text/html": [
       "<div>\n",
       "<style scoped>\n",
       "    .dataframe tbody tr th:only-of-type {\n",
       "        vertical-align: middle;\n",
       "    }\n",
       "\n",
       "    .dataframe tbody tr th {\n",
       "        vertical-align: top;\n",
       "    }\n",
       "\n",
       "    .dataframe thead th {\n",
       "        text-align: right;\n",
       "    }\n",
       "</style>\n",
       "<table border=\"1\" class=\"dataframe\">\n",
       "  <thead>\n",
       "    <tr style=\"text-align: right;\">\n",
       "      <th></th>\n",
       "      <th>model_name</th>\n",
       "    </tr>\n",
       "  </thead>\n",
       "  <tbody>\n",
       "    <tr>\n",
       "      <th>0</th>\n",
       "      <td>bert-base-uncased</td>\n",
       "    </tr>\n",
       "    <tr>\n",
       "      <th>1</th>\n",
       "      <td>bert-base-german-cased</td>\n",
       "    </tr>\n",
       "    <tr>\n",
       "      <th>2</th>\n",
       "      <td>distilbert-base-uncased</td>\n",
       "    </tr>\n",
       "    <tr>\n",
       "      <th>3</th>\n",
       "      <td>dbmdz/bert-base-german-uncased</td>\n",
       "    </tr>\n",
       "    <tr>\n",
       "      <th>4</th>\n",
       "      <td>bert-base-german-dbmdz-cased</td>\n",
       "    </tr>\n",
       "    <tr>\n",
       "      <th>5</th>\n",
       "      <td>bert-base-multilingual-cased</td>\n",
       "    </tr>\n",
       "    <tr>\n",
       "      <th>6</th>\n",
       "      <td>distilbert-base-german-cased</td>\n",
       "    </tr>\n",
       "    <tr>\n",
       "      <th>7</th>\n",
       "      <td>bert-base-german-dbmdz-uncased</td>\n",
       "    </tr>\n",
       "    <tr>\n",
       "      <th>8</th>\n",
       "      <td>severinsimmler/bert-adapted-german-press</td>\n",
       "    </tr>\n",
       "    <tr>\n",
       "      <th>9</th>\n",
       "      <td>xlm-roberta-large-finetuned-conll03-german</td>\n",
       "    </tr>\n",
       "  </tbody>\n",
       "</table>\n",
       "</div>"
      ],
      "text/plain": [
       "                                   model_name\n",
       "0                           bert-base-uncased\n",
       "1                      bert-base-german-cased\n",
       "2                     distilbert-base-uncased\n",
       "3              dbmdz/bert-base-german-uncased\n",
       "4                bert-base-german-dbmdz-cased\n",
       "5                bert-base-multilingual-cased\n",
       "6                distilbert-base-german-cased\n",
       "7              bert-base-german-dbmdz-uncased\n",
       "8    severinsimmler/bert-adapted-german-press\n",
       "9  xlm-roberta-large-finetuned-conll03-german"
      ]
     },
     "execution_count": 24,
     "metadata": {},
     "output_type": "execute_result"
    }
   ],
   "source": [
    "pd.DataFrame({\"model_name\": ExtractiveSummarizer.list_supported_models()})"
   ]
  },
  {
   "cell_type": "code",
   "execution_count": 25,
   "metadata": {
    "tags": [
     "parameters"
    ]
   },
   "outputs": [],
   "source": [
    "# Transformer model being used\n",
    "MODEL_NAME = \"bert-base-german-dbmdz-uncased\"\n",
    "\n",
    "# Data being used\n",
    "DATA_NAME = \"swiss\""
   ]
  },
  {
   "cell_type": "code",
   "execution_count": 26,
   "metadata": {},
   "outputs": [
    {
     "data": {
      "application/vnd.jupyter.widget-view+json": {
       "model_id": "a62faf6e75d74562846765dcd8d22b98",
       "version_major": 2,
       "version_minor": 0
      },
      "text/plain": [
       "HBox(children=(IntProgress(value=0, description='Downloading', max=433, style=ProgressStyle(description_width=…"
      ]
     },
     "metadata": {},
     "output_type": "display_data"
    },
    {
     "name": "stdout",
     "output_type": "stream",
     "text": [
      "\n"
     ]
    },
    {
     "data": {
      "application/vnd.jupyter.widget-view+json": {
       "model_id": "c0b47f761aa34a558d748e93cd9c1daa",
       "version_major": 2,
       "version_minor": 0
      },
      "text/plain": [
       "HBox(children=(IntProgress(value=0, description='Downloading', max=247333, style=ProgressStyle(description_wid…"
      ]
     },
     "metadata": {},
     "output_type": "display_data"
    },
    {
     "name": "stdout",
     "output_type": "stream",
     "text": [
      "\n"
     ]
    }
   ],
   "source": [
    "# notebook parameters\n",
    "# the cache data path during find tuning\n",
    "CACHE_DIR = TemporaryDirectory().name\n",
    "processor = ExtSumProcessor(model_name=MODEL_NAME, cache_dir=CACHE_DIR)"
   ]
  },
  {
   "cell_type": "markdown",
   "metadata": {},
   "source": [
    "### Data Preprocessing\n",
    "\n",
    "The dataset we used for this notebook is CNN/DM dataset which contains the documents and accompanying questions from the news articles of CNN and Daily mail. The highlights in each article are used as summary. The dataset consits of ~289K training examples, ~11K valiation examples and ~11K test examples.  You can choose the [Option 1] below preprocess the data or [Option 2] to use the preprocessed version at [BERTSum published example](https://github.com/nlpyang/BertSum/). You don't need to manually download any of these two data sets as the code below will handle downloading. Functions defined specific in [cnndm.py](../../utils_nlp/dataset/cnndm.py) are unique to CNN/DM dataset that's preprocessed by harvardnlp. However, it provides a skeleton of how to preprocessing text into the format that model preprocessor takes: sentence tokenization and work tokenization. \n",
    "\n",
    "##### Details of Data Preprocessing\n",
    "\n",
    "The purpose of preprocessing is to process the input articles to the format that model finetuning needed. Assuming you have (1) all articles and (2) target summaries, each in a file and line-breaker separated, the steps to preprocess the data are:\n",
    "1. sentence tokenization\n",
    "2. word tokenization\n",
    "3. **label** the sentences in the article with 1 meaning the sentence is selected and 0 meaning the sentence is not selected. The algorithms for the sentence selection are \"greedy\" and \"combination\" and can be found in [sentence_selection.py](../../utils_nlp/dataset/sentence_selection.py)\n",
    "3. convert each example to  the desired format for extractive summarization\n",
    "    - filter the sentences in the example based on the min_src_ntokens argument. If the lefted total sentence number is less than min_nsents, the example is discarded.\n",
    "    - truncate the sentences in the example if the length is greater than max_src_ntokens\n",
    "    - truncate the sentences in the example and the labels if the total number of sentences is greater than max_nsents\n",
    "    - [CLS] and [SEP] are inserted before and after each sentence\n",
    "    - wordPiece tokenization or Byte Pair Encoding (BPE) subword tokenization\n",
    "    - truncate the example to 512 tokens\n",
    "    - convert the tokens into token indices corresponding to the transformer tokenizer's vocabulary.\n",
    "    - segment ids are generated and added\n",
    "    - [CLS] token positions are logged\n",
    "    - [CLS] token labels are truncated if it's greater than 512, which is the maximum input length that can be taken by the transformer model.\n",
    "    \n",
    "    \n",
    "Note that the original BERTSum paper use Stanford CoreNLP for data preprocessing, here we use NLTK for data preprocessing. "
   ]
  },
  {
   "cell_type": "code",
   "execution_count": 36,
   "metadata": {
    "tags": [
     "parameters"
    ]
   },
   "outputs": [],
   "source": [
    "# the data path used to save the downloaded data file\n",
    "DATA_PATH = '/home/ubuntu/mnt/data/swiss_processed'\n",
    "# The number of lines at the head of data file used for preprocessing. -1 means all the lines.\n",
    "TOP_N = 500\n",
    "if not QUICK_RUN:\n",
    "    TOP_N = -1"
   ]
  },
  {
   "cell_type": "markdown",
   "metadata": {},
   "source": [
    "##### [Option 1] Preprocess  data (Please skip this part if you choose to use preprocessed data)\n",
    "The code in following cell will download the CNN/DM dataset listed at https://github.com/harvardnlp/sent-summary/."
   ]
  },
  {
   "cell_type": "code",
   "execution_count": 37,
   "metadata": {
    "scrolled": false
   },
   "outputs": [],
   "source": [
    "validation = False\n",
    "\n",
    "if DATA_NAME is \"cnndm\":\n",
    "    train_dataset, test_dataset = CNNDMSummarizationDataset(top_n=TOP_N, local_cache_path=DATA_PATH)\n",
    "elif DATA_NAME is \"swiss\":\n",
    "    if validation:\n",
    "        train_dataset, validation_dataset, test_dataset = SwissSummarizationDataset(top_n=TOP_N, validation=True, language='german')\n",
    "    else:\n",
    "        train_dataset, test_dataset = SwissSummarizationDataset(top_n=TOP_N, validation=False, language='german')\n",
    "        "
   ]
  },
  {
   "cell_type": "code",
   "execution_count": 38,
   "metadata": {},
   "outputs": [
    {
     "data": {
      "text/plain": [
       "(475, 2, 25)"
      ]
     },
     "execution_count": 38,
     "metadata": {},
     "output_type": "execute_result"
    }
   ],
   "source": [
    "\n",
    "len(train_dataset), len(validation_dataset), len(test_dataset)"
   ]
  },
  {
   "cell_type": "markdown",
   "metadata": {},
   "source": [
    "### Preprocess the data."
   ]
  },
  {
   "cell_type": "code",
   "execution_count": 39,
   "metadata": {
    "scrolled": false
   },
   "outputs": [],
   "source": [
    "\n",
    "ext_sum_train = processor.preprocess(train_dataset, oracle_mode=\"greedy\")\n",
    "ext_sum_test = processor.preprocess(test_dataset, oracle_mode=\"greedy\")\n"
   ]
  },
  {
   "cell_type": "markdown",
   "metadata": {},
   "source": [
    "### Save the data."
   ]
  },
  {
   "cell_type": "code",
   "execution_count": 40,
   "metadata": {},
   "outputs": [],
   "source": [
    "SAVE_DATA = False\n",
    "\n",
    "\n",
    "# save and load preprocessed data\n",
    "\n",
    "if SAVE_DATA:\n",
    "    save_path = os.path.join(DATA_PATH, DATA_NAME + \"_processed\")\n",
    "    os.makedirs(save_path, exist_ok=True)\n",
    "\n",
    "    torch.save(ext_sum_train, os.path.join(save_path, \"train_full.pt\"))\n",
    "    torch.save(ext_sum_test, os.path.join(save_path, \"test_full.pt\"))"
   ]
  },
  {
   "cell_type": "code",
   "execution_count": 41,
   "metadata": {},
   "outputs": [
    {
     "data": {
      "text/plain": [
       "475"
      ]
     },
     "execution_count": 41,
     "metadata": {},
     "output_type": "execute_result"
    }
   ],
   "source": [
    "len(ext_sum_train)"
   ]
  },
  {
   "cell_type": "markdown",
   "metadata": {},
   "source": [
    "#### Inspect Data"
   ]
  },
  {
   "cell_type": "code",
   "execution_count": 42,
   "metadata": {},
   "outputs": [
    {
     "data": {
      "text/plain": [
       "{'src': [['Carl',\n",
       "   'Gotthard',\n",
       "   'Langhans',\n",
       "   'war',\n",
       "   'ein',\n",
       "   'Sohn',\n",
       "   'des',\n",
       "   'Konrektors',\n",
       "   ',',\n",
       "   'später',\n",
       "   'Prorektors',\n",
       "   ',',\n",
       "   'Gottfried',\n",
       "   'Langhans',\n",
       "   'der',\n",
       "   'evangelischen',\n",
       "   'Schulen',\n",
       "   'in',\n",
       "   'Landeshut',\n",
       "   'und',\n",
       "   'Schweidnitz',\n",
       "   '.'],\n",
       "  ['Er',\n",
       "   'studierte',\n",
       "   'von',\n",
       "   '1753',\n",
       "   'bis',\n",
       "   '1757',\n",
       "   'Jura',\n",
       "   'in',\n",
       "   'Halle',\n",
       "   ',',\n",
       "   'daneben',\n",
       "   'auch',\n",
       "   'Mathematik',\n",
       "   'und',\n",
       "   'Sprachen',\n",
       "   ',',\n",
       "   'und',\n",
       "   'beschäftigte',\n",
       "   'sich',\n",
       "   'autodidaktisch',\n",
       "   'mit',\n",
       "   'der',\n",
       "   'Architektur',\n",
       "   ',',\n",
       "   'wobei',\n",
       "   'er',\n",
       "   'vor',\n",
       "   'allem',\n",
       "   'die',\n",
       "   'antiken',\n",
       "   'Schriften',\n",
       "   'des',\n",
       "   'römischen',\n",
       "   'Architekturtheoretikers',\n",
       "   'Vitruv',\n",
       "   'und',\n",
       "   'deren',\n",
       "   'Neufassung',\n",
       "   'des',\n",
       "   'von',\n",
       "   'der',\n",
       "   'Antike',\n",
       "   'begeisterten',\n",
       "   'Johann',\n",
       "   'Joachim',\n",
       "   'Winckelmann',\n",
       "   'zugrunde',\n",
       "   'legte',\n",
       "   '.'],\n",
       "  ['Der',\n",
       "   'Entwurf',\n",
       "   'zur',\n",
       "   'protestantischen',\n",
       "   'Kirche',\n",
       "   '``',\n",
       "   'Zum',\n",
       "   'Schifflein',\n",
       "   'Christi',\n",
       "   \"''\",\n",
       "   '1764',\n",
       "   'in',\n",
       "   'Glogau',\n",
       "   'brachte',\n",
       "   'ihm',\n",
       "   'den',\n",
       "   'ersten',\n",
       "   'Durchbruch',\n",
       "   'als',\n",
       "   'Architekt',\n",
       "   '.'],\n",
       "  ['Im',\n",
       "   'selben',\n",
       "   'Jahr',\n",
       "   'fand',\n",
       "   'Langhans',\n",
       "   'eine',\n",
       "   'Anstellung',\n",
       "   'als',\n",
       "   'Bauinspektor',\n",
       "   'des',\n",
       "   'Fürsten',\n",
       "   'von',\n",
       "   'Hatzfeld',\n",
       "   ',',\n",
       "   'dessen',\n",
       "   'kriegszerstörtes',\n",
       "   'Stadtpalais',\n",
       "   'in',\n",
       "   'Breslau',\n",
       "   'er',\n",
       "   'nach',\n",
       "   'eigenen',\n",
       "   'Entwürfen',\n",
       "   'in',\n",
       "   'den',\n",
       "   'Jahren',\n",
       "   '1766–74',\n",
       "   'neu',\n",
       "   'errichten',\n",
       "   'liess',\n",
       "   '.'],\n",
       "  ['Durch',\n",
       "   'die',\n",
       "   'Vermittlung',\n",
       "   'des',\n",
       "   'Fürsten',\n",
       "   'von',\n",
       "   'Hatzfeld',\n",
       "   'wurde',\n",
       "   'er',\n",
       "   'am',\n",
       "   'Berliner',\n",
       "   'Hof',\n",
       "   'bekannt',\n",
       "   '.'],\n",
       "  ['Als',\n",
       "   'erstes',\n",
       "   'Werk',\n",
       "   'im',\n",
       "   'Dienste',\n",
       "   'der',\n",
       "   'königlichen',\n",
       "   'Familie',\n",
       "   'entwarf',\n",
       "   'er',\n",
       "   'für',\n",
       "   'den',\n",
       "   'Prinzen',\n",
       "   'Heinrich',\n",
       "   '1766',\n",
       "   'das',\n",
       "   'Treppenhaus',\n",
       "   'und',\n",
       "   'den',\n",
       "   'Muschelsaal',\n",
       "   'im',\n",
       "   'Schloss',\n",
       "   'Rheinsberg',\n",
       "   '.'],\n",
       "  ['Im',\n",
       "   'Jahre',\n",
       "   '1771',\n",
       "   'heiratete',\n",
       "   'er',\n",
       "   'Anna',\n",
       "   'Elisabeth',\n",
       "   'Jaeckel',\n",
       "   ',',\n",
       "   'die',\n",
       "   'Tochter',\n",
       "   'eines',\n",
       "   'Breslauer',\n",
       "   'Rechtsgelehrten',\n",
       "   '.'],\n",
       "  ['Sie',\n",
       "   'hatten',\n",
       "   'fünf',\n",
       "   'Kinder',\n",
       "   ':',\n",
       "   'die',\n",
       "   'Töchter',\n",
       "   'Louise',\n",
       "   'Amalie',\n",
       "   'und',\n",
       "   'Juliane',\n",
       "   'Wilhelmine',\n",
       "   ',',\n",
       "   'den',\n",
       "   'Sohn',\n",
       "   'Carl',\n",
       "   'Ferdinand',\n",
       "   ',',\n",
       "   'der',\n",
       "   'Architekt',\n",
       "   'wurde',\n",
       "   ',',\n",
       "   'sowie',\n",
       "   'zwei',\n",
       "   'weitere',\n",
       "   ',',\n",
       "   'die',\n",
       "   'früh',\n",
       "   'starben',\n",
       "   '.'],\n",
       "  ['Seit',\n",
       "   '1782',\n",
       "   'bewohnte',\n",
       "   'Langhans',\n",
       "   'mit',\n",
       "   'seiner',\n",
       "   'Familie',\n",
       "   'das',\n",
       "   'schwiegerelterliche',\n",
       "   'Haus',\n",
       "   'in',\n",
       "   'der',\n",
       "   'Albrechtstrasse',\n",
       "   '18',\n",
       "   'in',\n",
       "   'Breslau',\n",
       "   '.'],\n",
       "  ['1788',\n",
       "   'zog',\n",
       "   'er',\n",
       "   'nach',\n",
       "   'Berlin',\n",
       "   'um',\n",
       "   ',',\n",
       "   'wo',\n",
       "   'er',\n",
       "   'in',\n",
       "   'der',\n",
       "   'Charlottenstrasse',\n",
       "   '48',\n",
       "   'wohnte',\n",
       "   '.'],\n",
       "  ['Im',\n",
       "   'Alter',\n",
       "   'zog',\n",
       "   'sich',\n",
       "   'Langhans',\n",
       "   'auf',\n",
       "   'seine',\n",
       "   'Besitzung',\n",
       "   'in',\n",
       "   'Grüneiche',\n",
       "   'bei',\n",
       "   'Breslau',\n",
       "   'zurück',\n",
       "   '.'],\n",
       "  ['In',\n",
       "   'Breslau',\n",
       "   'war',\n",
       "   'er',\n",
       "   'Mitglied',\n",
       "   'der',\n",
       "   'Freimaurerloge',\n",
       "   '``',\n",
       "   'Zur',\n",
       "   'Säule',\n",
       "   \"''\",\n",
       "   '.'],\n",
       "  ['Er',\n",
       "   'wurde',\n",
       "   'auf',\n",
       "   'dem',\n",
       "   'Grossen',\n",
       "   'Friedhof',\n",
       "   'in',\n",
       "   'Breslau',\n",
       "   'begraben',\n",
       "   '.'],\n",
       "  ['Der', 'Friedhof', 'wurde', '1957', 'zerstört', '.'],\n",
       "  ['Im', 'ausgehenden', '18', '.'],\n",
       "  ['Jahrhundert', 'und', 'beginnenden', '19', '.'],\n",
       "  ['Jahrhundert',\n",
       "   'war',\n",
       "   'es',\n",
       "   'für',\n",
       "   'jeden',\n",
       "   'Künstler',\n",
       "   'ein',\n",
       "   'grosser',\n",
       "   'Traum',\n",
       "   ',',\n",
       "   'eine',\n",
       "   'Italienreise',\n",
       "   'zu',\n",
       "   'unternehmen',\n",
       "   ',',\n",
       "   'um',\n",
       "   'die',\n",
       "   'Antike',\n",
       "   'aus',\n",
       "   'eigener',\n",
       "   'Anschauung',\n",
       "   'studieren',\n",
       "   'zu',\n",
       "   'können',\n",
       "   '.'],\n",
       "  ['Nicht',\n",
       "   'nur',\n",
       "   'Goethe',\n",
       "   'und',\n",
       "   'Schinkel',\n",
       "   'war',\n",
       "   'die',\n",
       "   'Erfüllung',\n",
       "   'dieses',\n",
       "   'Traums',\n",
       "   'vergönnt',\n",
       "   ',',\n",
       "   'auch',\n",
       "   'Langhans',\n",
       "   'konnte',\n",
       "   'sich',\n",
       "   'durch',\n",
       "   'die',\n",
       "   'Unterstützung',\n",
       "   'des',\n",
       "   'Fürsten',\n",
       "   'von',\n",
       "   'Hatzfeld',\n",
       "   '1768–69',\n",
       "   'eine',\n",
       "   'Reise',\n",
       "   'nach',\n",
       "   'Italien',\n",
       "   'leisten',\n",
       "   '.'],\n",
       "  ['Als',\n",
       "   'er',\n",
       "   'später',\n",
       "   'zum',\n",
       "   'Leiter',\n",
       "   'der',\n",
       "   'Breslauer',\n",
       "   'Kriegs-',\n",
       "   'und',\n",
       "   'Domänenkammer',\n",
       "   'berufen',\n",
       "   'wurde',\n",
       "   ',',\n",
       "   'bereiste',\n",
       "   'er',\n",
       "   'im',\n",
       "   'Auftrag',\n",
       "   'und',\n",
       "   'auf',\n",
       "   'Kosten',\n",
       "   'des',\n",
       "   'Königs',\n",
       "   'die',\n",
       "   'Länder',\n",
       "   'England',\n",
       "   ',',\n",
       "   'Holland',\n",
       "   ',',\n",
       "   'Belgien',\n",
       "   'und',\n",
       "   'Frankreich',\n",
       "   '.'],\n",
       "  ['Seine',\n",
       "   'erste',\n",
       "   'Anstellung',\n",
       "   'als',\n",
       "   'Bauinspektor',\n",
       "   'fand',\n",
       "   'Langhans',\n",
       "   '1764',\n",
       "   'beim',\n",
       "   'Fürsten',\n",
       "   'Franz',\n",
       "   'Philipp',\n",
       "   'Adrian',\n",
       "   'von',\n",
       "   'Hatzfeld',\n",
       "   '.'],\n",
       "  ['Sein',\n",
       "   'Dienstherr',\n",
       "   'liess',\n",
       "   'ihm',\n",
       "   'jedoch',\n",
       "   'freie',\n",
       "   'Hand',\n",
       "   ',',\n",
       "   'auch',\n",
       "   'für',\n",
       "   'andere',\n",
       "   'Auftraggeber',\n",
       "   'zu',\n",
       "   'arbeiten',\n",
       "   '.'],\n",
       "  ['Nach', 'den', 'verheerenden', 'Kriegen', 'Friedrichs', 'II', '.'],\n",
       "  ['in',\n",
       "   'Schlesien',\n",
       "   'wurde',\n",
       "   'Langhans',\n",
       "   '1775',\n",
       "   'zum',\n",
       "   'Leiter',\n",
       "   'der',\n",
       "   'Breslauer',\n",
       "   'Kriegs-',\n",
       "   'und',\n",
       "   'Domänenkammer',\n",
       "   'berufen',\n",
       "   '.'],\n",
       "  ['1788',\n",
       "   'wurde',\n",
       "   'er',\n",
       "   'von',\n",
       "   'Friedrichs',\n",
       "   'Neffen',\n",
       "   'und',\n",
       "   'Nachfolger',\n",
       "   'Friedrich',\n",
       "   'Wilhelm',\n",
       "   'II',\n",
       "   '.'],\n",
       "  ['zum',\n",
       "   'Direktor',\n",
       "   'des',\n",
       "   'neu',\n",
       "   'gegründeten',\n",
       "   'Oberhofbauamtes',\n",
       "   'in',\n",
       "   'Berlin',\n",
       "   'ernannt',\n",
       "   '.'],\n",
       "  ['Langhans',\n",
       "   'wurde',\n",
       "   'in',\n",
       "   'der',\n",
       "   'Barockzeit',\n",
       "   'geboren',\n",
       "   'und',\n",
       "   'starb',\n",
       "   'zur',\n",
       "   'Zeit',\n",
       "   'des',\n",
       "   'Klassizismus',\n",
       "   '.'],\n",
       "  ['So',\n",
       "   'findet',\n",
       "   'man',\n",
       "   'bei',\n",
       "   'ihm',\n",
       "   'gleichermassen',\n",
       "   'barocke',\n",
       "   'wie',\n",
       "   'klassizistische',\n",
       "   'Bauten',\n",
       "   'und',\n",
       "   'Elemente',\n",
       "   '.'],\n",
       "  ['Langhans',\n",
       "   'hat',\n",
       "   'keinen',\n",
       "   'eigenen',\n",
       "   'Stil',\n",
       "   'entwickelt',\n",
       "   'und',\n",
       "   'war',\n",
       "   'auch',\n",
       "   'nicht',\n",
       "   'massgeblich',\n",
       "   'an',\n",
       "   'einer',\n",
       "   'Stilentwicklung',\n",
       "   'beteiligt',\n",
       "   '.'],\n",
       "  ['Er',\n",
       "   'verwendet',\n",
       "   'die',\n",
       "   'auf',\n",
       "   'seinen',\n",
       "   'Reisen',\n",
       "   'studierten',\n",
       "   'Bauten',\n",
       "   ',',\n",
       "   'von',\n",
       "   'denen',\n",
       "   'er',\n",
       "   'fleissig',\n",
       "   'Zeichnungen',\n",
       "   'angefertigt',\n",
       "   'hat',\n",
       "   ',',\n",
       "   'als',\n",
       "   'Vorlagen',\n",
       "   'für',\n",
       "   'seine',\n",
       "   'eigenen',\n",
       "   'Entwürfe',\n",
       "   '.'],\n",
       "  ['Er',\n",
       "   'scheut',\n",
       "   'sich',\n",
       "   'nicht',\n",
       "   ',',\n",
       "   'verschiedene',\n",
       "   'Stilrichtungen',\n",
       "   'in',\n",
       "   'einem',\n",
       "   'Bau',\n",
       "   'nebeneinander',\n",
       "   'anzuwenden',\n",
       "   '.'],\n",
       "  ['Beim',\n",
       "   'Palais',\n",
       "   'des',\n",
       "   'Fürsten',\n",
       "   'Hatzfeld',\n",
       "   'hat',\n",
       "   'er',\n",
       "   'sich',\n",
       "   'aussen',\n",
       "   'am',\n",
       "   'Stil',\n",
       "   'der',\n",
       "   'italienischen',\n",
       "   'Hochrenaissance',\n",
       "   'orientiert',\n",
       "   ',',\n",
       "   'während',\n",
       "   'er',\n",
       "   'bei',\n",
       "   'der',\n",
       "   'Innenarchitektur',\n",
       "   'auf',\n",
       "   'barocke',\n",
       "   'Elemente',\n",
       "   'zurückgriff',\n",
       "   '.'],\n",
       "  ['Zu',\n",
       "   'dem',\n",
       "   'im',\n",
       "   'barocken',\n",
       "   'elliptischen',\n",
       "   'Grundriss',\n",
       "   'angelegten',\n",
       "   'Festsaal',\n",
       "   'im',\n",
       "   'Palais',\n",
       "   'Dönhoff',\n",
       "   'in',\n",
       "   'der',\n",
       "   'Berliner',\n",
       "   'Wilhelmstrasse',\n",
       "   'verwendete',\n",
       "   'er',\n",
       "   'eine',\n",
       "   'klassizistische',\n",
       "   'Deckendekoration',\n",
       "   '.'],\n",
       "  ['Bei',\n",
       "   'seinen',\n",
       "   'Studienreisen',\n",
       "   'durch',\n",
       "   'England',\n",
       "   'lernte',\n",
       "   'er',\n",
       "   'den',\n",
       "   'Klassizismus',\n",
       "   'der',\n",
       "   'Brüder',\n",
       "   'Robert',\n",
       "   'und',\n",
       "   'James',\n",
       "   'Adam',\n",
       "   'kennen',\n",
       "   ',',\n",
       "   'den',\n",
       "   'er',\n",
       "   'bei',\n",
       "   'seinen',\n",
       "   'Entwürfen',\n",
       "   'oft',\n",
       "   'einsetzte',\n",
       "   '.'],\n",
       "  ['Seine',\n",
       "   'klassizistischen',\n",
       "   'Entwürfe',\n",
       "   'brachten',\n",
       "   'ihm',\n",
       "   'zeitweise',\n",
       "   'den',\n",
       "   'Ruf',\n",
       "   'eines',\n",
       "   '``',\n",
       "   'modernen',\n",
       "   'Architekten',\n",
       "   \"''\",\n",
       "   'ein',\n",
       "   '.'],\n",
       "  ['Ein',\n",
       "   'von',\n",
       "   'ihm',\n",
       "   'häufig',\n",
       "   'verwendetes',\n",
       "   'architektonisches',\n",
       "   'Element',\n",
       "   'ist',\n",
       "   'das',\n",
       "   'Palladio-Motiv',\n",
       "   '.'],\n",
       "  ['Das',\n",
       "   'Brandenburger',\n",
       "   'Tor',\n",
       "   'brachte',\n",
       "   'Langhans',\n",
       "   'seinerzeit',\n",
       "   'keinen',\n",
       "   'grossen',\n",
       "   'Ruhm',\n",
       "   '.'],\n",
       "  ['König', 'Friedrich', 'Wilhelm', 'II', '.'],\n",
       "  ['lehnte',\n",
       "   'ein',\n",
       "   'Gesuch',\n",
       "   'des',\n",
       "   'Architekten',\n",
       "   'ab',\n",
       "   ',',\n",
       "   'der',\n",
       "   'Eröffnung',\n",
       "   'des',\n",
       "   'Tores',\n",
       "   'beizuwohnen',\n",
       "   'und',\n",
       "   'kritisierte',\n",
       "   'stattdessen',\n",
       "   'die',\n",
       "   'lange',\n",
       "   'Bauzeit',\n",
       "   '.'],\n",
       "  ['Der',\n",
       "   'Bildhauer',\n",
       "   'Johann',\n",
       "   'Gottfried',\n",
       "   'Schadow',\n",
       "   ',',\n",
       "   'der',\n",
       "   'die',\n",
       "   'Quadriga',\n",
       "   'für',\n",
       "   'das',\n",
       "   'Tor',\n",
       "   'erstellte',\n",
       "   ',',\n",
       "   'sah',\n",
       "   'in',\n",
       "   'dem',\n",
       "   'Rückgriff',\n",
       "   'auf',\n",
       "   'die',\n",
       "   'Propyläen',\n",
       "   'als',\n",
       "   'Vorbild',\n",
       "   'für',\n",
       "   'das',\n",
       "   'Brandenburger',\n",
       "   'Tor',\n",
       "   'eine',\n",
       "   'fehlende',\n",
       "   'Originalität',\n",
       "   'des',\n",
       "   'Architekten',\n",
       "   '.'],\n",
       "  ['Langhans',\n",
       "   '’',\n",
       "   'letzter',\n",
       "   'grosser',\n",
       "   'Bau',\n",
       "   ',',\n",
       "   'das',\n",
       "   'Nationaltheater',\n",
       "   'am',\n",
       "   'Gendarmenmarkt',\n",
       "   ',',\n",
       "   'rief',\n",
       "   'ebenfalls',\n",
       "   'Kritik',\n",
       "   'hervor',\n",
       "   '.'],\n",
       "  ['Das',\n",
       "   'Palais',\n",
       "   'für',\n",
       "   'den',\n",
       "   'Fürsten',\n",
       "   'von',\n",
       "   'Hatzfeld',\n",
       "   'und',\n",
       "   'das',\n",
       "   'im',\n",
       "   'italienischen',\n",
       "   'Barockstil',\n",
       "   'gebaute',\n",
       "   'Schauspielhaus',\n",
       "   'in',\n",
       "   'Breslau',\n",
       "   'brachten',\n",
       "   'ihm',\n",
       "   'allerdings',\n",
       "   'viel',\n",
       "   'Anerkennung',\n",
       "   '.'],\n",
       "  ['Auch',\n",
       "   'der',\n",
       "   'Speisesaal',\n",
       "   'im',\n",
       "   'Palais',\n",
       "   'des',\n",
       "   'Justizministers',\n",
       "   'Zedlitz',\n",
       "   'ist',\n",
       "   'von',\n",
       "   'Zeitgenossen',\n",
       "   'überschwänglich',\n",
       "   'gelobt',\n",
       "   'worden',\n",
       "   '.'],\n",
       "  ['Das',\n",
       "   'von',\n",
       "   'Langhans',\n",
       "   'eingerichtete',\n",
       "   'Marmorpalais',\n",
       "   'als',\n",
       "   'Residenz',\n",
       "   'von',\n",
       "   'König',\n",
       "   'Friedrich',\n",
       "   'Wilhelm',\n",
       "   'II',\n",
       "   '.'],\n",
       "  ['gilt',\n",
       "   'als',\n",
       "   'das',\n",
       "   'erste',\n",
       "   'im',\n",
       "   'Stile',\n",
       "   'des',\n",
       "   'Klassizismus',\n",
       "   'entstandene',\n",
       "   'preussische',\n",
       "   'Schloss',\n",
       "   '.'],\n",
       "  ['Es',\n",
       "   'liegt',\n",
       "   'im',\n",
       "   'Neuen',\n",
       "   'Garten',\n",
       "   'in',\n",
       "   'der',\n",
       "   'heutigen',\n",
       "   'brandenburgischen',\n",
       "   'Landeshauptstadt',\n",
       "   'Potsdam',\n",
       "   ',',\n",
       "   'ehemals',\n",
       "   'Residenzstadt',\n",
       "   'der',\n",
       "   'Hohenzollern',\n",
       "   ',',\n",
       "   'und',\n",
       "   'gilt',\n",
       "   'noch',\n",
       "   'heute',\n",
       "   'als',\n",
       "   'Paradebeispiel',\n",
       "   'des',\n",
       "   'Frühklassizismus',\n",
       "   'in',\n",
       "   'Preussen',\n",
       "   '.'],\n",
       "  ['Wenn',\n",
       "   'Langhans',\n",
       "   'als',\n",
       "   'Berliner',\n",
       "   'Architekt',\n",
       "   'heute',\n",
       "   'auch',\n",
       "   'weit',\n",
       "   'im',\n",
       "   'Schatten',\n",
       "   'des',\n",
       "   'jüngeren',\n",
       "   'Karl',\n",
       "   'Friedrich',\n",
       "   'Schinkel',\n",
       "   'steht',\n",
       "   ',',\n",
       "   'war',\n",
       "   'er',\n",
       "   'doch',\n",
       "   'zu',\n",
       "   'Lebzeiten',\n",
       "   'unangefochten',\n",
       "   'einer',\n",
       "   'der',\n",
       "   'bedeutendsten',\n",
       "   'preussischen',\n",
       "   'Baumeister',\n",
       "   '.'],\n",
       "  ['Die',\n",
       "   'Bundesrepublik',\n",
       "   'Deutschland',\n",
       "   'würdigte',\n",
       "   'Langhans',\n",
       "   'zu',\n",
       "   'seinem',\n",
       "   '275',\n",
       "   '.'],\n",
       "  ['Geburtstag',\n",
       "   'durch',\n",
       "   'die',\n",
       "   'Herausgabe',\n",
       "   'einer',\n",
       "   'Sonderbriefmarke',\n",
       "   '.'],\n",
       "  ['Die', '55-Cent-Marke', 'erschien', 'am', '27', '.'],\n",
       "  ['Dezember', '2007', '.'],\n",
       "  ['Ein',\n",
       "   'umfangreiches',\n",
       "   'Werkverzeichnis',\n",
       "   'findet',\n",
       "   'man',\n",
       "   'in',\n",
       "   'dem',\n",
       "   'Aufsatz',\n",
       "   'von',\n",
       "   'Hartwig',\n",
       "   'Schmidt',\n",
       "   '.'],\n",
       "  ['Hier', 'sind', 'einige', 'wichtige', 'Werke', 'aufgeführt', ':']],\n",
       " 'src_txt': ['Carl Gotthard Langhans war ein Sohn des Konrektors, später Prorektors, Gottfried Langhans der evangelischen Schulen in Landeshut und Schweidnitz.',\n",
       "  'Er studierte von 1753 bis 1757 Jura in Halle, daneben auch Mathematik und Sprachen, und beschäftigte sich autodidaktisch mit der Architektur, wobei er vor allem die antiken Schriften des römischen Architekturtheoretikers Vitruv und deren Neufassung des von der Antike begeisterten Johann Joachim Winckelmann zugrunde legte.',\n",
       "  'Der Entwurf zur protestantischen Kirche \"Zum Schifflein Christi\" 1764 in Glogau brachte ihm den ersten Durchbruch als Architekt.',\n",
       "  'Im selben Jahr fand Langhans eine Anstellung als Bauinspektor des Fürsten von Hatzfeld, dessen kriegszerstörtes Stadtpalais in Breslau er nach eigenen Entwürfen in den Jahren 1766–74 neu errichten liess.',\n",
       "  'Durch die Vermittlung des Fürsten von Hatzfeld wurde er am Berliner Hof bekannt.',\n",
       "  'Als erstes Werk im Dienste der königlichen Familie entwarf er für den Prinzen Heinrich 1766 das Treppenhaus und den Muschelsaal im Schloss Rheinsberg.',\n",
       "  'Im Jahre 1771 heiratete er Anna Elisabeth Jaeckel, die Tochter eines Breslauer Rechtsgelehrten.',\n",
       "  'Sie hatten fünf Kinder: die Töchter Louise Amalie und Juliane Wilhelmine, den Sohn Carl Ferdinand, der Architekt wurde, sowie zwei weitere, die früh starben.',\n",
       "  'Seit 1782 bewohnte Langhans mit seiner Familie das schwiegerelterliche Haus in der Albrechtstrasse 18 in Breslau.',\n",
       "  '1788 zog er nach Berlin um, wo er in der Charlottenstrasse 48 wohnte.',\n",
       "  'Im Alter zog sich Langhans auf seine Besitzung in Grüneiche bei Breslau zurück.',\n",
       "  'In Breslau war er Mitglied der Freimaurerloge \"Zur Säule\".',\n",
       "  'Er wurde auf dem Grossen Friedhof in Breslau begraben.',\n",
       "  'Der Friedhof wurde 1957 zerstört.',\n",
       "  'Im ausgehenden 18.',\n",
       "  'Jahrhundert und beginnenden 19.',\n",
       "  'Jahrhundert war es für jeden Künstler ein grosser Traum, eine Italienreise zu unternehmen, um die Antike aus eigener Anschauung studieren zu können.',\n",
       "  'Nicht nur Goethe und Schinkel war die Erfüllung dieses Traums vergönnt, auch Langhans konnte sich durch die Unterstützung des Fürsten von Hatzfeld 1768–69 eine Reise nach Italien leisten.',\n",
       "  'Als er später zum Leiter der Breslauer Kriegs- und Domänenkammer berufen wurde, bereiste er im Auftrag und auf Kosten des Königs die Länder England, Holland, Belgien und Frankreich.',\n",
       "  'Seine erste Anstellung als Bauinspektor fand Langhans 1764 beim Fürsten Franz Philipp Adrian von Hatzfeld.',\n",
       "  'Sein Dienstherr liess ihm jedoch freie Hand, auch für andere Auftraggeber zu arbeiten.',\n",
       "  'Nach den verheerenden Kriegen Friedrichs II.',\n",
       "  'in Schlesien wurde Langhans 1775 zum Leiter der Breslauer Kriegs- und Domänenkammer berufen.',\n",
       "  '1788 wurde er von Friedrichs Neffen und Nachfolger Friedrich Wilhelm II.',\n",
       "  'zum Direktor des neu gegründeten Oberhofbauamtes in Berlin ernannt.',\n",
       "  'Langhans wurde in der Barockzeit geboren und starb zur Zeit des Klassizismus.',\n",
       "  'So findet man bei ihm gleichermassen barocke wie klassizistische Bauten und Elemente.',\n",
       "  'Langhans hat keinen eigenen Stil entwickelt und war auch nicht massgeblich an einer Stilentwicklung beteiligt.',\n",
       "  'Er verwendet die auf seinen Reisen studierten Bauten, von denen er fleissig Zeichnungen angefertigt hat, als Vorlagen für seine eigenen Entwürfe.',\n",
       "  'Er scheut sich nicht, verschiedene Stilrichtungen in einem Bau nebeneinander anzuwenden.',\n",
       "  'Beim Palais des Fürsten Hatzfeld hat er sich aussen am Stil der italienischen Hochrenaissance orientiert, während er bei der Innenarchitektur auf barocke Elemente zurückgriff.',\n",
       "  'Zu dem im barocken elliptischen Grundriss angelegten Festsaal im Palais Dönhoff in der Berliner Wilhelmstrasse verwendete er eine klassizistische Deckendekoration.',\n",
       "  'Bei seinen Studienreisen durch England lernte er den Klassizismus der Brüder Robert und James Adam kennen, den er bei seinen Entwürfen oft einsetzte.',\n",
       "  'Seine klassizistischen Entwürfe brachten ihm zeitweise den Ruf eines \"modernen Architekten\" ein.',\n",
       "  'Ein von ihm häufig verwendetes architektonisches Element ist das Palladio-Motiv.',\n",
       "  'Das Brandenburger Tor brachte Langhans seinerzeit keinen grossen Ruhm.',\n",
       "  'König Friedrich Wilhelm II.',\n",
       "  'lehnte ein Gesuch des Architekten ab, der Eröffnung des Tores beizuwohnen und kritisierte stattdessen die lange Bauzeit.',\n",
       "  'Der Bildhauer Johann Gottfried Schadow, der die Quadriga für das Tor erstellte, sah in dem Rückgriff auf die Propyläen als Vorbild für das Brandenburger Tor eine fehlende Originalität des Architekten.',\n",
       "  'Langhans’ letzter grosser Bau, das Nationaltheater am Gendarmenmarkt , rief ebenfalls Kritik hervor.',\n",
       "  'Das Palais für den Fürsten von Hatzfeld und das im italienischen Barockstil gebaute Schauspielhaus in Breslau brachten ihm allerdings viel Anerkennung.',\n",
       "  'Auch der Speisesaal im Palais des Justizministers Zedlitz ist von Zeitgenossen überschwänglich gelobt worden.',\n",
       "  'Das von Langhans eingerichtete Marmorpalais als Residenz von König Friedrich Wilhelm II.',\n",
       "  'gilt als das erste im Stile des Klassizismus entstandene preussische Schloss.',\n",
       "  'Es liegt im Neuen Garten in der heutigen brandenburgischen Landeshauptstadt Potsdam, ehemals Residenzstadt der Hohenzollern, und gilt noch heute als Paradebeispiel des Frühklassizismus in Preussen.',\n",
       "  'Wenn Langhans als Berliner Architekt heute auch weit im Schatten des jüngeren Karl Friedrich Schinkel steht, war er doch zu Lebzeiten unangefochten einer der bedeutendsten preussischen Baumeister.',\n",
       "  'Die Bundesrepublik Deutschland würdigte Langhans zu seinem 275.',\n",
       "  'Geburtstag durch die Herausgabe einer Sonderbriefmarke.',\n",
       "  'Die 55-Cent-Marke erschien am 27.',\n",
       "  'Dezember 2007.',\n",
       "  'Ein umfangreiches Werkverzeichnis findet man in dem Aufsatz von Hartwig Schmidt.',\n",
       "  'Hier sind einige wichtige Werke aufgeführt:'],\n",
       " 'tgt': [['Carl',\n",
       "   'Gotthard',\n",
       "   'Langhans',\n",
       "   'war',\n",
       "   'ein',\n",
       "   'deutscher',\n",
       "   'Baumeister',\n",
       "   'und',\n",
       "   'Architekt',\n",
       "   '.',\n",
       "   'Seine',\n",
       "   'Werke',\n",
       "   'gehören',\n",
       "   'zu',\n",
       "   'den',\n",
       "   'frühesten',\n",
       "   'Bauten',\n",
       "   'des',\n",
       "   'Klassizismus',\n",
       "   'in',\n",
       "   'Deutschland',\n",
       "   '.',\n",
       "   'Sein',\n",
       "   'bekanntestes',\n",
       "   'Werk',\n",
       "   'ist',\n",
       "   'das',\n",
       "   'Brandenburger',\n",
       "   'Tor',\n",
       "   'in',\n",
       "   'Berlin',\n",
       "   '.']],\n",
       " 'tgt_txt': ['Carl Gotthard Langhans war ein deutscher Baumeister und Architekt. Seine Werke gehören zu den frühesten Bauten des Klassizismus in Deutschland. Sein bekanntestes Werk ist das Brandenburger Tor in Berlin.'],\n",
       " 'oracle_ids': [0, 34, 35]}"
      ]
     },
     "execution_count": 42,
     "metadata": {},
     "output_type": "execute_result"
    }
   ],
   "source": [
    "ext_sum_train[0]"
   ]
  },
  {
   "cell_type": "code",
   "execution_count": 43,
   "metadata": {
    "scrolled": false
   },
   "outputs": [
    {
     "data": {
      "text/plain": [
       "dict_keys(['src', 'src_txt', 'tgt', 'tgt_txt', 'oracle_ids'])"
      ]
     },
     "execution_count": 43,
     "metadata": {},
     "output_type": "execute_result"
    }
   ],
   "source": [
    "ext_sum_train[0].keys()"
   ]
  },
  {
   "cell_type": "markdown",
   "metadata": {},
   "source": [
    "##### [Option 2] Reuse cached preprocessed data"
   ]
  },
  {
   "cell_type": "code",
   "execution_count": 44,
   "metadata": {},
   "outputs": [],
   "source": [
    "if USE_PREPROCSSED_DATA:\n",
    "    save_path = os.path.join(DATA_PATH)\n",
    "    ext_sum_train = torch.load(os.path.join(save_path, \"train_full.pt\"))\n",
    "    ext_sum_test = torch.load(os.path.join(save_path, \"test_full.pt\"))\n",
    "    "
   ]
  },
  {
   "cell_type": "markdown",
   "metadata": {},
   "source": [
    "### Model training\n",
    "To start model training, we need to create a instance of ExtractiveSummarizer.\n",
    "\n",
    "Potentionally, roberta-based model and xlnet can be supported but needs to be tested.\n",
    "#### Choose the encoder algorithm.\n",
    "There are four options:\n",
    "- baseline: it used a smaller transformer model to replace the bert model and with transformer summarization layer\n",
    "- classifier: it uses pretrained BERT and fine-tune BERT with **simple logistic classification** summarization layer\n",
    "- transformer: it uses pretrained BERT and fine-tune BERT with **transformer** summarization layer\n",
    "- RNN: it uses pretrained BERT and fine-tune BERT with **LSTM** summarization layer"
   ]
  },
  {
   "cell_type": "code",
   "execution_count": 46,
   "metadata": {
    "tags": [
     "parameters"
    ]
   },
   "outputs": [],
   "source": [
    "BATCH_SIZE = 5 # batch size, unit is the number of samples\n",
    "MAX_POS_LENGTH = 512\n",
    "\n",
    "\n",
    "# GPU used for training\n",
    "NUM_GPUS = torch.cuda.device_count()\n",
    "\n",
    "# Encoder name. Options are: 1. baseline, classifier, transformer, rnn.\n",
    "ENCODER = \"transformer\"\n",
    "\n",
    "# Learning rate\n",
    "LEARNING_RATE=2e-3\n",
    "\n",
    "# How often the statistics reports show up in training, unit is step.\n",
    "REPORT_EVERY=50\n",
    "\n",
    "# total number of steps for training\n",
    "MAX_STEPS=1e2\n",
    "# number of steps for warm up\n",
    "WARMUP_STEPS=5e2\n",
    "    \n",
    "if not QUICK_RUN:\n",
    "    MAX_STEPS=5e4\n",
    "    WARMUP_STEPS=5e3\n",
    " "
   ]
  },
  {
   "cell_type": "code",
   "execution_count": null,
   "metadata": {
    "scrolled": true
   },
   "outputs": [],
   "source": [
    "summarizer = ExtractiveSummarizer(processor, MODEL_NAME, ENCODER, MAX_POS_LENGTH, CACHE_DIR)"
   ]
  },
  {
   "cell_type": "code",
   "execution_count": null,
   "metadata": {},
   "outputs": [],
   "source": [
    "summarizer.model_name"
   ]
  },
  {
   "cell_type": "code",
   "execution_count": null,
   "metadata": {
    "scrolled": true
   },
   "outputs": [],
   "source": [
    "#\"\"\"\n",
    "\n",
    "summarizer.fit(\n",
    "            ext_sum_train,\n",
    "            num_gpus=NUM_GPUS,\n",
    "            batch_size=BATCH_SIZE,\n",
    "            gradient_accumulation_steps=2,\n",
    "            max_steps=MAX_STEPS,\n",
    "            learning_rate=LEARNING_RATE,\n",
    "            warmup_steps=WARMUP_STEPS,\n",
    "            verbose=True,\n",
    "            report_every=REPORT_EVERY,\n",
    "            clip_grad_norm=False,\n",
    "            use_preprocessed_data=False\n",
    "        )\n",
    "\n",
    "#\"\"\"\n"
   ]
  },
  {
   "cell_type": "code",
   "execution_count": null,
   "metadata": {},
   "outputs": [],
   "source": [
    "summarizer.save_model(\n",
    "    os.path.join(\n",
    "        CACHE_DIR,\n",
    "        \"extsum_modelname_{0}_usepreprocess{1}_steps_{2}.pt\".format(\n",
    "            MODEL_NAME, USE_PREPROCSSED_DATA, MAX_STEPS\n",
    "        ),\n",
    "    )\n",
    ")"
   ]
  },
  {
   "cell_type": "markdown",
   "metadata": {},
   "source": [
    "### Model Evaluation\n",
    "\n",
    "[ROUGE](https://en.wikipedia.org/wiki/ROUGE_(metric)), or Recall-Oriented Understudy for Gisting Evaluation has been commonly used for evaluating text summarization."
   ]
  },
  {
   "cell_type": "code",
   "execution_count": 47,
   "metadata": {},
   "outputs": [
    {
     "data": {
      "application/vnd.jupyter.widget-view+json": {
       "model_id": "70c589d5778f4289b59dd29c2e824eca",
       "version_major": 2,
       "version_minor": 0
      },
      "text/plain": [
       "HBox(children=(IntProgress(value=0, description='Downloading', max=442256365, style=ProgressStyle(description_…"
      ]
     },
     "metadata": {},
     "output_type": "display_data"
    },
    {
     "name": "stdout",
     "output_type": "stream",
     "text": [
      "\n"
     ]
    },
    {
     "data": {
      "text/plain": [
       "<All keys matched successfully>"
      ]
     },
     "execution_count": 47,
     "metadata": {},
     "output_type": "execute_result"
    }
   ],
   "source": [
    "# for loading a previous saved model\n",
    "\n",
    "model_filename = \"dist_extsum_model.pt\"\n",
    "model_filepath = \"/home/ubuntu/mnt/train/distilbert-base-german-cased/2007142250/\"\n",
    "model_path = os.path.join(model_filepath, model_filename)\n",
    "summarizer = ExtractiveSummarizer(processor, MODEL_NAME, ENCODER, MAX_POS_LENGTH, CACHE_DIR)\n",
    "summarizer.model.load_state_dict(torch.load(model_path, map_location=\"cpu\"))"
   ]
  },
  {
   "cell_type": "code",
   "execution_count": 85,
   "metadata": {},
   "outputs": [],
   "source": [
    "if \"segs\" in ext_sum_test[0]: # preprocessed_data\n",
    "    source = [i['src_txt'] for i in ext_sum_test]\n",
    "    target = [\"\\n\".join(i['tgt_txt'].split(\"<q>\")) for i in ext_sum_test]\n",
    "else:\n",
    "    source = []\n",
    "    temp_target = []\n",
    "    for i in ext_sum_test:\n",
    "        source.append(i[\"src_txt\"]) \n",
    "        temp_target.append(\" \".join(j) for j in i['tgt']) \n",
    "    target = [''.join(i) for i in list(temp_target)]"
   ]
  },
  {
   "cell_type": "code",
   "execution_count": 86,
   "metadata": {
    "scrolled": false
   },
   "outputs": [
    {
     "name": "stderr",
     "output_type": "stream",
     "text": [
      "Scoring: 100%|██████████| 5/5 [00:00<00:00,  5.16it/s]\n"
     ]
    },
    {
     "name": "stdout",
     "output_type": "stream",
     "text": [
      "CPU times: user 1.12 s, sys: 172 ms, total: 1.29 s\n",
      "Wall time: 1.29 s\n"
     ]
    }
   ],
   "source": [
    "%%time\n",
    "sentence_separator = \"\\n\"\n",
    "prediction = summarizer.predict(ext_sum_test, num_gpus=NUM_GPUS, batch_size=BATCH_SIZE, sentence_separator=sentence_separator)"
   ]
  },
  {
   "cell_type": "code",
   "execution_count": 88,
   "metadata": {},
   "outputs": [
    {
     "name": "stdout",
     "output_type": "stream",
     "text": [
      "Number of candidates: 25\n",
      "Number of references: 25\n",
      "{'rouge-1': {'f': 0.22500454836911668,\n",
      "             'p': 0.20844147781967293,\n",
      "             'r': 0.2867677088829102},\n",
      " 'rouge-2': {'f': 0.04260764470367885,\n",
      "             'p': 0.037388497378053116,\n",
      "             'r': 0.05772919394345094},\n",
      " 'rouge-l': {'f': 0.17068169657094823,\n",
      "             'p': 0.1575108643911037,\n",
      "             'r': 0.2179031096969204}}\n"
     ]
    }
   ],
   "source": [
    "rouge_scores = compute_rouge_python(cand=prediction, ref=target)\n",
    "pprint.pprint(rouge_scores)"
   ]
  },
  {
   "cell_type": "code",
   "execution_count": 93,
   "metadata": {},
   "outputs": [
    {
     "data": {
      "text/plain": [
       "'Die \"Aurora\" war das dritte Schiff der \"Pallada\"-Klasse, die in Russland zur Verstärkung der Ostseeflotte konstruiert und gebaut wurde. Die \"Aurora\" verliess am 3. Als erstes Schiff verliess die \"Aurora\" mit sechs Torpedobooten am 22.'"
      ]
     },
     "execution_count": 93,
     "metadata": {},
     "output_type": "execute_result"
    }
   ],
   "source": [
    "prediction[0].replace(\"\\n\", \" \")"
   ]
  },
  {
   "cell_type": "code",
   "execution_count": 97,
   "metadata": {},
   "outputs": [],
   "source": [
    "with open('sample_results.txt','w') as f:\n",
    "    for i in range(len(prediction)):\n",
    "        source_output = \" \".join(source[i]) \n",
    "        f.write(\"Source Text: \\n\")\n",
    "        f.write(\"\\\"\" + source_output + \"\\\" \\n\")\n",
    "        f.write(\"\\n\")\n",
    "        f.write(\"Source target: \\n\")\n",
    "        f.write(\"\\\"\" + target[i] + \"\\\" \\n\")\n",
    "        f.write(\"\\n\")\n",
    "        f.write(\"Model Prediction: \\n\")\n",
    "        f.write(\"\\\"\" + prediction[i].replace(\"\\n\", \" \") + \"\\\" \\n\")        \n",
    "        f.write(\"\\n\")\n",
    "        f.write(\"======================================\")        \n",
    "        f.write(\"\\n \\n\")"
   ]
  },
  {
   "cell_type": "code",
   "execution_count": 70,
   "metadata": {},
   "outputs": [
    {
     "data": {
      "text/plain": [
       "\"Heinrich Harrer war österreichischer Bergsteiger , Forschungsreisender , Geograf und Autor . Bekannt wurde er als einer der Erstbesteiger der Eiger-Nordwand sowie durch sein Buch `` Sieben Jahre in Tibet '' und dessen Verfilmung . 1962 gelang ihm die Erstbesteigung der Carstensz-Pyramide im Westen Neu-Guineas , einem der Seven Summits . Seit 1983 befindet sich in Hüttenberg das Heinrich-Harrer-Museum .\""
      ]
     },
     "execution_count": 70,
     "metadata": {},
     "output_type": "execute_result"
    }
   ],
   "source": [
    "target[10]"
   ]
  },
  {
   "cell_type": "code",
   "execution_count": 63,
   "metadata": {},
   "outputs": [
    {
     "data": {
      "text/plain": [
       "'Ein Primzahlzwilling ist ein Paar aus zwei Primzahlen , deren Abstand 2 ist . Die kleinsten Primzahlzwillinge sind , und .'"
      ]
     },
     "execution_count": 63,
     "metadata": {},
     "output_type": "execute_result"
    }
   ],
   "source": [
    "target[2]"
   ]
  },
  {
   "cell_type": "code",
   "execution_count": 71,
   "metadata": {},
   "outputs": [
    {
     "data": {
      "text/plain": [
       "'Heinrich Josef Harrer wurde als erstes von vier Kindern der Eheleute Josef Harrer und Johanna geb.\\nPenker in Obergossen bei Knappenberg geboren.\\nErst 1996, im Vorfeld zum Film Sieben Jahre in Tibet , fand der ORF-Redakteur und Filmemacher Gerald Lehner in amerikanischen Archiven Mitgliedsausweise.'"
      ]
     },
     "execution_count": 71,
     "metadata": {},
     "output_type": "execute_result"
    }
   ],
   "source": [
    "prediction[10]"
   ]
  },
  {
   "cell_type": "code",
   "execution_count": 79,
   "metadata": {},
   "outputs": [
    {
     "data": {
      "text/plain": [
       "'\\nItalien erlaubt nach tagelangem Zögern den etwa 180 Migranten auf dem privaten Rettungsschiff \"Ocean Viking\" den Wechsel auf das italienische Quarantäne-Schiff \"Moby Zaza\". Die Übernahme der aus Seenot geretteten Menschen sei für Montag geplant, hieß es am Samstagabend aus Quellen im Innenministerium in Rom. Zuvor hatte sich die Lage auf dem Schiff der Organisation SOS Méditerranée, das sich in internationalen Gewässern vor Sizilien befindet, zugespitzt.\\nDie Betreiber berichteten demnach von einem Hungerstreik unter den Geflüchteten. Verena Papke, Geschäftsführerin von SOS Méditerranée für Deutschland, hatte am Freitag von mehreren Suizidversuchen gesprochen. Die \"Ocean Viking\" hatte zudem den Notstand an Bord ausgerufen. Bis dahin waren mehrere Bitten um Zuweisung eines sicheren Hafens in Malta und Italien erfolglos geblieben.\\n\\nCorona-Abstriche bei den Migranten geplant\\nDie Crew sandte die dringende Anfrage an die Behörden beider Länder zur Aufnahme von rund 45 Menschen, die in schlechter Verfassung seien. Italien schickte daraufhin am Samstag einen Psychiater und einen kulturellen Mediator aus Pozzallo für mehrere Stunden an Bord, berichteten beide Seiten. Danach kam die Erlaubnis aus Rom zur Übernahme auf die \"Moby Zaza\". Die Lage an Bord habe sich jedoch etwas entspannt, hieß es aus der italienischen Hauptstadt. Am Sonntag seien zunächst Corona-Abstriche bei den Migranten geplant.\\n\\nWie SOS Méditerranée am Samstag schrieb, nahm das Schiff in insgesamt vier Einsätzen am 25. und am 30. Juni etwa 180 Menschen aus dem Mittelmeer an Bord. Italien und Malta hatten sich in der Corona-Pandemie zu nicht sicheren Häfen erklärt. Trotzdem brechen Migranten von Libyen und Tunesien in Richtung Europa auf. Rom und Valletta nahmen zuletzt zwar wieder Menschen von privaten Schiffen auf, doch die Länder zögern mit der Zuweisung von Häfen oft lange. Sie fordern von anderen EU-Staaten regelmäßig Zusagen über die Weiterverteilung der Menschen.'"
      ]
     },
     "execution_count": 79,
     "metadata": {},
     "output_type": "execute_result"
    }
   ],
   "source": [
    "source"
   ]
  },
  {
   "cell_type": "code",
   "execution_count": 77,
   "metadata": {},
   "outputs": [
    {
     "data": {
      "application/scrapbook.scrap.json+json": {
       "data": 0.04260764470367885,
       "encoder": "json",
       "name": "rouge_2_f_score",
       "version": 1
      }
     },
     "metadata": {
      "scrapbook": {
       "data": true,
       "display": false,
       "name": "rouge_2_f_score"
      }
     },
     "output_type": "display_data"
    }
   ],
   "source": [
    "# for testing\n",
    "sb.glue(\"rouge_2_f_score\", rouge_scores['rouge-2']['f'])"
   ]
  },
  {
   "cell_type": "markdown",
   "metadata": {},
   "source": [
    "## Prediction on a single input sample"
   ]
  },
  {
   "cell_type": "code",
   "execution_count": 72,
   "metadata": {},
   "outputs": [],
   "source": [
    "source = \"\"\"\n",
    "Italien erlaubt nach tagelangem Zögern den etwa 180 Migranten auf dem privaten Rettungsschiff \"Ocean Viking\" den Wechsel auf das italienische Quarantäne-Schiff \"Moby Zaza\". Die Übernahme der aus Seenot geretteten Menschen sei für Montag geplant, hieß es am Samstagabend aus Quellen im Innenministerium in Rom. Zuvor hatte sich die Lage auf dem Schiff der Organisation SOS Méditerranée, das sich in internationalen Gewässern vor Sizilien befindet, zugespitzt.\n",
    "Die Betreiber berichteten demnach von einem Hungerstreik unter den Geflüchteten. Verena Papke, Geschäftsführerin von SOS Méditerranée für Deutschland, hatte am Freitag von mehreren Suizidversuchen gesprochen. Die \"Ocean Viking\" hatte zudem den Notstand an Bord ausgerufen. Bis dahin waren mehrere Bitten um Zuweisung eines sicheren Hafens in Malta und Italien erfolglos geblieben.\n",
    "\n",
    "Corona-Abstriche bei den Migranten geplant\n",
    "Die Crew sandte die dringende Anfrage an die Behörden beider Länder zur Aufnahme von rund 45 Menschen, die in schlechter Verfassung seien. Italien schickte daraufhin am Samstag einen Psychiater und einen kulturellen Mediator aus Pozzallo für mehrere Stunden an Bord, berichteten beide Seiten. Danach kam die Erlaubnis aus Rom zur Übernahme auf die \"Moby Zaza\". Die Lage an Bord habe sich jedoch etwas entspannt, hieß es aus der italienischen Hauptstadt. Am Sonntag seien zunächst Corona-Abstriche bei den Migranten geplant.\n",
    "\n",
    "Wie SOS Méditerranée am Samstag schrieb, nahm das Schiff in insgesamt vier Einsätzen am 25. und am 30. Juni etwa 180 Menschen aus dem Mittelmeer an Bord. Italien und Malta hatten sich in der Corona-Pandemie zu nicht sicheren Häfen erklärt. Trotzdem brechen Migranten von Libyen und Tunesien in Richtung Europa auf. Rom und Valletta nahmen zuletzt zwar wieder Menschen von privaten Schiffen auf, doch die Länder zögern mit der Zuweisung von Häfen oft lange. Sie fordern von anderen EU-Staaten regelmäßig Zusagen über die Weiterverteilung der Menschen.\"\"\""
   ]
  },
  {
   "cell_type": "code",
   "execution_count": 73,
   "metadata": {},
   "outputs": [],
   "source": [
    "test_dataset = SummarizationDataset(\n",
    "    None,\n",
    "    source=[source],\n",
    "    source_preprocessing=[tokenize.sent_tokenize],\n",
    "    word_tokenize=nltk.word_tokenize,\n",
    "    language='german'\n",
    ")\n",
    "processor = ExtSumProcessor(model_name=MODEL_NAME,  cache_dir=CACHE_DIR)\n",
    "preprocessed_dataset = processor.preprocess(test_dataset)"
   ]
  },
  {
   "cell_type": "code",
   "execution_count": 74,
   "metadata": {},
   "outputs": [
    {
     "data": {
      "text/plain": [
       "dict_keys(['src', 'src_txt'])"
      ]
     },
     "execution_count": 74,
     "metadata": {},
     "output_type": "execute_result"
    }
   ],
   "source": [
    "preprocessed_dataset[0].keys()"
   ]
  },
  {
   "cell_type": "code",
   "execution_count": 75,
   "metadata": {},
   "outputs": [
    {
     "name": "stderr",
     "output_type": "stream",
     "text": [
      "Scoring: 100%|██████████| 1/1 [00:00<00:00,  2.02it/s]\n"
     ]
    }
   ],
   "source": [
    "prediction = summarizer.predict(preprocessed_dataset, num_gpus=0, batch_size=1, sentence_separator=\"\\n\")"
   ]
  },
  {
   "cell_type": "code",
   "execution_count": 76,
   "metadata": {},
   "outputs": [
    {
     "data": {
      "text/plain": [
       "['Italien erlaubt nach tagelangem Zögern den etwa 180 Migranten auf dem privaten Rettungsschiff \"Ocean Viking\" den Wechsel auf das italienische Quarantäne-Schiff \"Moby Zaza\".\\nItalien und Malta hatten sich in der Corona-Pandemie zu nicht sicheren Häfen erklärt.\\nTrotzdem brechen Migranten von Libyen und Tunesien in Richtung Europa auf.']"
      ]
     },
     "execution_count": 76,
     "metadata": {},
     "output_type": "execute_result"
    }
   ],
   "source": [
    "prediction"
   ]
  },
  {
   "cell_type": "markdown",
   "metadata": {},
   "source": [
    "## Clean up temporary folders"
   ]
  },
  {
   "cell_type": "code",
   "execution_count": null,
   "metadata": {},
   "outputs": [],
   "source": [
    "if os.path.exists(DATA_PATH):\n",
    "    shutil.rmtree(DATA_PATH, ignore_errors=True)\n",
    "if os.path.exists(CACHE_DIR):\n",
    "    shutil.rmtree(CACHE_DIR, ignore_errors=True)\n",
    "if USE_PREPROCSSED_DATA:\n",
    "    if os.path.exists(PROCESSED_DATA_PATH):\n",
    "        shutil.rmtree(PROCESSED_DATA_PATH, ignore_errors=True)"
   ]
  },
  {
   "cell_type": "code",
   "execution_count": null,
   "metadata": {},
   "outputs": [],
   "source": []
  }
 ],
 "metadata": {
  "celltoolbar": "Tags",
  "kernelspec": {
   "display_name": "Environment (conda_nlp_gpu)",
   "language": "python",
   "name": "conda_nlp_gpu"
  },
  "language_info": {
   "codemirror_mode": {
    "name": "ipython",
    "version": 3
   },
   "file_extension": ".py",
   "mimetype": "text/x-python",
   "name": "python",
   "nbconvert_exporter": "python",
   "pygments_lexer": "ipython3",
   "version": "3.6.8"
  }
 },
 "nbformat": 4,
 "nbformat_minor": 2
}
