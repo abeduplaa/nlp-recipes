{
 "cells": [
  {
   "cell_type": "markdown",
   "metadata": {},
   "source": [
    "Copyright (c) Microsoft Corporation. All rights reserved.\n",
    "\n",
    "Licensed under the MIT License."
   ]
  },
  {
   "cell_type": "markdown",
   "metadata": {},
   "source": [
    "## Extractive Summarization on CNN/DM Dataset using Transformer Version of BertSum\n",
    "\n",
    "\n",
    "### Summary\n",
    "\n",
    "This notebook demonstrates how to fine tune Transformers for extractive text summarization. Utility functions and classes in the NLP Best Practices repo are used to facilitate data preprocessing, model training, model scoring, result postprocessing, and model evaluation.\n",
    "\n",
    "BertSum refers to  [Fine-tune BERT for Extractive Summarization](https://arxiv.org/pdf/1903.10318.pdf) with [published example](https://github.com/nlpyang/BertSum/). And the Transformer version of Bertsum refers to our modification of BertSum and the source code can be accessed at (https://github.com/daden-ms/BertSum/). \n",
    "\n",
    "Extractive summarization are usually used in document summarization where each input document consists of mutiple sentences. The preprocessing of the input training data involves assigning label 0 or 1 to the document sentences based on the give summary. The summarization problem is also simplfied to classifying whether a document sentence should be included in the summary. \n",
    "\n",
    "The figure below illustrates how BERTSum can be fine tuned for extractive summarization task. [CLS] token is inserted at the beginning of each sentence, so is [SEP] token at the end. Interval segment embedding and positional embedding are added upon the token embedding as the input of the BERT model. The [CLS] token representation is used as sentence embedding and only the [CLS] tokens are used as the input for the summarization model. The summarization layer predicts the probability for each  sentence being included in the summary. Techniques like trigram blocking can be used to improve model accuarcy.   \n",
    "\n",
    "<img src=\"https://nlpbp.blob.core.windows.net/images/BertSum.PNG\">\n",
    "\n",
    "\n",
    "### Before You Start\n",
    "\n",
    "The running time shown in this notebook is on a Standard_NC24s_v3 Azure Ubuntu Virtual Machine with 4 NVIDIA Tesla V100 GPUs. \n",
    "> **Tip**: If you want to run through the notebook quickly, you can set the **`QUICK_RUN`** flag in the cell below to **`True`** to run the notebook on a small subset of the data and a smaller number of epochs. \n",
    "\n",
    "Using only 1 NVIDIA Tesla V100 GPUs, 16GB GPU memory configuration,\n",
    "- for data preprocessing, it takes around 1 minutes to preprocess the data for quick run. Otherwise it takes ~20 minutes to finish the data preprocessing. This time estimation assumes that the chosen transformer model is \"distilbert-base-uncased\" and the sentence selection method is \"greedy\", which is the default. The preprocessing time can be significantly longer if the sentence selection method is \"combination\", which can achieve better model performance.\n",
    "\n",
    "- for model fine tuning, it takes around 2 minutes for quick run. Otherwise, it takes around ~3 hours to finish. This estimation assumes the chosen encoder method is \"transformer\". The model fine tuning time can be shorter if other encoder method is chosen, which may result in worse model performance. \n",
    "\n",
    "### Additional Notes\n",
    "\n",
    "* **ROUGE Evalation**: To run rouge evaluation, please refer to the section of compute_rouge_perl in [summarization_evaluation.ipynb](./summarization_evaluation.ipynb) for setup.\n",
    "\n",
    "* **Distributed Training**:\n",
    "Please note that the jupyter notebook only allows to use pytorch [DataParallel](https://pytorch.org/docs/master/nn.html#dataparallel). Faster speed and larger batch size can be achieved with pytorch [DistributedDataParallel](https://pytorch.org/docs/master/notes/ddp.html)(DDP). Script [extractive_summarization_cnndm_distributed_train.py](./extractive_summarization_cnndm_distributed_train.py) shows an example of how to use DDP.\n",
    "\n"
   ]
  },
  {
   "cell_type": "code",
   "execution_count": 1,
   "metadata": {},
   "outputs": [],
   "source": [
    "%load_ext autoreload\n",
    "\n",
    "%autoreload 2"
   ]
  },
  {
   "cell_type": "code",
   "execution_count": 2,
   "metadata": {
    "tags": [
     "parameters"
    ]
   },
   "outputs": [],
   "source": [
    "## Set QUICK_RUN = True to run the notebook on a small subset of data and a smaller number of epochs.\n",
    "QUICK_RUN = True\n",
    "## Set USE_PREPROCSSED_DATA = True to skip the data preprocessing\n",
    "USE_PREPROCSSED_DATA = True"
   ]
  },
  {
   "cell_type": "markdown",
   "metadata": {},
   "source": [
    "### Configuration\n"
   ]
  },
  {
   "cell_type": "code",
   "execution_count": 3,
   "metadata": {},
   "outputs": [
    {
     "name": "stderr",
     "output_type": "stream",
     "text": [
      "/home/ubuntu/anaconda3/envs/nlp_cpu/lib/python3.6/site-packages/dask/dataframe/utils.py:15: FutureWarning: pandas.util.testing is deprecated. Use the functions in the public API at pandas.testing instead.\n",
      "  import pandas.util.testing as tm\n"
     ]
    }
   ],
   "source": [
    "import os\n",
    "import shutil\n",
    "import sys\n",
    "from tempfile import TemporaryDirectory\n",
    "import torch\n",
    "\n",
    "nlp_path = os.path.abspath(\"../../\")\n",
    "if nlp_path not in sys.path:\n",
    "    sys.path.insert(0, nlp_path)\n",
    "\n",
    "# from utils_nlp.dataset.cnndm import CNNDMBertSumProcessedData, CNNDMSummarizationDataset\n",
    "# from utils_nlp.dataset.bundesministerium import BUNDBertSumProcessedData, BUNDSummarizationDataset\n",
    "from utils_nlp.dataset.swiss import SwissSummarizationDataset\n",
    "\n",
    "from utils_nlp.eval import compute_rouge_python, compute_rouge_perl\n",
    "from utils_nlp.models.transformers.extractive_summarization import (\n",
    "    ExtractiveSummarizer,\n",
    "    ExtSumProcessedData,\n",
    "    ExtSumProcessor,\n",
    ")\n",
    "\n",
    "from utils_nlp.models.transformers.datasets import SummarizationDataset\n",
    "import nltk\n",
    "from nltk import tokenize\n",
    "\n",
    "import pandas as pd\n",
    "import scrapbook as sb\n",
    "import pprint"
   ]
  },
  {
   "cell_type": "code",
   "execution_count": 4,
   "metadata": {},
   "outputs": [],
   "source": [
    "# ARTICLE_TO_SUMMARIZE = \"\"\"\n",
    "# Italien erlaubt nach tagelangem Zögern den etwa 180 Migranten auf dem privaten Rettungsschiff \"Ocean Viking\" den Wechsel auf das italienische Quarantäne-Schiff \"Moby Zaza\". Die Übernahme der aus Seenot geretteten Menschen sei für Montag geplant, hieß es am Samstagabend aus Quellen im Innenministerium in Rom. Zuvor hatte sich die Lage auf dem Schiff der Organisation SOS Méditerranée, das sich in internationalen Gewässern vor Sizilien befindet, zugespitzt.\n",
    "# Die Betreiber berichteten demnach von einem Hungerstreik unter den Geflüchteten. Verena Papke, Geschäftsführerin von SOS Méditerranée für Deutschland, hatte am Freitag von mehreren Suizidversuchen gesprochen. Die \"Ocean Viking\" hatte zudem den Notstand an Bord ausgerufen. Bis dahin waren mehrere Bitten um Zuweisung eines sicheren Hafens in Malta und Italien erfolglos geblieben.\n",
    "\n",
    "# Corona-Abstriche bei den Migranten geplant\n",
    "# Die Crew sandte die dringende Anfrage an die Behörden beider Länder zur Aufnahme von rund 45 Menschen, die in schlechter Verfassung seien. Italien schickte daraufhin am Samstag einen Psychiater und einen kulturellen Mediator aus Pozzallo für mehrere Stunden an Bord, berichteten beide Seiten. Danach kam die Erlaubnis aus Rom zur Übernahme auf die \"Moby Zaza\". Die Lage an Bord habe sich jedoch etwas entspannt, hieß es aus der italienischen Hauptstadt. Am Sonntag seien zunächst Corona-Abstriche bei den Migranten geplant.\n",
    "\n",
    "# Wie SOS Méditerranée am Samstag schrieb, nahm das Schiff in insgesamt vier Einsätzen am 25. und am 30. Juni etwa 180 Menschen aus dem Mittelmeer an Bord. Italien und Malta hatten sich in der Corona-Pandemie zu nicht sicheren Häfen erklärt. Trotzdem brechen Migranten von Libyen und Tunesien in Richtung Europa auf. Rom und Valletta nahmen zuletzt zwar wieder Menschen von privaten Schiffen auf, doch die Länder zögern mit der Zuweisung von Häfen oft lange. Sie fordern von anderen EU-Staaten regelmäßig Zusagen über die Weiterverteilung der Menschen.\"\"\""
   ]
  },
  {
   "cell_type": "code",
   "execution_count": 5,
   "metadata": {},
   "outputs": [],
   "source": [
    "# from transformers import BartTokenizer, BartForConditionalGeneration, BartConfig\n",
    "\n",
    "# # see ``examples/summarization/bart/evaluate_cnn.py`` for a longer example\n",
    "# model = BartForConditionalGeneration.from_pretrained('airKlizz/bart-large-multi-de-wiki-news')\n",
    "# tokenizer = BartTokenizer.from_pretrained('airKlizz/bart-large-multi-de-wiki-news')\n",
    "# inputs = tokenizer.batch_encode_plus([ARTICLE_TO_SUMMARIZE], max_length=1024, return_tensors='pt')\n",
    "# # Generate Summary\n",
    "# summary_ids = model.generate(inputs['input_ids'], num_beams=4, min_length=30, max_length=1000, early_stopping=True)\n",
    "# print([tokenizer.decode(g, skip_special_tokens=True, clean_up_tokenization_spaces=False) for g in summary_ids])"
   ]
  },
  {
   "cell_type": "code",
   "execution_count": 6,
   "metadata": {},
   "outputs": [],
   "source": [
    "# from transformers import BartTokenizer, BartModel\n",
    "\n",
    "# # tokenizer = BartTokenizer.from_pretrained('facebook/bart-large')\n",
    "# # model = BartModel.from_pretrained('facebook/bart-large')\n",
    "\n",
    "# inputs = tokenizer.encode_plus(\"Hello, my dog is cute\", return_tensors=\"pt\")\n",
    "# outputs = model(**inputs)\n",
    "\n",
    "# last_hidden_states = outputs[0]  # The last hidden-state is the first element of the output tup"
   ]
  },
  {
   "cell_type": "markdown",
   "metadata": {},
   "source": [
    "\n",
    "### Configuration: choose the transformer model to be used"
   ]
  },
  {
   "cell_type": "markdown",
   "metadata": {},
   "source": [
    "\n",
    "Several pretrained models have been made available by [Hugging Face](https://github.com/huggingface/transformers). For extractive summarization, the following pretrained models are supported. "
   ]
  },
  {
   "cell_type": "code",
   "execution_count": 7,
   "metadata": {},
   "outputs": [
    {
     "data": {
      "text/html": [
       "<div>\n",
       "<style scoped>\n",
       "    .dataframe tbody tr th:only-of-type {\n",
       "        vertical-align: middle;\n",
       "    }\n",
       "\n",
       "    .dataframe tbody tr th {\n",
       "        vertical-align: top;\n",
       "    }\n",
       "\n",
       "    .dataframe thead th {\n",
       "        text-align: right;\n",
       "    }\n",
       "</style>\n",
       "<table border=\"1\" class=\"dataframe\">\n",
       "  <thead>\n",
       "    <tr style=\"text-align: right;\">\n",
       "      <th></th>\n",
       "      <th>model_name</th>\n",
       "    </tr>\n",
       "  </thead>\n",
       "  <tbody>\n",
       "    <tr>\n",
       "      <th>0</th>\n",
       "      <td>bert-base-uncased</td>\n",
       "    </tr>\n",
       "    <tr>\n",
       "      <th>1</th>\n",
       "      <td>bert-base-german-cased</td>\n",
       "    </tr>\n",
       "    <tr>\n",
       "      <th>2</th>\n",
       "      <td>distilbert-base-uncased</td>\n",
       "    </tr>\n",
       "    <tr>\n",
       "      <th>3</th>\n",
       "      <td>dbmdz/bert-base-german-uncased</td>\n",
       "    </tr>\n",
       "    <tr>\n",
       "      <th>4</th>\n",
       "      <td>bert-base-german-dbmdz-cased</td>\n",
       "    </tr>\n",
       "    <tr>\n",
       "      <th>5</th>\n",
       "      <td>bert-base-multilingual-cased</td>\n",
       "    </tr>\n",
       "    <tr>\n",
       "      <th>6</th>\n",
       "      <td>distilbert-base-german-cased</td>\n",
       "    </tr>\n",
       "    <tr>\n",
       "      <th>7</th>\n",
       "      <td>bert-base-german-dbmdz-uncased</td>\n",
       "    </tr>\n",
       "    <tr>\n",
       "      <th>8</th>\n",
       "      <td>severinsimmler/bert-adapted-german-press</td>\n",
       "    </tr>\n",
       "    <tr>\n",
       "      <th>9</th>\n",
       "      <td>xlm-roberta-large-finetuned-conll03-german</td>\n",
       "    </tr>\n",
       "  </tbody>\n",
       "</table>\n",
       "</div>"
      ],
      "text/plain": [
       "                                   model_name\n",
       "0                           bert-base-uncased\n",
       "1                      bert-base-german-cased\n",
       "2                     distilbert-base-uncased\n",
       "3              dbmdz/bert-base-german-uncased\n",
       "4                bert-base-german-dbmdz-cased\n",
       "5                bert-base-multilingual-cased\n",
       "6                distilbert-base-german-cased\n",
       "7              bert-base-german-dbmdz-uncased\n",
       "8    severinsimmler/bert-adapted-german-press\n",
       "9  xlm-roberta-large-finetuned-conll03-german"
      ]
     },
     "execution_count": 7,
     "metadata": {},
     "output_type": "execute_result"
    }
   ],
   "source": [
    "pd.DataFrame({\"model_name\": ExtractiveSummarizer.list_supported_models()})"
   ]
  },
  {
   "cell_type": "code",
   "execution_count": 8,
   "metadata": {
    "tags": [
     "parameters"
    ]
   },
   "outputs": [],
   "source": [
    "# Transformer model being used\n",
    "MODEL_NAME = \"distilbert-base-uncased\"\n",
    "\n",
    "# Data being used\n",
    "DATA_NAME = \"swiss\""
   ]
  },
  {
   "cell_type": "code",
   "execution_count": 9,
   "metadata": {},
   "outputs": [
    {
     "data": {
      "application/vnd.jupyter.widget-view+json": {
       "model_id": "72aa84adce2048a9a6bfba8a9e0f3457",
       "version_major": 2,
       "version_minor": 0
      },
      "text/plain": [
       "HBox(children=(IntProgress(value=0, description='Downloading', max=442, style=ProgressStyle(description_width=…"
      ]
     },
     "metadata": {},
     "output_type": "display_data"
    },
    {
     "name": "stdout",
     "output_type": "stream",
     "text": [
      "\n"
     ]
    },
    {
     "data": {
      "application/vnd.jupyter.widget-view+json": {
       "model_id": "7ed29bac0b794ac5be77af51155a304f",
       "version_major": 2,
       "version_minor": 0
      },
      "text/plain": [
       "HBox(children=(IntProgress(value=0, description='Downloading', max=231508, style=ProgressStyle(description_wid…"
      ]
     },
     "metadata": {},
     "output_type": "display_data"
    },
    {
     "name": "stdout",
     "output_type": "stream",
     "text": [
      "\n"
     ]
    }
   ],
   "source": [
    "# notebook parameters\n",
    "# the cache data path during find tuning\n",
    "CACHE_DIR = TemporaryDirectory().name\n",
    "processor = ExtSumProcessor(model_name=MODEL_NAME, cache_dir=CACHE_DIR)"
   ]
  },
  {
   "cell_type": "markdown",
   "metadata": {},
   "source": [
    "### Data Preprocessing\n",
    "\n",
    "The dataset we used for this notebook is CNN/DM dataset which contains the documents and accompanying questions from the news articles of CNN and Daily mail. The highlights in each article are used as summary. The dataset consits of ~289K training examples, ~11K valiation examples and ~11K test examples.  You can choose the [Option 1] below preprocess the data or [Option 2] to use the preprocessed version at [BERTSum published example](https://github.com/nlpyang/BertSum/). You don't need to manually download any of these two data sets as the code below will handle downloading. Functions defined specific in [cnndm.py](../../utils_nlp/dataset/cnndm.py) are unique to CNN/DM dataset that's preprocessed by harvardnlp. However, it provides a skeleton of how to preprocessing text into the format that model preprocessor takes: sentence tokenization and work tokenization. \n",
    "\n",
    "##### Details of Data Preprocessing\n",
    "\n",
    "The purpose of preprocessing is to process the input articles to the format that model finetuning needed. Assuming you have (1) all articles and (2) target summaries, each in a file and line-breaker separated, the steps to preprocess the data are:\n",
    "1. sentence tokenization\n",
    "2. word tokenization\n",
    "3. **label** the sentences in the article with 1 meaning the sentence is selected and 0 meaning the sentence is not selected. The algorithms for the sentence selection are \"greedy\" and \"combination\" and can be found in [sentence_selection.py](../../utils_nlp/dataset/sentence_selection.py)\n",
    "3. convert each example to  the desired format for extractive summarization\n",
    "    - filter the sentences in the example based on the min_src_ntokens argument. If the lefted total sentence number is less than min_nsents, the example is discarded.\n",
    "    - truncate the sentences in the example if the length is greater than max_src_ntokens\n",
    "    - truncate the sentences in the example and the labels if the total number of sentences is greater than max_nsents\n",
    "    - [CLS] and [SEP] are inserted before and after each sentence\n",
    "    - wordPiece tokenization or Byte Pair Encoding (BPE) subword tokenization\n",
    "    - truncate the example to 512 tokens\n",
    "    - convert the tokens into token indices corresponding to the transformer tokenizer's vocabulary.\n",
    "    - segment ids are generated and added\n",
    "    - [CLS] token positions are logged\n",
    "    - [CLS] token labels are truncated if it's greater than 512, which is the maximum input length that can be taken by the transformer model.\n",
    "    \n",
    "    \n",
    "Note that the original BERTSum paper use Stanford CoreNLP for data preprocessing, here we use NLTK for data preprocessing. "
   ]
  },
  {
   "cell_type": "code",
   "execution_count": 10,
   "metadata": {
    "tags": [
     "parameters"
    ]
   },
   "outputs": [],
   "source": [
    "# the data path used to save the downloaded data file\n",
    "DATA_PATH = '/home/ubuntu/mnt/data/swiss_dataset'\n",
    "# The number of lines at the head of data file used for preprocessing. -1 means all the lines.\n",
    "TOP_N = 500\n",
    "if not QUICK_RUN:\n",
    "    TOP_N = -1"
   ]
  },
  {
   "cell_type": "markdown",
   "metadata": {},
   "source": [
    "##### [Option 1] Preprocess  data (Please skip this part if you choose to use preprocessed data)\n",
    "The code in following cell will download the CNN/DM dataset listed at https://github.com/harvardnlp/sent-summary/."
   ]
  },
  {
   "cell_type": "code",
   "execution_count": 11,
   "metadata": {
    "scrolled": false
   },
   "outputs": [],
   "source": [
    "validation = False\n",
    "\n",
    "if DATA_NAME is \"cnndm\":\n",
    "    train_dataset, test_dataset = CNNDMSummarizationDataset(top_n=TOP_N, local_cache_path=DATA_PATH)\n",
    "elif DATA_NAME is \"swiss\":\n",
    "    if validation:\n",
    "        train_dataset, validation_dataset, test_dataset = SwissSummarizationDataset(top_n=TOP_N, validation=True, language='german')\n",
    "    else:\n",
    "        train_dataset, test_dataset = SwissSummarizationDataset(top_n=TOP_N, validation=False, language='german')\n",
    "        "
   ]
  },
  {
   "cell_type": "code",
   "execution_count": 12,
   "metadata": {},
   "outputs": [
    {
     "data": {
      "text/plain": [
       "(475, 25)"
      ]
     },
     "execution_count": 12,
     "metadata": {},
     "output_type": "execute_result"
    }
   ],
   "source": [
    "\n",
    "len(train_dataset), len(test_dataset)"
   ]
  },
  {
   "cell_type": "markdown",
   "metadata": {},
   "source": [
    "### Preprocess the data."
   ]
  },
  {
   "cell_type": "code",
   "execution_count": 13,
   "metadata": {
    "scrolled": false
   },
   "outputs": [],
   "source": [
    "\n",
    "ext_sum_train = processor.preprocess(train_dataset, oracle_mode=\"greedy\")\n",
    "ext_sum_test = processor.preprocess(test_dataset, oracle_mode=\"greedy\")\n"
   ]
  },
  {
   "cell_type": "markdown",
   "metadata": {},
   "source": [
    "### Save the data."
   ]
  },
  {
   "cell_type": "code",
   "execution_count": 14,
   "metadata": {},
   "outputs": [],
   "source": [
    "SAVE_DATA = False\n",
    "\n",
    "\n",
    "# save and load preprocessed data\n",
    "\n",
    "if SAVE_DATA:\n",
    "    save_path = os.path.join(DATA_PATH, DATA_NAME + \"_processed\")\n",
    "    os.makedirs(save_path, exist_ok=True)\n",
    "\n",
    "    torch.save(ext_sum_train, os.path.join(save_path, \"train_full.pt\"))\n",
    "    torch.save(ext_sum_test, os.path.join(save_path, \"test_full.pt\"))"
   ]
  },
  {
   "cell_type": "code",
   "execution_count": 15,
   "metadata": {},
   "outputs": [
    {
     "data": {
      "text/plain": [
       "475"
      ]
     },
     "execution_count": 15,
     "metadata": {},
     "output_type": "execute_result"
    }
   ],
   "source": [
    "len(ext_sum_train)"
   ]
  },
  {
   "cell_type": "markdown",
   "metadata": {},
   "source": [
    "#### Inspect Data"
   ]
  },
  {
   "cell_type": "markdown",
   "metadata": {},
   "source": [
    "##### [Option 2] Reuse cached preprocessed data"
   ]
  },
  {
   "cell_type": "code",
   "execution_count": 18,
   "metadata": {},
   "outputs": [],
   "source": [
    "if USE_PREPROCSSED_DATA:\n",
    "    save_path = os.path.join(DATA_PATH)\n",
    "    ext_sum_train = torch.load(os.path.join(save_path, \"train_full.pt\"))\n",
    "    ext_sum_test = torch.load(os.path.join(save_path, \"test_full.pt\"))\n",
    "    "
   ]
  },
  {
   "cell_type": "markdown",
   "metadata": {},
   "source": [
    "### Model training\n",
    "To start model training, we need to create a instance of ExtractiveSummarizer.\n",
    "\n",
    "Potentionally, roberta-based model and xlnet can be supported but needs to be tested.\n",
    "#### Choose the encoder algorithm.\n",
    "There are four options:\n",
    "- baseline: it used a smaller transformer model to replace the bert model and with transformer summarization layer\n",
    "- classifier: it uses pretrained BERT and fine-tune BERT with **simple logistic classification** summarization layer\n",
    "- transformer: it uses pretrained BERT and fine-tune BERT with **transformer** summarization layer\n",
    "- RNN: it uses pretrained BERT and fine-tune BERT with **LSTM** summarization layer"
   ]
  },
  {
   "cell_type": "code",
   "execution_count": 19,
   "metadata": {
    "tags": [
     "parameters"
    ]
   },
   "outputs": [],
   "source": [
    "BATCH_SIZE = 5 # batch size, unit is the number of samples\n",
    "MAX_POS_LENGTH = 512\n",
    "\n",
    "\n",
    "# GPU used for training\n",
    "NUM_GPUS = torch.cuda.device_count()\n",
    "\n",
    "# Encoder name. Options are: 1. baseline, classifier, transformer, rnn.\n",
    "ENCODER = \"transformer\"\n",
    "\n",
    "# Learning rate\n",
    "LEARNING_RATE=2e-3\n",
    "\n",
    "# How often the statistics reports show up in training, unit is step.\n",
    "REPORT_EVERY=50\n",
    "\n",
    "# total number of steps for training\n",
    "MAX_STEPS=1e2\n",
    "# number of steps for warm up\n",
    "WARMUP_STEPS=5e2\n",
    "    \n",
    "if not QUICK_RUN:\n",
    "    MAX_STEPS=5e4\n",
    "    WARMUP_STEPS=5e3\n",
    " "
   ]
  },
  {
   "cell_type": "code",
   "execution_count": 20,
   "metadata": {
    "scrolled": true
   },
   "outputs": [
    {
     "data": {
      "application/vnd.jupyter.widget-view+json": {
       "model_id": "47899274cb0249a7a5a7e3cb2e4396ec",
       "version_major": 2,
       "version_minor": 0
      },
      "text/plain": [
       "HBox(children=(IntProgress(value=0, description='Downloading', max=267967963, style=ProgressStyle(description_…"
      ]
     },
     "metadata": {},
     "output_type": "display_data"
    },
    {
     "name": "stdout",
     "output_type": "stream",
     "text": [
      "\n"
     ]
    }
   ],
   "source": [
    "summarizer = ExtractiveSummarizer(processor, MODEL_NAME, ENCODER, MAX_POS_LENGTH, CACHE_DIR)"
   ]
  },
  {
   "cell_type": "code",
   "execution_count": 21,
   "metadata": {},
   "outputs": [
    {
     "data": {
      "text/plain": [
       "'distilbert-base-uncased'"
      ]
     },
     "execution_count": 21,
     "metadata": {},
     "output_type": "execute_result"
    }
   ],
   "source": [
    "summarizer.model_name"
   ]
  },
  {
   "cell_type": "code",
   "execution_count": 22,
   "metadata": {
    "scrolled": true
   },
   "outputs": [
    {
     "name": "stderr",
     "output_type": "stream",
     "text": [
      "\r",
      "Iteration:   0%|          | 0/17100 [00:00<?, ?it/s]"
     ]
    },
    {
     "name": "stdout",
     "output_type": "stream",
     "text": [
      "before the while\n",
      "step:  0\n",
      "batch:  <utils_nlp.models.transformers.bertsum.data_loader.Batch object at 0x7f8535cccb00>\n",
      "batch.segs:  tensor([[0, 0, 0,  ..., 1, 1, 1],\n",
      "        [0, 0, 0,  ..., 0, 0, 0],\n",
      "        [0, 0, 0,  ..., 0, 0, 0],\n",
      "        [0, 0, 0,  ..., 1, 1, 1],\n",
      "        [0, 0, 0,  ..., 1, 1, 1]])\n",
      "batch.clss:  tensor([[  0,  18,  36,  53,  84, 127, 166, 189, 252, 276, 327, 374, 436, 487,\n",
      "           0,   0,   0,   0,   0],\n",
      "        [  0,  15,  38,  71,  83, 129, 178, 232, 277, 289, 333, 374, 397, 411,\n",
      "         421, 438, 455, 469, 492],\n",
      "        [  0,  14,  37,  54,  89, 144, 168, 199, 223, 251, 267, 293, 333, 351,\n",
      "         381, 399, 425,   0,   0],\n",
      "        [  0,  51,  90, 109, 142, 175, 218, 245, 271, 281, 301, 331, 383, 424,\n",
      "         452, 479,   0,   0,   0],\n",
      "        [  0,  43,  77, 139, 173, 199, 216, 236, 258, 285, 297, 315, 327, 369,\n",
      "         401, 430, 450, 500,   0]])\n",
      "batch.mask:  tensor([[True, True, True,  ..., True, True, True],\n",
      "        [True, True, True,  ..., True, True, True],\n",
      "        [True, True, True,  ..., True, True, True],\n",
      "        [True, True, True,  ..., True, True, True],\n",
      "        [True, True, True,  ..., True, True, True]])\n",
      "batch.mask_cls:  tensor([[ True,  True,  True,  True,  True,  True,  True,  True,  True,  True,\n",
      "          True,  True,  True,  True, False, False, False, False, False],\n",
      "        [ True,  True,  True,  True,  True,  True,  True,  True,  True,  True,\n",
      "          True,  True,  True,  True,  True,  True,  True,  True,  True],\n",
      "        [ True,  True,  True,  True,  True,  True,  True,  True,  True,  True,\n",
      "          True,  True,  True,  True,  True,  True,  True, False, False],\n",
      "        [ True,  True,  True,  True,  True,  True,  True,  True,  True,  True,\n",
      "          True,  True,  True,  True,  True,  True, False, False, False],\n",
      "        [ True,  True,  True,  True,  True,  True,  True,  True,  True,  True,\n",
      "          True,  True,  True,  True,  True,  True,  True,  True, False]])\n"
     ]
    },
    {
     "name": "stderr",
     "output_type": "stream",
     "text": [
      "\r",
      "Iteration:   0%|          | 1/17100 [00:06<30:51:56,  6.50s/it]"
     ]
    },
    {
     "name": "stdout",
     "output_type": "stream",
     "text": [
      "step:  1\n",
      "batch:  <utils_nlp.models.transformers.bertsum.data_loader.Batch object at 0x7f8535ccc940>\n",
      "batch.segs:  tensor([[0, 0, 0,  ..., 1, 1, 1],\n",
      "        [0, 0, 0,  ..., 1, 1, 1],\n",
      "        [0, 0, 0,  ..., 1, 1, 1],\n",
      "        [0, 0, 0,  ..., 1, 1, 1],\n",
      "        [0, 0, 0,  ..., 0, 0, 0]])\n",
      "batch.clss:  tensor([[  0,  13,  28,  51,  97, 114, 141, 169, 215, 241, 266, 297, 335, 365,\n",
      "         391, 461, 471, 499],\n",
      "        [  0,  44,  89, 118, 144, 162, 173, 197, 209, 225, 242, 264, 283, 298,\n",
      "         316, 344, 363, 391],\n",
      "        [  0,  57,  91, 125, 157, 186, 208, 243, 260, 281, 306, 335, 348, 382,\n",
      "         405, 428, 470, 483],\n",
      "        [  0,   9,  32,  47,  82, 101, 118, 150, 194, 228, 241, 251, 293, 320,\n",
      "         351, 442, 460, 501],\n",
      "        [  0,  24,  69, 123, 139, 178, 192, 207, 222, 278, 288,   0,   0,   0,\n",
      "           0,   0,   0,   0]])\n",
      "batch.mask:  tensor([[True, True, True,  ..., True, True, True],\n",
      "        [True, True, True,  ..., True, True, True],\n",
      "        [True, True, True,  ..., True, True, True],\n",
      "        [True, True, True,  ..., True, True, True],\n",
      "        [True, True, True,  ..., True, True, True]])\n",
      "batch.mask_cls:  tensor([[ True,  True,  True,  True,  True,  True,  True,  True,  True,  True,\n",
      "          True,  True,  True,  True,  True,  True,  True,  True],\n",
      "        [ True,  True,  True,  True,  True,  True,  True,  True,  True,  True,\n",
      "          True,  True,  True,  True,  True,  True,  True,  True],\n",
      "        [ True,  True,  True,  True,  True,  True,  True,  True,  True,  True,\n",
      "          True,  True,  True,  True,  True,  True,  True,  True],\n",
      "        [ True,  True,  True,  True,  True,  True,  True,  True,  True,  True,\n",
      "          True,  True,  True,  True,  True,  True,  True,  True],\n",
      "        [ True,  True,  True,  True,  True,  True,  True,  True,  True,  True,\n",
      "          True, False, False, False, False, False, False, False]])\n"
     ]
    },
    {
     "name": "stderr",
     "output_type": "stream",
     "text": [
      "\r",
      "Iteration:   0%|          | 2/17100 [00:11<29:24:36,  6.19s/it]"
     ]
    },
    {
     "name": "stdout",
     "output_type": "stream",
     "text": [
      "step:  2\n",
      "batch:  <utils_nlp.models.transformers.bertsum.data_loader.Batch object at 0x7f8535c46eb8>\n",
      "batch.segs:  tensor([[0, 0, 0,  ..., 0, 0, 0],\n",
      "        [0, 0, 0,  ..., 0, 0, 0],\n",
      "        [0, 0, 0,  ..., 1, 1, 1],\n",
      "        [0, 0, 0,  ..., 1, 1, 1],\n",
      "        [0, 0, 0,  ..., 0, 0, 0]])\n",
      "batch.clss:  tensor([[  0,  51,  73,  99, 140, 183, 196, 213, 246, 271, 314, 331, 359, 374,\n",
      "         407,   0,   0,   0],\n",
      "        [  0,  64,  94, 122, 179, 206, 228, 248, 276, 327, 338, 389, 442, 461,\n",
      "         506,   0,   0,   0],\n",
      "        [  0,  13,  36,  62,  78, 108, 153, 188, 210, 270, 286, 299, 330, 358,\n",
      "         380, 425, 470, 490],\n",
      "        [  0,  87, 202, 241, 310, 341, 374, 410, 467, 508,   0,   0,   0,   0,\n",
      "           0,   0,   0,   0],\n",
      "        [  0,  14,  57, 129, 154, 185, 209, 238, 254, 290, 316, 353, 391, 420,\n",
      "         442, 470, 488,   0]])\n",
      "batch.mask:  tensor([[True, True, True,  ..., True, True, True],\n",
      "        [True, True, True,  ..., True, True, True],\n",
      "        [True, True, True,  ..., True, True, True],\n",
      "        [True, True, True,  ..., True, True, True],\n",
      "        [True, True, True,  ..., True, True, True]])\n",
      "batch.mask_cls:  tensor([[ True,  True,  True,  True,  True,  True,  True,  True,  True,  True,\n",
      "          True,  True,  True,  True,  True, False, False, False],\n",
      "        [ True,  True,  True,  True,  True,  True,  True,  True,  True,  True,\n",
      "          True,  True,  True,  True,  True, False, False, False],\n",
      "        [ True,  True,  True,  True,  True,  True,  True,  True,  True,  True,\n",
      "          True,  True,  True,  True,  True,  True,  True,  True],\n",
      "        [ True,  True,  True,  True,  True,  True,  True,  True,  True,  True,\n",
      "         False, False, False, False, False, False, False, False],\n",
      "        [ True,  True,  True,  True,  True,  True,  True,  True,  True,  True,\n",
      "          True,  True,  True,  True,  True,  True,  True, False]])\n"
     ]
    },
    {
     "name": "stderr",
     "output_type": "stream",
     "text": [
      "\r",
      "Iteration:   0%|          | 3/17100 [00:17<28:05:36,  5.92s/it]"
     ]
    },
    {
     "name": "stdout",
     "output_type": "stream",
     "text": [
      "step:  3\n",
      "batch:  <utils_nlp.models.transformers.bertsum.data_loader.Batch object at 0x7f8535bf4208>\n",
      "batch.segs:  tensor([[0, 0, 0,  ..., 0, 0, 0],\n",
      "        [0, 0, 0,  ..., 0, 0, 0],\n",
      "        [0, 0, 0,  ..., 1, 1, 1],\n",
      "        [0, 0, 0,  ..., 1, 1, 1],\n",
      "        [0, 0, 0,  ..., 0, 0, 0]])\n",
      "batch.clss:  tensor([[  0,  49,  84, 116, 154, 173, 190, 213, 230,   0,   0,   0,   0,   0,\n",
      "           0,   0,   0,   0,   0,   0,   0],\n",
      "        [  0,   9,  35,  56,  81, 117, 137, 155, 166, 207, 268,   0,   0,   0,\n",
      "           0,   0,   0,   0,   0,   0,   0],\n",
      "        [  0,  52,  61,  94, 127, 177, 194, 206, 216, 238, 272, 308, 369, 398,\n",
      "         436, 458,   0,   0,   0,   0,   0],\n",
      "        [  0,  30,  46,  64, 115, 149, 178, 197, 226, 255, 293, 313, 335, 377,\n",
      "         398, 434, 479, 492,   0,   0,   0],\n",
      "        [  0,  30,  54,  77,  91, 105, 122, 146, 155, 190, 209, 224, 247, 276,\n",
      "         292, 316, 342, 364, 383, 396, 424]])\n",
      "batch.mask:  tensor([[True, True, True,  ..., True, True, True],\n",
      "        [True, True, True,  ..., True, True, True],\n",
      "        [True, True, True,  ..., True, True, True],\n",
      "        [True, True, True,  ..., True, True, True],\n",
      "        [True, True, True,  ..., True, True, True]])\n",
      "batch.mask_cls:  tensor([[ True,  True,  True,  True,  True,  True,  True,  True,  True, False,\n",
      "         False, False, False, False, False, False, False, False, False, False,\n",
      "         False],\n",
      "        [ True,  True,  True,  True,  True,  True,  True,  True,  True,  True,\n",
      "          True, False, False, False, False, False, False, False, False, False,\n",
      "         False],\n",
      "        [ True,  True,  True,  True,  True,  True,  True,  True,  True,  True,\n",
      "          True,  True,  True,  True,  True,  True, False, False, False, False,\n",
      "         False],\n",
      "        [ True,  True,  True,  True,  True,  True,  True,  True,  True,  True,\n",
      "          True,  True,  True,  True,  True,  True,  True,  True, False, False,\n",
      "         False],\n",
      "        [ True,  True,  True,  True,  True,  True,  True,  True,  True,  True,\n",
      "          True,  True,  True,  True,  True,  True,  True,  True,  True,  True,\n",
      "          True]])\n"
     ]
    },
    {
     "name": "stderr",
     "output_type": "stream",
     "text": [
      "\r",
      "Iteration:   0%|          | 4/17100 [00:22<27:28:27,  5.79s/it]"
     ]
    },
    {
     "name": "stdout",
     "output_type": "stream",
     "text": [
      "step:  4\n",
      "batch:  <utils_nlp.models.transformers.bertsum.data_loader.Batch object at 0x7f8535bf4780>\n",
      "batch.segs:  tensor([[0, 0, 0,  ..., 1, 1, 1],\n",
      "        [0, 0, 0,  ..., 0, 0, 0],\n",
      "        [0, 0, 0,  ..., 1, 1, 1],\n",
      "        [0, 0, 0,  ..., 1, 1, 1],\n",
      "        [0, 0, 0,  ..., 0, 0, 0]])\n",
      "batch.clss:  tensor([[  0,  47,  92, 104, 136, 164, 178, 213, 247, 268, 318, 348, 380, 394,\n",
      "         438, 505,   0,   0],\n",
      "        [  0,  18,  48,  64,  78,  93, 107, 121, 141, 209, 293, 308, 323, 403,\n",
      "         460,   0,   0,   0],\n",
      "        [  0,  78, 114, 131, 161, 191, 208, 236, 267, 289, 313, 348, 367, 388,\n",
      "         400, 427,   0,   0],\n",
      "        [  0,  18,  36,  52,  91, 137, 165, 214, 241, 272, 315, 334, 364, 393,\n",
      "         409, 430, 460, 484],\n",
      "        [  0,  43,  65, 127, 148, 196, 269, 344, 354, 374, 423, 450, 493,   0,\n",
      "           0,   0,   0,   0]])\n",
      "batch.mask:  tensor([[True, True, True,  ..., True, True, True],\n",
      "        [True, True, True,  ..., True, True, True],\n",
      "        [True, True, True,  ..., True, True, True],\n",
      "        [True, True, True,  ..., True, True, True],\n",
      "        [True, True, True,  ..., True, True, True]])\n",
      "batch.mask_cls:  tensor([[ True,  True,  True,  True,  True,  True,  True,  True,  True,  True,\n",
      "          True,  True,  True,  True,  True,  True, False, False],\n",
      "        [ True,  True,  True,  True,  True,  True,  True,  True,  True,  True,\n",
      "          True,  True,  True,  True,  True, False, False, False],\n",
      "        [ True,  True,  True,  True,  True,  True,  True,  True,  True,  True,\n",
      "          True,  True,  True,  True,  True,  True, False, False],\n",
      "        [ True,  True,  True,  True,  True,  True,  True,  True,  True,  True,\n",
      "          True,  True,  True,  True,  True,  True,  True,  True],\n",
      "        [ True,  True,  True,  True,  True,  True,  True,  True,  True,  True,\n",
      "          True,  True,  True, False, False, False, False, False]])\n"
     ]
    },
    {
     "name": "stderr",
     "output_type": "stream",
     "text": [
      "\r",
      "Iteration:   0%|          | 5/17100 [00:27<26:32:00,  5.59s/it]"
     ]
    },
    {
     "name": "stdout",
     "output_type": "stream",
     "text": [
      "step:  5\n",
      "batch:  <utils_nlp.models.transformers.bertsum.data_loader.Batch object at 0x7f8535be4780>\n",
      "batch.segs:  tensor([[0, 0, 0,  ..., 1, 1, 1],\n",
      "        [0, 0, 0,  ..., 1, 1, 1],\n",
      "        [0, 0, 0,  ..., 0, 0, 0],\n",
      "        [0, 0, 0,  ..., 1, 1, 1],\n",
      "        [0, 0, 0,  ..., 0, 0, 0]])\n",
      "batch.clss:  tensor([[  0,  35,  59,  95, 130, 164, 192, 213, 226, 274, 305, 346, 363, 400,\n",
      "         437, 463],\n",
      "        [  0,  28,  70, 116, 135, 145, 168, 198, 257, 290, 311, 343, 384, 410,\n",
      "         430, 466],\n",
      "        [  0,  29,  49,  72,  84,  96, 137, 153, 177, 223, 243, 270, 309,   0,\n",
      "           0,   0],\n",
      "        [  0,  19,  70,  84, 119, 152, 178, 208, 248, 277, 299, 318, 333, 368,\n",
      "         395, 413],\n",
      "        [  0,  23,  33,  47,  67,  92, 113, 133, 165,   0,   0,   0,   0,   0,\n",
      "           0,   0]])\n",
      "batch.mask:  tensor([[True, True, True,  ..., True, True, True],\n",
      "        [True, True, True,  ..., True, True, True],\n",
      "        [True, True, True,  ..., True, True, True],\n",
      "        [True, True, True,  ..., True, True, True],\n",
      "        [True, True, True,  ..., True, True, True]])\n",
      "batch.mask_cls:  tensor([[ True,  True,  True,  True,  True,  True,  True,  True,  True,  True,\n",
      "          True,  True,  True,  True,  True,  True],\n",
      "        [ True,  True,  True,  True,  True,  True,  True,  True,  True,  True,\n",
      "          True,  True,  True,  True,  True,  True],\n",
      "        [ True,  True,  True,  True,  True,  True,  True,  True,  True,  True,\n",
      "          True,  True,  True, False, False, False],\n",
      "        [ True,  True,  True,  True,  True,  True,  True,  True,  True,  True,\n",
      "          True,  True,  True,  True,  True,  True],\n",
      "        [ True,  True,  True,  True,  True,  True,  True,  True,  True, False,\n",
      "         False, False, False, False, False, False]])\n"
     ]
    },
    {
     "name": "stderr",
     "output_type": "stream",
     "text": [
      "\r",
      "Iteration:   0%|          | 6/17100 [00:33<26:24:38,  5.56s/it]"
     ]
    },
    {
     "name": "stdout",
     "output_type": "stream",
     "text": [
      "step:  6\n",
      "batch:  <utils_nlp.models.transformers.bertsum.data_loader.Batch object at 0x7f8535bf42e8>\n",
      "batch.segs:  tensor([[0, 0, 0,  ..., 0, 0, 0],\n",
      "        [0, 0, 0,  ..., 0, 0, 0],\n",
      "        [0, 0, 0,  ..., 0, 0, 0],\n",
      "        [0, 0, 0,  ..., 1, 1, 1],\n",
      "        [0, 0, 0,  ..., 0, 0, 1]])\n",
      "batch.clss:  tensor([[  0,  20,  83, 106, 130, 144, 167, 212, 248, 299, 350, 366, 374, 412,\n",
      "         431, 474, 502,   0,   0,   0,   0,   0,   0,   0,   0],\n",
      "        [  0,  24,  43,  58,  70,  98, 115, 139, 171, 198, 216, 232, 262, 297,\n",
      "         313, 337, 357, 366, 378, 400, 436, 463, 477, 486, 502],\n",
      "        [  0,  19,  53,  68, 115, 160, 224, 276, 300, 313, 354, 398, 449, 474,\n",
      "         505,   0,   0,   0,   0,   0,   0,   0,   0,   0,   0],\n",
      "        [  0,  35,  53,  84, 121, 156, 175, 190, 225, 247, 275, 294, 324, 363,\n",
      "         398, 418, 462, 505,   0,   0,   0,   0,   0,   0,   0],\n",
      "        [  0,  36,  50,  94, 150, 159, 194, 222, 236, 272, 311, 333, 368, 388,\n",
      "         430, 449, 491,   0,   0,   0,   0,   0,   0,   0,   0]])\n",
      "batch.mask:  tensor([[True, True, True,  ..., True, True, True],\n",
      "        [True, True, True,  ..., True, True, True],\n",
      "        [True, True, True,  ..., True, True, True],\n",
      "        [True, True, True,  ..., True, True, True],\n",
      "        [True, True, True,  ..., True, True, True]])\n",
      "batch.mask_cls:  tensor([[ True,  True,  True,  True,  True,  True,  True,  True,  True,  True,\n",
      "          True,  True,  True,  True,  True,  True,  True, False, False, False,\n",
      "         False, False, False, False, False],\n",
      "        [ True,  True,  True,  True,  True,  True,  True,  True,  True,  True,\n",
      "          True,  True,  True,  True,  True,  True,  True,  True,  True,  True,\n",
      "          True,  True,  True,  True,  True],\n",
      "        [ True,  True,  True,  True,  True,  True,  True,  True,  True,  True,\n",
      "          True,  True,  True,  True,  True, False, False, False, False, False,\n",
      "         False, False, False, False, False],\n",
      "        [ True,  True,  True,  True,  True,  True,  True,  True,  True,  True,\n",
      "          True,  True,  True,  True,  True,  True,  True,  True, False, False,\n",
      "         False, False, False, False, False],\n",
      "        [ True,  True,  True,  True,  True,  True,  True,  True,  True,  True,\n",
      "          True,  True,  True,  True,  True,  True,  True, False, False, False,\n",
      "         False, False, False, False, False]])\n"
     ]
    },
    {
     "name": "stderr",
     "output_type": "stream",
     "text": [
      "\r",
      "Iteration:   0%|          | 7/17100 [00:38<25:50:11,  5.44s/it]"
     ]
    },
    {
     "name": "stdout",
     "output_type": "stream",
     "text": [
      "step:  7\n",
      "batch:  <utils_nlp.models.transformers.bertsum.data_loader.Batch object at 0x7f8535ccc908>\n",
      "batch.segs:  tensor([[0, 0, 0,  ..., 1, 1, 1],\n",
      "        [0, 0, 0,  ..., 1, 1, 1],\n",
      "        [0, 0, 0,  ..., 0, 0, 0],\n",
      "        [0, 0, 0,  ..., 1, 1, 1],\n",
      "        [0, 0, 0,  ..., 0, 0, 0]])\n",
      "batch.clss:  tensor([[  0,  34,  74,  95, 128, 177, 189, 243, 282, 309, 354, 375, 418, 454,\n",
      "         487, 509,   0,   0,   0,   0,   0,   0,   0],\n",
      "        [  0,  41,  61,  86, 112, 150, 174, 187, 243, 269, 281, 336, 414, 433,\n",
      "         458, 504,   0,   0,   0,   0,   0,   0,   0],\n",
      "        [  0,  29,  45,  62,  77, 110, 140, 155, 164, 200, 221, 248, 265, 276,\n",
      "         287, 307, 353, 373, 409, 453, 467, 486, 507],\n",
      "        [  0,  60,  85, 144, 164, 191, 221, 244, 271, 289, 338, 370, 420, 452,\n",
      "         470, 492,   0,   0,   0,   0,   0,   0,   0],\n",
      "        [  0,  14,  49,  87, 117, 159, 174, 225, 260, 280, 308, 330, 395, 418,\n",
      "         474,   0,   0,   0,   0,   0,   0,   0,   0]])\n",
      "batch.mask:  tensor([[True, True, True,  ..., True, True, True],\n",
      "        [True, True, True,  ..., True, True, True],\n",
      "        [True, True, True,  ..., True, True, True],\n",
      "        [True, True, True,  ..., True, True, True],\n",
      "        [True, True, True,  ..., True, True, True]])\n",
      "batch.mask_cls:  tensor([[ True,  True,  True,  True,  True,  True,  True,  True,  True,  True,\n",
      "          True,  True,  True,  True,  True,  True, False, False, False, False,\n",
      "         False, False, False],\n",
      "        [ True,  True,  True,  True,  True,  True,  True,  True,  True,  True,\n",
      "          True,  True,  True,  True,  True,  True, False, False, False, False,\n",
      "         False, False, False],\n",
      "        [ True,  True,  True,  True,  True,  True,  True,  True,  True,  True,\n",
      "          True,  True,  True,  True,  True,  True,  True,  True,  True,  True,\n",
      "          True,  True,  True],\n",
      "        [ True,  True,  True,  True,  True,  True,  True,  True,  True,  True,\n",
      "          True,  True,  True,  True,  True,  True, False, False, False, False,\n",
      "         False, False, False],\n",
      "        [ True,  True,  True,  True,  True,  True,  True,  True,  True,  True,\n",
      "          True,  True,  True,  True,  True, False, False, False, False, False,\n",
      "         False, False, False]])\n"
     ]
    },
    {
     "name": "stderr",
     "output_type": "stream",
     "text": [
      "\r",
      "Iteration:   0%|          | 8/17100 [00:44<25:58:42,  5.47s/it]"
     ]
    },
    {
     "name": "stdout",
     "output_type": "stream",
     "text": [
      "step:  8\n",
      "batch:  <utils_nlp.models.transformers.bertsum.data_loader.Batch object at 0x7f8535cd9198>\n",
      "batch.segs:  tensor([[0, 0, 0,  ..., 0, 0, 0],\n",
      "        [0, 0, 0,  ..., 1, 1, 1],\n",
      "        [0, 0, 0,  ..., 1, 0, 0],\n",
      "        [0, 0, 0,  ..., 1, 1, 1],\n",
      "        [0, 0, 0,  ..., 0, 0, 0]])\n",
      "batch.clss:  tensor([[  0,  23,  75, 111, 142, 191, 212, 258, 322, 358, 372, 448, 495,   0,\n",
      "           0,   0,   0,   0,   0,   0,   0,   0,   0],\n",
      "        [  0,  17,  38,  71,  85, 110, 153, 168, 210, 226, 246, 255, 276, 297,\n",
      "         416, 435, 472, 495,   0,   0,   0,   0,   0],\n",
      "        [  0,  17,  38,  82, 105, 156, 179, 216, 289, 308, 328, 364, 391, 421,\n",
      "         469, 499, 510,   0,   0,   0,   0,   0,   0],\n",
      "        [  0,  11,  26,  59,  95, 127, 154, 181, 196, 224, 264, 293, 316, 354,\n",
      "         374, 406, 426, 453, 471, 504,   0,   0,   0],\n",
      "        [  0,  18,  53,  82, 103, 119, 137, 146, 166, 203, 220, 252, 264, 290,\n",
      "         306, 317, 329, 352, 362, 375, 396, 416, 425]])\n",
      "batch.mask:  tensor([[True, True, True,  ..., True, True, True],\n",
      "        [True, True, True,  ..., True, True, True],\n",
      "        [True, True, True,  ..., True, True, True],\n",
      "        [True, True, True,  ..., True, True, True],\n",
      "        [True, True, True,  ..., True, True, True]])\n",
      "batch.mask_cls:  tensor([[ True,  True,  True,  True,  True,  True,  True,  True,  True,  True,\n",
      "          True,  True,  True, False, False, False, False, False, False, False,\n",
      "         False, False, False],\n",
      "        [ True,  True,  True,  True,  True,  True,  True,  True,  True,  True,\n",
      "          True,  True,  True,  True,  True,  True,  True,  True, False, False,\n",
      "         False, False, False],\n",
      "        [ True,  True,  True,  True,  True,  True,  True,  True,  True,  True,\n",
      "          True,  True,  True,  True,  True,  True,  True, False, False, False,\n",
      "         False, False, False],\n",
      "        [ True,  True,  True,  True,  True,  True,  True,  True,  True,  True,\n",
      "          True,  True,  True,  True,  True,  True,  True,  True,  True,  True,\n",
      "         False, False, False],\n",
      "        [ True,  True,  True,  True,  True,  True,  True,  True,  True,  True,\n",
      "          True,  True,  True,  True,  True,  True,  True,  True,  True,  True,\n",
      "          True,  True,  True]])\n"
     ]
    },
    {
     "name": "stderr",
     "output_type": "stream",
     "text": [
      "\r",
      "Iteration:   0%|          | 9/17100 [00:49<25:30:50,  5.37s/it]"
     ]
    },
    {
     "name": "stdout",
     "output_type": "stream",
     "text": [
      "step:  9\n",
      "batch:  <utils_nlp.models.transformers.bertsum.data_loader.Batch object at 0x7f8535a45438>\n",
      "batch.segs:  tensor([[0, 0, 0,  ..., 1, 1, 1],\n",
      "        [0, 0, 0,  ..., 1, 0, 0],\n",
      "        [0, 0, 0,  ..., 0, 0, 0],\n",
      "        [0, 0, 0,  ..., 0, 0, 0],\n",
      "        [0, 0, 0,  ..., 0, 0, 0]])\n",
      "batch.clss:  tensor([[  0,  37,  48,  61,  76,  97, 112, 129, 158, 170, 192, 207, 226, 237,\n",
      "         279, 310, 327, 341, 352, 383, 396, 413, 423, 440, 452, 470, 491, 508],\n",
      "        [  0,  15,  55,  84, 104, 158, 170, 195, 238, 250, 274, 308, 329, 347,\n",
      "         388, 438, 457, 477, 510,   0,   0,   0,   0,   0,   0,   0,   0,   0],\n",
      "        [  0,  40,  82, 118, 152, 210, 252, 289, 314, 353, 386, 404, 439, 454,\n",
      "         469, 484, 506,   0,   0,   0,   0,   0,   0,   0,   0,   0,   0,   0],\n",
      "        [  0,  35,  48, 110, 153, 209, 244, 283, 299, 317, 333, 354, 367, 395,\n",
      "         420, 448, 474,   0,   0,   0,   0,   0,   0,   0,   0,   0,   0,   0],\n",
      "        [  0,  30,  41,  84, 140, 153, 176, 216, 233, 261, 288, 311, 339, 364,\n",
      "         394, 415, 447, 460, 485,   0,   0,   0,   0,   0,   0,   0,   0,   0]])\n",
      "batch.mask:  tensor([[True, True, True,  ..., True, True, True],\n",
      "        [True, True, True,  ..., True, True, True],\n",
      "        [True, True, True,  ..., True, True, True],\n",
      "        [True, True, True,  ..., True, True, True],\n",
      "        [True, True, True,  ..., True, True, True]])\n",
      "batch.mask_cls:  tensor([[ True,  True,  True,  True,  True,  True,  True,  True,  True,  True,\n",
      "          True,  True,  True,  True,  True,  True,  True,  True,  True,  True,\n",
      "          True,  True,  True,  True,  True,  True,  True,  True],\n",
      "        [ True,  True,  True,  True,  True,  True,  True,  True,  True,  True,\n",
      "          True,  True,  True,  True,  True,  True,  True,  True,  True, False,\n",
      "         False, False, False, False, False, False, False, False],\n",
      "        [ True,  True,  True,  True,  True,  True,  True,  True,  True,  True,\n",
      "          True,  True,  True,  True,  True,  True,  True, False, False, False,\n",
      "         False, False, False, False, False, False, False, False],\n",
      "        [ True,  True,  True,  True,  True,  True,  True,  True,  True,  True,\n",
      "          True,  True,  True,  True,  True,  True,  True, False, False, False,\n",
      "         False, False, False, False, False, False, False, False],\n",
      "        [ True,  True,  True,  True,  True,  True,  True,  True,  True,  True,\n",
      "          True,  True,  True,  True,  True,  True,  True,  True,  True, False,\n",
      "         False, False, False, False, False, False, False, False]])\n"
     ]
    },
    {
     "name": "stderr",
     "output_type": "stream",
     "text": [
      "\r",
      "Iteration:   0%|          | 10/17100 [00:54<25:38:24,  5.40s/it]"
     ]
    },
    {
     "name": "stdout",
     "output_type": "stream",
     "text": [
      "step:  10\n",
      "batch:  <utils_nlp.models.transformers.bertsum.data_loader.Batch object at 0x7f8535c464e0>\n",
      "batch.segs:  tensor([[0, 0, 0,  ..., 1, 1, 1],\n",
      "        [0, 0, 0,  ..., 0, 0, 0],\n",
      "        [0, 0, 0,  ..., 1, 1, 1],\n",
      "        [0, 0, 0,  ..., 1, 1, 1],\n",
      "        [0, 0, 0,  ..., 0, 0, 0]])\n",
      "batch.clss:  tensor([[  0,  86, 101, 157, 179, 195, 233, 249, 260, 286, 302, 327, 343, 363,\n",
      "         399, 420, 459, 493,   0,   0,   0,   0,   0,   0,   0],\n",
      "        [  0,  57,  79, 133, 171, 208, 251, 275, 307, 349, 366, 389, 404, 446,\n",
      "         502,   0,   0,   0,   0,   0,   0,   0,   0,   0,   0],\n",
      "        [  0,  25,  57,  76, 101, 140, 157, 171, 195, 242, 267, 283,   0,   0,\n",
      "           0,   0,   0,   0,   0,   0,   0,   0,   0,   0,   0],\n",
      "        [  0,  31,  47,  74,  99, 113, 137, 169, 181, 198, 246, 265, 283, 313,\n",
      "         351, 393, 446, 470,   0,   0,   0,   0,   0,   0,   0],\n",
      "        [  0,  13,  27,  49,  64,  79,  93, 108, 121, 133, 147, 170, 200, 233,\n",
      "         251, 268, 325, 355, 375, 403, 432, 441, 464, 490, 504]])\n",
      "batch.mask:  tensor([[True, True, True,  ..., True, True, True],\n",
      "        [True, True, True,  ..., True, True, True],\n",
      "        [True, True, True,  ..., True, True, True],\n",
      "        [True, True, True,  ..., True, True, True],\n",
      "        [True, True, True,  ..., True, True, True]])\n",
      "batch.mask_cls:  tensor([[ True,  True,  True,  True,  True,  True,  True,  True,  True,  True,\n",
      "          True,  True,  True,  True,  True,  True,  True,  True, False, False,\n",
      "         False, False, False, False, False],\n",
      "        [ True,  True,  True,  True,  True,  True,  True,  True,  True,  True,\n",
      "          True,  True,  True,  True,  True, False, False, False, False, False,\n",
      "         False, False, False, False, False],\n",
      "        [ True,  True,  True,  True,  True,  True,  True,  True,  True,  True,\n",
      "          True,  True, False, False, False, False, False, False, False, False,\n",
      "         False, False, False, False, False],\n",
      "        [ True,  True,  True,  True,  True,  True,  True,  True,  True,  True,\n",
      "          True,  True,  True,  True,  True,  True,  True,  True, False, False,\n",
      "         False, False, False, False, False],\n",
      "        [ True,  True,  True,  True,  True,  True,  True,  True,  True,  True,\n",
      "          True,  True,  True,  True,  True,  True,  True,  True,  True,  True,\n",
      "          True,  True,  True,  True,  True]])\n"
     ]
    },
    {
     "name": "stderr",
     "output_type": "stream",
     "text": [
      "\r",
      "Iteration:   0%|          | 11/17100 [00:59<25:15:04,  5.32s/it]"
     ]
    },
    {
     "name": "stdout",
     "output_type": "stream",
     "text": [
      "step:  11\n",
      "batch:  <utils_nlp.models.transformers.bertsum.data_loader.Batch object at 0x7f8535bf49e8>\n",
      "batch.segs:  tensor([[0, 0, 0,  ..., 1, 1, 1],\n",
      "        [0, 0, 0,  ..., 1, 1, 1],\n",
      "        [0, 0, 0,  ..., 0, 0, 0],\n",
      "        [0, 0, 0,  ..., 1, 1, 1],\n",
      "        [0, 0, 0,  ..., 0, 0, 0]])\n",
      "batch.clss:  tensor([[  0,  16,  26,  69,  85, 115, 153, 196, 207, 227, 250, 268, 310, 343,\n",
      "         370, 388, 405, 427, 438, 467, 488, 506],\n",
      "        [  0,  27,  49,  93, 121, 188, 215, 236, 268, 290, 339, 371, 397, 438,\n",
      "         463, 490,   0,   0,   0,   0,   0,   0],\n",
      "        [  0,  22,  45,  58,  68,  89, 103, 120, 133, 148, 161, 185, 198, 251,\n",
      "         270, 311, 333, 341, 361, 388, 397,   0],\n",
      "        [  0,  16,  30,  48,  63, 102, 116, 157, 171, 184, 212, 289, 303, 328,\n",
      "         350, 393, 436, 471,   0,   0,   0,   0],\n",
      "        [  0,  37,  82,  99, 127, 152, 162, 177, 207, 237, 270, 294, 304, 324,\n",
      "         354, 383, 411, 472, 508,   0,   0,   0]])\n",
      "batch.mask:  tensor([[True, True, True,  ..., True, True, True],\n",
      "        [True, True, True,  ..., True, True, True],\n",
      "        [True, True, True,  ..., True, True, True],\n",
      "        [True, True, True,  ..., True, True, True],\n",
      "        [True, True, True,  ..., True, True, True]])\n",
      "batch.mask_cls:  tensor([[ True,  True,  True,  True,  True,  True,  True,  True,  True,  True,\n",
      "          True,  True,  True,  True,  True,  True,  True,  True,  True,  True,\n",
      "          True,  True],\n",
      "        [ True,  True,  True,  True,  True,  True,  True,  True,  True,  True,\n",
      "          True,  True,  True,  True,  True,  True, False, False, False, False,\n",
      "         False, False],\n",
      "        [ True,  True,  True,  True,  True,  True,  True,  True,  True,  True,\n",
      "          True,  True,  True,  True,  True,  True,  True,  True,  True,  True,\n",
      "          True, False],\n",
      "        [ True,  True,  True,  True,  True,  True,  True,  True,  True,  True,\n",
      "          True,  True,  True,  True,  True,  True,  True,  True, False, False,\n",
      "         False, False],\n",
      "        [ True,  True,  True,  True,  True,  True,  True,  True,  True,  True,\n",
      "          True,  True,  True,  True,  True,  True,  True,  True,  True, False,\n",
      "         False, False]])\n"
     ]
    },
    {
     "name": "stderr",
     "output_type": "stream",
     "text": [
      "\r",
      "Iteration:   0%|          | 12/17100 [01:05<25:28:10,  5.37s/it]"
     ]
    },
    {
     "name": "stdout",
     "output_type": "stream",
     "text": [
      "step:  12\n",
      "batch:  <utils_nlp.models.transformers.bertsum.data_loader.Batch object at 0x7f8535c629e8>\n",
      "batch.segs:  tensor([[0, 0, 0,  ..., 1, 1, 1],\n",
      "        [0, 0, 0,  ..., 1, 1, 1],\n",
      "        [0, 0, 0,  ..., 0, 0, 0],\n",
      "        [0, 0, 0,  ..., 1, 1, 1],\n",
      "        [0, 0, 0,  ..., 1, 1, 1]])\n",
      "batch.clss:  tensor([[  0,  51, 117, 163, 190, 211, 240, 270, 296, 333, 443, 457, 468, 494,\n",
      "           0,   0,   0,   0,   0,   0,   0,   0],\n",
      "        [  0,  22,  63,  97, 138, 162, 225, 273, 301, 325, 346, 375,   0,   0,\n",
      "           0,   0,   0,   0,   0,   0,   0,   0],\n",
      "        [  0,  19,  43,  73,  95, 118, 164, 178, 207, 255, 292, 315, 365, 385,\n",
      "         425,   0,   0,   0,   0,   0,   0,   0],\n",
      "        [  0,  46,  77,  94, 111, 140, 196, 228, 283, 313, 335, 374, 407, 418,\n",
      "         466, 495,   0,   0,   0,   0,   0,   0],\n",
      "        [  0,  30,  55,  71,  99, 112, 130, 147, 177, 189, 200, 226, 241, 250,\n",
      "         269, 328, 359, 377, 392, 401, 414, 448]])\n",
      "batch.mask:  tensor([[True, True, True,  ..., True, True, True],\n",
      "        [True, True, True,  ..., True, True, True],\n",
      "        [True, True, True,  ..., True, True, True],\n",
      "        [True, True, True,  ..., True, True, True],\n",
      "        [True, True, True,  ..., True, True, True]])\n",
      "batch.mask_cls:  tensor([[ True,  True,  True,  True,  True,  True,  True,  True,  True,  True,\n",
      "          True,  True,  True,  True, False, False, False, False, False, False,\n",
      "         False, False],\n",
      "        [ True,  True,  True,  True,  True,  True,  True,  True,  True,  True,\n",
      "          True,  True, False, False, False, False, False, False, False, False,\n",
      "         False, False],\n",
      "        [ True,  True,  True,  True,  True,  True,  True,  True,  True,  True,\n",
      "          True,  True,  True,  True,  True, False, False, False, False, False,\n",
      "         False, False],\n",
      "        [ True,  True,  True,  True,  True,  True,  True,  True,  True,  True,\n",
      "          True,  True,  True,  True,  True,  True, False, False, False, False,\n",
      "         False, False],\n",
      "        [ True,  True,  True,  True,  True,  True,  True,  True,  True,  True,\n",
      "          True,  True,  True,  True,  True,  True,  True,  True,  True,  True,\n",
      "          True,  True]])\n"
     ]
    },
    {
     "name": "stderr",
     "output_type": "stream",
     "text": [
      "\r",
      "Iteration:   0%|          | 13/17100 [01:10<25:09:37,  5.30s/it]"
     ]
    },
    {
     "name": "stdout",
     "output_type": "stream",
     "text": [
      "step:  13\n",
      "batch:  <utils_nlp.models.transformers.bertsum.data_loader.Batch object at 0x7f8535cccc88>\n",
      "batch.segs:  tensor([[0, 0, 0,  ..., 0, 0, 0],\n",
      "        [0, 0, 0,  ..., 1, 1, 1],\n",
      "        [0, 0, 0,  ..., 0, 0, 0],\n",
      "        [0, 0, 0,  ..., 0, 0, 0],\n",
      "        [0, 0, 0,  ..., 0, 0, 0]])\n",
      "batch.clss:  tensor([[  0,  38,  77, 132, 165, 187, 211, 224, 273, 329, 365, 397, 406, 433,\n",
      "         446, 470, 486,   0,   0,   0,   0],\n",
      "        [  0,  22,  55, 153, 183, 237, 248, 292, 309, 348, 400, 411, 446, 472,\n",
      "           0,   0,   0,   0,   0,   0,   0],\n",
      "        [  0,  61,  87, 129, 154, 176, 212, 247, 269, 320, 340, 368, 386, 408,\n",
      "         431, 451, 483,   0,   0,   0,   0],\n",
      "        [  0,  63,  81, 123, 172, 234, 256, 269, 294, 346, 364, 378, 403, 456,\n",
      "         491,   0,   0,   0,   0,   0,   0],\n",
      "        [  0,  28,  39,  54,  69,  98, 122, 179, 188, 226, 239, 267, 301, 326,\n",
      "         347, 370, 394, 411, 424, 449, 490]])\n",
      "batch.mask:  tensor([[True, True, True,  ..., True, True, True],\n",
      "        [True, True, True,  ..., True, True, True],\n",
      "        [True, True, True,  ..., True, True, True],\n",
      "        [True, True, True,  ..., True, True, True],\n",
      "        [True, True, True,  ..., True, True, True]])\n",
      "batch.mask_cls:  tensor([[ True,  True,  True,  True,  True,  True,  True,  True,  True,  True,\n",
      "          True,  True,  True,  True,  True,  True,  True, False, False, False,\n",
      "         False],\n",
      "        [ True,  True,  True,  True,  True,  True,  True,  True,  True,  True,\n",
      "          True,  True,  True,  True, False, False, False, False, False, False,\n",
      "         False],\n",
      "        [ True,  True,  True,  True,  True,  True,  True,  True,  True,  True,\n",
      "          True,  True,  True,  True,  True,  True,  True, False, False, False,\n",
      "         False],\n",
      "        [ True,  True,  True,  True,  True,  True,  True,  True,  True,  True,\n",
      "          True,  True,  True,  True,  True, False, False, False, False, False,\n",
      "         False],\n",
      "        [ True,  True,  True,  True,  True,  True,  True,  True,  True,  True,\n",
      "          True,  True,  True,  True,  True,  True,  True,  True,  True,  True,\n",
      "          True]])\n"
     ]
    },
    {
     "name": "stderr",
     "output_type": "stream",
     "text": [
      "\r",
      "Iteration:   0%|          | 14/17100 [01:15<25:25:03,  5.36s/it]"
     ]
    },
    {
     "name": "stdout",
     "output_type": "stream",
     "text": [
      "step:  14\n",
      "batch:  <utils_nlp.models.transformers.bertsum.data_loader.Batch object at 0x7f8535ccc1d0>\n",
      "batch.segs:  tensor([[0, 0, 0,  ..., 1, 1, 1],\n",
      "        [0, 0, 0,  ..., 1, 1, 1],\n",
      "        [0, 0, 0,  ..., 0, 0, 0],\n",
      "        [0, 0, 0,  ..., 0, 0, 0],\n",
      "        [0, 0, 0,  ..., 1, 1, 1]])\n",
      "batch.clss:  tensor([[  0,  29,  43,  70, 157, 171, 208, 267, 323, 343,   0,   0,   0,   0,\n",
      "           0,   0,   0,   0,   0,   0,   0,   0],\n",
      "        [  0,  40,  90, 114, 155, 182, 216, 293, 330, 354, 404, 454, 479, 493,\n",
      "           0,   0,   0,   0,   0,   0,   0,   0],\n",
      "        [  0,  25,  46,  66,  76, 103, 129, 139, 151, 183, 196, 224, 233, 248,\n",
      "         266, 279, 299,   0,   0,   0,   0,   0],\n",
      "        [  0,  14,  37,  87, 101, 133, 152, 169, 184, 226, 252, 281, 320, 337,\n",
      "         362, 382, 409, 451, 478,   0,   0,   0],\n",
      "        [  0,  15,  43,  62,  72,  87, 133, 152, 161, 178, 204, 224, 246, 286,\n",
      "         308, 343, 361, 403, 425, 448, 472, 486]])\n",
      "batch.mask:  tensor([[True, True, True,  ..., True, True, True],\n",
      "        [True, True, True,  ..., True, True, True],\n",
      "        [True, True, True,  ..., True, True, True],\n",
      "        [True, True, True,  ..., True, True, True],\n",
      "        [True, True, True,  ..., True, True, True]])\n",
      "batch.mask_cls:  tensor([[ True,  True,  True,  True,  True,  True,  True,  True,  True,  True,\n",
      "         False, False, False, False, False, False, False, False, False, False,\n",
      "         False, False],\n",
      "        [ True,  True,  True,  True,  True,  True,  True,  True,  True,  True,\n",
      "          True,  True,  True,  True, False, False, False, False, False, False,\n",
      "         False, False],\n",
      "        [ True,  True,  True,  True,  True,  True,  True,  True,  True,  True,\n",
      "          True,  True,  True,  True,  True,  True,  True, False, False, False,\n",
      "         False, False],\n",
      "        [ True,  True,  True,  True,  True,  True,  True,  True,  True,  True,\n",
      "          True,  True,  True,  True,  True,  True,  True,  True,  True, False,\n",
      "         False, False],\n",
      "        [ True,  True,  True,  True,  True,  True,  True,  True,  True,  True,\n",
      "          True,  True,  True,  True,  True,  True,  True,  True,  True,  True,\n",
      "          True,  True]])\n"
     ]
    },
    {
     "name": "stderr",
     "output_type": "stream",
     "text": [
      "\r",
      "Iteration:   0%|          | 15/17100 [01:21<25:03:15,  5.28s/it]"
     ]
    },
    {
     "name": "stdout",
     "output_type": "stream",
     "text": [
      "step:  15\n",
      "batch:  <utils_nlp.models.transformers.bertsum.data_loader.Batch object at 0x7f8535be40f0>\n",
      "batch.segs:  tensor([[0, 0, 0,  ..., 1, 1, 1],\n",
      "        [0, 0, 0,  ..., 1, 1, 1],\n",
      "        [0, 0, 0,  ..., 0, 0, 0],\n",
      "        [0, 0, 0,  ..., 1, 1, 1],\n",
      "        [0, 0, 0,  ..., 0, 1, 1]])\n",
      "batch.clss:  tensor([[  0,  10,  24,  54,  87, 113, 161, 207, 251, 292,   0,   0,   0,   0,\n",
      "           0,   0,   0,   0,   0,   0,   0,   0,   0],\n",
      "        [  0,  28,  44,  99, 142, 178, 233, 257, 314, 350, 390, 404, 425, 488,\n",
      "           0,   0,   0,   0,   0,   0,   0,   0,   0],\n",
      "        [  0,  16,  27,  39,  63,  80, 100, 124, 142, 162, 172, 188, 219, 235,\n",
      "         249, 285, 310, 323, 357, 376, 436, 457, 500],\n",
      "        [  0,  47, 121, 150, 204, 224, 263, 313, 341, 355, 387, 420, 450, 463,\n",
      "         482, 504,   0,   0,   0,   0,   0,   0,   0],\n",
      "        [  0,  22,  50,  64,  76, 100, 138, 155, 191, 227, 244, 256, 297, 307,\n",
      "         351, 376, 396, 420, 430, 477, 493, 510,   0]])\n",
      "batch.mask:  tensor([[True, True, True,  ..., True, True, True],\n",
      "        [True, True, True,  ..., True, True, True],\n",
      "        [True, True, True,  ..., True, True, True],\n",
      "        [True, True, True,  ..., True, True, True],\n",
      "        [True, True, True,  ..., True, True, True]])\n",
      "batch.mask_cls:  tensor([[ True,  True,  True,  True,  True,  True,  True,  True,  True,  True,\n",
      "         False, False, False, False, False, False, False, False, False, False,\n",
      "         False, False, False],\n",
      "        [ True,  True,  True,  True,  True,  True,  True,  True,  True,  True,\n",
      "          True,  True,  True,  True, False, False, False, False, False, False,\n",
      "         False, False, False],\n",
      "        [ True,  True,  True,  True,  True,  True,  True,  True,  True,  True,\n",
      "          True,  True,  True,  True,  True,  True,  True,  True,  True,  True,\n",
      "          True,  True,  True],\n",
      "        [ True,  True,  True,  True,  True,  True,  True,  True,  True,  True,\n",
      "          True,  True,  True,  True,  True,  True, False, False, False, False,\n",
      "         False, False, False],\n",
      "        [ True,  True,  True,  True,  True,  True,  True,  True,  True,  True,\n",
      "          True,  True,  True,  True,  True,  True,  True,  True,  True,  True,\n",
      "          True,  True, False]])\n"
     ]
    },
    {
     "name": "stderr",
     "output_type": "stream",
     "text": [
      "\r",
      "Iteration:   0%|          | 16/17100 [01:26<25:18:33,  5.33s/it]"
     ]
    },
    {
     "name": "stdout",
     "output_type": "stream",
     "text": [
      "step:  16\n",
      "batch:  <utils_nlp.models.transformers.bertsum.data_loader.Batch object at 0x7f8535c62e48>\n",
      "batch.segs:  tensor([[0, 0, 0,  ..., 0, 0, 0],\n",
      "        [0, 0, 0,  ..., 1, 1, 1],\n",
      "        [0, 0, 0,  ..., 1, 1, 1],\n",
      "        [0, 0, 0,  ..., 1, 1, 1],\n",
      "        [0, 0, 0,  ..., 1, 1, 1]])\n",
      "batch.clss:  tensor([[  0,  53,  64,  75,  93, 138, 214, 240, 274, 323, 366, 392, 421, 449,\n",
      "         478,   0,   0,   0,   0,   0],\n",
      "        [  0,  41,  88, 127, 135, 163, 189, 203, 240, 314, 372, 411, 459, 495,\n",
      "           0,   0,   0,   0,   0,   0],\n",
      "        [  0,  38,  65,  95, 111, 142, 175, 231, 273, 286, 329, 352, 369, 392,\n",
      "         426, 444, 467, 499,   0,   0],\n",
      "        [  0,  17,  45,  73,  86, 116, 132, 156, 172, 205, 238, 259, 278, 326,\n",
      "         364, 394, 453, 483,   0,   0],\n",
      "        [  0,   9,  26,  68,  99, 118, 140, 161, 180, 208, 222, 234, 248, 267,\n",
      "         295, 311, 320, 329, 337, 356]])\n",
      "batch.mask:  tensor([[True, True, True,  ..., True, True, True],\n",
      "        [True, True, True,  ..., True, True, True],\n",
      "        [True, True, True,  ..., True, True, True],\n",
      "        [True, True, True,  ..., True, True, True],\n",
      "        [True, True, True,  ..., True, True, True]])\n",
      "batch.mask_cls:  tensor([[ True,  True,  True,  True,  True,  True,  True,  True,  True,  True,\n",
      "          True,  True,  True,  True,  True, False, False, False, False, False],\n",
      "        [ True,  True,  True,  True,  True,  True,  True,  True,  True,  True,\n",
      "          True,  True,  True,  True, False, False, False, False, False, False],\n",
      "        [ True,  True,  True,  True,  True,  True,  True,  True,  True,  True,\n",
      "          True,  True,  True,  True,  True,  True,  True,  True, False, False],\n",
      "        [ True,  True,  True,  True,  True,  True,  True,  True,  True,  True,\n",
      "          True,  True,  True,  True,  True,  True,  True,  True, False, False],\n",
      "        [ True,  True,  True,  True,  True,  True,  True,  True,  True,  True,\n",
      "          True,  True,  True,  True,  True,  True,  True,  True,  True,  True]])\n"
     ]
    },
    {
     "name": "stderr",
     "output_type": "stream",
     "text": [
      "\r",
      "Iteration:   0%|          | 17/17100 [01:31<25:01:15,  5.27s/it]"
     ]
    },
    {
     "name": "stdout",
     "output_type": "stream",
     "text": [
      "step:  17\n",
      "batch:  <utils_nlp.models.transformers.bertsum.data_loader.Batch object at 0x7f8535be4ac8>\n",
      "batch.segs:  tensor([[0, 0, 0,  ..., 1, 1, 1],\n",
      "        [0, 0, 0,  ..., 0, 0, 0],\n",
      "        [0, 0, 0,  ..., 0, 0, 0],\n",
      "        [0, 0, 0,  ..., 0, 0, 0],\n",
      "        [0, 0, 0,  ..., 1, 1, 1]])\n",
      "batch.clss:  tensor([[  0,  42, 100, 113, 137, 181, 221, 344, 377, 390, 413, 427, 467, 483,\n",
      "           0,   0,   0,   0,   0],\n",
      "        [  0,  18,  75, 103, 120, 173, 210, 238, 263, 315, 342, 359, 384, 421,\n",
      "         445, 471, 494,   0,   0],\n",
      "        [  0,  26,  80, 120, 190, 200, 215, 229, 241, 271, 298, 314, 369, 379,\n",
      "         406, 421, 445, 467, 496],\n",
      "        [  0,  27,  66,  80,  88, 113, 186, 224, 256, 280, 324, 361, 395, 407,\n",
      "         460, 480, 504,   0,   0],\n",
      "        [  0,  47,  68,  80,  90, 129, 192, 225, 242, 310, 343, 381, 404, 430,\n",
      "         453, 471,   0,   0,   0]])\n",
      "batch.mask:  tensor([[True, True, True,  ..., True, True, True],\n",
      "        [True, True, True,  ..., True, True, True],\n",
      "        [True, True, True,  ..., True, True, True],\n",
      "        [True, True, True,  ..., True, True, True],\n",
      "        [True, True, True,  ..., True, True, True]])\n",
      "batch.mask_cls:  tensor([[ True,  True,  True,  True,  True,  True,  True,  True,  True,  True,\n",
      "          True,  True,  True,  True, False, False, False, False, False],\n",
      "        [ True,  True,  True,  True,  True,  True,  True,  True,  True,  True,\n",
      "          True,  True,  True,  True,  True,  True,  True, False, False],\n",
      "        [ True,  True,  True,  True,  True,  True,  True,  True,  True,  True,\n",
      "          True,  True,  True,  True,  True,  True,  True,  True,  True],\n",
      "        [ True,  True,  True,  True,  True,  True,  True,  True,  True,  True,\n",
      "          True,  True,  True,  True,  True,  True,  True, False, False],\n",
      "        [ True,  True,  True,  True,  True,  True,  True,  True,  True,  True,\n",
      "          True,  True,  True,  True,  True,  True, False, False, False]])\n"
     ]
    },
    {
     "name": "stderr",
     "output_type": "stream",
     "text": [
      "\r",
      "Iteration:   0%|          | 18/17100 [01:37<25:17:33,  5.33s/it]"
     ]
    },
    {
     "name": "stdout",
     "output_type": "stream",
     "text": [
      "step:  18\n",
      "batch:  <utils_nlp.models.transformers.bertsum.data_loader.Batch object at 0x7f8535a45390>\n",
      "batch.segs:  tensor([[0, 0, 0,  ..., 1, 1, 1],\n",
      "        [0, 0, 0,  ..., 1, 1, 1],\n",
      "        [0, 0, 0,  ..., 1, 1, 1],\n",
      "        [0, 0, 0,  ..., 0, 0, 0],\n",
      "        [0, 0, 0,  ..., 1, 1, 1]])\n",
      "batch.clss:  tensor([[  0,  56, 103, 136, 153, 161, 183, 236, 293, 316, 348, 389, 441, 474,\n",
      "           0,   0,   0,   0],\n",
      "        [  0,  27,  55,  84, 106, 130, 149, 173, 211, 237, 260, 276, 323, 374,\n",
      "           0,   0,   0,   0],\n",
      "        [  0,  52, 115, 170, 198, 229, 271, 316, 411, 484,   0,   0,   0,   0,\n",
      "           0,   0,   0,   0],\n",
      "        [  0,  31,  50,  73, 116, 136, 155, 166, 178, 193, 209, 226, 237, 257,\n",
      "         282,   0,   0,   0],\n",
      "        [  0,  12,  32,  57,  75, 112, 149, 187, 206, 232, 248, 288, 342, 366,\n",
      "         381, 423, 455, 477]])\n",
      "batch.mask:  tensor([[True, True, True,  ..., True, True, True],\n",
      "        [True, True, True,  ..., True, True, True],\n",
      "        [True, True, True,  ..., True, True, True],\n",
      "        [True, True, True,  ..., True, True, True],\n",
      "        [True, True, True,  ..., True, True, True]])\n",
      "batch.mask_cls:  tensor([[ True,  True,  True,  True,  True,  True,  True,  True,  True,  True,\n",
      "          True,  True,  True,  True, False, False, False, False],\n",
      "        [ True,  True,  True,  True,  True,  True,  True,  True,  True,  True,\n",
      "          True,  True,  True,  True, False, False, False, False],\n",
      "        [ True,  True,  True,  True,  True,  True,  True,  True,  True,  True,\n",
      "         False, False, False, False, False, False, False, False],\n",
      "        [ True,  True,  True,  True,  True,  True,  True,  True,  True,  True,\n",
      "          True,  True,  True,  True,  True, False, False, False],\n",
      "        [ True,  True,  True,  True,  True,  True,  True,  True,  True,  True,\n",
      "          True,  True,  True,  True,  True,  True,  True,  True]])\n"
     ]
    },
    {
     "name": "stderr",
     "output_type": "stream",
     "text": [
      "\r",
      "Iteration:   0%|          | 19/17100 [01:42<25:01:44,  5.28s/it]"
     ]
    },
    {
     "name": "stdout",
     "output_type": "stream",
     "text": [
      "step:  19\n",
      "batch:  <utils_nlp.models.transformers.bertsum.data_loader.Batch object at 0x7f8535a453c8>\n",
      "batch.segs:  tensor([[0, 0, 0,  ..., 0, 0, 0],\n",
      "        [0, 0, 0,  ..., 1, 1, 1],\n",
      "        [0, 0, 0,  ..., 0, 0, 0],\n",
      "        [0, 0, 0,  ..., 1, 1, 1],\n",
      "        [0, 0, 0,  ..., 1, 1, 1]])\n",
      "batch.clss:  tensor([[  0,  17,  42,  63,  88, 104, 129, 150, 163, 193, 207, 253, 268, 286,\n",
      "         321, 354, 365, 403, 452, 482, 504],\n",
      "        [  0,  17,  36,  52,  62,  75,  87, 101, 128, 167, 217, 255, 311, 331,\n",
      "         357, 408, 427, 455, 471, 500,   0],\n",
      "        [  0,  31,  55,  89, 140, 180, 206,   0,   0,   0,   0,   0,   0,   0,\n",
      "           0,   0,   0,   0,   0,   0,   0],\n",
      "        [  0,  28,  47,  72,  97, 132, 158, 203, 254, 288, 313, 347, 367, 384,\n",
      "         412, 447, 479, 498,   0,   0,   0],\n",
      "        [  0,  25,  72,  89, 135, 157, 196, 220, 252, 275, 296, 314, 326, 361,\n",
      "         386, 434, 472, 502,   0,   0,   0]])\n",
      "batch.mask:  tensor([[True, True, True,  ..., True, True, True],\n",
      "        [True, True, True,  ..., True, True, True],\n",
      "        [True, True, True,  ..., True, True, True],\n",
      "        [True, True, True,  ..., True, True, True],\n",
      "        [True, True, True,  ..., True, True, True]])\n",
      "batch.mask_cls:  tensor([[ True,  True,  True,  True,  True,  True,  True,  True,  True,  True,\n",
      "          True,  True,  True,  True,  True,  True,  True,  True,  True,  True,\n",
      "          True],\n",
      "        [ True,  True,  True,  True,  True,  True,  True,  True,  True,  True,\n",
      "          True,  True,  True,  True,  True,  True,  True,  True,  True,  True,\n",
      "         False],\n",
      "        [ True,  True,  True,  True,  True,  True,  True, False, False, False,\n",
      "         False, False, False, False, False, False, False, False, False, False,\n",
      "         False],\n",
      "        [ True,  True,  True,  True,  True,  True,  True,  True,  True,  True,\n",
      "          True,  True,  True,  True,  True,  True,  True,  True, False, False,\n",
      "         False],\n",
      "        [ True,  True,  True,  True,  True,  True,  True,  True,  True,  True,\n",
      "          True,  True,  True,  True,  True,  True,  True,  True, False, False,\n",
      "         False]])\n"
     ]
    },
    {
     "name": "stderr",
     "output_type": "stream",
     "text": [
      "\r",
      "Iteration:   0%|          | 20/17100 [01:47<25:18:03,  5.33s/it]"
     ]
    },
    {
     "name": "stdout",
     "output_type": "stream",
     "text": [
      "step:  20\n",
      "batch:  <utils_nlp.models.transformers.bertsum.data_loader.Batch object at 0x7f8535c62be0>\n",
      "batch.segs:  tensor([[0, 0, 0,  ..., 0, 0, 0],\n",
      "        [0, 0, 0,  ..., 0, 0, 0],\n",
      "        [0, 0, 0,  ..., 1, 1, 1],\n",
      "        [0, 0, 0,  ..., 0, 0, 0],\n",
      "        [0, 0, 0,  ..., 1, 1, 1]])\n",
      "batch.clss:  tensor([[  0,  47,  74, 112, 140, 162, 205, 225, 267, 298, 331, 352, 408, 482,\n",
      "         502,   0,   0,   0,   0,   0,   0],\n",
      "        [  0,  32,  74,  91, 158, 175, 198, 242, 270, 293, 305, 332, 381, 417,\n",
      "         443,   0,   0,   0,   0,   0,   0],\n",
      "        [  0,  38,  64,  78, 106, 134, 179, 200, 220, 250, 299, 332, 355, 381,\n",
      "         418, 450, 468, 492,   0,   0,   0],\n",
      "        [  0,  37,  61,  85, 134, 153, 162, 184, 196, 222, 240, 254, 275, 330,\n",
      "         343, 369, 411, 428, 459, 477, 504],\n",
      "        [  0,  29,  79, 126, 177, 230, 263, 281, 311, 330, 364, 392, 407, 446,\n",
      "         464, 490,   0,   0,   0,   0,   0]])\n",
      "batch.mask:  tensor([[True, True, True,  ..., True, True, True],\n",
      "        [True, True, True,  ..., True, True, True],\n",
      "        [True, True, True,  ..., True, True, True],\n",
      "        [True, True, True,  ..., True, True, True],\n",
      "        [True, True, True,  ..., True, True, True]])\n",
      "batch.mask_cls:  tensor([[ True,  True,  True,  True,  True,  True,  True,  True,  True,  True,\n",
      "          True,  True,  True,  True,  True, False, False, False, False, False,\n",
      "         False],\n",
      "        [ True,  True,  True,  True,  True,  True,  True,  True,  True,  True,\n",
      "          True,  True,  True,  True,  True, False, False, False, False, False,\n",
      "         False],\n",
      "        [ True,  True,  True,  True,  True,  True,  True,  True,  True,  True,\n",
      "          True,  True,  True,  True,  True,  True,  True,  True, False, False,\n",
      "         False],\n",
      "        [ True,  True,  True,  True,  True,  True,  True,  True,  True,  True,\n",
      "          True,  True,  True,  True,  True,  True,  True,  True,  True,  True,\n",
      "          True],\n",
      "        [ True,  True,  True,  True,  True,  True,  True,  True,  True,  True,\n",
      "          True,  True,  True,  True,  True,  True, False, False, False, False,\n",
      "         False]])\n"
     ]
    },
    {
     "name": "stderr",
     "output_type": "stream",
     "text": [
      "\r",
      "Iteration:   0%|          | 21/17100 [01:52<25:01:31,  5.27s/it]"
     ]
    },
    {
     "name": "stdout",
     "output_type": "stream",
     "text": [
      "step:  21\n",
      "batch:  <utils_nlp.models.transformers.bertsum.data_loader.Batch object at 0x7f8535c62978>\n",
      "batch.segs:  tensor([[0, 0, 0,  ..., 1, 1, 1],\n",
      "        [0, 0, 0,  ..., 0, 0, 0],\n",
      "        [0, 0, 0,  ..., 1, 1, 1],\n",
      "        [0, 0, 0,  ..., 0, 0, 0],\n",
      "        [0, 0, 0,  ..., 0, 0, 0]])\n",
      "batch.clss:  tensor([[  0,  30,  60,  74,  94, 134, 175, 221, 240, 264, 290, 316, 335, 376,\n",
      "         401, 427, 469, 489,   0,   0,   0],\n",
      "        [  0,  44,  93, 129, 155, 258, 328, 370, 403, 481, 503,   0,   0,   0,\n",
      "           0,   0,   0,   0,   0,   0,   0],\n",
      "        [  0,  19,  48,  70,  98, 119, 131, 154, 189, 205, 227, 240, 258, 289,\n",
      "         314, 375, 410, 449, 476, 503,   0],\n",
      "        [  0,  40,  64,  79, 107, 130, 143, 172, 209, 236, 262, 291, 325, 343,\n",
      "         367, 407, 444, 464, 490,   0,   0],\n",
      "        [  0,  27,  39,  71,  99, 129, 144, 182, 202, 244, 281, 301, 320, 344,\n",
      "         356, 377, 399, 414, 436, 451, 471]])\n",
      "batch.mask:  tensor([[True, True, True,  ..., True, True, True],\n",
      "        [True, True, True,  ..., True, True, True],\n",
      "        [True, True, True,  ..., True, True, True],\n",
      "        [True, True, True,  ..., True, True, True],\n",
      "        [True, True, True,  ..., True, True, True]])\n",
      "batch.mask_cls:  tensor([[ True,  True,  True,  True,  True,  True,  True,  True,  True,  True,\n",
      "          True,  True,  True,  True,  True,  True,  True,  True, False, False,\n",
      "         False],\n",
      "        [ True,  True,  True,  True,  True,  True,  True,  True,  True,  True,\n",
      "          True, False, False, False, False, False, False, False, False, False,\n",
      "         False],\n",
      "        [ True,  True,  True,  True,  True,  True,  True,  True,  True,  True,\n",
      "          True,  True,  True,  True,  True,  True,  True,  True,  True,  True,\n",
      "         False],\n",
      "        [ True,  True,  True,  True,  True,  True,  True,  True,  True,  True,\n",
      "          True,  True,  True,  True,  True,  True,  True,  True,  True, False,\n",
      "         False],\n",
      "        [ True,  True,  True,  True,  True,  True,  True,  True,  True,  True,\n",
      "          True,  True,  True,  True,  True,  True,  True,  True,  True,  True,\n",
      "          True]])\n"
     ]
    },
    {
     "name": "stderr",
     "output_type": "stream",
     "text": [
      "\r",
      "Iteration:   0%|          | 22/17100 [02:00<27:55:14,  5.89s/it]"
     ]
    },
    {
     "name": "stdout",
     "output_type": "stream",
     "text": [
      "step:  22\n",
      "batch:  <utils_nlp.models.transformers.bertsum.data_loader.Batch object at 0x7f8535a45390>\n",
      "batch.segs:  tensor([[0, 0, 0,  ..., 1, 1, 1],\n",
      "        [0, 0, 0,  ..., 0, 0, 0],\n",
      "        [0, 0, 0,  ..., 0, 0, 0],\n",
      "        [0, 0, 0,  ..., 0, 0, 0],\n",
      "        [0, 0, 0,  ..., 0, 0, 0]])\n",
      "batch.clss:  tensor([[  0,  31,  54,  69,  85, 112, 131, 141, 154, 187, 228, 264, 290, 302,\n",
      "         314, 336, 346, 410, 447, 479, 493, 506],\n",
      "        [  0,  36,  88, 128, 159, 176, 201, 213, 237, 276, 294,   0,   0,   0,\n",
      "           0,   0,   0,   0,   0,   0,   0,   0],\n",
      "        [  0,  58,  78, 105, 122, 153, 196, 267, 277, 289, 308, 347, 361, 378,\n",
      "         402, 430, 448, 475, 497,   0,   0,   0],\n",
      "        [  0,  43, 117, 166, 188, 220, 256, 270, 287, 300, 324, 336, 348, 362,\n",
      "         379, 398, 420, 429, 458,   0,   0,   0],\n",
      "        [  0,  20,  64,  87, 109, 135, 168, 192, 219, 234, 265, 288, 317, 361,\n",
      "         388, 419, 449, 461, 501,   0,   0,   0]])\n",
      "batch.mask:  tensor([[True, True, True,  ..., True, True, True],\n",
      "        [True, True, True,  ..., True, True, True],\n",
      "        [True, True, True,  ..., True, True, True],\n",
      "        [True, True, True,  ..., True, True, True],\n",
      "        [True, True, True,  ..., True, True, True]])\n",
      "batch.mask_cls:  tensor([[ True,  True,  True,  True,  True,  True,  True,  True,  True,  True,\n",
      "          True,  True,  True,  True,  True,  True,  True,  True,  True,  True,\n",
      "          True,  True],\n",
      "        [ True,  True,  True,  True,  True,  True,  True,  True,  True,  True,\n",
      "          True, False, False, False, False, False, False, False, False, False,\n",
      "         False, False],\n",
      "        [ True,  True,  True,  True,  True,  True,  True,  True,  True,  True,\n",
      "          True,  True,  True,  True,  True,  True,  True,  True,  True, False,\n",
      "         False, False],\n",
      "        [ True,  True,  True,  True,  True,  True,  True,  True,  True,  True,\n",
      "          True,  True,  True,  True,  True,  True,  True,  True,  True, False,\n",
      "         False, False],\n",
      "        [ True,  True,  True,  True,  True,  True,  True,  True,  True,  True,\n",
      "          True,  True,  True,  True,  True,  True,  True,  True,  True, False,\n",
      "         False, False]])\n"
     ]
    },
    {
     "name": "stderr",
     "output_type": "stream",
     "text": [
      "\r",
      "Iteration:   0%|          | 23/17100 [02:05<26:51:05,  5.66s/it]"
     ]
    },
    {
     "name": "stdout",
     "output_type": "stream",
     "text": [
      "step:  23\n",
      "batch:  <utils_nlp.models.transformers.bertsum.data_loader.Batch object at 0x7f8535be4a20>\n",
      "batch.segs:  tensor([[0, 0, 0,  ..., 1, 1, 0],\n",
      "        [0, 0, 0,  ..., 0, 1, 1],\n",
      "        [0, 0, 0,  ..., 0, 0, 0],\n",
      "        [0, 0, 0,  ..., 1, 1, 1],\n",
      "        [0, 0, 0,  ..., 1, 1, 1]])\n",
      "batch.clss:  tensor([[  0,  23,  48,  62,  98, 115, 158, 172, 218, 238, 255, 297, 323, 345,\n",
      "         371, 403, 456, 472, 483, 498,   0,   0,   0,   0,   0,   0,   0,   0],\n",
      "        [  0,  18,  36,  52,  75,  88, 104, 120, 149, 171, 213, 232, 264, 279,\n",
      "         308, 323, 388, 431, 448, 480, 489, 510,   0,   0,   0,   0,   0,   0],\n",
      "        [  0,  56,  84, 121, 156, 183, 211, 231, 253, 285, 331, 360, 387, 413,\n",
      "         432, 476, 506,   0,   0,   0,   0,   0,   0,   0,   0,   0,   0,   0],\n",
      "        [  0,  26,  48,  58,  68,  95, 119, 129, 149, 162, 192, 208, 221, 247,\n",
      "         277, 290, 303, 312, 354, 364, 378, 388, 422, 435, 452, 473, 488, 498],\n",
      "        [  0,  24,  47,  76, 107, 133, 143, 170, 207, 237, 262, 298, 339, 362,\n",
      "         410, 468, 485, 506,   0,   0,   0,   0,   0,   0,   0,   0,   0,   0]])\n",
      "batch.mask:  tensor([[True, True, True,  ..., True, True, True],\n",
      "        [True, True, True,  ..., True, True, True],\n",
      "        [True, True, True,  ..., True, True, True],\n",
      "        [True, True, True,  ..., True, True, True],\n",
      "        [True, True, True,  ..., True, True, True]])\n",
      "batch.mask_cls:  tensor([[ True,  True,  True,  True,  True,  True,  True,  True,  True,  True,\n",
      "          True,  True,  True,  True,  True,  True,  True,  True,  True,  True,\n",
      "         False, False, False, False, False, False, False, False],\n",
      "        [ True,  True,  True,  True,  True,  True,  True,  True,  True,  True,\n",
      "          True,  True,  True,  True,  True,  True,  True,  True,  True,  True,\n",
      "          True,  True, False, False, False, False, False, False],\n",
      "        [ True,  True,  True,  True,  True,  True,  True,  True,  True,  True,\n",
      "          True,  True,  True,  True,  True,  True,  True, False, False, False,\n",
      "         False, False, False, False, False, False, False, False],\n",
      "        [ True,  True,  True,  True,  True,  True,  True,  True,  True,  True,\n",
      "          True,  True,  True,  True,  True,  True,  True,  True,  True,  True,\n",
      "          True,  True,  True,  True,  True,  True,  True,  True],\n",
      "        [ True,  True,  True,  True,  True,  True,  True,  True,  True,  True,\n",
      "          True,  True,  True,  True,  True,  True,  True,  True, False, False,\n",
      "         False, False, False, False, False, False, False, False]])\n"
     ]
    },
    {
     "name": "stderr",
     "output_type": "stream",
     "text": [
      "\r",
      "Iteration:   0%|          | 24/17100 [02:10<26:37:01,  5.61s/it]"
     ]
    },
    {
     "name": "stdout",
     "output_type": "stream",
     "text": [
      "step:  24\n",
      "batch:  <utils_nlp.models.transformers.bertsum.data_loader.Batch object at 0x7f8535cd9be0>\n",
      "batch.segs:  tensor([[0, 0, 0,  ..., 0, 0, 0],\n",
      "        [0, 0, 0,  ..., 0, 0, 0],\n",
      "        [0, 0, 0,  ..., 1, 1, 1],\n",
      "        [0, 0, 0,  ..., 1, 1, 1],\n",
      "        [0, 0, 0,  ..., 0, 0, 0]])\n",
      "batch.clss:  tensor([[  0,  33,  51,  90, 145, 194, 237, 291, 338, 363, 394, 419, 441, 454,\n",
      "         490,   0,   0,   0,   0,   0,   0,   0],\n",
      "        [  0,  15,  47,  85, 133, 174, 240, 262, 292, 319, 361, 440, 454,   0,\n",
      "           0,   0,   0,   0,   0,   0,   0,   0],\n",
      "        [  0,  30,  52,  66,  86, 124, 156, 177, 197, 227, 254, 278, 304, 320,\n",
      "         334, 352, 388, 419,   0,   0,   0,   0],\n",
      "        [  0,  20,  34,  66,  84,  98, 119, 156, 204, 235, 252, 272, 302, 317,\n",
      "         336, 369, 391, 418, 454, 478, 495, 509],\n",
      "        [  0,  20,  54,  75,  93, 128, 174, 194, 213,   0,   0,   0,   0,   0,\n",
      "           0,   0,   0,   0,   0,   0,   0,   0]])\n",
      "batch.mask:  tensor([[True, True, True,  ..., True, True, True],\n",
      "        [True, True, True,  ..., True, True, True],\n",
      "        [True, True, True,  ..., True, True, True],\n",
      "        [True, True, True,  ..., True, True, True],\n",
      "        [True, True, True,  ..., True, True, True]])\n",
      "batch.mask_cls:  tensor([[ True,  True,  True,  True,  True,  True,  True,  True,  True,  True,\n",
      "          True,  True,  True,  True,  True, False, False, False, False, False,\n",
      "         False, False],\n",
      "        [ True,  True,  True,  True,  True,  True,  True,  True,  True,  True,\n",
      "          True,  True,  True, False, False, False, False, False, False, False,\n",
      "         False, False],\n",
      "        [ True,  True,  True,  True,  True,  True,  True,  True,  True,  True,\n",
      "          True,  True,  True,  True,  True,  True,  True,  True, False, False,\n",
      "         False, False],\n",
      "        [ True,  True,  True,  True,  True,  True,  True,  True,  True,  True,\n",
      "          True,  True,  True,  True,  True,  True,  True,  True,  True,  True,\n",
      "          True,  True],\n",
      "        [ True,  True,  True,  True,  True,  True,  True,  True,  True, False,\n",
      "         False, False, False, False, False, False, False, False, False, False,\n",
      "         False, False]])\n"
     ]
    },
    {
     "name": "stderr",
     "output_type": "stream",
     "text": [
      "\r",
      "Iteration:   0%|          | 25/17100 [02:15<25:52:59,  5.46s/it]"
     ]
    },
    {
     "name": "stdout",
     "output_type": "stream",
     "text": [
      "step:  25\n",
      "batch:  <utils_nlp.models.transformers.bertsum.data_loader.Batch object at 0x7f8535a45390>\n",
      "batch.segs:  tensor([[0, 0, 0,  ..., 1, 1, 1],\n",
      "        [0, 0, 0,  ..., 0, 0, 0],\n",
      "        [0, 0, 0,  ..., 0, 0, 0],\n",
      "        [0, 0, 0,  ..., 0, 1, 1],\n",
      "        [0, 0, 0,  ..., 0, 1, 1]])\n",
      "batch.clss:  tensor([[  0,  15,  34,  89, 109, 135, 165, 195, 236, 271, 284, 315, 343, 353,\n",
      "         361, 389, 400, 411, 460, 494],\n",
      "        [  0,  27,  41,  62,  87, 111, 141, 181, 200, 223, 264, 285, 338, 350,\n",
      "         378, 405, 434, 474, 497,   0],\n",
      "        [  0,  32,  75,  87, 119, 138, 158, 202, 244, 276, 353, 367, 385, 408,\n",
      "         423, 459, 486,   0,   0,   0],\n",
      "        [  0,  48,  99, 139, 164, 204, 245, 263, 285, 305, 334, 354, 414, 452,\n",
      "         483, 510,   0,   0,   0,   0],\n",
      "        [  0,   9,  27,  41,  64,  90, 123, 141, 177, 206, 246, 272, 321, 330,\n",
      "         357, 430, 473, 510,   0,   0]])\n",
      "batch.mask:  tensor([[True, True, True,  ..., True, True, True],\n",
      "        [True, True, True,  ..., True, True, True],\n",
      "        [True, True, True,  ..., True, True, True],\n",
      "        [True, True, True,  ..., True, True, True],\n",
      "        [True, True, True,  ..., True, True, True]])\n",
      "batch.mask_cls:  tensor([[ True,  True,  True,  True,  True,  True,  True,  True,  True,  True,\n",
      "          True,  True,  True,  True,  True,  True,  True,  True,  True,  True],\n",
      "        [ True,  True,  True,  True,  True,  True,  True,  True,  True,  True,\n",
      "          True,  True,  True,  True,  True,  True,  True,  True,  True, False],\n",
      "        [ True,  True,  True,  True,  True,  True,  True,  True,  True,  True,\n",
      "          True,  True,  True,  True,  True,  True,  True, False, False, False],\n",
      "        [ True,  True,  True,  True,  True,  True,  True,  True,  True,  True,\n",
      "          True,  True,  True,  True,  True,  True, False, False, False, False],\n",
      "        [ True,  True,  True,  True,  True,  True,  True,  True,  True,  True,\n",
      "          True,  True,  True,  True,  True,  True,  True,  True, False, False]])\n"
     ]
    },
    {
     "name": "stderr",
     "output_type": "stream",
     "text": [
      "\r",
      "Iteration:   0%|          | 26/17100 [02:21<25:54:38,  5.46s/it]"
     ]
    },
    {
     "name": "stdout",
     "output_type": "stream",
     "text": [
      "step:  26\n",
      "batch:  <utils_nlp.models.transformers.bertsum.data_loader.Batch object at 0x7f8535c468d0>\n",
      "batch.segs:  tensor([[0, 0, 0,  ..., 1, 1, 1],\n",
      "        [0, 0, 0,  ..., 0, 0, 0],\n",
      "        [0, 0, 0,  ..., 1, 1, 1],\n",
      "        [0, 0, 0,  ..., 0, 0, 0],\n",
      "        [0, 0, 0,  ..., 1, 1, 1]])\n",
      "batch.clss:  tensor([[  0,  26,  53, 103, 120, 149, 163, 182, 200, 216, 225, 237, 268, 295,\n",
      "         317, 334, 367, 392,   0,   0,   0],\n",
      "        [  0,  22,  71, 109, 134, 151, 169, 190, 280, 308, 332, 354, 370, 387,\n",
      "         418, 442, 463,   0,   0,   0,   0],\n",
      "        [  0,  54,  90, 121, 174, 199, 231, 268, 309, 333,   0,   0,   0,   0,\n",
      "           0,   0,   0,   0,   0,   0,   0],\n",
      "        [  0,  38,  78,  89, 119, 141, 163, 177, 187, 220, 235, 255, 299, 319,\n",
      "         341, 358, 377, 401, 413, 443, 494],\n",
      "        [  0,  39,  65,  82, 103, 138, 162, 195, 245, 286, 303, 357, 371, 407,\n",
      "         423, 445, 472, 489,   0,   0,   0]])\n",
      "batch.mask:  tensor([[True, True, True,  ..., True, True, True],\n",
      "        [True, True, True,  ..., True, True, True],\n",
      "        [True, True, True,  ..., True, True, True],\n",
      "        [True, True, True,  ..., True, True, True],\n",
      "        [True, True, True,  ..., True, True, True]])\n",
      "batch.mask_cls:  tensor([[ True,  True,  True,  True,  True,  True,  True,  True,  True,  True,\n",
      "          True,  True,  True,  True,  True,  True,  True,  True, False, False,\n",
      "         False],\n",
      "        [ True,  True,  True,  True,  True,  True,  True,  True,  True,  True,\n",
      "          True,  True,  True,  True,  True,  True,  True, False, False, False,\n",
      "         False],\n",
      "        [ True,  True,  True,  True,  True,  True,  True,  True,  True,  True,\n",
      "         False, False, False, False, False, False, False, False, False, False,\n",
      "         False],\n",
      "        [ True,  True,  True,  True,  True,  True,  True,  True,  True,  True,\n",
      "          True,  True,  True,  True,  True,  True,  True,  True,  True,  True,\n",
      "          True],\n",
      "        [ True,  True,  True,  True,  True,  True,  True,  True,  True,  True,\n",
      "          True,  True,  True,  True,  True,  True,  True,  True, False, False,\n",
      "         False]])\n"
     ]
    },
    {
     "name": "stderr",
     "output_type": "stream",
     "text": [
      "\r",
      "Iteration:   0%|          | 27/17100 [02:26<25:27:36,  5.37s/it]"
     ]
    },
    {
     "name": "stdout",
     "output_type": "stream",
     "text": [
      "step:  27\n",
      "batch:  <utils_nlp.models.transformers.bertsum.data_loader.Batch object at 0x7f8535c46588>\n",
      "batch.segs:  tensor([[0, 0, 0,  ..., 0, 0, 0],\n",
      "        [0, 0, 0,  ..., 1, 1, 1],\n",
      "        [0, 0, 0,  ..., 0, 0, 0],\n",
      "        [0, 0, 0,  ..., 0, 0, 0],\n",
      "        [0, 0, 0,  ..., 0, 1, 1]])\n",
      "batch.clss:  tensor([[  0,  34,  72,  89, 101, 121, 142, 240, 261, 271, 304, 360, 369, 415,\n",
      "         453, 491, 503,   0,   0,   0,   0,   0,   0],\n",
      "        [  0,  19,  40,  59,  70,  87, 136, 162, 176, 193, 205, 224, 242, 275,\n",
      "         289, 304, 318, 336, 364, 384, 400, 420,   0],\n",
      "        [  0,  25,  61,  92, 116, 144, 187, 223, 255, 273, 310, 327, 356, 376,\n",
      "         399, 440, 485,   0,   0,   0,   0,   0,   0],\n",
      "        [  0,  31,  61,  81, 119, 139, 148, 204, 234, 251, 276, 285, 306, 330,\n",
      "         341, 354, 366, 403, 412, 423, 442, 471, 499],\n",
      "        [  0,  37,  75,  93, 154, 170, 229, 258, 289, 351, 392, 436, 474, 510,\n",
      "           0,   0,   0,   0,   0,   0,   0,   0,   0]])\n",
      "batch.mask:  tensor([[True, True, True,  ..., True, True, True],\n",
      "        [True, True, True,  ..., True, True, True],\n",
      "        [True, True, True,  ..., True, True, True],\n",
      "        [True, True, True,  ..., True, True, True],\n",
      "        [True, True, True,  ..., True, True, True]])\n",
      "batch.mask_cls:  tensor([[ True,  True,  True,  True,  True,  True,  True,  True,  True,  True,\n",
      "          True,  True,  True,  True,  True,  True,  True, False, False, False,\n",
      "         False, False, False],\n",
      "        [ True,  True,  True,  True,  True,  True,  True,  True,  True,  True,\n",
      "          True,  True,  True,  True,  True,  True,  True,  True,  True,  True,\n",
      "          True,  True, False],\n",
      "        [ True,  True,  True,  True,  True,  True,  True,  True,  True,  True,\n",
      "          True,  True,  True,  True,  True,  True,  True, False, False, False,\n",
      "         False, False, False],\n",
      "        [ True,  True,  True,  True,  True,  True,  True,  True,  True,  True,\n",
      "          True,  True,  True,  True,  True,  True,  True,  True,  True,  True,\n",
      "          True,  True,  True],\n",
      "        [ True,  True,  True,  True,  True,  True,  True,  True,  True,  True,\n",
      "          True,  True,  True,  True, False, False, False, False, False, False,\n",
      "         False, False, False]])\n"
     ]
    },
    {
     "name": "stderr",
     "output_type": "stream",
     "text": [
      "\r",
      "Iteration:   0%|          | 28/17100 [02:31<25:34:56,  5.39s/it]"
     ]
    },
    {
     "name": "stdout",
     "output_type": "stream",
     "text": [
      "step:  28\n",
      "batch:  <utils_nlp.models.transformers.bertsum.data_loader.Batch object at 0x7f8535a45400>\n",
      "batch.segs:  tensor([[0, 0, 0,  ..., 1, 1, 1],\n",
      "        [0, 0, 0,  ..., 1, 1, 1],\n",
      "        [0, 0, 0,  ..., 0, 0, 0],\n",
      "        [0, 0, 0,  ..., 0, 0, 0],\n",
      "        [0, 0, 0,  ..., 0, 0, 0]])\n",
      "batch.clss:  tensor([[  0,  41, 114, 189, 213, 242, 266, 300, 343, 393, 433, 453, 466, 476,\n",
      "           0,   0,   0],\n",
      "        [  0,  44,  57, 108, 132, 167, 175, 205, 263, 323, 389, 449, 481, 497,\n",
      "           0,   0,   0],\n",
      "        [  0,  20,  67,  94, 113, 150, 177, 191, 212, 249, 279, 307, 357, 396,\n",
      "         414, 470, 493],\n",
      "        [  0,  21,  54,  86, 104, 148, 196, 221, 254, 293, 318, 353, 382, 400,\n",
      "         437, 472, 493],\n",
      "        [  0,  43,  64, 106, 153, 171, 214, 243, 265, 305, 348, 373, 408, 475,\n",
      "         493,   0,   0]])\n",
      "batch.mask:  tensor([[True, True, True,  ..., True, True, True],\n",
      "        [True, True, True,  ..., True, True, True],\n",
      "        [True, True, True,  ..., True, True, True],\n",
      "        [True, True, True,  ..., True, True, True],\n",
      "        [True, True, True,  ..., True, True, True]])\n",
      "batch.mask_cls:  tensor([[ True,  True,  True,  True,  True,  True,  True,  True,  True,  True,\n",
      "          True,  True,  True,  True, False, False, False],\n",
      "        [ True,  True,  True,  True,  True,  True,  True,  True,  True,  True,\n",
      "          True,  True,  True,  True, False, False, False],\n",
      "        [ True,  True,  True,  True,  True,  True,  True,  True,  True,  True,\n",
      "          True,  True,  True,  True,  True,  True,  True],\n",
      "        [ True,  True,  True,  True,  True,  True,  True,  True,  True,  True,\n",
      "          True,  True,  True,  True,  True,  True,  True],\n",
      "        [ True,  True,  True,  True,  True,  True,  True,  True,  True,  True,\n",
      "          True,  True,  True,  True,  True, False, False]])\n"
     ]
    },
    {
     "name": "stderr",
     "output_type": "stream",
     "text": [
      "\r",
      "Iteration:   0%|          | 29/17100 [02:37<25:13:41,  5.32s/it]"
     ]
    },
    {
     "name": "stdout",
     "output_type": "stream",
     "text": [
      "step:  29\n",
      "batch:  <utils_nlp.models.transformers.bertsum.data_loader.Batch object at 0x7f8535a45438>\n",
      "batch.segs:  tensor([[0, 0, 0,  ..., 0, 0, 0],\n",
      "        [0, 0, 0,  ..., 0, 0, 0],\n",
      "        [0, 0, 0,  ..., 1, 1, 1],\n",
      "        [0, 0, 0,  ..., 1, 1, 1],\n",
      "        [0, 0, 0,  ..., 1, 1, 1]])\n",
      "batch.clss:  tensor([[  0,  33,  71, 146, 188, 235, 282, 329, 383, 433, 468,   0,   0,   0,\n",
      "           0,   0,   0,   0],\n",
      "        [  0,  66,  86, 142, 161, 187, 223, 318, 349, 384, 433, 478, 496,   0,\n",
      "           0,   0,   0,   0],\n",
      "        [  0,  13,  81, 159, 229, 248, 265, 280, 303, 330, 347, 363, 406, 427,\n",
      "         455, 475,   0,   0],\n",
      "        [  0,  19,  39,  66,  76,  90, 106, 117, 140, 156, 169, 194,   0,   0,\n",
      "           0,   0,   0,   0],\n",
      "        [  0,  17,  46,  90, 128, 146, 160, 182, 224, 245, 260, 308, 345, 363,\n",
      "         390, 420, 493, 509]])\n",
      "batch.mask:  tensor([[True, True, True,  ..., True, True, True],\n",
      "        [True, True, True,  ..., True, True, True],\n",
      "        [True, True, True,  ..., True, True, True],\n",
      "        [True, True, True,  ..., True, True, True],\n",
      "        [True, True, True,  ..., True, True, True]])\n",
      "batch.mask_cls:  tensor([[ True,  True,  True,  True,  True,  True,  True,  True,  True,  True,\n",
      "          True, False, False, False, False, False, False, False],\n",
      "        [ True,  True,  True,  True,  True,  True,  True,  True,  True,  True,\n",
      "          True,  True,  True, False, False, False, False, False],\n",
      "        [ True,  True,  True,  True,  True,  True,  True,  True,  True,  True,\n",
      "          True,  True,  True,  True,  True,  True, False, False],\n",
      "        [ True,  True,  True,  True,  True,  True,  True,  True,  True,  True,\n",
      "          True,  True, False, False, False, False, False, False],\n",
      "        [ True,  True,  True,  True,  True,  True,  True,  True,  True,  True,\n",
      "          True,  True,  True,  True,  True,  True,  True,  True]])\n"
     ]
    },
    {
     "name": "stderr",
     "output_type": "stream",
     "text": [
      "\r",
      "Iteration:   0%|          | 30/17100 [02:42<25:26:33,  5.37s/it]"
     ]
    },
    {
     "name": "stdout",
     "output_type": "stream",
     "text": [
      "step:  30\n",
      "batch:  <utils_nlp.models.transformers.bertsum.data_loader.Batch object at 0x7f8535be4b38>\n",
      "batch.segs:  tensor([[0, 0, 0,  ..., 0, 0, 0],\n",
      "        [0, 0, 0,  ..., 1, 1, 1],\n",
      "        [0, 0, 0,  ..., 0, 0, 0],\n",
      "        [0, 0, 0,  ..., 1, 1, 1],\n",
      "        [0, 0, 0,  ..., 1, 1, 1]])\n",
      "batch.clss:  tensor([[  0,  13,  27,  41,  58,  72,  92, 103, 117, 139, 161, 178, 197, 209,\n",
      "         217, 246, 270, 283, 306, 318, 333, 362, 380, 402, 418, 436, 449],\n",
      "        [  0,  19,  40,  73,  96, 119, 143, 155, 185, 217, 246, 280, 316, 341,\n",
      "         353, 404, 418, 439, 471, 486,   0,   0,   0,   0,   0,   0,   0],\n",
      "        [  0,  36,  68,  99, 118, 144, 162, 236, 272, 290, 323, 353, 382, 420,\n",
      "         434, 459, 484,   0,   0,   0,   0,   0,   0,   0,   0,   0,   0],\n",
      "        [  0,  22,  36,  51,  90, 119, 152, 198, 229, 268,   0,   0,   0,   0,\n",
      "           0,   0,   0,   0,   0,   0,   0,   0,   0,   0,   0,   0,   0],\n",
      "        [  0,  53,  88, 125, 160, 188, 238, 270, 325, 369, 414, 462,   0,   0,\n",
      "           0,   0,   0,   0,   0,   0,   0,   0,   0,   0,   0,   0,   0]])\n",
      "batch.mask:  tensor([[True, True, True,  ..., True, True, True],\n",
      "        [True, True, True,  ..., True, True, True],\n",
      "        [True, True, True,  ..., True, True, True],\n",
      "        [True, True, True,  ..., True, True, True],\n",
      "        [True, True, True,  ..., True, True, True]])\n",
      "batch.mask_cls:  tensor([[ True,  True,  True,  True,  True,  True,  True,  True,  True,  True,\n",
      "          True,  True,  True,  True,  True,  True,  True,  True,  True,  True,\n",
      "          True,  True,  True,  True,  True,  True,  True],\n",
      "        [ True,  True,  True,  True,  True,  True,  True,  True,  True,  True,\n",
      "          True,  True,  True,  True,  True,  True,  True,  True,  True,  True,\n",
      "         False, False, False, False, False, False, False],\n",
      "        [ True,  True,  True,  True,  True,  True,  True,  True,  True,  True,\n",
      "          True,  True,  True,  True,  True,  True,  True, False, False, False,\n",
      "         False, False, False, False, False, False, False],\n",
      "        [ True,  True,  True,  True,  True,  True,  True,  True,  True,  True,\n",
      "         False, False, False, False, False, False, False, False, False, False,\n",
      "         False, False, False, False, False, False, False],\n",
      "        [ True,  True,  True,  True,  True,  True,  True,  True,  True,  True,\n",
      "          True,  True, False, False, False, False, False, False, False, False,\n",
      "         False, False, False, False, False, False, False]])\n"
     ]
    },
    {
     "name": "stderr",
     "output_type": "stream",
     "text": [
      "\r",
      "Iteration:   0%|          | 31/17100 [02:47<25:04:46,  5.29s/it]"
     ]
    },
    {
     "name": "stdout",
     "output_type": "stream",
     "text": [
      "step:  31\n",
      "batch:  <utils_nlp.models.transformers.bertsum.data_loader.Batch object at 0x7f8535c62da0>\n",
      "batch.segs:  tensor([[0, 0, 0,  ..., 0, 0, 0],\n",
      "        [0, 0, 0,  ..., 1, 1, 1],\n",
      "        [0, 0, 0,  ..., 0, 0, 0],\n",
      "        [0, 0, 0,  ..., 1, 1, 1],\n",
      "        [0, 0, 0,  ..., 1, 1, 1]])\n",
      "batch.clss:  tensor([[  0,  21,  67, 107, 118, 144, 175, 194, 207, 238, 255, 264, 303, 335,\n",
      "         388, 450, 478, 487, 498],\n",
      "        [  0,  31,  71, 101, 118, 174, 203, 227, 273, 293, 314, 331, 366, 392,\n",
      "         436, 452, 483, 501,   0],\n",
      "        [  0,  17,  98, 145, 165, 210, 264, 298, 330, 369, 388, 457, 496,   0,\n",
      "           0,   0,   0,   0,   0],\n",
      "        [  0,  38,  77, 116, 140, 169, 181, 204, 220, 234, 247, 281, 316, 329,\n",
      "         354, 381, 451, 501,   0],\n",
      "        [  0,  67,  92, 123, 143, 164, 193, 214, 252, 317, 335, 378, 411, 438,\n",
      "         468, 507,   0,   0,   0]])\n",
      "batch.mask:  tensor([[True, True, True,  ..., True, True, True],\n",
      "        [True, True, True,  ..., True, True, True],\n",
      "        [True, True, True,  ..., True, True, True],\n",
      "        [True, True, True,  ..., True, True, True],\n",
      "        [True, True, True,  ..., True, True, True]])\n",
      "batch.mask_cls:  tensor([[ True,  True,  True,  True,  True,  True,  True,  True,  True,  True,\n",
      "          True,  True,  True,  True,  True,  True,  True,  True,  True],\n",
      "        [ True,  True,  True,  True,  True,  True,  True,  True,  True,  True,\n",
      "          True,  True,  True,  True,  True,  True,  True,  True, False],\n",
      "        [ True,  True,  True,  True,  True,  True,  True,  True,  True,  True,\n",
      "          True,  True,  True, False, False, False, False, False, False],\n",
      "        [ True,  True,  True,  True,  True,  True,  True,  True,  True,  True,\n",
      "          True,  True,  True,  True,  True,  True,  True,  True, False],\n",
      "        [ True,  True,  True,  True,  True,  True,  True,  True,  True,  True,\n",
      "          True,  True,  True,  True,  True,  True, False, False, False]])\n"
     ]
    },
    {
     "name": "stderr",
     "output_type": "stream",
     "text": [
      "\r",
      "Iteration:   0%|          | 32/17100 [02:53<25:17:57,  5.34s/it]"
     ]
    },
    {
     "name": "stdout",
     "output_type": "stream",
     "text": [
      "step:  32\n",
      "batch:  <utils_nlp.models.transformers.bertsum.data_loader.Batch object at 0x7f8535c465f8>\n",
      "batch.segs:  tensor([[0, 0, 0,  ..., 1, 1, 1],\n",
      "        [0, 0, 0,  ..., 0, 0, 0],\n",
      "        [0, 0, 0,  ..., 0, 0, 0],\n",
      "        [0, 0, 0,  ..., 0, 0, 0],\n",
      "        [0, 0, 0,  ..., 0, 0, 0]])\n",
      "batch.clss:  tensor([[  0,  61, 104, 115, 164, 198, 216, 233, 274, 318, 331, 365, 397, 420,\n",
      "         456, 494,   0,   0,   0],\n",
      "        [  0,  49,  65, 107, 121, 143, 163, 196, 217, 253, 293, 315, 333, 347,\n",
      "         382, 414, 433, 463, 485],\n",
      "        [  0,  46,  81, 118, 129, 160, 193, 213, 266, 363, 397, 436, 464,   0,\n",
      "           0,   0,   0,   0,   0],\n",
      "        [  0,  16,  39,  53,  86, 114, 153, 166, 209, 227, 238, 269, 291, 309,\n",
      "         340,   0,   0,   0,   0],\n",
      "        [  0,   9,  20,  42, 106, 143, 162, 180, 231, 260, 312, 340, 374, 417,\n",
      "         473,   0,   0,   0,   0]])\n",
      "batch.mask:  tensor([[True, True, True,  ..., True, True, True],\n",
      "        [True, True, True,  ..., True, True, True],\n",
      "        [True, True, True,  ..., True, True, True],\n",
      "        [True, True, True,  ..., True, True, True],\n",
      "        [True, True, True,  ..., True, True, True]])\n",
      "batch.mask_cls:  tensor([[ True,  True,  True,  True,  True,  True,  True,  True,  True,  True,\n",
      "          True,  True,  True,  True,  True,  True, False, False, False],\n",
      "        [ True,  True,  True,  True,  True,  True,  True,  True,  True,  True,\n",
      "          True,  True,  True,  True,  True,  True,  True,  True,  True],\n",
      "        [ True,  True,  True,  True,  True,  True,  True,  True,  True,  True,\n",
      "          True,  True,  True, False, False, False, False, False, False],\n",
      "        [ True,  True,  True,  True,  True,  True,  True,  True,  True,  True,\n",
      "          True,  True,  True,  True,  True, False, False, False, False],\n",
      "        [ True,  True,  True,  True,  True,  True,  True,  True,  True,  True,\n",
      "          True,  True,  True,  True,  True, False, False, False, False]])\n"
     ]
    },
    {
     "name": "stderr",
     "output_type": "stream",
     "text": [
      "\r",
      "Iteration:   0%|          | 33/17100 [02:58<25:02:15,  5.28s/it]"
     ]
    },
    {
     "name": "stdout",
     "output_type": "stream",
     "text": [
      "step:  33\n",
      "batch:  <utils_nlp.models.transformers.bertsum.data_loader.Batch object at 0x7f8535cd9eb8>\n",
      "batch.segs:  tensor([[0, 0, 0,  ..., 1, 1, 1],\n",
      "        [0, 0, 0,  ..., 1, 1, 1],\n",
      "        [0, 0, 0,  ..., 1, 1, 1],\n",
      "        [0, 0, 0,  ..., 1, 1, 1],\n",
      "        [0, 0, 0,  ..., 1, 1, 1]])\n",
      "batch.clss:  tensor([[  0,  17, 138, 169, 193, 227, 263, 278, 293, 337, 356, 407, 466, 497,\n",
      "           0,   0,   0,   0,   0,   0,   0,   0],\n",
      "        [  0,  53,  83, 108, 141, 182, 195, 220, 259, 318, 340, 355, 382, 439,\n",
      "         473, 490,   0,   0,   0,   0,   0,   0],\n",
      "        [  0,  17,  38,  54,  79,  98, 114, 129, 147, 189, 210, 263, 277, 300,\n",
      "         339, 373,   0,   0,   0,   0,   0,   0],\n",
      "        [  0,  19,  61,  80,  93, 127, 160, 189, 219, 242, 291, 312, 331, 360,\n",
      "         380, 393, 411, 444, 470, 508,   0,   0],\n",
      "        [  0,  30,  78,  96, 112, 150, 176, 208, 223, 248, 261, 298, 330, 359,\n",
      "         386, 401, 409, 424, 443, 463, 483, 495]])\n",
      "batch.mask:  tensor([[True, True, True,  ..., True, True, True],\n",
      "        [True, True, True,  ..., True, True, True],\n",
      "        [True, True, True,  ..., True, True, True],\n",
      "        [True, True, True,  ..., True, True, True],\n",
      "        [True, True, True,  ..., True, True, True]])\n",
      "batch.mask_cls:  tensor([[ True,  True,  True,  True,  True,  True,  True,  True,  True,  True,\n",
      "          True,  True,  True,  True, False, False, False, False, False, False,\n",
      "         False, False],\n",
      "        [ True,  True,  True,  True,  True,  True,  True,  True,  True,  True,\n",
      "          True,  True,  True,  True,  True,  True, False, False, False, False,\n",
      "         False, False],\n",
      "        [ True,  True,  True,  True,  True,  True,  True,  True,  True,  True,\n",
      "          True,  True,  True,  True,  True,  True, False, False, False, False,\n",
      "         False, False],\n",
      "        [ True,  True,  True,  True,  True,  True,  True,  True,  True,  True,\n",
      "          True,  True,  True,  True,  True,  True,  True,  True,  True,  True,\n",
      "         False, False],\n",
      "        [ True,  True,  True,  True,  True,  True,  True,  True,  True,  True,\n",
      "          True,  True,  True,  True,  True,  True,  True,  True,  True,  True,\n",
      "          True,  True]])\n"
     ]
    },
    {
     "name": "stderr",
     "output_type": "stream",
     "text": [
      "\r",
      "Iteration:   0%|          | 34/17100 [03:03<25:17:16,  5.33s/it]"
     ]
    },
    {
     "name": "stdout",
     "output_type": "stream",
     "text": [
      "step:  34\n",
      "batch:  <utils_nlp.models.transformers.bertsum.data_loader.Batch object at 0x7f8535c46e80>\n",
      "batch.segs:  tensor([[0, 0, 0,  ..., 0, 0, 0],\n",
      "        [0, 0, 0,  ..., 1, 1, 1],\n",
      "        [0, 0, 0,  ..., 0, 0, 0],\n",
      "        [0, 0, 0,  ..., 1, 1, 1],\n",
      "        [0, 0, 0,  ..., 0, 0, 0]])\n",
      "batch.clss:  tensor([[  0,  43,  70,  83, 118, 130, 149, 175, 196, 250, 301, 360, 391, 420,\n",
      "         456, 471, 489,   0],\n",
      "        [  0,  34,  86, 121, 151, 193, 225, 261, 277, 301, 315, 344, 367, 434,\n",
      "         453, 478,   0,   0],\n",
      "        [  0,  30,  43,  80, 104, 130, 156, 170, 198, 212, 234, 245, 276, 322,\n",
      "         353, 370, 396,   0],\n",
      "        [  0,  60,  74, 108, 129, 163, 215, 241, 274, 308, 329, 343, 359, 380,\n",
      "         425, 450, 472, 488],\n",
      "        [  0,  36,  85,  97, 126, 163, 201, 249, 274,   0,   0,   0,   0,   0,\n",
      "           0,   0,   0,   0]])\n",
      "batch.mask:  tensor([[True, True, True,  ..., True, True, True],\n",
      "        [True, True, True,  ..., True, True, True],\n",
      "        [True, True, True,  ..., True, True, True],\n",
      "        [True, True, True,  ..., True, True, True],\n",
      "        [True, True, True,  ..., True, True, True]])\n",
      "batch.mask_cls:  tensor([[ True,  True,  True,  True,  True,  True,  True,  True,  True,  True,\n",
      "          True,  True,  True,  True,  True,  True,  True, False],\n",
      "        [ True,  True,  True,  True,  True,  True,  True,  True,  True,  True,\n",
      "          True,  True,  True,  True,  True,  True, False, False],\n",
      "        [ True,  True,  True,  True,  True,  True,  True,  True,  True,  True,\n",
      "          True,  True,  True,  True,  True,  True,  True, False],\n",
      "        [ True,  True,  True,  True,  True,  True,  True,  True,  True,  True,\n",
      "          True,  True,  True,  True,  True,  True,  True,  True],\n",
      "        [ True,  True,  True,  True,  True,  True,  True,  True,  True, False,\n",
      "         False, False, False, False, False, False, False, False]])\n"
     ]
    },
    {
     "name": "stderr",
     "output_type": "stream",
     "text": [
      "\r",
      "Iteration:   0%|          | 35/17100 [03:08<24:59:08,  5.27s/it]"
     ]
    },
    {
     "name": "stdout",
     "output_type": "stream",
     "text": [
      "step:  35\n",
      "batch:  <utils_nlp.models.transformers.bertsum.data_loader.Batch object at 0x7f8535bf4358>\n",
      "batch.segs:  tensor([[0, 0, 0,  ..., 1, 1, 1],\n",
      "        [0, 0, 0,  ..., 0, 0, 0],\n",
      "        [0, 0, 0,  ..., 1, 1, 1],\n",
      "        [0, 0, 0,  ..., 0, 0, 0],\n",
      "        [0, 0, 0,  ..., 1, 1, 1]])\n",
      "batch.clss:  tensor([[  0,  26,  55,  72, 107, 132, 153, 187, 231, 262, 284, 314, 338, 367,\n",
      "         403, 425, 450, 473,   0,   0,   0,   0,   0,   0,   0,   0,   0,   0],\n",
      "        [  0,  30,  52,  61,  98, 128, 172, 196, 241, 266, 298,   0,   0,   0,\n",
      "           0,   0,   0,   0,   0,   0,   0,   0,   0,   0,   0,   0,   0,   0],\n",
      "        [  0,  42,  68,  95, 127, 169, 227, 251, 284, 305, 339, 362, 398, 425,\n",
      "         450, 484,   0,   0,   0,   0,   0,   0,   0,   0,   0,   0,   0,   0],\n",
      "        [  0,  25,  54, 111, 190, 246, 301, 341, 406, 436, 472,   0,   0,   0,\n",
      "           0,   0,   0,   0,   0,   0,   0,   0,   0,   0,   0,   0,   0,   0],\n",
      "        [  0,  31,  44,  66,  83,  94, 103, 120, 131, 161, 195, 245, 266, 287,\n",
      "         295, 311, 327, 337, 350, 360, 379, 396, 407, 427, 453, 471, 484, 498]])\n",
      "batch.mask:  tensor([[True, True, True,  ..., True, True, True],\n",
      "        [True, True, True,  ..., True, True, True],\n",
      "        [True, True, True,  ..., True, True, True],\n",
      "        [True, True, True,  ..., True, True, True],\n",
      "        [True, True, True,  ..., True, True, True]])\n",
      "batch.mask_cls:  tensor([[ True,  True,  True,  True,  True,  True,  True,  True,  True,  True,\n",
      "          True,  True,  True,  True,  True,  True,  True,  True, False, False,\n",
      "         False, False, False, False, False, False, False, False],\n",
      "        [ True,  True,  True,  True,  True,  True,  True,  True,  True,  True,\n",
      "          True, False, False, False, False, False, False, False, False, False,\n",
      "         False, False, False, False, False, False, False, False],\n",
      "        [ True,  True,  True,  True,  True,  True,  True,  True,  True,  True,\n",
      "          True,  True,  True,  True,  True,  True, False, False, False, False,\n",
      "         False, False, False, False, False, False, False, False],\n",
      "        [ True,  True,  True,  True,  True,  True,  True,  True,  True,  True,\n",
      "          True, False, False, False, False, False, False, False, False, False,\n",
      "         False, False, False, False, False, False, False, False],\n",
      "        [ True,  True,  True,  True,  True,  True,  True,  True,  True,  True,\n",
      "          True,  True,  True,  True,  True,  True,  True,  True,  True,  True,\n",
      "          True,  True,  True,  True,  True,  True,  True,  True]])\n"
     ]
    },
    {
     "name": "stderr",
     "output_type": "stream",
     "text": [
      "\r",
      "Iteration:   0%|          | 36/17100 [03:14<25:29:10,  5.38s/it]"
     ]
    },
    {
     "name": "stdout",
     "output_type": "stream",
     "text": [
      "step:  36\n",
      "batch:  <utils_nlp.models.transformers.bertsum.data_loader.Batch object at 0x7f8535be46d8>\n",
      "batch.segs:  tensor([[0, 0, 0,  ..., 1, 1, 1],\n",
      "        [0, 0, 0,  ..., 0, 0, 0],\n",
      "        [0, 0, 0,  ..., 0, 0, 0],\n",
      "        [0, 0, 0,  ..., 0, 0, 0],\n",
      "        [0, 0, 0,  ..., 1, 1, 1]])\n",
      "batch.clss:  tensor([[  0,  24,  38,  52,  74, 103, 123, 143, 167, 197, 258, 289, 332, 372,\n",
      "         412, 438, 483, 495,   0,   0,   0,   0,   0,   0,   0,   0,   0,   0],\n",
      "        [  0,  28,  77, 100, 129, 157, 180, 236, 260, 288, 328, 366, 397, 429,\n",
      "         455,   0,   0,   0,   0,   0,   0,   0,   0,   0,   0,   0,   0,   0],\n",
      "        [  0,  40,  83, 120, 176, 207, 251, 270, 300, 342, 388, 432, 453, 482,\n",
      "         496,   0,   0,   0,   0,   0,   0,   0,   0,   0,   0,   0,   0,   0],\n",
      "        [  0,  22,  56,  83,  94, 108, 131, 157, 190, 209, 252, 269, 288, 297,\n",
      "         309, 325, 387, 402, 422, 451, 492,   0,   0,   0,   0,   0,   0,   0],\n",
      "        [  0,  18,  35,  51,  60,  69,  89, 106, 118, 136, 154, 164, 173, 198,\n",
      "         217, 227, 237, 265, 291, 339, 352, 386, 412, 424, 443, 465, 488, 505]])\n",
      "batch.mask:  tensor([[True, True, True,  ..., True, True, True],\n",
      "        [True, True, True,  ..., True, True, True],\n",
      "        [True, True, True,  ..., True, True, True],\n",
      "        [True, True, True,  ..., True, True, True],\n",
      "        [True, True, True,  ..., True, True, True]])\n",
      "batch.mask_cls:  tensor([[ True,  True,  True,  True,  True,  True,  True,  True,  True,  True,\n",
      "          True,  True,  True,  True,  True,  True,  True,  True, False, False,\n",
      "         False, False, False, False, False, False, False, False],\n",
      "        [ True,  True,  True,  True,  True,  True,  True,  True,  True,  True,\n",
      "          True,  True,  True,  True,  True, False, False, False, False, False,\n",
      "         False, False, False, False, False, False, False, False],\n",
      "        [ True,  True,  True,  True,  True,  True,  True,  True,  True,  True,\n",
      "          True,  True,  True,  True,  True, False, False, False, False, False,\n",
      "         False, False, False, False, False, False, False, False],\n",
      "        [ True,  True,  True,  True,  True,  True,  True,  True,  True,  True,\n",
      "          True,  True,  True,  True,  True,  True,  True,  True,  True,  True,\n",
      "          True, False, False, False, False, False, False, False],\n",
      "        [ True,  True,  True,  True,  True,  True,  True,  True,  True,  True,\n",
      "          True,  True,  True,  True,  True,  True,  True,  True,  True,  True,\n",
      "          True,  True,  True,  True,  True,  True,  True,  True]])\n"
     ]
    },
    {
     "name": "stderr",
     "output_type": "stream",
     "text": [
      "\r",
      "Iteration:   0%|          | 37/17100 [03:19<25:09:00,  5.31s/it]"
     ]
    },
    {
     "name": "stdout",
     "output_type": "stream",
     "text": [
      "step:  37\n",
      "batch:  <utils_nlp.models.transformers.bertsum.data_loader.Batch object at 0x7f8535c46940>\n",
      "batch.segs:  tensor([[0, 0, 0,  ..., 1, 1, 1],\n",
      "        [0, 0, 0,  ..., 0, 0, 0],\n",
      "        [0, 0, 0,  ..., 0, 0, 0],\n",
      "        [0, 0, 0,  ..., 1, 1, 1],\n",
      "        [0, 0, 0,  ..., 1, 1, 1]])\n",
      "batch.clss:  tensor([[  0,  20,  50,  74, 119, 172, 193, 247, 278, 324, 359, 374, 388, 415,\n",
      "         457, 500,   0,   0,   0,   0],\n",
      "        [  0,  37,  61, 124, 172, 254, 308, 336, 384, 462, 489,   0,   0,   0,\n",
      "           0,   0,   0,   0,   0,   0],\n",
      "        [  0,  10,  22,  49,  81,  93, 119, 145, 179, 194, 217, 244, 264,   0,\n",
      "           0,   0,   0,   0,   0,   0],\n",
      "        [  0,  31,  65,  82,  97, 126, 158, 182, 211, 244, 265, 282, 296, 322,\n",
      "         346, 403, 421, 437, 483, 501],\n",
      "        [  0,  16,  36,  48,  68,  87, 111, 126, 149, 166, 206, 215, 226, 244,\n",
      "         258, 287, 306, 330,   0,   0]])\n",
      "batch.mask:  tensor([[True, True, True,  ..., True, True, True],\n",
      "        [True, True, True,  ..., True, True, True],\n",
      "        [True, True, True,  ..., True, True, True],\n",
      "        [True, True, True,  ..., True, True, True],\n",
      "        [True, True, True,  ..., True, True, True]])\n",
      "batch.mask_cls:  tensor([[ True,  True,  True,  True,  True,  True,  True,  True,  True,  True,\n",
      "          True,  True,  True,  True,  True,  True, False, False, False, False],\n",
      "        [ True,  True,  True,  True,  True,  True,  True,  True,  True,  True,\n",
      "          True, False, False, False, False, False, False, False, False, False],\n",
      "        [ True,  True,  True,  True,  True,  True,  True,  True,  True,  True,\n",
      "          True,  True,  True, False, False, False, False, False, False, False],\n",
      "        [ True,  True,  True,  True,  True,  True,  True,  True,  True,  True,\n",
      "          True,  True,  True,  True,  True,  True,  True,  True,  True,  True],\n",
      "        [ True,  True,  True,  True,  True,  True,  True,  True,  True,  True,\n",
      "          True,  True,  True,  True,  True,  True,  True,  True, False, False]])\n"
     ]
    },
    {
     "name": "stderr",
     "output_type": "stream",
     "text": [
      "\r",
      "Iteration:   0%|          | 38/17100 [03:25<25:22:13,  5.35s/it]"
     ]
    },
    {
     "name": "stdout",
     "output_type": "stream",
     "text": [
      "step:  38\n",
      "batch:  <utils_nlp.models.transformers.bertsum.data_loader.Batch object at 0x7f8535ccc4e0>\n",
      "batch.segs:  tensor([[0, 0, 0,  ..., 1, 1, 1],\n",
      "        [0, 0, 0,  ..., 1, 1, 1],\n",
      "        [0, 0, 0,  ..., 1, 1, 1],\n",
      "        [0, 0, 0,  ..., 0, 0, 0],\n",
      "        [0, 0, 0,  ..., 0, 0, 0]])\n",
      "batch.clss:  tensor([[  0,  20,  46,  70,  98, 128, 151, 165, 222, 245, 269, 296, 327, 369,\n",
      "         383, 441],\n",
      "        [  0,  48,  59,  76, 100, 120, 132, 158, 175, 203, 225, 268, 291, 314,\n",
      "         331, 345],\n",
      "        [  0,  39,  78,  97, 114, 136, 159, 181, 196, 232, 268, 290, 304, 353,\n",
      "           0,   0],\n",
      "        [  0,  44,  98, 119, 149, 203, 257, 320, 353, 398, 436, 454, 469,   0,\n",
      "           0,   0],\n",
      "        [  0,  65,  83, 117, 154, 168, 197, 232, 255, 266, 280, 310, 334,   0,\n",
      "           0,   0]])\n",
      "batch.mask:  tensor([[True, True, True,  ..., True, True, True],\n",
      "        [True, True, True,  ..., True, True, True],\n",
      "        [True, True, True,  ..., True, True, True],\n",
      "        [True, True, True,  ..., True, True, True],\n",
      "        [True, True, True,  ..., True, True, True]])\n",
      "batch.mask_cls:  tensor([[ True,  True,  True,  True,  True,  True,  True,  True,  True,  True,\n",
      "          True,  True,  True,  True,  True,  True],\n",
      "        [ True,  True,  True,  True,  True,  True,  True,  True,  True,  True,\n",
      "          True,  True,  True,  True,  True,  True],\n",
      "        [ True,  True,  True,  True,  True,  True,  True,  True,  True,  True,\n",
      "          True,  True,  True,  True, False, False],\n",
      "        [ True,  True,  True,  True,  True,  True,  True,  True,  True,  True,\n",
      "          True,  True,  True, False, False, False],\n",
      "        [ True,  True,  True,  True,  True,  True,  True,  True,  True,  True,\n",
      "          True,  True,  True, False, False, False]])\n"
     ]
    },
    {
     "name": "stderr",
     "output_type": "stream",
     "text": [
      "\r",
      "Iteration:   0%|          | 39/17100 [03:30<24:58:40,  5.27s/it]"
     ]
    },
    {
     "name": "stdout",
     "output_type": "stream",
     "text": [
      "step:  39\n",
      "batch:  <utils_nlp.models.transformers.bertsum.data_loader.Batch object at 0x7f8535cd9550>\n",
      "batch.segs:  tensor([[0, 0, 0,  ..., 1, 1, 1],\n",
      "        [0, 0, 0,  ..., 0, 0, 0],\n",
      "        [0, 0, 0,  ..., 1, 1, 1],\n",
      "        [0, 0, 0,  ..., 0, 0, 0],\n",
      "        [0, 0, 0,  ..., 1, 1, 1]])\n",
      "batch.clss:  tensor([[  0,  21,  50,  84,  97, 114, 123, 160, 191, 210, 229, 238, 288, 336,\n",
      "         348, 361, 374, 401, 442, 507,   0],\n",
      "        [  0,   9,  39,  60,  82, 105, 140, 150, 176, 195, 219, 251, 276, 289,\n",
      "         312, 348, 386, 412, 429, 465, 506],\n",
      "        [  0,  14,  32,  52,  70, 119, 156, 172, 200, 232, 264, 286, 307, 325,\n",
      "         355, 381, 415, 444,   0,   0,   0],\n",
      "        [  0,  14,  53, 144, 156, 181, 212, 260, 281, 318, 356,   0,   0,   0,\n",
      "           0,   0,   0,   0,   0,   0,   0],\n",
      "        [  0,  30,  54,  78, 114, 159, 176, 254, 335, 355, 377, 424, 440, 468,\n",
      "           0,   0,   0,   0,   0,   0,   0]])\n",
      "batch.mask:  tensor([[True, True, True,  ..., True, True, True],\n",
      "        [True, True, True,  ..., True, True, True],\n",
      "        [True, True, True,  ..., True, True, True],\n",
      "        [True, True, True,  ..., True, True, True],\n",
      "        [True, True, True,  ..., True, True, True]])\n",
      "batch.mask_cls:  tensor([[ True,  True,  True,  True,  True,  True,  True,  True,  True,  True,\n",
      "          True,  True,  True,  True,  True,  True,  True,  True,  True,  True,\n",
      "         False],\n",
      "        [ True,  True,  True,  True,  True,  True,  True,  True,  True,  True,\n",
      "          True,  True,  True,  True,  True,  True,  True,  True,  True,  True,\n",
      "          True],\n",
      "        [ True,  True,  True,  True,  True,  True,  True,  True,  True,  True,\n",
      "          True,  True,  True,  True,  True,  True,  True,  True, False, False,\n",
      "         False],\n",
      "        [ True,  True,  True,  True,  True,  True,  True,  True,  True,  True,\n",
      "          True, False, False, False, False, False, False, False, False, False,\n",
      "         False],\n",
      "        [ True,  True,  True,  True,  True,  True,  True,  True,  True,  True,\n",
      "          True,  True,  True,  True, False, False, False, False, False, False,\n",
      "         False]])\n"
     ]
    },
    {
     "name": "stderr",
     "output_type": "stream",
     "text": [
      "\r",
      "Iteration:   0%|          | 40/17100 [03:35<25:20:02,  5.35s/it]"
     ]
    },
    {
     "name": "stdout",
     "output_type": "stream",
     "text": [
      "step:  40\n",
      "batch:  <utils_nlp.models.transformers.bertsum.data_loader.Batch object at 0x7f8535be4630>\n",
      "batch.segs:  tensor([[0, 0, 0,  ..., 0, 0, 0],\n",
      "        [0, 0, 0,  ..., 0, 0, 0],\n",
      "        [0, 0, 0,  ..., 1, 1, 1],\n",
      "        [0, 0, 0,  ..., 0, 0, 0],\n",
      "        [0, 0, 0,  ..., 0, 0, 0]])\n",
      "batch.clss:  tensor([[  0,  38,  63, 109, 137, 175, 197, 231, 260, 286, 297, 318, 348, 371,\n",
      "         401, 441, 469, 488, 508,   0,   0,   0,   0,   0,   0],\n",
      "        [  0,  37,  55,  76,  91, 111, 124, 148, 156, 177, 232, 249, 259, 305,\n",
      "         329, 366, 387,   0,   0,   0,   0,   0,   0,   0,   0],\n",
      "        [  0,  40,  87, 183, 212, 226, 261, 381, 447, 482,   0,   0,   0,   0,\n",
      "           0,   0,   0,   0,   0,   0,   0,   0,   0,   0,   0],\n",
      "        [  0,  22,  62,  72,  90, 109, 149, 175, 188, 203, 226, 249, 274, 293,\n",
      "         316, 326, 338, 359, 393, 407, 423, 443, 460, 477, 505],\n",
      "        [  0,  30,  77, 141, 194, 219, 232, 245, 278, 312, 332, 353, 410, 450,\n",
      "         492,   0,   0,   0,   0,   0,   0,   0,   0,   0,   0]])\n",
      "batch.mask:  tensor([[True, True, True,  ..., True, True, True],\n",
      "        [True, True, True,  ..., True, True, True],\n",
      "        [True, True, True,  ..., True, True, True],\n",
      "        [True, True, True,  ..., True, True, True],\n",
      "        [True, True, True,  ..., True, True, True]])\n",
      "batch.mask_cls:  tensor([[ True,  True,  True,  True,  True,  True,  True,  True,  True,  True,\n",
      "          True,  True,  True,  True,  True,  True,  True,  True,  True, False,\n",
      "         False, False, False, False, False],\n",
      "        [ True,  True,  True,  True,  True,  True,  True,  True,  True,  True,\n",
      "          True,  True,  True,  True,  True,  True,  True, False, False, False,\n",
      "         False, False, False, False, False],\n",
      "        [ True,  True,  True,  True,  True,  True,  True,  True,  True,  True,\n",
      "         False, False, False, False, False, False, False, False, False, False,\n",
      "         False, False, False, False, False],\n",
      "        [ True,  True,  True,  True,  True,  True,  True,  True,  True,  True,\n",
      "          True,  True,  True,  True,  True,  True,  True,  True,  True,  True,\n",
      "          True,  True,  True,  True,  True],\n",
      "        [ True,  True,  True,  True,  True,  True,  True,  True,  True,  True,\n",
      "          True,  True,  True,  True,  True, False, False, False, False, False,\n",
      "         False, False, False, False, False]])\n"
     ]
    },
    {
     "name": "stderr",
     "output_type": "stream",
     "text": [
      "\r",
      "Iteration:   0%|          | 41/17100 [03:40<25:03:11,  5.29s/it]"
     ]
    },
    {
     "name": "stdout",
     "output_type": "stream",
     "text": [
      "step:  41\n",
      "batch:  <utils_nlp.models.transformers.bertsum.data_loader.Batch object at 0x7f8535cd9048>\n",
      "batch.segs:  tensor([[0, 0, 0,  ..., 0, 0, 0],\n",
      "        [0, 0, 0,  ..., 0, 0, 0],\n",
      "        [0, 0, 0,  ..., 0, 0, 0],\n",
      "        [0, 0, 0,  ..., 0, 0, 0],\n",
      "        [0, 0, 0,  ..., 0, 0, 0]])\n",
      "batch.clss:  tensor([[  0,  22,  67,  90, 146, 169, 198, 226, 244, 270, 304, 338, 350, 369,\n",
      "         399,   0,   0,   0,   0,   0,   0],\n",
      "        [  0,  38,  53,  80, 116, 129, 152, 167, 201, 218, 243, 274, 301, 327,\n",
      "         366, 385, 413, 432, 458,   0,   0],\n",
      "        [  0,  30,  67, 101, 116, 137, 165, 193, 229, 258, 322, 339, 351, 367,\n",
      "         382, 420, 437, 462, 498,   0,   0],\n",
      "        [  0,  25,  56,  99, 155, 169, 178, 194, 211, 224, 241, 250, 259, 271,\n",
      "         321, 340, 413, 428, 447, 461, 489],\n",
      "        [  0,  37,  70,  89, 130, 153, 173, 201, 268, 304, 334, 373, 403, 436,\n",
      "         492,   0,   0,   0,   0,   0,   0]])\n",
      "batch.mask:  tensor([[True, True, True,  ..., True, True, True],\n",
      "        [True, True, True,  ..., True, True, True],\n",
      "        [True, True, True,  ..., True, True, True],\n",
      "        [True, True, True,  ..., True, True, True],\n",
      "        [True, True, True,  ..., True, True, True]])\n",
      "batch.mask_cls:  tensor([[ True,  True,  True,  True,  True,  True,  True,  True,  True,  True,\n",
      "          True,  True,  True,  True,  True, False, False, False, False, False,\n",
      "         False],\n",
      "        [ True,  True,  True,  True,  True,  True,  True,  True,  True,  True,\n",
      "          True,  True,  True,  True,  True,  True,  True,  True,  True, False,\n",
      "         False],\n",
      "        [ True,  True,  True,  True,  True,  True,  True,  True,  True,  True,\n",
      "          True,  True,  True,  True,  True,  True,  True,  True,  True, False,\n",
      "         False],\n",
      "        [ True,  True,  True,  True,  True,  True,  True,  True,  True,  True,\n",
      "          True,  True,  True,  True,  True,  True,  True,  True,  True,  True,\n",
      "          True],\n",
      "        [ True,  True,  True,  True,  True,  True,  True,  True,  True,  True,\n",
      "          True,  True,  True,  True,  True, False, False, False, False, False,\n",
      "         False]])\n"
     ]
    },
    {
     "name": "stderr",
     "output_type": "stream",
     "text": [
      "\r",
      "Iteration:   0%|          | 42/17100 [03:46<25:19:25,  5.34s/it]"
     ]
    },
    {
     "name": "stdout",
     "output_type": "stream",
     "text": [
      "step:  42\n",
      "batch:  <utils_nlp.models.transformers.bertsum.data_loader.Batch object at 0x7f8535be4dd8>\n",
      "batch.segs:  tensor([[0, 0, 0,  ..., 0, 0, 0],\n",
      "        [0, 0, 0,  ..., 1, 1, 1],\n",
      "        [0, 0, 0,  ..., 0, 0, 0],\n",
      "        [0, 0, 0,  ..., 0, 0, 0],\n",
      "        [0, 0, 0,  ..., 0, 0, 0]])\n",
      "batch.clss:  tensor([[  0,  14,  44,  59,  76,  98, 120, 131, 153, 164, 194, 206, 218, 229,\n",
      "         248, 296, 328, 350, 362, 385, 409, 444, 464,   0,   0],\n",
      "        [  0,  28,  72,  91, 101, 122, 148, 187, 206, 221, 239, 287, 318, 356,\n",
      "         373, 391, 405, 425, 452, 463,   0,   0,   0,   0,   0],\n",
      "        [  0,  23,  65, 102, 129, 154, 169, 198, 225, 273, 327, 360, 390, 408,\n",
      "         449, 477, 486,   0,   0,   0,   0,   0,   0,   0,   0],\n",
      "        [  0,  11,  31,  41,  53,  70, 103, 114, 129, 154, 164, 185, 204, 216,\n",
      "         239, 268, 280, 289, 362, 372, 387, 428, 462, 485, 498],\n",
      "        [  0,  19,  36,  70, 102, 143, 159, 206, 240, 270, 292, 320, 350, 359,\n",
      "         389, 406, 428, 446, 467, 489, 501,   0,   0,   0,   0]])\n",
      "batch.mask:  tensor([[True, True, True,  ..., True, True, True],\n",
      "        [True, True, True,  ..., True, True, True],\n",
      "        [True, True, True,  ..., True, True, True],\n",
      "        [True, True, True,  ..., True, True, True],\n",
      "        [True, True, True,  ..., True, True, True]])\n",
      "batch.mask_cls:  tensor([[ True,  True,  True,  True,  True,  True,  True,  True,  True,  True,\n",
      "          True,  True,  True,  True,  True,  True,  True,  True,  True,  True,\n",
      "          True,  True,  True, False, False],\n",
      "        [ True,  True,  True,  True,  True,  True,  True,  True,  True,  True,\n",
      "          True,  True,  True,  True,  True,  True,  True,  True,  True,  True,\n",
      "         False, False, False, False, False],\n",
      "        [ True,  True,  True,  True,  True,  True,  True,  True,  True,  True,\n",
      "          True,  True,  True,  True,  True,  True,  True, False, False, False,\n",
      "         False, False, False, False, False],\n",
      "        [ True,  True,  True,  True,  True,  True,  True,  True,  True,  True,\n",
      "          True,  True,  True,  True,  True,  True,  True,  True,  True,  True,\n",
      "          True,  True,  True,  True,  True],\n",
      "        [ True,  True,  True,  True,  True,  True,  True,  True,  True,  True,\n",
      "          True,  True,  True,  True,  True,  True,  True,  True,  True,  True,\n",
      "          True, False, False, False, False]])\n"
     ]
    },
    {
     "name": "stderr",
     "output_type": "stream",
     "text": [
      "\r",
      "Iteration:   0%|          | 43/17100 [03:51<25:01:12,  5.28s/it]"
     ]
    },
    {
     "name": "stdout",
     "output_type": "stream",
     "text": [
      "step:  43\n",
      "batch:  <utils_nlp.models.transformers.bertsum.data_loader.Batch object at 0x7f8535bf46a0>\n",
      "batch.segs:  tensor([[0, 0, 0,  ..., 1, 1, 1],\n",
      "        [0, 0, 0,  ..., 1, 1, 1],\n",
      "        [0, 0, 0,  ..., 0, 0, 1],\n",
      "        [0, 0, 0,  ..., 1, 1, 1],\n",
      "        [0, 0, 0,  ..., 0, 0, 0]])\n",
      "batch.clss:  tensor([[  0,  67,  82, 115, 141, 178, 218, 238,   0,   0,   0,   0,   0,   0,\n",
      "           0,   0,   0,   0,   0,   0,   0,   0,   0,   0,   0],\n",
      "        [  0,  39,  72, 122, 153, 174, 200, 254, 315, 344, 379, 415, 461, 489,\n",
      "           0,   0,   0,   0,   0,   0,   0,   0,   0,   0,   0],\n",
      "        [  0,  19,  50,  66,  90, 109, 137, 152, 168, 179, 191, 220, 229, 242,\n",
      "         251, 265, 298, 308, 325, 343, 373, 414, 448, 464, 488],\n",
      "        [  0,  33,  78, 111, 142, 152, 183, 227, 246, 290, 317, 337, 363, 385,\n",
      "         401, 432, 444, 452, 476, 493,   0,   0,   0,   0,   0],\n",
      "        [  0,  17,  53,  91, 143, 181, 213, 221, 255, 303, 362, 391, 409, 439,\n",
      "         466,   0,   0,   0,   0,   0,   0,   0,   0,   0,   0]])\n",
      "batch.mask:  tensor([[True, True, True,  ..., True, True, True],\n",
      "        [True, True, True,  ..., True, True, True],\n",
      "        [True, True, True,  ..., True, True, True],\n",
      "        [True, True, True,  ..., True, True, True],\n",
      "        [True, True, True,  ..., True, True, True]])\n",
      "batch.mask_cls:  tensor([[ True,  True,  True,  True,  True,  True,  True,  True, False, False,\n",
      "         False, False, False, False, False, False, False, False, False, False,\n",
      "         False, False, False, False, False],\n",
      "        [ True,  True,  True,  True,  True,  True,  True,  True,  True,  True,\n",
      "          True,  True,  True,  True, False, False, False, False, False, False,\n",
      "         False, False, False, False, False],\n",
      "        [ True,  True,  True,  True,  True,  True,  True,  True,  True,  True,\n",
      "          True,  True,  True,  True,  True,  True,  True,  True,  True,  True,\n",
      "          True,  True,  True,  True,  True],\n",
      "        [ True,  True,  True,  True,  True,  True,  True,  True,  True,  True,\n",
      "          True,  True,  True,  True,  True,  True,  True,  True,  True,  True,\n",
      "         False, False, False, False, False],\n",
      "        [ True,  True,  True,  True,  True,  True,  True,  True,  True,  True,\n",
      "          True,  True,  True,  True,  True, False, False, False, False, False,\n",
      "         False, False, False, False, False]])\n"
     ]
    },
    {
     "name": "stderr",
     "output_type": "stream",
     "text": [
      "\r",
      "Iteration:   0%|          | 44/17100 [03:56<25:17:38,  5.34s/it]"
     ]
    },
    {
     "name": "stdout",
     "output_type": "stream",
     "text": [
      "step:  44\n",
      "batch:  <utils_nlp.models.transformers.bertsum.data_loader.Batch object at 0x7f8535c62b00>\n",
      "batch.segs:  tensor([[0, 0, 0,  ..., 0, 0, 0],\n",
      "        [0, 0, 0,  ..., 1, 1, 1],\n",
      "        [0, 0, 0,  ..., 1, 1, 1],\n",
      "        [0, 0, 0,  ..., 1, 1, 1],\n",
      "        [0, 0, 0,  ..., 0, 0, 0]])\n",
      "batch.clss:  tensor([[  0,  38,  67,  98, 152, 180, 220, 259, 274, 282, 327, 346, 374, 408,\n",
      "         466, 478, 495,   0,   0,   0],\n",
      "        [  0,  17,  74, 103, 134, 164, 176, 204, 256, 295, 332, 357, 407, 440,\n",
      "         477, 500,   0,   0,   0,   0],\n",
      "        [  0,  23,  72,  89, 106, 146, 170, 192, 222, 256, 297, 318, 333, 344,\n",
      "         376, 415, 452, 475,   0,   0],\n",
      "        [  0,  24,  42,  81, 101, 127, 144, 157, 189, 203, 242, 254, 292, 306,\n",
      "         327, 345, 366, 393, 416, 428],\n",
      "        [  0,  29,  79, 110, 178, 229, 248, 290, 334, 380, 430, 452, 477,   0,\n",
      "           0,   0,   0,   0,   0,   0]])\n",
      "batch.mask:  tensor([[True, True, True,  ..., True, True, True],\n",
      "        [True, True, True,  ..., True, True, True],\n",
      "        [True, True, True,  ..., True, True, True],\n",
      "        [True, True, True,  ..., True, True, True],\n",
      "        [True, True, True,  ..., True, True, True]])\n",
      "batch.mask_cls:  tensor([[ True,  True,  True,  True,  True,  True,  True,  True,  True,  True,\n",
      "          True,  True,  True,  True,  True,  True,  True, False, False, False],\n",
      "        [ True,  True,  True,  True,  True,  True,  True,  True,  True,  True,\n",
      "          True,  True,  True,  True,  True,  True, False, False, False, False],\n",
      "        [ True,  True,  True,  True,  True,  True,  True,  True,  True,  True,\n",
      "          True,  True,  True,  True,  True,  True,  True,  True, False, False],\n",
      "        [ True,  True,  True,  True,  True,  True,  True,  True,  True,  True,\n",
      "          True,  True,  True,  True,  True,  True,  True,  True,  True,  True],\n",
      "        [ True,  True,  True,  True,  True,  True,  True,  True,  True,  True,\n",
      "          True,  True,  True, False, False, False, False, False, False, False]])\n"
     ]
    },
    {
     "name": "stderr",
     "output_type": "stream",
     "text": [
      "\r",
      "Iteration:   0%|          | 45/17100 [04:02<25:02:44,  5.29s/it]"
     ]
    },
    {
     "name": "stdout",
     "output_type": "stream",
     "text": [
      "step:  45\n",
      "batch:  <utils_nlp.models.transformers.bertsum.data_loader.Batch object at 0x7f8535cd9cc0>\n",
      "batch.segs:  tensor([[0, 0, 0,  ..., 1, 1, 1],\n",
      "        [0, 0, 0,  ..., 0, 0, 0],\n",
      "        [0, 0, 0,  ..., 0, 0, 0],\n",
      "        [0, 0, 0,  ..., 0, 0, 0],\n",
      "        [0, 0, 0,  ..., 1, 1, 1]])\n",
      "batch.clss:  tensor([[  0,  23,  37,  62,  97, 114, 133, 147, 159, 181, 191, 216, 239, 275,\n",
      "         294, 322, 355, 392, 443, 463],\n",
      "        [  0,   9,  61, 152, 204, 276, 296, 391, 415, 432, 499,   0,   0,   0,\n",
      "           0,   0,   0,   0,   0,   0],\n",
      "        [  0,  13,  48,  88, 108, 118, 143, 161, 201, 236, 273, 356, 378, 421,\n",
      "         437, 468, 509,   0,   0,   0],\n",
      "        [  0,  35,  85,  95, 114, 165, 201, 233, 266, 294, 329, 394, 404,   0,\n",
      "           0,   0,   0,   0,   0,   0],\n",
      "        [  0,  41,  85, 127, 145, 173, 206, 244, 281, 316, 351, 391, 411, 425,\n",
      "         480, 497,   0,   0,   0,   0]])\n",
      "batch.mask:  tensor([[True, True, True,  ..., True, True, True],\n",
      "        [True, True, True,  ..., True, True, True],\n",
      "        [True, True, True,  ..., True, True, True],\n",
      "        [True, True, True,  ..., True, True, True],\n",
      "        [True, True, True,  ..., True, True, True]])\n",
      "batch.mask_cls:  tensor([[ True,  True,  True,  True,  True,  True,  True,  True,  True,  True,\n",
      "          True,  True,  True,  True,  True,  True,  True,  True,  True,  True],\n",
      "        [ True,  True,  True,  True,  True,  True,  True,  True,  True,  True,\n",
      "          True, False, False, False, False, False, False, False, False, False],\n",
      "        [ True,  True,  True,  True,  True,  True,  True,  True,  True,  True,\n",
      "          True,  True,  True,  True,  True,  True,  True, False, False, False],\n",
      "        [ True,  True,  True,  True,  True,  True,  True,  True,  True,  True,\n",
      "          True,  True,  True, False, False, False, False, False, False, False],\n",
      "        [ True,  True,  True,  True,  True,  True,  True,  True,  True,  True,\n",
      "          True,  True,  True,  True,  True,  True, False, False, False, False]])\n"
     ]
    },
    {
     "name": "stderr",
     "output_type": "stream",
     "text": [
      "\r",
      "Iteration:   0%|          | 46/17100 [04:07<25:16:19,  5.33s/it]"
     ]
    },
    {
     "name": "stdout",
     "output_type": "stream",
     "text": [
      "step:  46\n",
      "batch:  <utils_nlp.models.transformers.bertsum.data_loader.Batch object at 0x7f8535bf42b0>\n",
      "batch.segs:  tensor([[0, 0, 0,  ..., 0, 0, 0],\n",
      "        [0, 0, 0,  ..., 1, 1, 1],\n",
      "        [0, 0, 0,  ..., 1, 1, 1],\n",
      "        [0, 0, 0,  ..., 0, 0, 0],\n",
      "        [0, 0, 0,  ..., 1, 1, 1]])\n",
      "batch.clss:  tensor([[  0,  16,  43,  60,  78, 102, 147, 161, 170, 183, 218, 229, 255, 268,\n",
      "         288, 328, 359, 379, 425, 462, 498,   0,   0,   0],\n",
      "        [  0,  40,  54,  78, 113, 135, 172, 216, 245, 280, 296, 356, 388, 420,\n",
      "         446, 508,   0,   0,   0,   0,   0,   0,   0,   0],\n",
      "        [  0,  18,  61,  77,  88, 110, 124, 141, 153, 167, 193, 220, 235, 270,\n",
      "         284, 311, 351, 362, 385, 422, 437, 481, 494, 505],\n",
      "        [  0,  28,  51,  81, 105, 134, 154, 179, 192, 205, 235,   0,   0,   0,\n",
      "           0,   0,   0,   0,   0,   0,   0,   0,   0,   0],\n",
      "        [  0,  14,  65, 129, 205, 248, 359, 388, 443, 471,   0,   0,   0,   0,\n",
      "           0,   0,   0,   0,   0,   0,   0,   0,   0,   0]])\n",
      "batch.mask:  tensor([[True, True, True,  ..., True, True, True],\n",
      "        [True, True, True,  ..., True, True, True],\n",
      "        [True, True, True,  ..., True, True, True],\n",
      "        [True, True, True,  ..., True, True, True],\n",
      "        [True, True, True,  ..., True, True, True]])\n",
      "batch.mask_cls:  tensor([[ True,  True,  True,  True,  True,  True,  True,  True,  True,  True,\n",
      "          True,  True,  True,  True,  True,  True,  True,  True,  True,  True,\n",
      "          True, False, False, False],\n",
      "        [ True,  True,  True,  True,  True,  True,  True,  True,  True,  True,\n",
      "          True,  True,  True,  True,  True,  True, False, False, False, False,\n",
      "         False, False, False, False],\n",
      "        [ True,  True,  True,  True,  True,  True,  True,  True,  True,  True,\n",
      "          True,  True,  True,  True,  True,  True,  True,  True,  True,  True,\n",
      "          True,  True,  True,  True],\n",
      "        [ True,  True,  True,  True,  True,  True,  True,  True,  True,  True,\n",
      "          True, False, False, False, False, False, False, False, False, False,\n",
      "         False, False, False, False],\n",
      "        [ True,  True,  True,  True,  True,  True,  True,  True,  True,  True,\n",
      "         False, False, False, False, False, False, False, False, False, False,\n",
      "         False, False, False, False]])\n"
     ]
    },
    {
     "name": "stderr",
     "output_type": "stream",
     "text": [
      "\r",
      "Iteration:   0%|          | 47/17100 [04:12<24:59:46,  5.28s/it]"
     ]
    },
    {
     "name": "stdout",
     "output_type": "stream",
     "text": [
      "step:  47\n",
      "batch:  <utils_nlp.models.transformers.bertsum.data_loader.Batch object at 0x7f8535cccf98>\n",
      "batch.segs:  tensor([[0, 0, 0,  ..., 1, 1, 1],\n",
      "        [0, 0, 0,  ..., 1, 1, 1],\n",
      "        [0, 0, 0,  ..., 1, 1, 1],\n",
      "        [0, 0, 0,  ..., 0, 0, 0],\n",
      "        [0, 0, 0,  ..., 1, 1, 1]])\n",
      "batch.clss:  tensor([[  0,  24,  44,  77, 106, 143, 168, 196, 231, 269, 330, 360, 416, 437,\n",
      "           0,   0,   0,   0,   0],\n",
      "        [  0,  10,  29,  86, 113, 151, 192, 216, 228, 244, 266, 291, 311, 340,\n",
      "         379, 411, 436, 477,   0],\n",
      "        [  0,  69, 107, 131, 197, 229, 247, 263, 283, 330, 342, 358, 422, 442,\n",
      "         464, 508,   0,   0,   0],\n",
      "        [  0,  27,  41,  75, 103, 123, 162, 194, 217, 242, 263, 289, 323, 353,\n",
      "         396, 420, 442, 468, 497],\n",
      "        [  0,  39,  79,  96, 128, 144, 191, 203, 234, 263,   0,   0,   0,   0,\n",
      "           0,   0,   0,   0,   0]])\n",
      "batch.mask:  tensor([[True, True, True,  ..., True, True, True],\n",
      "        [True, True, True,  ..., True, True, True],\n",
      "        [True, True, True,  ..., True, True, True],\n",
      "        [True, True, True,  ..., True, True, True],\n",
      "        [True, True, True,  ..., True, True, True]])\n",
      "batch.mask_cls:  tensor([[ True,  True,  True,  True,  True,  True,  True,  True,  True,  True,\n",
      "          True,  True,  True,  True, False, False, False, False, False],\n",
      "        [ True,  True,  True,  True,  True,  True,  True,  True,  True,  True,\n",
      "          True,  True,  True,  True,  True,  True,  True,  True, False],\n",
      "        [ True,  True,  True,  True,  True,  True,  True,  True,  True,  True,\n",
      "          True,  True,  True,  True,  True,  True, False, False, False],\n",
      "        [ True,  True,  True,  True,  True,  True,  True,  True,  True,  True,\n",
      "          True,  True,  True,  True,  True,  True,  True,  True,  True],\n",
      "        [ True,  True,  True,  True,  True,  True,  True,  True,  True,  True,\n",
      "         False, False, False, False, False, False, False, False, False]])\n"
     ]
    },
    {
     "name": "stderr",
     "output_type": "stream",
     "text": [
      "\r",
      "Iteration:   0%|          | 48/17100 [04:18<25:12:54,  5.32s/it]"
     ]
    },
    {
     "name": "stdout",
     "output_type": "stream",
     "text": [
      "step:  48\n",
      "batch:  <utils_nlp.models.transformers.bertsum.data_loader.Batch object at 0x7f8535cd9cf8>\n",
      "batch.segs:  tensor([[0, 0, 0,  ..., 1, 1, 1],\n",
      "        [0, 0, 0,  ..., 0, 1, 1],\n",
      "        [0, 0, 0,  ..., 1, 1, 1],\n",
      "        [0, 0, 0,  ..., 1, 1, 1],\n",
      "        [0, 0, 0,  ..., 1, 1, 1]])\n",
      "batch.clss:  tensor([[  0,  13,  36,  79, 123, 142, 157, 185, 200, 218, 248, 305, 321, 343,\n",
      "         374, 384, 419, 436,   0,   0,   0,   0],\n",
      "        [  0,  26,  34,  44,  57,  87, 134, 168, 186, 195, 228, 243, 264, 294,\n",
      "         314, 358, 386, 425, 441, 472, 491, 510],\n",
      "        [  0,  30,  44,  56,  72, 103, 130, 139, 159, 177, 194, 222, 258, 282,\n",
      "         297, 329, 347, 360, 383, 410, 459, 501],\n",
      "        [  0,  32,  57, 141, 165, 203, 262, 297, 358, 403, 441, 479,   0,   0,\n",
      "           0,   0,   0,   0,   0,   0,   0,   0],\n",
      "        [  0,  36,  55,  73, 111, 126, 138, 179, 209, 227, 253, 292,   0,   0,\n",
      "           0,   0,   0,   0,   0,   0,   0,   0]])\n",
      "batch.mask:  tensor([[True, True, True,  ..., True, True, True],\n",
      "        [True, True, True,  ..., True, True, True],\n",
      "        [True, True, True,  ..., True, True, True],\n",
      "        [True, True, True,  ..., True, True, True],\n",
      "        [True, True, True,  ..., True, True, True]])\n",
      "batch.mask_cls:  tensor([[ True,  True,  True,  True,  True,  True,  True,  True,  True,  True,\n",
      "          True,  True,  True,  True,  True,  True,  True,  True, False, False,\n",
      "         False, False],\n",
      "        [ True,  True,  True,  True,  True,  True,  True,  True,  True,  True,\n",
      "          True,  True,  True,  True,  True,  True,  True,  True,  True,  True,\n",
      "          True,  True],\n",
      "        [ True,  True,  True,  True,  True,  True,  True,  True,  True,  True,\n",
      "          True,  True,  True,  True,  True,  True,  True,  True,  True,  True,\n",
      "          True,  True],\n",
      "        [ True,  True,  True,  True,  True,  True,  True,  True,  True,  True,\n",
      "          True,  True, False, False, False, False, False, False, False, False,\n",
      "         False, False],\n",
      "        [ True,  True,  True,  True,  True,  True,  True,  True,  True,  True,\n",
      "          True,  True, False, False, False, False, False, False, False, False,\n",
      "         False, False]])\n"
     ]
    },
    {
     "ename": "KeyboardInterrupt",
     "evalue": "",
     "output_type": "error",
     "traceback": [
      "\u001b[0;31m---------------------------------------------------------------------------\u001b[0m",
      "\u001b[0;31mKeyboardInterrupt\u001b[0m                         Traceback (most recent call last)",
      "\u001b[0;32m<ipython-input-22-5902318862f5>\u001b[0m in \u001b[0;36m<module>\u001b[0;34m\u001b[0m\n\u001b[1;32m     12\u001b[0m             \u001b[0mreport_every\u001b[0m\u001b[0;34m=\u001b[0m\u001b[0mREPORT_EVERY\u001b[0m\u001b[0;34m,\u001b[0m\u001b[0;34m\u001b[0m\u001b[0;34m\u001b[0m\u001b[0m\n\u001b[1;32m     13\u001b[0m             \u001b[0mclip_grad_norm\u001b[0m\u001b[0;34m=\u001b[0m\u001b[0;32mFalse\u001b[0m\u001b[0;34m,\u001b[0m\u001b[0;34m\u001b[0m\u001b[0;34m\u001b[0m\u001b[0m\n\u001b[0;32m---> 14\u001b[0;31m             \u001b[0muse_preprocessed_data\u001b[0m\u001b[0;34m=\u001b[0m\u001b[0;32mFalse\u001b[0m\u001b[0;34m\u001b[0m\u001b[0;34m\u001b[0m\u001b[0m\n\u001b[0m\u001b[1;32m     15\u001b[0m         )\n\u001b[1;32m     16\u001b[0m \u001b[0;34m\u001b[0m\u001b[0m\n",
      "\u001b[0;32m~/mnt/nlp-recipes/utils_nlp/models/transformers/extractive_summarization.py\u001b[0m in \u001b[0;36mfit\u001b[0;34m(self, train_dataset, num_gpus, gpu_ids, batch_size, local_rank, max_steps, warmup_steps, learning_rate, optimization_method, max_grad_norm, beta1, beta2, decay_method, gradient_accumulation_steps, report_every, verbose, seed, save_every, world_size, rank, use_preprocessed_data, **kwargs)\u001b[0m\n\u001b[1;32m    789\u001b[0m             \u001b[0mreport_every\u001b[0m\u001b[0;34m=\u001b[0m\u001b[0mreport_every\u001b[0m\u001b[0;34m,\u001b[0m\u001b[0;34m\u001b[0m\u001b[0;34m\u001b[0m\u001b[0m\n\u001b[1;32m    790\u001b[0m             \u001b[0mclip_grad_norm\u001b[0m\u001b[0;34m=\u001b[0m\u001b[0;32mFalse\u001b[0m\u001b[0;34m,\u001b[0m\u001b[0;34m\u001b[0m\u001b[0;34m\u001b[0m\u001b[0m\n\u001b[0;32m--> 791\u001b[0;31m             \u001b[0msave_every\u001b[0m\u001b[0;34m=\u001b[0m\u001b[0msave_every\u001b[0m\u001b[0;34m,\u001b[0m\u001b[0;34m\u001b[0m\u001b[0;34m\u001b[0m\u001b[0m\n\u001b[0m\u001b[1;32m    792\u001b[0m         )\n\u001b[1;32m    793\u001b[0m \u001b[0;34m\u001b[0m\u001b[0m\n",
      "\u001b[0;32m~/mnt/nlp-recipes/utils_nlp/models/transformers/common.py\u001b[0m in \u001b[0;36mfine_tune\u001b[0;34m(self, train_dataloader, get_inputs, device, num_gpus, max_steps, global_step, max_grad_norm, gradient_accumulation_steps, optimizer, scheduler, fp16, amp, local_rank, verbose, seed, report_every, save_every, clip_grad_norm, validation_function)\u001b[0m\n\u001b[1;32m    216\u001b[0m                         \u001b[0mscaled_loss\u001b[0m\u001b[0;34m.\u001b[0m\u001b[0mbackward\u001b[0m\u001b[0;34m(\u001b[0m\u001b[0;34m)\u001b[0m\u001b[0;34m\u001b[0m\u001b[0;34m\u001b[0m\u001b[0m\n\u001b[1;32m    217\u001b[0m                 \u001b[0;32melse\u001b[0m\u001b[0;34m:\u001b[0m\u001b[0;34m\u001b[0m\u001b[0;34m\u001b[0m\u001b[0m\n\u001b[0;32m--> 218\u001b[0;31m                     \u001b[0mloss\u001b[0m\u001b[0;34m.\u001b[0m\u001b[0mbackward\u001b[0m\u001b[0;34m(\u001b[0m\u001b[0;34m)\u001b[0m\u001b[0;34m\u001b[0m\u001b[0;34m\u001b[0m\u001b[0m\n\u001b[0m\u001b[1;32m    219\u001b[0m \u001b[0;34m\u001b[0m\u001b[0m\n\u001b[1;32m    220\u001b[0m                 \u001b[0mtr_loss\u001b[0m \u001b[0;34m+=\u001b[0m \u001b[0mloss\u001b[0m\u001b[0;34m.\u001b[0m\u001b[0mitem\u001b[0m\u001b[0;34m(\u001b[0m\u001b[0;34m)\u001b[0m\u001b[0;34m\u001b[0m\u001b[0;34m\u001b[0m\u001b[0m\n",
      "\u001b[0;32m~/anaconda3/envs/nlp_cpu/lib/python3.6/site-packages/torch/tensor.py\u001b[0m in \u001b[0;36mbackward\u001b[0;34m(self, gradient, retain_graph, create_graph)\u001b[0m\n\u001b[1;32m    164\u001b[0m                 \u001b[0mproducts\u001b[0m\u001b[0;34m.\u001b[0m \u001b[0mDefaults\u001b[0m \u001b[0mto\u001b[0m\u001b[0;31m \u001b[0m\u001b[0;31m`\u001b[0m\u001b[0;31m`\u001b[0m\u001b[0;32mFalse\u001b[0m\u001b[0;31m`\u001b[0m\u001b[0;31m`\u001b[0m\u001b[0;34m.\u001b[0m\u001b[0;34m\u001b[0m\u001b[0;34m\u001b[0m\u001b[0m\n\u001b[1;32m    165\u001b[0m         \"\"\"\n\u001b[0;32m--> 166\u001b[0;31m         \u001b[0mtorch\u001b[0m\u001b[0;34m.\u001b[0m\u001b[0mautograd\u001b[0m\u001b[0;34m.\u001b[0m\u001b[0mbackward\u001b[0m\u001b[0;34m(\u001b[0m\u001b[0mself\u001b[0m\u001b[0;34m,\u001b[0m \u001b[0mgradient\u001b[0m\u001b[0;34m,\u001b[0m \u001b[0mretain_graph\u001b[0m\u001b[0;34m,\u001b[0m \u001b[0mcreate_graph\u001b[0m\u001b[0;34m)\u001b[0m\u001b[0;34m\u001b[0m\u001b[0;34m\u001b[0m\u001b[0m\n\u001b[0m\u001b[1;32m    167\u001b[0m \u001b[0;34m\u001b[0m\u001b[0m\n\u001b[1;32m    168\u001b[0m     \u001b[0;32mdef\u001b[0m \u001b[0mregister_hook\u001b[0m\u001b[0;34m(\u001b[0m\u001b[0mself\u001b[0m\u001b[0;34m,\u001b[0m \u001b[0mhook\u001b[0m\u001b[0;34m)\u001b[0m\u001b[0;34m:\u001b[0m\u001b[0;34m\u001b[0m\u001b[0;34m\u001b[0m\u001b[0m\n",
      "\u001b[0;32m~/anaconda3/envs/nlp_cpu/lib/python3.6/site-packages/torch/autograd/__init__.py\u001b[0m in \u001b[0;36mbackward\u001b[0;34m(tensors, grad_tensors, retain_graph, create_graph, grad_variables)\u001b[0m\n\u001b[1;32m     97\u001b[0m     Variable._execution_engine.run_backward(\n\u001b[1;32m     98\u001b[0m         \u001b[0mtensors\u001b[0m\u001b[0;34m,\u001b[0m \u001b[0mgrad_tensors\u001b[0m\u001b[0;34m,\u001b[0m \u001b[0mretain_graph\u001b[0m\u001b[0;34m,\u001b[0m \u001b[0mcreate_graph\u001b[0m\u001b[0;34m,\u001b[0m\u001b[0;34m\u001b[0m\u001b[0;34m\u001b[0m\u001b[0m\n\u001b[0;32m---> 99\u001b[0;31m         allow_unreachable=True)  # allow_unreachable flag\n\u001b[0m\u001b[1;32m    100\u001b[0m \u001b[0;34m\u001b[0m\u001b[0m\n\u001b[1;32m    101\u001b[0m \u001b[0;34m\u001b[0m\u001b[0m\n",
      "\u001b[0;31mKeyboardInterrupt\u001b[0m: "
     ]
    }
   ],
   "source": [
    "#\"\"\"\n",
    "\n",
    "summarizer.fit(\n",
    "            ext_sum_train,\n",
    "            num_gpus=NUM_GPUS,\n",
    "            batch_size=BATCH_SIZE,\n",
    "            gradient_accumulation_steps=2,\n",
    "            max_steps=MAX_STEPS,\n",
    "            learning_rate=LEARNING_RATE,\n",
    "            warmup_steps=WARMUP_STEPS,\n",
    "            verbose=True,\n",
    "            report_every=REPORT_EVERY,\n",
    "            clip_grad_norm=False,\n",
    "            use_preprocessed_data=False\n",
    "        )\n",
    "\n",
    "#\"\"\"\n"
   ]
  },
  {
   "cell_type": "code",
   "execution_count": null,
   "metadata": {},
   "outputs": [],
   "source": [
    "summarizer.save_model(\n",
    "    os.path.join(\n",
    "        CACHE_DIR,\n",
    "        \"extsum_modelname_{0}_usepreprocess{1}_steps_{2}.pt\".format(\n",
    "            MODEL_NAME, USE_PREPROCSSED_DATA, MAX_STEPS\n",
    "        ),\n",
    "    )\n",
    ")"
   ]
  },
  {
   "cell_type": "markdown",
   "metadata": {},
   "source": [
    "### Model Evaluation\n",
    "\n",
    "[ROUGE](https://en.wikipedia.org/wiki/ROUGE_(metric)), or Recall-Oriented Understudy for Gisting Evaluation has been commonly used for evaluating text summarization."
   ]
  },
  {
   "cell_type": "code",
   "execution_count": null,
   "metadata": {},
   "outputs": [],
   "source": [
    "# for loading a previous saved model\n",
    "\n",
    "model_filename = \"dist_extsum_model.pt\"\n",
    "model_filepath = \"/home/ubuntu/mnt/train/distilbert-base-german-cased/2007142250/\"\n",
    "model_path = os.path.join(model_filepath, model_filename)\n",
    "summarizer = ExtractiveSummarizer(processor, MODEL_NAME, ENCODER, MAX_POS_LENGTH, CACHE_DIR)\n",
    "summarizer.model.load_state_dict(torch.load(model_path, map_location=\"cpu\"))"
   ]
  },
  {
   "cell_type": "code",
   "execution_count": null,
   "metadata": {},
   "outputs": [],
   "source": [
    "if \"segs\" in ext_sum_test[0]: # preprocessed_data\n",
    "    source = [i['src_txt'] for i in ext_sum_test]\n",
    "    target = [\"\\n\".join(i['tgt_txt'].split(\"<q>\")) for i in ext_sum_test]\n",
    "else:\n",
    "    source = []\n",
    "    temp_target = []\n",
    "    for i in ext_sum_test:\n",
    "        source.append(i[\"src_txt\"]) \n",
    "        temp_target.append(\" \".join(j) for j in i['tgt']) \n",
    "    target = [''.join(i) for i in list(temp_target)]"
   ]
  },
  {
   "cell_type": "code",
   "execution_count": null,
   "metadata": {
    "scrolled": false
   },
   "outputs": [],
   "source": [
    "%%time\n",
    "sentence_separator = \"\\n\"\n",
    "prediction = summarizer.predict(ext_sum_test, num_gpus=NUM_GPUS, batch_size=BATCH_SIZE, sentence_separator=sentence_separator)"
   ]
  },
  {
   "cell_type": "code",
   "execution_count": null,
   "metadata": {},
   "outputs": [],
   "source": [
    "rouge_scores = compute_rouge_python(cand=prediction, ref=target)\n",
    "pprint.pprint(rouge_scores)"
   ]
  },
  {
   "cell_type": "code",
   "execution_count": null,
   "metadata": {},
   "outputs": [],
   "source": [
    "prediction[0].replace(\"\\n\", \" \")"
   ]
  },
  {
   "cell_type": "code",
   "execution_count": null,
   "metadata": {},
   "outputs": [],
   "source": [
    "with open('sample_results.txt','w') as f:\n",
    "    for i in range(len(prediction)):\n",
    "        source_output = \" \".join(source[i]) \n",
    "        f.write(\"Source Text: \\n\")\n",
    "        f.write(\"\\\"\" + source_output + \"\\\" \\n\")\n",
    "        f.write(\"\\n\")\n",
    "        f.write(\"Source target: \\n\")\n",
    "        f.write(\"\\\"\" + target[i] + \"\\\" \\n\")\n",
    "        f.write(\"\\n\")\n",
    "        f.write(\"Model Prediction: \\n\")\n",
    "        f.write(\"\\\"\" + prediction[i].replace(\"\\n\", \" \") + \"\\\" \\n\")        \n",
    "        f.write(\"\\n\")\n",
    "        f.write(\"======================================\")        \n",
    "        f.write(\"\\n \\n\")"
   ]
  },
  {
   "cell_type": "code",
   "execution_count": null,
   "metadata": {},
   "outputs": [],
   "source": [
    "target[10]"
   ]
  },
  {
   "cell_type": "code",
   "execution_count": null,
   "metadata": {},
   "outputs": [],
   "source": [
    "target[2]"
   ]
  },
  {
   "cell_type": "code",
   "execution_count": null,
   "metadata": {},
   "outputs": [],
   "source": [
    "prediction[10]"
   ]
  },
  {
   "cell_type": "code",
   "execution_count": null,
   "metadata": {},
   "outputs": [],
   "source": [
    "source"
   ]
  },
  {
   "cell_type": "code",
   "execution_count": null,
   "metadata": {},
   "outputs": [],
   "source": [
    "# for testing\n",
    "sb.glue(\"rouge_2_f_score\", rouge_scores['rouge-2']['f'])"
   ]
  },
  {
   "cell_type": "markdown",
   "metadata": {},
   "source": [
    "## Prediction on a single input sample"
   ]
  },
  {
   "cell_type": "code",
   "execution_count": null,
   "metadata": {},
   "outputs": [],
   "source": [
    "source = \"\"\"\n",
    "Italien erlaubt nach tagelangem Zögern den etwa 180 Migranten auf dem privaten Rettungsschiff \"Ocean Viking\" den Wechsel auf das italienische Quarantäne-Schiff \"Moby Zaza\". Die Übernahme der aus Seenot geretteten Menschen sei für Montag geplant, hieß es am Samstagabend aus Quellen im Innenministerium in Rom. Zuvor hatte sich die Lage auf dem Schiff der Organisation SOS Méditerranée, das sich in internationalen Gewässern vor Sizilien befindet, zugespitzt.\n",
    "Die Betreiber berichteten demnach von einem Hungerstreik unter den Geflüchteten. Verena Papke, Geschäftsführerin von SOS Méditerranée für Deutschland, hatte am Freitag von mehreren Suizidversuchen gesprochen. Die \"Ocean Viking\" hatte zudem den Notstand an Bord ausgerufen. Bis dahin waren mehrere Bitten um Zuweisung eines sicheren Hafens in Malta und Italien erfolglos geblieben.\n",
    "\n",
    "Corona-Abstriche bei den Migranten geplant\n",
    "Die Crew sandte die dringende Anfrage an die Behörden beider Länder zur Aufnahme von rund 45 Menschen, die in schlechter Verfassung seien. Italien schickte daraufhin am Samstag einen Psychiater und einen kulturellen Mediator aus Pozzallo für mehrere Stunden an Bord, berichteten beide Seiten. Danach kam die Erlaubnis aus Rom zur Übernahme auf die \"Moby Zaza\". Die Lage an Bord habe sich jedoch etwas entspannt, hieß es aus der italienischen Hauptstadt. Am Sonntag seien zunächst Corona-Abstriche bei den Migranten geplant.\n",
    "\n",
    "Wie SOS Méditerranée am Samstag schrieb, nahm das Schiff in insgesamt vier Einsätzen am 25. und am 30. Juni etwa 180 Menschen aus dem Mittelmeer an Bord. Italien und Malta hatten sich in der Corona-Pandemie zu nicht sicheren Häfen erklärt. Trotzdem brechen Migranten von Libyen und Tunesien in Richtung Europa auf. Rom und Valletta nahmen zuletzt zwar wieder Menschen von privaten Schiffen auf, doch die Länder zögern mit der Zuweisung von Häfen oft lange. Sie fordern von anderen EU-Staaten regelmäßig Zusagen über die Weiterverteilung der Menschen.\"\"\""
   ]
  },
  {
   "cell_type": "code",
   "execution_count": null,
   "metadata": {},
   "outputs": [],
   "source": [
    "test_dataset = SummarizationDataset(\n",
    "    None,\n",
    "    source=[source],\n",
    "    source_preprocessing=[tokenize.sent_tokenize],\n",
    "    word_tokenize=nltk.word_tokenize,\n",
    "    language='german'\n",
    ")\n",
    "processor = ExtSumProcessor(model_name=MODEL_NAME,  cache_dir=CACHE_DIR)\n",
    "preprocessed_dataset = processor.preprocess(test_dataset)"
   ]
  },
  {
   "cell_type": "code",
   "execution_count": null,
   "metadata": {},
   "outputs": [],
   "source": [
    "preprocessed_dataset[0].keys()"
   ]
  },
  {
   "cell_type": "code",
   "execution_count": null,
   "metadata": {},
   "outputs": [],
   "source": [
    "prediction = summarizer.predict(preprocessed_dataset, num_gpus=0, batch_size=1, sentence_separator=\"\\n\")"
   ]
  },
  {
   "cell_type": "code",
   "execution_count": null,
   "metadata": {},
   "outputs": [],
   "source": [
    "prediction"
   ]
  },
  {
   "cell_type": "markdown",
   "metadata": {},
   "source": [
    "## Clean up temporary folders"
   ]
  },
  {
   "cell_type": "code",
   "execution_count": null,
   "metadata": {},
   "outputs": [],
   "source": [
    "if os.path.exists(DATA_PATH):\n",
    "    shutil.rmtree(DATA_PATH, ignore_errors=True)\n",
    "if os.path.exists(CACHE_DIR):\n",
    "    shutil.rmtree(CACHE_DIR, ignore_errors=True)\n",
    "if USE_PREPROCSSED_DATA:\n",
    "    if os.path.exists(PROCESSED_DATA_PATH):\n",
    "        shutil.rmtree(PROCESSED_DATA_PATH, ignore_errors=True)"
   ]
  },
  {
   "cell_type": "code",
   "execution_count": null,
   "metadata": {},
   "outputs": [],
   "source": []
  }
 ],
 "metadata": {
  "celltoolbar": "Tags",
  "kernelspec": {
   "display_name": "Environment (conda_nlp_cpu)",
   "language": "python",
   "name": "conda_nlp_cpu"
  },
  "language_info": {
   "codemirror_mode": {
    "name": "ipython",
    "version": 3
   },
   "file_extension": ".py",
   "mimetype": "text/x-python",
   "name": "python",
   "nbconvert_exporter": "python",
   "pygments_lexer": "ipython3",
   "version": "3.6.8"
  }
 },
 "nbformat": 4,
 "nbformat_minor": 2
}
