{
 "cells": [
  {
   "cell_type": "markdown",
   "metadata": {},
   "source": [
    "Copyright (c) Microsoft Corporation. All rights reserved.\n",
    "\n",
    "Licensed under the MIT License."
   ]
  },
  {
   "cell_type": "markdown",
   "metadata": {},
   "source": [
    "## Extractive Summarization on CNN/DM Dataset using Transformer Version of BertSum\n",
    "\n",
    "\n",
    "### Summary\n",
    "\n",
    "This notebook demonstrates how to fine tune Transformers for extractive text summarization. Utility functions and classes in the NLP Best Practices repo are used to facilitate data preprocessing, model training, model scoring, result postprocessing, and model evaluation.\n",
    "\n",
    "BertSum refers to  [Fine-tune BERT for Extractive Summarization](https://arxiv.org/pdf/1903.10318.pdf) with [published example](https://github.com/nlpyang/BertSum/). And the Transformer version of Bertsum refers to our modification of BertSum and the source code can be accessed at (https://github.com/daden-ms/BertSum/). \n",
    "\n",
    "Extractive summarization are usually used in document summarization where each input document consists of mutiple sentences. The preprocessing of the input training data involves assigning label 0 or 1 to the document sentences based on the give summary. The summarization problem is also simplfied to classifying whether a document sentence should be included in the summary. \n",
    "\n",
    "The figure below illustrates how BERTSum can be fine tuned for extractive summarization task. [CLS] token is inserted at the beginning of each sentence, so is [SEP] token at the end. Interval segment embedding and positional embedding are added upon the token embedding as the input of the BERT model. The [CLS] token representation is used as sentence embedding and only the [CLS] tokens are used as the input for the summarization model. The summarization layer predicts the probability for each  sentence being included in the summary. Techniques like trigram blocking can be used to improve model accuarcy.   \n",
    "\n",
    "<img src=\"https://nlpbp.blob.core.windows.net/images/BertSum.PNG\">\n",
    "\n",
    "\n",
    "### Before You Start\n",
    "\n",
    "The running time shown in this notebook is on a Standard_NC24s_v3 Azure Ubuntu Virtual Machine with 4 NVIDIA Tesla V100 GPUs. \n",
    "> **Tip**: If you want to run through the notebook quickly, you can set the **`QUICK_RUN`** flag in the cell below to **`True`** to run the notebook on a small subset of the data and a smaller number of epochs. \n",
    "\n",
    "Using only 1 NVIDIA Tesla V100 GPUs, 16GB GPU memory configuration,\n",
    "- for data preprocessing, it takes around 1 minutes to preprocess the data for quick run. Otherwise it takes ~20 minutes to finish the data preprocessing. This time estimation assumes that the chosen transformer model is \"distilbert-base-uncased\" and the sentence selection method is \"greedy\", which is the default. The preprocessing time can be significantly longer if the sentence selection method is \"combination\", which can achieve better model performance.\n",
    "\n",
    "- for model fine tuning, it takes around 2 minutes for quick run. Otherwise, it takes around ~3 hours to finish. This estimation assumes the chosen encoder method is \"transformer\". The model fine tuning time can be shorter if other encoder method is chosen, which may result in worse model performance. \n",
    "\n",
    "### Additional Notes\n",
    "\n",
    "* **ROUGE Evalation**: To run rouge evaluation, please refer to the section of compute_rouge_perl in [summarization_evaluation.ipynb](./summarization_evaluation.ipynb) for setup.\n",
    "\n",
    "* **Distributed Training**:\n",
    "Please note that the jupyter notebook only allows to use pytorch [DataParallel](https://pytorch.org/docs/master/nn.html#dataparallel). Faster speed and larger batch size can be achieved with pytorch [DistributedDataParallel](https://pytorch.org/docs/master/notes/ddp.html)(DDP). Script [extractive_summarization_cnndm_distributed_train.py](./extractive_summarization_cnndm_distributed_train.py) shows an example of how to use DDP.\n",
    "\n"
   ]
  },
  {
   "cell_type": "code",
   "execution_count": 2,
   "metadata": {},
   "outputs": [],
   "source": [
    "%load_ext autoreload\n",
    "\n",
    "%autoreload 2"
   ]
  },
  {
   "cell_type": "code",
   "execution_count": 3,
   "metadata": {
    "tags": [
     "parameters"
    ]
   },
   "outputs": [],
   "source": [
    "## Set QUICK_RUN = True to run the notebook on a small subset of data and a smaller number of epochs.\n",
    "QUICK_RUN = False\n",
    "## Set USE_PREPROCSSED_DATA = True to skip the data preprocessing\n",
    "USE_PREPROCSSED_DATA = True"
   ]
  },
  {
   "cell_type": "markdown",
   "metadata": {},
   "source": [
    "### Configuration\n"
   ]
  },
  {
   "cell_type": "code",
   "execution_count": 4,
   "metadata": {},
   "outputs": [
    {
     "name": "stderr",
     "output_type": "stream",
     "text": [
      "/home/ubuntu/anaconda3/envs/nlp_gpu/lib/python3.6/site-packages/dask/dataframe/utils.py:15: FutureWarning: pandas.util.testing is deprecated. Use the functions in the public API at pandas.testing instead.\n",
      "  import pandas.util.testing as tm\n"
     ]
    }
   ],
   "source": [
    "import os\n",
    "import shutil\n",
    "import sys\n",
    "from tempfile import TemporaryDirectory\n",
    "import torch\n",
    "\n",
    "nlp_path = os.path.abspath(\"../../\")\n",
    "if nlp_path not in sys.path:\n",
    "    sys.path.insert(0, nlp_path)\n",
    "\n",
    "from utils_nlp.dataset.cnndm import CNNDMBertSumProcessedData, CNNDMSummarizationDataset\n",
    "# from utils_nlp.dataset.bundesministerium import BUNDBertSumProcessedData, BUNDSummarizationDataset\n",
    "from utils_nlp.dataset.swiss import SwissSummarizationDataset\n",
    "\n",
    "from utils_nlp.eval import compute_rouge_python, compute_rouge_perl\n",
    "from utils_nlp.models.transformers.extractive_summarization import (\n",
    "    ExtractiveSummarizer,\n",
    "    ExtSumProcessedData,\n",
    "    ExtSumProcessor,\n",
    ")\n",
    "\n",
    "from utils_nlp.models.transformers.datasets import SummarizationDataset\n",
    "import nltk\n",
    "from nltk import tokenize\n",
    "\n",
    "import pandas as pd\n",
    "import scrapbook as sb\n",
    "import pprint"
   ]
  },
  {
   "cell_type": "markdown",
   "metadata": {},
   "source": [
    "\n",
    "### Configuration: choose the transformer model to be used"
   ]
  },
  {
   "cell_type": "markdown",
   "metadata": {},
   "source": [
    "Several pretrained models have been made available by [Hugging Face](https://github.com/huggingface/transformers). For extractive summarization, the following pretrained models are supported. "
   ]
  },
  {
   "cell_type": "code",
   "execution_count": 5,
   "metadata": {},
   "outputs": [
    {
     "data": {
      "text/html": [
       "<div>\n",
       "<style scoped>\n",
       "    .dataframe tbody tr th:only-of-type {\n",
       "        vertical-align: middle;\n",
       "    }\n",
       "\n",
       "    .dataframe tbody tr th {\n",
       "        vertical-align: top;\n",
       "    }\n",
       "\n",
       "    .dataframe thead th {\n",
       "        text-align: right;\n",
       "    }\n",
       "</style>\n",
       "<table border=\"1\" class=\"dataframe\">\n",
       "  <thead>\n",
       "    <tr style=\"text-align: right;\">\n",
       "      <th></th>\n",
       "      <th>model_name</th>\n",
       "    </tr>\n",
       "  </thead>\n",
       "  <tbody>\n",
       "    <tr>\n",
       "      <th>0</th>\n",
       "      <td>bert-base-uncased</td>\n",
       "    </tr>\n",
       "    <tr>\n",
       "      <th>1</th>\n",
       "      <td>bert-base-german-cased</td>\n",
       "    </tr>\n",
       "    <tr>\n",
       "      <th>2</th>\n",
       "      <td>distilbert-base-uncased</td>\n",
       "    </tr>\n",
       "    <tr>\n",
       "      <th>3</th>\n",
       "      <td>dbmdz/bert-base-german-uncased</td>\n",
       "    </tr>\n",
       "    <tr>\n",
       "      <th>4</th>\n",
       "      <td>bert-base-german-dbmdz-cased</td>\n",
       "    </tr>\n",
       "    <tr>\n",
       "      <th>5</th>\n",
       "      <td>bert-base-multilingual-cased</td>\n",
       "    </tr>\n",
       "    <tr>\n",
       "      <th>6</th>\n",
       "      <td>distilbert-base-german-cased</td>\n",
       "    </tr>\n",
       "    <tr>\n",
       "      <th>7</th>\n",
       "      <td>bert-base-german-dbmdz-uncased</td>\n",
       "    </tr>\n",
       "    <tr>\n",
       "      <th>8</th>\n",
       "      <td>severinsimmler/bert-adapted-german-press</td>\n",
       "    </tr>\n",
       "    <tr>\n",
       "      <th>9</th>\n",
       "      <td>xlm-roberta-large-finetuned-conll03-german</td>\n",
       "    </tr>\n",
       "  </tbody>\n",
       "</table>\n",
       "</div>"
      ],
      "text/plain": [
       "                                   model_name\n",
       "0                           bert-base-uncased\n",
       "1                      bert-base-german-cased\n",
       "2                     distilbert-base-uncased\n",
       "3              dbmdz/bert-base-german-uncased\n",
       "4                bert-base-german-dbmdz-cased\n",
       "5                bert-base-multilingual-cased\n",
       "6                distilbert-base-german-cased\n",
       "7              bert-base-german-dbmdz-uncased\n",
       "8    severinsimmler/bert-adapted-german-press\n",
       "9  xlm-roberta-large-finetuned-conll03-german"
      ]
     },
     "execution_count": 5,
     "metadata": {},
     "output_type": "execute_result"
    }
   ],
   "source": [
    "pd.DataFrame({\"model_name\": ExtractiveSummarizer.list_supported_models()})"
   ]
  },
  {
   "cell_type": "code",
   "execution_count": 6,
   "metadata": {
    "tags": [
     "parameters"
    ]
   },
   "outputs": [],
   "source": [
    "# Transformer model being used\n",
    "MODEL_NAME = \"severinsimmler/bert-adapted-german-press\"\n",
    "\n",
    "# Data being used\n",
    "DATA_NAME = \"swiss\""
   ]
  },
  {
   "cell_type": "code",
   "execution_count": 16,
   "metadata": {},
   "outputs": [
    {
     "data": {
      "application/vnd.jupyter.widget-view+json": {
       "model_id": "34428a2683184f71b58b416c84b6766a",
       "version_major": 2,
       "version_minor": 0
      },
      "text/plain": [
       "HBox(children=(IntProgress(value=0, description='Downloading', max=643, style=ProgressStyle(description_width=…"
      ]
     },
     "metadata": {},
     "output_type": "display_data"
    },
    {
     "name": "stdout",
     "output_type": "stream",
     "text": [
      "\n"
     ]
    },
    {
     "data": {
      "application/vnd.jupyter.widget-view+json": {
       "model_id": "01c837924b48440891addd3b2f35f2d0",
       "version_major": 2,
       "version_minor": 0
      },
      "text/plain": [
       "HBox(children=(IntProgress(value=0, description='Downloading', max=995526, style=ProgressStyle(description_wid…"
      ]
     },
     "metadata": {},
     "output_type": "display_data"
    },
    {
     "name": "stdout",
     "output_type": "stream",
     "text": [
      "\n"
     ]
    },
    {
     "data": {
      "application/vnd.jupyter.widget-view+json": {
       "model_id": "71be89fdc89c4225bdb4bc9d4948a786",
       "version_major": 2,
       "version_minor": 0
      },
      "text/plain": [
       "HBox(children=(IntProgress(value=0, description='Downloading', max=112, style=ProgressStyle(description_width=…"
      ]
     },
     "metadata": {},
     "output_type": "display_data"
    },
    {
     "name": "stdout",
     "output_type": "stream",
     "text": [
      "\n"
     ]
    },
    {
     "data": {
      "application/vnd.jupyter.widget-view+json": {
       "model_id": "1dfbd6e597624071a54f524ff0361de8",
       "version_major": 2,
       "version_minor": 0
      },
      "text/plain": [
       "HBox(children=(IntProgress(value=0, description='Downloading', max=40, style=ProgressStyle(description_width='…"
      ]
     },
     "metadata": {},
     "output_type": "display_data"
    },
    {
     "name": "stdout",
     "output_type": "stream",
     "text": [
      "\n"
     ]
    }
   ],
   "source": [
    "# notebook parameters\n",
    "# the cache data path during find tuning\n",
    "CACHE_DIR = TemporaryDirectory().name\n",
    "processor = ExtSumProcessor(model_name=MODEL_NAME, cache_dir=CACHE_DIR)"
   ]
  },
  {
   "cell_type": "markdown",
   "metadata": {},
   "source": [
    "### Data Preprocessing\n",
    "\n",
    "The dataset we used for this notebook is CNN/DM dataset which contains the documents and accompanying questions from the news articles of CNN and Daily mail. The highlights in each article are used as summary. The dataset consits of ~289K training examples, ~11K valiation examples and ~11K test examples.  You can choose the [Option 1] below preprocess the data or [Option 2] to use the preprocessed version at [BERTSum published example](https://github.com/nlpyang/BertSum/). You don't need to manually download any of these two data sets as the code below will handle downloading. Functions defined specific in [cnndm.py](../../utils_nlp/dataset/cnndm.py) are unique to CNN/DM dataset that's preprocessed by harvardnlp. However, it provides a skeleton of how to preprocessing text into the format that model preprocessor takes: sentence tokenization and work tokenization. \n",
    "\n",
    "##### Details of Data Preprocessing\n",
    "\n",
    "The purpose of preprocessing is to process the input articles to the format that model finetuning needed. Assuming you have (1) all articles and (2) target summaries, each in a file and line-breaker separated, the steps to preprocess the data are:\n",
    "1. sentence tokenization\n",
    "2. word tokenization\n",
    "3. **label** the sentences in the article with 1 meaning the sentence is selected and 0 meaning the sentence is not selected. The algorithms for the sentence selection are \"greedy\" and \"combination\" and can be found in [sentence_selection.py](../../utils_nlp/dataset/sentence_selection.py)\n",
    "3. convert each example to  the desired format for extractive summarization\n",
    "    - filter the sentences in the example based on the min_src_ntokens argument. If the lefted total sentence number is less than min_nsents, the example is discarded.\n",
    "    - truncate the sentences in the example if the length is greater than max_src_ntokens\n",
    "    - truncate the sentences in the example and the labels if the total number of sentences is greater than max_nsents\n",
    "    - [CLS] and [SEP] are inserted before and after each sentence\n",
    "    - wordPiece tokenization or Byte Pair Encoding (BPE) subword tokenization\n",
    "    - truncate the example to 512 tokens\n",
    "    - convert the tokens into token indices corresponding to the transformer tokenizer's vocabulary.\n",
    "    - segment ids are generated and added\n",
    "    - [CLS] token positions are logged\n",
    "    - [CLS] token labels are truncated if it's greater than 512, which is the maximum input length that can be taken by the transformer model.\n",
    "    \n",
    "    \n",
    "Note that the original BERTSum paper use Stanford CoreNLP for data preprocessing, here we use NLTK for data preprocessing. "
   ]
  },
  {
   "cell_type": "code",
   "execution_count": 17,
   "metadata": {
    "tags": [
     "parameters"
    ]
   },
   "outputs": [],
   "source": [
    "# the data path used to save the downloaded data file\n",
    "DATA_PATH = '/home/ubuntu/mnt/data/swiss_processed'\n",
    "# The number of lines at the head of data file used for preprocessing. -1 means all the lines.\n",
    "TOP_N = 1000\n",
    "if not QUICK_RUN:\n",
    "    TOP_N = -1"
   ]
  },
  {
   "cell_type": "markdown",
   "metadata": {},
   "source": [
    "##### [Option 1] Preprocess  data (Please skip this part if you choose to use preprocessed data)\n",
    "The code in following cell will download the CNN/DM dataset listed at https://github.com/harvardnlp/sent-summary/."
   ]
  },
  {
   "cell_type": "code",
   "execution_count": 18,
   "metadata": {
    "scrolled": false
   },
   "outputs": [],
   "source": [
    "if DATA_NAME is \"cnndm\":\n",
    "    train_dataset, test_dataset = CNNDMSummarizationDataset(top_n=TOP_N, local_cache_path=DATA_PATH)\n",
    "elif DATA_NAME is \"swiss\":\n",
    "    train_dataset, validation_dataset, test_dataset = SwissSummarizationDataset(top_n=TOP_N, validation=True, language='german')\n"
   ]
  },
  {
   "cell_type": "code",
   "execution_count": 19,
   "metadata": {},
   "outputs": [
    {
     "data": {
      "text/plain": [
       "(85500, 9500, 5000)"
      ]
     },
     "execution_count": 19,
     "metadata": {},
     "output_type": "execute_result"
    }
   ],
   "source": [
    "len(train_dataset), len(validation_dataset), len(test_dataset)"
   ]
  },
  {
   "cell_type": "markdown",
   "metadata": {},
   "source": [
    "### Preprocess the data."
   ]
  },
  {
   "cell_type": "code",
   "execution_count": 20,
   "metadata": {
    "scrolled": false
   },
   "outputs": [],
   "source": [
    "\n",
    "ext_sum_train = processor.preprocess(train_dataset, oracle_mode=\"greedy\")\n",
    "ext_sum_test = processor.preprocess(test_dataset, oracle_mode=\"greedy\")\n"
   ]
  },
  {
   "cell_type": "markdown",
   "metadata": {},
   "source": [
    "### Save the data."
   ]
  },
  {
   "cell_type": "code",
   "execution_count": 21,
   "metadata": {},
   "outputs": [],
   "source": [
    "SAVE_DATA = True\n",
    "\n",
    "\n",
    "# save and load preprocessed data\n",
    "\n",
    "if SAVE_DATA:\n",
    "    save_path = os.path.join(DATA_PATH, DATA_NAME + \"_processed\")\n",
    "    os.makedirs(save_path, exist_ok=True)\n",
    "\n",
    "    torch.save(ext_sum_train, os.path.join(save_path, \"train_full.pt\"))\n",
    "    torch.save(ext_sum_test, os.path.join(save_path, \"test_full.pt\"))"
   ]
  },
  {
   "cell_type": "code",
   "execution_count": null,
   "metadata": {},
   "outputs": [],
   "source": [
    "len(ext_sum_train)"
   ]
  },
  {
   "cell_type": "code",
   "execution_count": null,
   "metadata": {},
   "outputs": [],
   "source": [
    "len(ext_sum_test)"
   ]
  },
  {
   "cell_type": "markdown",
   "metadata": {},
   "source": [
    "#### Inspect Data"
   ]
  },
  {
   "cell_type": "code",
   "execution_count": null,
   "metadata": {},
   "outputs": [],
   "source": [
    "ext_sum_train[0]"
   ]
  },
  {
   "cell_type": "code",
   "execution_count": null,
   "metadata": {
    "scrolled": false
   },
   "outputs": [],
   "source": [
    "ext_sum_train[0].keys()"
   ]
  },
  {
   "cell_type": "markdown",
   "metadata": {},
   "source": [
    "##### [Option 2] Reuse cached preprocessed data"
   ]
  },
  {
   "cell_type": "code",
   "execution_count": null,
   "metadata": {},
   "outputs": [],
   "source": [
    "if USE_PREPROCSSED_DATA:\n",
    "    save_path = os.path.join(DATA_PATH, DATA_NAME + \"_processed\")\n",
    "    ext_sum_train = torch.load(os.path.join(save_path, \"train_full.pt\"))\n",
    "    ext_sum_test = torch.load(os.path.join(save_path, \"test_full.pt\"))\n",
    "    "
   ]
  },
  {
   "cell_type": "code",
   "execution_count": null,
   "metadata": {},
   "outputs": [],
   "source": []
  },
  {
   "cell_type": "code",
   "execution_count": 9,
   "metadata": {},
   "outputs": [
    {
     "data": {
      "text/plain": [
       "{'src': [['Im',\n",
       "   'März',\n",
       "   '2012',\n",
       "   'wurde',\n",
       "   'er',\n",
       "   'im',\n",
       "   'finnischen',\n",
       "   'Kuopio',\n",
       "   'erstmals',\n",
       "   'im',\n",
       "   'zweitklassigen',\n",
       "   'Continental',\n",
       "   'Cup',\n",
       "   'eingesetzt',\n",
       "   '.'],\n",
       "  ['Beim', 'Sommerspringen', 'am', '16', '.'],\n",
       "  ['September',\n",
       "   '2012',\n",
       "   'auf',\n",
       "   'der',\n",
       "   'neu',\n",
       "   'erbauten',\n",
       "   'Sneschinka',\n",
       "   'im',\n",
       "   'russischen',\n",
       "   'Tschaikowski',\n",
       "   'sprang',\n",
       "   'er',\n",
       "   'als',\n",
       "   'Dritter',\n",
       "   'erstmals',\n",
       "   'in',\n",
       "   'diesem',\n",
       "   'Wettbewerb',\n",
       "   'auf',\n",
       "   'das',\n",
       "   'Podium',\n",
       "   '.'],\n",
       "  ['Eine',\n",
       "   'Woche',\n",
       "   'später',\n",
       "   'konnte',\n",
       "   'er',\n",
       "   'im',\n",
       "   'sächsischen',\n",
       "   'Klingenthal',\n",
       "   'sogar',\n",
       "   'Platz',\n",
       "   'zwei',\n",
       "   'belegen',\n",
       "   '.'],\n",
       "  ['Am',\n",
       "   'Ende',\n",
       "   'reichte',\n",
       "   'es',\n",
       "   'in',\n",
       "   'der',\n",
       "   'Gesamtwertung',\n",
       "   'des',\n",
       "   'Sommer-Grand-Prix',\n",
       "   'zum',\n",
       "   'fünften',\n",
       "   'Platz',\n",
       "   '.'],\n",
       "  ['Aufgrund',\n",
       "   'dieser',\n",
       "   'Erfolge',\n",
       "   'wurde',\n",
       "   'er',\n",
       "   'für',\n",
       "   'den',\n",
       "   'Weltcupauftakt',\n",
       "   'am',\n",
       "   'letzten',\n",
       "   'Novemberwochenende',\n",
       "   '2012',\n",
       "   'im',\n",
       "   'norwegischen',\n",
       "   'Lillehammer',\n",
       "   'nominiert',\n",
       "   '.'],\n",
       "  ['Dort',\n",
       "   'konnte',\n",
       "   'er',\n",
       "   'sich',\n",
       "   'nicht',\n",
       "   'nur',\n",
       "   'für',\n",
       "   'den',\n",
       "   'Wettkampf',\n",
       "   'qualifizieren',\n",
       "   ',',\n",
       "   'sondern',\n",
       "   'auch',\n",
       "   'gleich',\n",
       "   'sowohl',\n",
       "   'von',\n",
       "   'der',\n",
       "   'Normalschanze',\n",
       "   'als',\n",
       "   'auch',\n",
       "   'von',\n",
       "   'der',\n",
       "   'Grossschanze',\n",
       "   'punkten',\n",
       "   '.'],\n",
       "  ['Am', '9', '.'],\n",
       "  ['Dezember',\n",
       "   '2012',\n",
       "   'wurde',\n",
       "   'er',\n",
       "   'Sechster',\n",
       "   'beim',\n",
       "   'Weltcup',\n",
       "   'im',\n",
       "   'russischen',\n",
       "   'Sotschi',\n",
       "   ',',\n",
       "   'sein',\n",
       "   'bis',\n",
       "   'Februar',\n",
       "   '2016',\n",
       "   'bestes',\n",
       "   'Ergebnis',\n",
       "   '.'],\n",
       "  ['Bei',\n",
       "   'den',\n",
       "   'Juniorenweltmeisterschaften',\n",
       "   '2013',\n",
       "   'im',\n",
       "   'tschechischen',\n",
       "   'Liberec',\n",
       "   'konnte',\n",
       "   'er',\n",
       "   'mit',\n",
       "   'der',\n",
       "   'deutschen',\n",
       "   'Mannschaft',\n",
       "   'die',\n",
       "   'Bronzemedaille',\n",
       "   'im',\n",
       "   'Mannschaftswettbewerb',\n",
       "   'gewinnen',\n",
       "   '.'],\n",
       "  ['Im', 'Einzel', 'belegte', 'er', 'den', 'siebenten', 'Rang', '.'],\n",
       "  ['In',\n",
       "   'der',\n",
       "   'Saison',\n",
       "   '2013/14',\n",
       "   'konnte',\n",
       "   'Geiger',\n",
       "   'mit',\n",
       "   'dem',\n",
       "   'zweiten',\n",
       "   'Platz',\n",
       "   'beim',\n",
       "   'Teamspringen',\n",
       "   'in',\n",
       "   'Klingenthal',\n",
       "   'seinen',\n",
       "   'ersten',\n",
       "   'Weltcup-Podestplatz',\n",
       "   'feiern',\n",
       "   '.'],\n",
       "  ['Mitte',\n",
       "   'Februar',\n",
       "   '2014',\n",
       "   'gewann',\n",
       "   'er',\n",
       "   'auf',\n",
       "   'der',\n",
       "   'Inselbergschanze',\n",
       "   'in',\n",
       "   'Brotterode',\n",
       "   'seine',\n",
       "   'ersten',\n",
       "   'beiden',\n",
       "   'Continental-Cup-Springen',\n",
       "   '.'],\n",
       "  ['Werner',\n",
       "   'Schuster',\n",
       "   'nominierte',\n",
       "   'Geiger',\n",
       "   'im',\n",
       "   'Dezember',\n",
       "   '2014',\n",
       "   'erstmals',\n",
       "   'in',\n",
       "   'die',\n",
       "   'Nationale',\n",
       "   'Gruppe',\n",
       "   'bei',\n",
       "   'den',\n",
       "   'Springen',\n",
       "   'zur',\n",
       "   'Vierschanzentournee',\n",
       "   '2014/15',\n",
       "   '.'],\n",
       "  ['In',\n",
       "   'Oberstdorf',\n",
       "   'schied',\n",
       "   'er',\n",
       "   'jedoch',\n",
       "   'im',\n",
       "   'ersten',\n",
       "   'Durchgang',\n",
       "   'aus',\n",
       "   '.'],\n",
       "  ['Geiger',\n",
       "   'wurde',\n",
       "   'ein',\n",
       "   'Jahr',\n",
       "   'später',\n",
       "   ',',\n",
       "   'im',\n",
       "   'Dezember',\n",
       "   '2015',\n",
       "   ',',\n",
       "   'erneut',\n",
       "   'für',\n",
       "   'die',\n",
       "   'Nationale',\n",
       "   'Gruppe',\n",
       "   'zur',\n",
       "   'Vierschanzentournee',\n",
       "   '2015/16',\n",
       "   'nominiert',\n",
       "   '.'],\n",
       "  ['In',\n",
       "   'Oberstdorf',\n",
       "   'konnte',\n",
       "   'sich',\n",
       "   'Geiger',\n",
       "   'im',\n",
       "   'ersten',\n",
       "   'Durchgang',\n",
       "   'im',\n",
       "   'Duell',\n",
       "   'gegen',\n",
       "   'Junshirō',\n",
       "   'Kobayashi',\n",
       "   'durchsetzen',\n",
       "   'und',\n",
       "   'erlangte',\n",
       "   'mit',\n",
       "   'dem',\n",
       "   '26',\n",
       "   '.'],\n",
       "  ['Platz', 'die', 'ersten', 'Weltcuppunkte', 'der', 'Saison', '2015/16', '.'],\n",
       "  ['In',\n",
       "   'Garmisch-Partenkirchen',\n",
       "   'gelang',\n",
       "   'ihm',\n",
       "   'erneut',\n",
       "   'die',\n",
       "   'Qualifikation',\n",
       "   ',',\n",
       "   'im',\n",
       "   'ersten',\n",
       "   'Durchgang',\n",
       "   'scheiterte',\n",
       "   'er',\n",
       "   'jedoch',\n",
       "   'und',\n",
       "   'verpasste',\n",
       "   'einen',\n",
       "   'weiteren',\n",
       "   'Einzug',\n",
       "   'in',\n",
       "   'den',\n",
       "   'zweiten',\n",
       "   'Durchgang',\n",
       "   '.'],\n",
       "  ['Am', '21', '.'],\n",
       "  ['Februar',\n",
       "   '2016',\n",
       "   'sprang',\n",
       "   'Geiger',\n",
       "   'beim',\n",
       "   'Wettbewerb',\n",
       "   'von',\n",
       "   'der',\n",
       "   'Normalschanze',\n",
       "   'in',\n",
       "   'Lahti',\n",
       "   'auf',\n",
       "   'den',\n",
       "   'zweiten',\n",
       "   'Platz',\n",
       "   'und',\n",
       "   'erreichte',\n",
       "   'damit',\n",
       "   'sein',\n",
       "   'bisher',\n",
       "   'bestes',\n",
       "   'Weltcupergebnis',\n",
       "   '.'],\n",
       "  ['Bei',\n",
       "   'den',\n",
       "   'Olympischen',\n",
       "   'Winterspielen',\n",
       "   '2018',\n",
       "   'in',\n",
       "   'Pyeongchang',\n",
       "   'erreichte',\n",
       "   'Geiger',\n",
       "   'Platz',\n",
       "   '10',\n",
       "   'auf',\n",
       "   'der',\n",
       "   'Normalschanze',\n",
       "   'und',\n",
       "   'Platz',\n",
       "   '7',\n",
       "   'auf',\n",
       "   'der',\n",
       "   'Grossschanze',\n",
       "   '.'],\n",
       "  ['Zusammen',\n",
       "   'mit',\n",
       "   'Stephan',\n",
       "   'Leyhe',\n",
       "   ',',\n",
       "   'Richard',\n",
       "   'Freitag',\n",
       "   'und',\n",
       "   'Andreas',\n",
       "   'Wellinger',\n",
       "   'gewann',\n",
       "   'er',\n",
       "   'hinter',\n",
       "   'Norwegen',\n",
       "   'die',\n",
       "   'Silbermedaille',\n",
       "   'im',\n",
       "   'Mannschaftswettbewerb',\n",
       "   '.'],\n",
       "  ['Bei',\n",
       "   'der',\n",
       "   'ersten',\n",
       "   'Weltcup-Station',\n",
       "   'nach',\n",
       "   'den',\n",
       "   'Olympischen',\n",
       "   'Winterspielen',\n",
       "   'in',\n",
       "   'Lahti',\n",
       "   'gewann',\n",
       "   'er',\n",
       "   'mit',\n",
       "   'Markus',\n",
       "   'Eisenbichler',\n",
       "   ',',\n",
       "   'Richard',\n",
       "   'Freitag',\n",
       "   'und',\n",
       "   'Andreas',\n",
       "   'Wellinger',\n",
       "   'den',\n",
       "   'Mannschaftswettbewerb',\n",
       "   'und',\n",
       "   'erzielte',\n",
       "   'damit',\n",
       "   'seinen',\n",
       "   'ersten',\n",
       "   'Weltcupsieg',\n",
       "   '.'],\n",
       "  ['Er',\n",
       "   'beendete',\n",
       "   'den',\n",
       "   'Gesamtweltcup',\n",
       "   'als',\n",
       "   '14.',\n",
       "   'mit',\n",
       "   '427',\n",
       "   'Punkten',\n",
       "   ',',\n",
       "   'was',\n",
       "   'bis',\n",
       "   'dahin',\n",
       "   'sein',\n",
       "   'bestes',\n",
       "   'Ergebnis',\n",
       "   'war',\n",
       "   '.']],\n",
       " 'src_txt': ['Im März 2012 wurde er im finnischen Kuopio erstmals im zweitklassigen Continental Cup eingesetzt.',\n",
       "  'Beim Sommerspringen am 16.',\n",
       "  'September 2012 auf der neu erbauten Sneschinka im russischen Tschaikowski sprang er als Dritter erstmals in diesem Wettbewerb auf das Podium.',\n",
       "  'Eine Woche später konnte er im sächsischen Klingenthal sogar Platz zwei belegen.',\n",
       "  'Am Ende reichte es in der Gesamtwertung des Sommer-Grand-Prix zum fünften Platz.',\n",
       "  'Aufgrund dieser Erfolge wurde er für den Weltcupauftakt am letzten Novemberwochenende 2012 im norwegischen Lillehammer nominiert.',\n",
       "  'Dort konnte er sich nicht nur für den Wettkampf qualifizieren, sondern auch gleich sowohl von der Normalschanze als auch von der Grossschanze punkten.',\n",
       "  'Am 9.',\n",
       "  'Dezember 2012 wurde er Sechster beim Weltcup im russischen Sotschi, sein bis Februar 2016 bestes Ergebnis.',\n",
       "  'Bei den Juniorenweltmeisterschaften 2013 im tschechischen Liberec konnte er mit der deutschen Mannschaft die Bronzemedaille im Mannschaftswettbewerb gewinnen.',\n",
       "  'Im Einzel belegte er den siebenten Rang.',\n",
       "  'In der Saison 2013/14 konnte Geiger mit dem zweiten Platz beim Teamspringen in Klingenthal seinen ersten Weltcup-Podestplatz feiern.',\n",
       "  'Mitte Februar 2014 gewann er auf der Inselbergschanze in Brotterode seine ersten beiden Continental-Cup-Springen.',\n",
       "  'Werner Schuster nominierte Geiger im Dezember 2014 erstmals in die Nationale Gruppe bei den Springen zur Vierschanzentournee 2014/15.',\n",
       "  'In Oberstdorf schied er jedoch im ersten Durchgang aus.',\n",
       "  'Geiger wurde ein Jahr später, im Dezember 2015, erneut für die Nationale Gruppe zur Vierschanzentournee 2015/16 nominiert.',\n",
       "  'In Oberstdorf konnte sich Geiger im ersten Durchgang im Duell gegen Junshirō Kobayashi durchsetzen und erlangte mit dem 26.',\n",
       "  'Platz die ersten Weltcuppunkte der Saison 2015/16.',\n",
       "  'In Garmisch-Partenkirchen gelang ihm erneut die Qualifikation, im ersten Durchgang scheiterte er jedoch und verpasste einen weiteren Einzug in den zweiten Durchgang.',\n",
       "  'Am 21.',\n",
       "  'Februar 2016 sprang Geiger beim Wettbewerb von der Normalschanze in Lahti auf den zweiten Platz und erreichte damit sein bisher bestes Weltcupergebnis.',\n",
       "  'Bei den Olympischen Winterspielen 2018 in Pyeongchang erreichte Geiger Platz 10 auf der Normalschanze und Platz 7 auf der Grossschanze.',\n",
       "  'Zusammen mit Stephan Leyhe, Richard Freitag und Andreas Wellinger gewann er hinter Norwegen die Silbermedaille im Mannschaftswettbewerb.',\n",
       "  'Bei der ersten Weltcup-Station nach den Olympischen Winterspielen in Lahti gewann er mit Markus Eisenbichler, Richard Freitag und Andreas Wellinger den Mannschaftswettbewerb und erzielte damit seinen ersten Weltcupsieg.',\n",
       "  'Er beendete den Gesamtweltcup als 14. mit 427 Punkten, was bis dahin sein bestes Ergebnis war.'],\n",
       " 'tgt': [['Karl',\n",
       "   'Geiger',\n",
       "   'ist',\n",
       "   'ein',\n",
       "   'deutscher',\n",
       "   'Skispringer',\n",
       "   ',',\n",
       "   'der',\n",
       "   'für',\n",
       "   'den',\n",
       "   'SC',\n",
       "   'Oberstdorf',\n",
       "   'startet',\n",
       "   '.'],\n",
       "  ['Er', 'gehört', 'seit', '2016', 'dem', 'Zoll-Ski-Team', 'an', '.'],\n",
       "  ['Sein',\n",
       "   'bisher',\n",
       "   'grösster',\n",
       "   'Erfolg',\n",
       "   'ist',\n",
       "   'der',\n",
       "   'Gewinn',\n",
       "   'der',\n",
       "   'Silbermedaille',\n",
       "   'im',\n",
       "   'Mannschaftswettbewerb',\n",
       "   'bei',\n",
       "   'den',\n",
       "   'Olympischen',\n",
       "   'Winterspielen',\n",
       "   '2018',\n",
       "   'in',\n",
       "   'Pyeongchang',\n",
       "   '.']],\n",
       " 'tgt_txt': ['Karl Geiger ist ein deutscher Skispringer, der für den SC Oberstdorf startet.',\n",
       "  'Er gehört seit 2016 dem Zoll-Ski-Team an.',\n",
       "  'Sein bisher grösster Erfolg ist der Gewinn der Silbermedaille im Mannschaftswettbewerb bei den Olympischen Winterspielen 2018 in Pyeongchang.'],\n",
       " 'oracle_ids': [21, 22]}"
      ]
     },
     "execution_count": 9,
     "metadata": {},
     "output_type": "execute_result"
    }
   ],
   "source": [
    "ext_sum_train[0]"
   ]
  },
  {
   "cell_type": "markdown",
   "metadata": {},
   "source": [
    "### Model training\n",
    "To start model training, we need to create a instance of ExtractiveSummarizer.\n",
    "\n",
    "Potentionally, roberta-based model and xlnet can be supported but needs to be tested.\n",
    "#### Choose the encoder algorithm.\n",
    "There are four options:\n",
    "- baseline: it used a smaller transformer model to replace the bert model and with transformer summarization layer\n",
    "- classifier: it uses pretrained BERT and fine-tune BERT with **simple logistic classification** summarization layer\n",
    "- transformer: it uses pretrained BERT and fine-tune BERT with **transformer** summarization layer\n",
    "- RNN: it uses pretrained BERT and fine-tune BERT with **LSTM** summarization layer"
   ]
  },
  {
   "cell_type": "code",
   "execution_count": 10,
   "metadata": {
    "tags": [
     "parameters"
    ]
   },
   "outputs": [],
   "source": [
    "\n",
    "if USE_PREPROCSSED_DATA: #if bertsum published data is used\n",
    "    BATCH_SIZE = 5 # 3000 # batch size, unit is the number of tokens\n",
    "    MAX_POS_LENGTH = 512\n",
    "else:\n",
    "    BATCH_SIZE = 5 # batch size, unit is the number of samples\n",
    "    MAX_POS_LENGTH = 512\n",
    "\n",
    "\n",
    "# GPU used for training\n",
    "NUM_GPUS = torch.cuda.device_count()\n",
    "\n",
    "# Encoder name. Options are: 1. baseline, classifier, transformer, rnn.\n",
    "ENCODER = \"transformer\"\n",
    "\n",
    "# Learning rate\n",
    "LEARNING_RATE=2e-3\n",
    "\n",
    "# How often the statistics reports show up in training, unit is step.\n",
    "REPORT_EVERY=50\n",
    "\n",
    "# total number of steps for training\n",
    "MAX_STEPS=1e2\n",
    "# number of steps for warm up\n",
    "WARMUP_STEPS=5e2\n",
    "    \n",
    "if not QUICK_RUN:\n",
    "    MAX_STEPS=5e4\n",
    "    WARMUP_STEPS=5e3\n",
    " "
   ]
  },
  {
   "cell_type": "code",
   "execution_count": 11,
   "metadata": {
    "scrolled": true
   },
   "outputs": [
    {
     "data": {
      "application/vnd.jupyter.widget-view+json": {
       "model_id": "b0522e8bbadf416cbaadb292fe681df4",
       "version_major": 2,
       "version_minor": 0
      },
      "text/plain": [
       "HBox(children=(IntProgress(value=0, description='Downloading', max=714311810, style=ProgressStyle(description_…"
      ]
     },
     "metadata": {},
     "output_type": "display_data"
    },
    {
     "name": "stdout",
     "output_type": "stream",
     "text": [
      "\n"
     ]
    }
   ],
   "source": [
    "summarizer = ExtractiveSummarizer(processor, MODEL_NAME, ENCODER, MAX_POS_LENGTH, CACHE_DIR)"
   ]
  },
  {
   "cell_type": "code",
   "execution_count": 12,
   "metadata": {},
   "outputs": [
    {
     "data": {
      "text/plain": [
       "'severinsimmler/bert-adapted-german-press'"
      ]
     },
     "execution_count": 12,
     "metadata": {},
     "output_type": "execute_result"
    }
   ],
   "source": [
    "summarizer.model_name"
   ]
  },
  {
   "cell_type": "code",
   "execution_count": 13,
   "metadata": {
    "scrolled": true
   },
   "outputs": [
    {
     "name": "stderr",
     "output_type": "stream",
     "text": [
      "Iteration:   1%|          | 100/17100 [00:26<1:18:10,  3.62it/s]"
     ]
    },
    {
     "name": "stdout",
     "output_type": "stream",
     "text": [
      "timestamp: 14/07/2020 10:39:06, average loss: 27.062008, time duration: 26.768522,\n",
      "                            number of examples in current reporting: 500, step 50\n",
      "                            out of total 100\n"
     ]
    },
    {
     "name": "stderr",
     "output_type": "stream",
     "text": [
      "Iteration:   1%|          | 200/17100 [00:53<1:18:07,  3.61it/s]"
     ]
    },
    {
     "name": "stdout",
     "output_type": "stream",
     "text": [
      "timestamp: 14/07/2020 10:39:33, average loss: 24.955555, time duration: 26.455107,\n",
      "                            number of examples in current reporting: 500, step 100\n",
      "                            out of total 100\n"
     ]
    },
    {
     "name": "stderr",
     "output_type": "stream",
     "text": [
      "Iteration:   1%|          | 201/17100 [00:53<1:15:59,  3.71it/s]\n"
     ]
    }
   ],
   "source": [
    "#\"\"\"\n",
    "\n",
    "summarizer.fit(\n",
    "            ext_sum_train,\n",
    "            num_gpus=NUM_GPUS,\n",
    "            batch_size=BATCH_SIZE,\n",
    "            gradient_accumulation_steps=2,\n",
    "            max_steps=MAX_STEPS,\n",
    "            learning_rate=LEARNING_RATE,\n",
    "            warmup_steps=WARMUP_STEPS,\n",
    "            verbose=True,\n",
    "            report_every=REPORT_EVERY,\n",
    "            clip_grad_norm=False,\n",
    "            use_preprocessed_data=False\n",
    "        )\n",
    "\n",
    "#\"\"\"\n"
   ]
  },
  {
   "cell_type": "code",
   "execution_count": 14,
   "metadata": {},
   "outputs": [
    {
     "name": "stdout",
     "output_type": "stream",
     "text": [
      "saving through pytorch\n",
      "saving as pickle\n"
     ]
    },
    {
     "ename": "FileNotFoundError",
     "evalue": "[Errno 2] No such file or directory: '/tmp/tmp104y8y_d/extsum_modelname_severinsimmler/bert-adapted-german-press_usepreprocessTrue_steps_100.0.pt'",
     "output_type": "error",
     "traceback": [
      "\u001b[0;31m---------------------------------------------------------------------------\u001b[0m",
      "\u001b[0;31mFileNotFoundError\u001b[0m                         Traceback (most recent call last)",
      "\u001b[0;32m~/mnt/nlp-recipes/utils_nlp/models/transformers/extractive_summarization.py\u001b[0m in \u001b[0;36msave_model\u001b[0;34m(self, full_name)\u001b[0m\n\u001b[1;32m    940\u001b[0m             \u001b[0mprint\u001b[0m\u001b[0;34m(\u001b[0m\u001b[0;34m\"saving through pytorch\"\u001b[0m\u001b[0;34m)\u001b[0m\u001b[0;34m\u001b[0m\u001b[0;34m\u001b[0m\u001b[0m\n\u001b[0;32m--> 941\u001b[0;31m             \u001b[0mtorch\u001b[0m\u001b[0;34m.\u001b[0m\u001b[0msave\u001b[0m\u001b[0;34m(\u001b[0m\u001b[0mmodel_to_save\u001b[0m\u001b[0;34m.\u001b[0m\u001b[0mstate_dict\u001b[0m\u001b[0;34m(\u001b[0m\u001b[0;34m)\u001b[0m\u001b[0;34m,\u001b[0m \u001b[0mfull_name\u001b[0m\u001b[0;34m)\u001b[0m\u001b[0;34m\u001b[0m\u001b[0;34m\u001b[0m\u001b[0m\n\u001b[0m\u001b[1;32m    942\u001b[0m         \u001b[0;32mexcept\u001b[0m \u001b[0mOSError\u001b[0m\u001b[0;34m:\u001b[0m\u001b[0;34m\u001b[0m\u001b[0;34m\u001b[0m\u001b[0m\n",
      "\u001b[0;32m~/anaconda3/envs/nlp_gpu/lib/python3.6/site-packages/torch/serialization.py\u001b[0m in \u001b[0;36msave\u001b[0;34m(obj, f, pickle_module, pickle_protocol, _use_new_zipfile_serialization)\u001b[0m\n\u001b[1;32m    326\u001b[0m \u001b[0;34m\u001b[0m\u001b[0m\n\u001b[0;32m--> 327\u001b[0;31m     \u001b[0;32mwith\u001b[0m \u001b[0m_open_file_like\u001b[0m\u001b[0;34m(\u001b[0m\u001b[0mf\u001b[0m\u001b[0;34m,\u001b[0m \u001b[0;34m'wb'\u001b[0m\u001b[0;34m)\u001b[0m \u001b[0;32mas\u001b[0m \u001b[0mopened_file\u001b[0m\u001b[0;34m:\u001b[0m\u001b[0;34m\u001b[0m\u001b[0;34m\u001b[0m\u001b[0m\n\u001b[0m\u001b[1;32m    328\u001b[0m         \u001b[0m_legacy_save\u001b[0m\u001b[0;34m(\u001b[0m\u001b[0mobj\u001b[0m\u001b[0;34m,\u001b[0m \u001b[0mopened_file\u001b[0m\u001b[0;34m,\u001b[0m \u001b[0mpickle_module\u001b[0m\u001b[0;34m,\u001b[0m \u001b[0mpickle_protocol\u001b[0m\u001b[0;34m)\u001b[0m\u001b[0;34m\u001b[0m\u001b[0;34m\u001b[0m\u001b[0m\n",
      "\u001b[0;32m~/anaconda3/envs/nlp_gpu/lib/python3.6/site-packages/torch/serialization.py\u001b[0m in \u001b[0;36m_open_file_like\u001b[0;34m(name_or_buffer, mode)\u001b[0m\n\u001b[1;32m    211\u001b[0m     \u001b[0;32mif\u001b[0m \u001b[0m_is_path\u001b[0m\u001b[0;34m(\u001b[0m\u001b[0mname_or_buffer\u001b[0m\u001b[0;34m)\u001b[0m\u001b[0;34m:\u001b[0m\u001b[0;34m\u001b[0m\u001b[0;34m\u001b[0m\u001b[0m\n\u001b[0;32m--> 212\u001b[0;31m         \u001b[0;32mreturn\u001b[0m \u001b[0m_open_file\u001b[0m\u001b[0;34m(\u001b[0m\u001b[0mname_or_buffer\u001b[0m\u001b[0;34m,\u001b[0m \u001b[0mmode\u001b[0m\u001b[0;34m)\u001b[0m\u001b[0;34m\u001b[0m\u001b[0;34m\u001b[0m\u001b[0m\n\u001b[0m\u001b[1;32m    213\u001b[0m     \u001b[0;32melse\u001b[0m\u001b[0;34m:\u001b[0m\u001b[0;34m\u001b[0m\u001b[0;34m\u001b[0m\u001b[0m\n",
      "\u001b[0;32m~/anaconda3/envs/nlp_gpu/lib/python3.6/site-packages/torch/serialization.py\u001b[0m in \u001b[0;36m__init__\u001b[0;34m(self, name, mode)\u001b[0m\n\u001b[1;32m    192\u001b[0m     \u001b[0;32mdef\u001b[0m \u001b[0m__init__\u001b[0m\u001b[0;34m(\u001b[0m\u001b[0mself\u001b[0m\u001b[0;34m,\u001b[0m \u001b[0mname\u001b[0m\u001b[0;34m,\u001b[0m \u001b[0mmode\u001b[0m\u001b[0;34m)\u001b[0m\u001b[0;34m:\u001b[0m\u001b[0;34m\u001b[0m\u001b[0;34m\u001b[0m\u001b[0m\n\u001b[0;32m--> 193\u001b[0;31m         \u001b[0msuper\u001b[0m\u001b[0;34m(\u001b[0m\u001b[0m_open_file\u001b[0m\u001b[0;34m,\u001b[0m \u001b[0mself\u001b[0m\u001b[0;34m)\u001b[0m\u001b[0;34m.\u001b[0m\u001b[0m__init__\u001b[0m\u001b[0;34m(\u001b[0m\u001b[0mopen\u001b[0m\u001b[0;34m(\u001b[0m\u001b[0mname\u001b[0m\u001b[0;34m,\u001b[0m \u001b[0mmode\u001b[0m\u001b[0;34m)\u001b[0m\u001b[0;34m)\u001b[0m\u001b[0;34m\u001b[0m\u001b[0;34m\u001b[0m\u001b[0m\n\u001b[0m\u001b[1;32m    194\u001b[0m \u001b[0;34m\u001b[0m\u001b[0m\n",
      "\u001b[0;31mFileNotFoundError\u001b[0m: [Errno 2] No such file or directory: '/tmp/tmp104y8y_d/extsum_modelname_severinsimmler/bert-adapted-german-press_usepreprocessTrue_steps_100.0.pt'",
      "\nDuring handling of the above exception, another exception occurred:\n",
      "\u001b[0;31mFileNotFoundError\u001b[0m                         Traceback (most recent call last)",
      "\u001b[0;32m<ipython-input-14-e3449f5218c7>\u001b[0m in \u001b[0;36m<module>\u001b[0;34m\u001b[0m\n\u001b[1;32m      3\u001b[0m         \u001b[0mCACHE_DIR\u001b[0m\u001b[0;34m,\u001b[0m\u001b[0;34m\u001b[0m\u001b[0;34m\u001b[0m\u001b[0m\n\u001b[1;32m      4\u001b[0m         \"extsum_modelname_{0}_usepreprocess{1}_steps_{2}.pt\".format(\n\u001b[0;32m----> 5\u001b[0;31m             \u001b[0mMODEL_NAME\u001b[0m\u001b[0;34m,\u001b[0m \u001b[0mUSE_PREPROCSSED_DATA\u001b[0m\u001b[0;34m,\u001b[0m \u001b[0mMAX_STEPS\u001b[0m\u001b[0;34m\u001b[0m\u001b[0;34m\u001b[0m\u001b[0m\n\u001b[0m\u001b[1;32m      6\u001b[0m         ),\n\u001b[1;32m      7\u001b[0m     )\n",
      "\u001b[0;32m~/mnt/nlp-recipes/utils_nlp/models/transformers/extractive_summarization.py\u001b[0m in \u001b[0;36msave_model\u001b[0;34m(self, full_name)\u001b[0m\n\u001b[1;32m    943\u001b[0m             \u001b[0;32mtry\u001b[0m\u001b[0;34m:\u001b[0m\u001b[0;34m\u001b[0m\u001b[0;34m\u001b[0m\u001b[0m\n\u001b[1;32m    944\u001b[0m                 \u001b[0mprint\u001b[0m\u001b[0;34m(\u001b[0m\u001b[0;34m\"saving as pickle\"\u001b[0m\u001b[0;34m)\u001b[0m\u001b[0;34m\u001b[0m\u001b[0;34m\u001b[0m\u001b[0m\n\u001b[0;32m--> 945\u001b[0;31m                 \u001b[0mpickle\u001b[0m\u001b[0;34m.\u001b[0m\u001b[0mdump\u001b[0m\u001b[0;34m(\u001b[0m\u001b[0mmodel_to_save\u001b[0m\u001b[0;34m.\u001b[0m\u001b[0mstate_dict\u001b[0m\u001b[0;34m(\u001b[0m\u001b[0;34m)\u001b[0m\u001b[0;34m,\u001b[0m \u001b[0mopen\u001b[0m\u001b[0;34m(\u001b[0m\u001b[0mfull_name\u001b[0m\u001b[0;34m,\u001b[0m \u001b[0;34m\"wb\"\u001b[0m\u001b[0;34m)\u001b[0m\u001b[0;34m)\u001b[0m\u001b[0;34m\u001b[0m\u001b[0;34m\u001b[0m\u001b[0m\n\u001b[0m\u001b[1;32m    946\u001b[0m             \u001b[0;32mexcept\u001b[0m \u001b[0mException\u001b[0m\u001b[0;34m:\u001b[0m\u001b[0;34m\u001b[0m\u001b[0;34m\u001b[0m\u001b[0m\n\u001b[1;32m    947\u001b[0m                 \u001b[0;32mraise\u001b[0m\u001b[0;34m\u001b[0m\u001b[0;34m\u001b[0m\u001b[0m\n",
      "\u001b[0;31mFileNotFoundError\u001b[0m: [Errno 2] No such file or directory: '/tmp/tmp104y8y_d/extsum_modelname_severinsimmler/bert-adapted-german-press_usepreprocessTrue_steps_100.0.pt'"
     ]
    }
   ],
   "source": [
    "summarizer.save_model(\n",
    "    os.path.join(\n",
    "        CACHE_DIR,\n",
    "        \"extsum_modelname_{0}_usepreprocess{1}_steps_{2}.pt\".format(\n",
    "            MODEL_NAME, USE_PREPROCSSED_DATA, MAX_STEPS\n",
    "        ),\n",
    "    )\n",
    ")"
   ]
  },
  {
   "cell_type": "code",
   "execution_count": 15,
   "metadata": {},
   "outputs": [
    {
     "data": {
      "text/plain": [
       "'\\nimport torch\\nmodel_path = os.path.join(\\n        CACHE_DIR,\\n        \"extsum_modelname_{0}_usepreprocess{1}_steps_{2}.pt\".format(\\n            MODEL_NAME, USE_PREPROCSSED_DATA, MAX_STEPS\\n        ))\\nsummarizer = ExtractiveSummarizer(processor, MODEL_NAME, ENCODER, MAX_POS_LENGTH, CACHE_DIR)\\nsummarizer.model.load_state_dict(torch.load(model_path, map_location=\"cpu\"))\\n'"
      ]
     },
     "execution_count": 15,
     "metadata": {},
     "output_type": "execute_result"
    }
   ],
   "source": [
    "# for loading a previous saved model\n",
    "\"\"\"\n",
    "import torch\n",
    "model_path = os.path.join(\n",
    "        CACHE_DIR,\n",
    "        \"extsum_modelname_{0}_usepreprocess{1}_steps_{2}.pt\".format(\n",
    "            MODEL_NAME, USE_PREPROCSSED_DATA, MAX_STEPS\n",
    "        ))\n",
    "summarizer = ExtractiveSummarizer(processor, MODEL_NAME, ENCODER, MAX_POS_LENGTH, CACHE_DIR)\n",
    "summarizer.model.load_state_dict(torch.load(model_path, map_location=\"cpu\"))\n",
    "\"\"\""
   ]
  },
  {
   "cell_type": "markdown",
   "metadata": {},
   "source": [
    "### Model Evaluation\n",
    "\n",
    "[ROUGE](https://en.wikipedia.org/wiki/ROUGE_(metric)), or Recall-Oriented Understudy for Gisting Evaluation has been commonly used for evaluating text summarization."
   ]
  },
  {
   "cell_type": "code",
   "execution_count": 16,
   "metadata": {},
   "outputs": [
    {
     "data": {
      "text/plain": [
       "dict_keys(['src', 'src_txt', 'tgt', 'tgt_txt', 'oracle_ids'])"
      ]
     },
     "execution_count": 16,
     "metadata": {},
     "output_type": "execute_result"
    }
   ],
   "source": [
    "ext_sum_test[0].keys()"
   ]
  },
  {
   "cell_type": "code",
   "execution_count": 17,
   "metadata": {},
   "outputs": [],
   "source": [
    "if \"segs\" in ext_sum_test[0]: # preprocessed_data\n",
    "    source = [i['src_txt'] for i in ext_sum_test]\n",
    "    target = [\"\\n\".join(i['tgt_txt'].split(\"<q>\")) for i in ext_sum_test]\n",
    "else:\n",
    "    source = []\n",
    "    temp_target = []\n",
    "    for i in ext_sum_test:\n",
    "        source.append(i[\"src_txt\"]) \n",
    "        temp_target.append(\" \".join(j) for j in i['tgt']) \n",
    "    target = [''.join(i) for i in list(temp_target)]"
   ]
  },
  {
   "cell_type": "code",
   "execution_count": 18,
   "metadata": {
    "scrolled": false
   },
   "outputs": [
    {
     "name": "stderr",
     "output_type": "stream",
     "text": [
      "Scoring: 100%|██████████| 20/20 [02:07<00:00,  5.69s/it]\n"
     ]
    },
    {
     "name": "stdout",
     "output_type": "stream",
     "text": [
      "CPU times: user 2min 5s, sys: 14.4 s, total: 2min 20s\n",
      "Wall time: 2min 9s\n"
     ]
    }
   ],
   "source": [
    "%%time\n",
    "sentence_separator = \"\\n\"\n",
    "prediction = summarizer.predict(ext_sum_test, num_gpus=NUM_GPUS, batch_size=256, sentence_separator=sentence_separator)"
   ]
  },
  {
   "cell_type": "code",
   "execution_count": 19,
   "metadata": {},
   "outputs": [
    {
     "data": {
      "text/plain": [
       "5000"
      ]
     },
     "execution_count": 19,
     "metadata": {},
     "output_type": "execute_result"
    }
   ],
   "source": [
    "len(prediction)"
   ]
  },
  {
   "cell_type": "code",
   "execution_count": null,
   "metadata": {},
   "outputs": [],
   "source": [
    "rouge_scores = compute_rouge_python(cand=prediction, ref=target)\n",
    "pprint.pprint(rouge_scores)"
   ]
  },
  {
   "cell_type": "code",
   "execution_count": null,
   "metadata": {},
   "outputs": [],
   "source": [
    "target[0]"
   ]
  },
  {
   "cell_type": "code",
   "execution_count": null,
   "metadata": {},
   "outputs": [],
   "source": [
    "prediction[0]"
   ]
  },
  {
   "cell_type": "code",
   "execution_count": null,
   "metadata": {},
   "outputs": [],
   "source": [
    "source[0]"
   ]
  },
  {
   "cell_type": "code",
   "execution_count": null,
   "metadata": {},
   "outputs": [],
   "source": [
    "# for testing\n",
    "sb.glue(\"rouge_2_f_score\", rouge_scores['rouge-2']['f'])"
   ]
  },
  {
   "cell_type": "markdown",
   "metadata": {},
   "source": [
    "## Prediction on a single input sample"
   ]
  },
  {
   "cell_type": "code",
   "execution_count": null,
   "metadata": {},
   "outputs": [],
   "source": [
    "source = \"\"\"\n",
    "Am Morgen des 5. September überfielen acht bewaffnete arabische Terroristen, die im Vorfeld von deutschen Neonazis unterstützt worden waren, ein Wohnquartier des israelischen Teams im olympischen Dorf. Ein israelischer Sportler wurde schon während des Angriffs getötet, ein weiterer erlag kurz darauf seinen Verwundungen. Die übrigen neun Mannschaftsmitglieder wurden als Geiseln genommen. Die Geiselnehmer verlangten zunächst die Freilassung von 232 Palästinensern und des japanischen Terroristen Kōzō Okamoto aus israelischer sowie der RAF-Mitglieder Andreas Baader und Ulrike Meinhof aus deutscher Haft. Die israelische Regierung unter Golda Meir lehnte die an sie gestellte Forderung ab. Versuche deutscher Politiker, sich als Austauschgeiseln anzubieten, wiesen die Palästinenser zurück. In der Nacht vom 5. auf den 6. September unternahm die bayerische Polizei auf dem Militärflugplatz Fürstenfeldbruck einen schlecht geplanten und durchgeführten[1] Befreiungsversuch, der vollständig scheiterte.\n",
    "\n",
    "Die drei überlebenden Terroristen wurden schon wenige Wochen nach ihrer Tat mit einer Flugzeugentführung freigepresst. Infolgedessen war das Olympia-Attentat nie Gegenstand eines ordentlichen Gerichtsverfahrens. Die israelische Regierung ordnete eine Vergeltungsaktion „Zorn Gottes“ durch die Sondereinheit „Caesarea“ des Mossad an. Diese tötete in den Jahren nach 1972 etwa zwanzig Palästinenser, die direkt oder indirekt an dem Anschlag beteiligt gewesen waren, aber auch Unschuldige.[2] Nach dem katastrophalen Ausgang des Geiseldramas stellte die deutsche Bundesregierung die Antiterror-Spezialeinheit Bundesgrenzschutzgruppe 9 (GSG 9) auf. Die Länderpolizeien folgten mit Spezialeinsatzkommandos (SEK).\"\"\""
   ]
  },
  {
   "cell_type": "code",
   "execution_count": null,
   "metadata": {},
   "outputs": [],
   "source": [
    "test_dataset = SummarizationDataset(\n",
    "    None,\n",
    "    source=[source],\n",
    "    source_preprocessing=[tokenize.sent_tokenize],\n",
    "    word_tokenize=nltk.word_tokenize,\n",
    "    language='german'\n",
    ")\n",
    "processor = ExtSumProcessor(model_name=MODEL_NAME,  cache_dir=CACHE_DIR)\n",
    "preprocessed_dataset = processor.preprocess(test_dataset)"
   ]
  },
  {
   "cell_type": "code",
   "execution_count": null,
   "metadata": {},
   "outputs": [],
   "source": [
    "preprocessed_dataset[0].keys()"
   ]
  },
  {
   "cell_type": "code",
   "execution_count": null,
   "metadata": {},
   "outputs": [],
   "source": [
    "prediction = summarizer.predict(preprocessed_dataset, num_gpus=0, batch_size=1, sentence_separator=\"\\n\")"
   ]
  },
  {
   "cell_type": "code",
   "execution_count": null,
   "metadata": {},
   "outputs": [],
   "source": [
    "prediction"
   ]
  },
  {
   "cell_type": "markdown",
   "metadata": {},
   "source": [
    "## Clean up temporary folders"
   ]
  },
  {
   "cell_type": "code",
   "execution_count": null,
   "metadata": {},
   "outputs": [],
   "source": [
    "if os.path.exists(DATA_PATH):\n",
    "    shutil.rmtree(DATA_PATH, ignore_errors=True)\n",
    "if os.path.exists(CACHE_DIR):\n",
    "    shutil.rmtree(CACHE_DIR, ignore_errors=True)\n",
    "if USE_PREPROCSSED_DATA:\n",
    "    if os.path.exists(PROCESSED_DATA_PATH):\n",
    "        shutil.rmtree(PROCESSED_DATA_PATH, ignore_errors=True)"
   ]
  },
  {
   "cell_type": "code",
   "execution_count": null,
   "metadata": {},
   "outputs": [],
   "source": []
  }
 ],
 "metadata": {
  "celltoolbar": "Tags",
  "kernelspec": {
   "display_name": "Environment (conda_nlp_gpu)",
   "language": "python",
   "name": "conda_nlp_gpu"
  },
  "language_info": {
   "codemirror_mode": {
    "name": "ipython",
    "version": 3
   },
   "file_extension": ".py",
   "mimetype": "text/x-python",
   "name": "python",
   "nbconvert_exporter": "python",
   "pygments_lexer": "ipython3",
   "version": "3.6.8"
  }
 },
 "nbformat": 4,
 "nbformat_minor": 2
}
