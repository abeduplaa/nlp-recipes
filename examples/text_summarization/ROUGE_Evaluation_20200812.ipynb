{
 "cells": [
  {
   "cell_type": "markdown",
   "metadata": {},
   "source": [
    "Copyright (c) Microsoft Corporation. All rights reserved.\n",
    "\n",
    "Licensed under the MIT License."
   ]
  },
  {
   "cell_type": "code",
   "execution_count": 1,
   "metadata": {},
   "outputs": [],
   "source": [
    "%load_ext autoreload\n",
    "\n",
    "%autoreload 2"
   ]
  },
  {
   "cell_type": "markdown",
   "metadata": {},
   "source": [
    "### Configuration\n"
   ]
  },
  {
   "cell_type": "code",
   "execution_count": 2,
   "metadata": {},
   "outputs": [
    {
     "name": "stderr",
     "output_type": "stream",
     "text": [
      "/home/ubuntu/anaconda3/envs/nlp_gpu/lib/python3.6/site-packages/dask/dataframe/utils.py:15: FutureWarning: pandas.util.testing is deprecated. Use the functions in the public API at pandas.testing instead.\n",
      "  import pandas.util.testing as tm\n"
     ]
    }
   ],
   "source": [
    "import os\n",
    "import shutil\n",
    "import sys\n",
    "from tempfile import TemporaryDirectory\n",
    "import torch\n",
    "\n",
    "nlp_path = os.path.abspath(\"../../\")\n",
    "if nlp_path not in sys.path:\n",
    "    sys.path.insert(0, nlp_path)\n",
    "\n",
    "from utils_nlp.dataset.swiss import SwissSummarizationDataset\n",
    "from utils_nlp.dataset.bundes import BundesSummarizationDataset\n",
    "\n",
    "from utils_nlp.eval import compute_rouge_python, compute_rouge_perl\n",
    "from utils_nlp.models.transformers.extractive_summarization import (\n",
    "    ExtractiveSummarizer,\n",
    "    ExtSumProcessedData,\n",
    "    ExtSumProcessor,\n",
    ")\n",
    "\n",
    "from utils_nlp.models.transformers.datasets import SummarizationDataset\n",
    "import nltk\n",
    "from nltk import tokenize\n",
    "\n",
    "import pandas as pd\n",
    "import scrapbook as sb\n",
    "import pprint"
   ]
  },
  {
   "cell_type": "code",
   "execution_count": 3,
   "metadata": {},
   "outputs": [
    {
     "data": {
      "text/html": [
       "<div>\n",
       "<style scoped>\n",
       "    .dataframe tbody tr th:only-of-type {\n",
       "        vertical-align: middle;\n",
       "    }\n",
       "\n",
       "    .dataframe tbody tr th {\n",
       "        vertical-align: top;\n",
       "    }\n",
       "\n",
       "    .dataframe thead th {\n",
       "        text-align: right;\n",
       "    }\n",
       "</style>\n",
       "<table border=\"1\" class=\"dataframe\">\n",
       "  <thead>\n",
       "    <tr style=\"text-align: right;\">\n",
       "      <th></th>\n",
       "      <th>model_name</th>\n",
       "    </tr>\n",
       "  </thead>\n",
       "  <tbody>\n",
       "    <tr>\n",
       "      <th>0</th>\n",
       "      <td>bert-base-uncased</td>\n",
       "    </tr>\n",
       "    <tr>\n",
       "      <th>1</th>\n",
       "      <td>bert-base-german-cased</td>\n",
       "    </tr>\n",
       "    <tr>\n",
       "      <th>2</th>\n",
       "      <td>distilbert-base-uncased</td>\n",
       "    </tr>\n",
       "    <tr>\n",
       "      <th>3</th>\n",
       "      <td>dbmdz/bert-base-german-uncased</td>\n",
       "    </tr>\n",
       "    <tr>\n",
       "      <th>4</th>\n",
       "      <td>bert-base-german-dbmdz-cased</td>\n",
       "    </tr>\n",
       "    <tr>\n",
       "      <th>5</th>\n",
       "      <td>bert-base-multilingual-cased</td>\n",
       "    </tr>\n",
       "    <tr>\n",
       "      <th>6</th>\n",
       "      <td>distilbert-base-german-cased</td>\n",
       "    </tr>\n",
       "    <tr>\n",
       "      <th>7</th>\n",
       "      <td>bert-base-german-dbmdz-uncased</td>\n",
       "    </tr>\n",
       "    <tr>\n",
       "      <th>8</th>\n",
       "      <td>severinsimmler/bert-adapted-german-press</td>\n",
       "    </tr>\n",
       "    <tr>\n",
       "      <th>9</th>\n",
       "      <td>xlm-roberta-large-finetuned-conll03-german</td>\n",
       "    </tr>\n",
       "  </tbody>\n",
       "</table>\n",
       "</div>"
      ],
      "text/plain": [
       "                                   model_name\n",
       "0                           bert-base-uncased\n",
       "1                      bert-base-german-cased\n",
       "2                     distilbert-base-uncased\n",
       "3              dbmdz/bert-base-german-uncased\n",
       "4                bert-base-german-dbmdz-cased\n",
       "5                bert-base-multilingual-cased\n",
       "6                distilbert-base-german-cased\n",
       "7              bert-base-german-dbmdz-uncased\n",
       "8    severinsimmler/bert-adapted-german-press\n",
       "9  xlm-roberta-large-finetuned-conll03-german"
      ]
     },
     "execution_count": 3,
     "metadata": {},
     "output_type": "execute_result"
    }
   ],
   "source": [
    "pd.DataFrame({\"model_name\": ExtractiveSummarizer.list_supported_models()})"
   ]
  },
  {
   "cell_type": "code",
   "execution_count": 4,
   "metadata": {},
   "outputs": [],
   "source": [
    "# notebook parameters\n",
    "# the cache data path during find tuning\n",
    "CACHE_DIR = TemporaryDirectory().name"
   ]
  },
  {
   "cell_type": "code",
   "execution_count": 5,
   "metadata": {},
   "outputs": [],
   "source": [
    "BUNDES_DATA_PATH='/home/ubuntu/data/bundes_dataset/'\n",
    "SWISS_DATA_PATH='/home/ubuntu/data/swiss_dataset/'\n",
    "\n",
    "bundes_save_path = os.path.join(BUNDES_DATA_PATH)\n",
    "# bundes_train = torch.load(os.path.join(bundes_save_path, \"train_full202008111812.pt\"))\n",
    "bundes_test = torch.load(os.path.join(bundes_save_path, \"test_full202008111812.pt\"))\n",
    "\n",
    "\n",
    "swiss_save_path = os.path.join(SWISS_DATA_PATH)\n",
    "# swiss_train = torch.load(os.path.join(swiss_save_path, \"train_full.pt\"))\n",
    "swiss_test = torch.load(os.path.join(swiss_save_path, \"test_full.pt\"))\n"
   ]
  },
  {
   "cell_type": "markdown",
   "metadata": {},
   "source": [
    "### Model Evaluation\n",
    "\n",
    "[ROUGE](https://en.wikipedia.org/wiki/ROUGE_(metric)), or Recall-Oriented Understudy for Gisting Evaluation has been commonly used for evaluating text summarization."
   ]
  },
  {
   "cell_type": "code",
   "execution_count": 6,
   "metadata": {},
   "outputs": [],
   "source": [
    "# models:\n",
    "\n",
    "model_names = ['distilbert-base-german-cased', 'bert-base-german-cased']\n",
    "train_names = ['200805_distilbert-base-german-cased_swiss', \n",
    "               '200806_bert-base-german-cased_swiss',\n",
    "               '200811_bert-base-german-cased_swissBundes',\n",
    "               '200811_distilbert-base-german-cased_swissBundes',\n",
    "               '200812_bert-base-german-cased_bundes',\n",
    "               '200812_distilbert-base-german-cased_bundes',\n",
    "               'lead_1',\n",
    "               'lead_2',\n",
    "               'lead_3',\n",
    "              ]\n",
    "\n",
    "model_filepaths = ['/home/ubuntu/models/200805_distilbert-base-german-cased_swiss/output/',\n",
    "                   '/home/ubuntu/models/200806_bert-base-german-cased_swiss/output/',\n",
    "                   '/home/ubuntu/models/200811_bert-base-german-cased_swissBundes/output/',\n",
    "                   '/home/ubuntu/models/200811_distilbert-base-german-cased_swissBundes/output/',\n",
    "                   '/home/ubuntu/models/200812_bert-base-german-cased_bundes/output/',\n",
    "                   '/home/ubuntu/models/200812_distilbert-base-german-cased_bundes/output/',\n",
    "                  ]\n",
    "\n",
    "models = {\n",
    "    '200805_distilbert-base-german-cased_swiss':{\n",
    "        'model': 'distilbert-base-german-cased',\n",
    "        'filepath': '/home/ubuntu/models/200805_distilbert-base-german-cased_swiss/output/'\n",
    "    },\n",
    "    '200806_bert-base-german-cased_swiss':{\n",
    "        'model': 'bert-base-german-cased',\n",
    "        'filepath': '/home/ubuntu/models/200806_bert-base-german-cased_swiss/output/'\n",
    "    },\n",
    "    '200811_bert-base-german-cased_swissBundes':{\n",
    "        'model': 'bert-base-german-cased',\n",
    "        'filepath': '/home/ubuntu/models/200811_bert-base-german-cased_swissBundes/output/'\n",
    "    },\n",
    "    '200811_distilbert-base-german-cased_swissBundes':{\n",
    "        'model': 'distilbert-base-german-cased',\n",
    "        'filepath': '/home/ubuntu/models/200811_distilbert-base-german-cased_swissBundes/output/'\n",
    "    },\n",
    "    '200812_bert-base-german-cased_bundes':{\n",
    "        'model': 'bert-base-german-cased',\n",
    "        'filepath': '/home/ubuntu/models/200812_bert-base-german-cased_bundes/output/'\n",
    "    },\n",
    "    '200812_distilbert-base-german-cased_bundes':{\n",
    "        'model': 'distilbert-base-german-cased',\n",
    "        'filepath': '/home/ubuntu/models/200812_distilbert-base-german-cased_bundes/output/'\n",
    "    },\n",
    "    \n",
    "}"
   ]
  },
  {
   "cell_type": "code",
   "execution_count": 7,
   "metadata": {},
   "outputs": [],
   "source": [
    "MAX_POS_LENGTH = 512\n",
    "\n",
    "\n",
    "# GPU used for training\n",
    "NUM_GPUS = torch.cuda.device_count()\n",
    "\n",
    "# Encoder name. Options are: 1. baseline, classifier, transformer, rnn.\n",
    "ENCODER = \"transformer\"\n",
    "\n",
    "# How often the statistics reports show up in training, unit is step.\n",
    "REPORT_EVERY=50"
   ]
  },
  {
   "cell_type": "code",
   "execution_count": 9,
   "metadata": {},
   "outputs": [
    {
     "data": {
      "application/vnd.jupyter.widget-view+json": {
       "model_id": "d40ea58809a34174a7562abd17edea18",
       "version_major": 2,
       "version_minor": 0
      },
      "text/plain": [
       "HBox(children=(IntProgress(value=0, description='Downloading', max=464, style=ProgressStyle(description_width=…"
      ]
     },
     "metadata": {},
     "output_type": "display_data"
    },
    {
     "name": "stdout",
     "output_type": "stream",
     "text": [
      "\n"
     ]
    },
    {
     "data": {
      "application/vnd.jupyter.widget-view+json": {
       "model_id": "6ed8090f00c644eeb36269b68cd89bdf",
       "version_major": 2,
       "version_minor": 0
      },
      "text/plain": [
       "HBox(children=(IntProgress(value=0, description='Downloading', max=239836, style=ProgressStyle(description_wid…"
      ]
     },
     "metadata": {},
     "output_type": "display_data"
    },
    {
     "name": "stdout",
     "output_type": "stream",
     "text": [
      "\n"
     ]
    },
    {
     "data": {
      "application/vnd.jupyter.widget-view+json": {
       "model_id": "d4d22ea9351048a38048503ae3bd8287",
       "version_major": 2,
       "version_minor": 0
      },
      "text/plain": [
       "HBox(children=(IntProgress(value=0, description='Downloading', max=433, style=ProgressStyle(description_width=…"
      ]
     },
     "metadata": {},
     "output_type": "display_data"
    },
    {
     "name": "stdout",
     "output_type": "stream",
     "text": [
      "\n"
     ]
    },
    {
     "data": {
      "application/vnd.jupyter.widget-view+json": {
       "model_id": "5e35a94bdee647ef966612262e6d3f29",
       "version_major": 2,
       "version_minor": 0
      },
      "text/plain": [
       "HBox(children=(IntProgress(value=0, description='Downloading', max=254728, style=ProgressStyle(description_wid…"
      ]
     },
     "metadata": {},
     "output_type": "display_data"
    },
    {
     "name": "stdout",
     "output_type": "stream",
     "text": [
      "\n"
     ]
    }
   ],
   "source": [
    "# create processors:\n",
    "processors = {}\n",
    "for model_name in model_names:\n",
    "    processors[model_name] = ExtSumProcessor(model_name=model_name, cache_dir=CACHE_DIR)"
   ]
  },
  {
   "cell_type": "code",
   "execution_count": 10,
   "metadata": {},
   "outputs": [
    {
     "name": "stdout",
     "output_type": "stream",
     "text": [
      "creating summarizer for 200805_distilbert-base-german-cased_swiss\n",
      "Processor loaded for distilbert-base-german-cased\n"
     ]
    },
    {
     "data": {
      "application/vnd.jupyter.widget-view+json": {
       "model_id": "1a50b663f0954d80827b82a08c149b04",
       "version_major": 2,
       "version_minor": 0
      },
      "text/plain": [
       "HBox(children=(IntProgress(value=0, description='Downloading', max=269752043, style=ProgressStyle(description_…"
      ]
     },
     "metadata": {},
     "output_type": "display_data"
    },
    {
     "name": "stdout",
     "output_type": "stream",
     "text": [
      "\n",
      "model loaded for distilbert-base-german-cased\n",
      "creating summarizer for 200806_bert-base-german-cased_swiss\n",
      "Processor loaded for bert-base-german-cased\n"
     ]
    },
    {
     "data": {
      "application/vnd.jupyter.widget-view+json": {
       "model_id": "e13a4a4a40764f1fbdd594e891bbc393",
       "version_major": 2,
       "version_minor": 0
      },
      "text/plain": [
       "HBox(children=(IntProgress(value=0, description='Downloading', max=438869143, style=ProgressStyle(description_…"
      ]
     },
     "metadata": {},
     "output_type": "display_data"
    },
    {
     "name": "stdout",
     "output_type": "stream",
     "text": [
      "\n",
      "model loaded for bert-base-german-cased\n",
      "creating summarizer for 200811_bert-base-german-cased_swissBundes\n",
      "Processor loaded for bert-base-german-cased\n",
      "model loaded for bert-base-german-cased\n",
      "creating summarizer for 200811_distilbert-base-german-cased_swissBundes\n",
      "Processor loaded for distilbert-base-german-cased\n",
      "model loaded for distilbert-base-german-cased\n",
      "creating summarizer for 200812_bert-base-german-cased_bundes\n",
      "Processor loaded for bert-base-german-cased\n",
      "model loaded for bert-base-german-cased\n",
      "creating summarizer for 200812_distilbert-base-german-cased_bundes\n",
      "Processor loaded for distilbert-base-german-cased\n",
      "model loaded for distilbert-base-german-cased\n"
     ]
    }
   ],
   "source": [
    "summarizers= {}\n",
    "model_filename = \"dist_extsum_model.pt\"\n",
    "\n",
    "for model, meta in list(models.items()):\n",
    "    print(\"creating summarizer for\", model)\n",
    "\n",
    "    processor = processors[meta['model']]\n",
    "    print(\"Processor loaded for\", meta['model'])\n",
    "    \n",
    "    model_path = os.path.join(meta['filepath'], model_filename)\n",
    "    summarizer = ExtractiveSummarizer(processor, meta['model'], ENCODER, MAX_POS_LENGTH, CACHE_DIR)\n",
    "    summarizer.model.load_state_dict(torch.load(model_path, map_location=\"cpu\"))\n",
    "    print(\"model loaded for\", meta['model'])\n",
    "    summarizers[model] = summarizer"
   ]
  },
  {
   "cell_type": "code",
   "execution_count": 11,
   "metadata": {},
   "outputs": [],
   "source": [
    "source = {}\n",
    "target = {}\n",
    "\n",
    "\n",
    "source['bundes'] = []\n",
    "source['swiss'] = []\n",
    "\n",
    "temp_target_bundes = []\n",
    "temp_target_swiss = []\n",
    "for i in bundes_test:\n",
    "    source['bundes'].append(i[\"src_txt\"]) \n",
    "    \n",
    "    temp_target_bundes.append(\" \".join(j) for j in i['tgt']) \n",
    "target['bundes'] = [''.join(i) for i in list(temp_target_bundes)]\n",
    "\n",
    "for i in swiss_test:\n",
    "    source['swiss'].append(i[\"src_txt\"]) \n",
    "    \n",
    "    temp_target_swiss.append(\" \".join(j) for j in i['tgt']) \n",
    "target['swiss'] = [''.join(i) for i in list(temp_target_swiss)]\n",
    "\n",
    "\n",
    "### create test dictionary\n",
    "torch_tests = {\n",
    "    'bundes': bundes_test,\n",
    "    'swiss': swiss_test\n",
    "}"
   ]
  },
  {
   "cell_type": "code",
   "execution_count": 12,
   "metadata": {},
   "outputs": [],
   "source": [
    "summarizers['lead_1']={\n",
    "    'bundes': [s[0] for s in source['bundes']],\n",
    "    'swiss': [s[0] for s in source['swiss']]\n",
    "}\n",
    "\n",
    "summarizers['lead_2']={\n",
    "    'bundes': [\" \".join(s[:2]) for s in source['bundes']],\n",
    "    'swiss': [\" \".join(s[:2]) for s in source['swiss']],\n",
    "}\n",
    "\n",
    "summarizers['lead_3']={\n",
    "    'bundes': [\" \".join(s[:3]) for s in source['bundes']],\n",
    "    'swiss': [\" \".join(s[:3]) for s in source['swiss']], \n",
    "}"
   ]
  },
  {
   "cell_type": "code",
   "execution_count": 18,
   "metadata": {},
   "outputs": [
    {
     "name": "stderr",
     "output_type": "stream",
     "text": [
      "\n",
      "\n",
      "\n",
      "Scoring:   0%|          | 0/2 [00:00<?, ?it/s]\u001b[A\u001b[A\u001b[A"
     ]
    },
    {
     "name": "stdout",
     "output_type": "stream",
     "text": [
      "Dataset:  bundes\n",
      "Sample size: 545\n",
      "model name:  200805_distilbert-base-german-cased_swiss\n"
     ]
    },
    {
     "name": "stderr",
     "output_type": "stream",
     "text": [
      "\n",
      "\n",
      "\n",
      "Scoring:  50%|█████     | 1/2 [00:09<00:09,  9.69s/it]\u001b[A\u001b[A\u001b[A\n",
      "\n",
      "\n",
      "Scoring: 100%|██████████| 2/2 [00:13<00:00,  7.79s/it]\u001b[A\u001b[A\u001b[A"
     ]
    },
    {
     "name": "stdout",
     "output_type": "stream",
     "text": [
      "Number of candidates: 545\n",
      "Number of references: 545\n"
     ]
    },
    {
     "name": "stderr",
     "output_type": "stream",
     "text": [
      "\n",
      "\n",
      "\n",
      "Scoring:   0%|          | 0/2 [00:00<?, ?it/s]\u001b[A\u001b[A\u001b[A"
     ]
    },
    {
     "name": "stdout",
     "output_type": "stream",
     "text": [
      "model name:  200806_bert-base-german-cased_swiss\n"
     ]
    },
    {
     "name": "stderr",
     "output_type": "stream",
     "text": [
      "\n",
      "\n",
      "\n",
      "Scoring:  50%|█████     | 1/2 [00:09<00:09,  9.55s/it]\u001b[A\u001b[A\u001b[A\n",
      "\n",
      "\n",
      "Scoring: 100%|██████████| 2/2 [00:12<00:00,  7.71s/it]\u001b[A\u001b[A\u001b[A"
     ]
    },
    {
     "name": "stdout",
     "output_type": "stream",
     "text": [
      "Number of candidates: 545\n",
      "Number of references: 545\n"
     ]
    },
    {
     "name": "stderr",
     "output_type": "stream",
     "text": [
      "\n",
      "\n",
      "\n",
      "Scoring:   0%|          | 0/2 [00:00<?, ?it/s]\u001b[A\u001b[A\u001b[A"
     ]
    },
    {
     "name": "stdout",
     "output_type": "stream",
     "text": [
      "model name:  200811_bert-base-german-cased_swissBundes\n"
     ]
    },
    {
     "name": "stderr",
     "output_type": "stream",
     "text": [
      "\n",
      "\n",
      "\n",
      "Scoring:  50%|█████     | 1/2 [00:09<00:09,  9.55s/it]\u001b[A\u001b[A\u001b[A\n",
      "\n",
      "\n",
      "Scoring: 100%|██████████| 2/2 [00:12<00:00,  7.71s/it]\u001b[A\u001b[A\u001b[A"
     ]
    },
    {
     "name": "stdout",
     "output_type": "stream",
     "text": [
      "Number of candidates: 545\n",
      "Number of references: 545\n"
     ]
    },
    {
     "name": "stderr",
     "output_type": "stream",
     "text": [
      "\n",
      "\n",
      "\n",
      "Scoring:   0%|          | 0/2 [00:00<?, ?it/s]\u001b[A\u001b[A\u001b[A"
     ]
    },
    {
     "name": "stdout",
     "output_type": "stream",
     "text": [
      "model name:  200811_distilbert-base-german-cased_swissBundes\n"
     ]
    },
    {
     "name": "stderr",
     "output_type": "stream",
     "text": [
      "\n",
      "\n",
      "\n",
      "Scoring:  50%|█████     | 1/2 [00:09<00:09,  9.50s/it]\u001b[A\u001b[A\u001b[A\n",
      "\n",
      "\n",
      "Scoring: 100%|██████████| 2/2 [00:12<00:00,  7.67s/it]\u001b[A\u001b[A\u001b[A"
     ]
    },
    {
     "name": "stdout",
     "output_type": "stream",
     "text": [
      "Number of candidates: 545\n",
      "Number of references: 545\n"
     ]
    },
    {
     "name": "stderr",
     "output_type": "stream",
     "text": [
      "\n",
      "\n",
      "\n",
      "Scoring:   0%|          | 0/2 [00:00<?, ?it/s]\u001b[A\u001b[A\u001b[A"
     ]
    },
    {
     "name": "stdout",
     "output_type": "stream",
     "text": [
      "model name:  200812_bert-base-german-cased_bundes\n"
     ]
    },
    {
     "name": "stderr",
     "output_type": "stream",
     "text": [
      "\n",
      "\n",
      "\n",
      "Scoring:  50%|█████     | 1/2 [00:09<00:09,  9.51s/it]\u001b[A\u001b[A\u001b[A\n",
      "\n",
      "\n",
      "Scoring: 100%|██████████| 2/2 [00:12<00:00,  7.68s/it]\u001b[A\u001b[A\u001b[A"
     ]
    },
    {
     "name": "stdout",
     "output_type": "stream",
     "text": [
      "Number of candidates: 545\n",
      "Number of references: 545\n"
     ]
    },
    {
     "name": "stderr",
     "output_type": "stream",
     "text": [
      "\n",
      "\n",
      "\n",
      "Scoring:   0%|          | 0/2 [00:00<?, ?it/s]\u001b[A\u001b[A\u001b[A"
     ]
    },
    {
     "name": "stdout",
     "output_type": "stream",
     "text": [
      "model name:  200812_distilbert-base-german-cased_bundes\n"
     ]
    },
    {
     "name": "stderr",
     "output_type": "stream",
     "text": [
      "\n",
      "\n",
      "\n",
      "Scoring:  50%|█████     | 1/2 [00:09<00:09,  9.46s/it]\u001b[A\u001b[A\u001b[A\n",
      "\n",
      "\n",
      "Scoring: 100%|██████████| 2/2 [00:12<00:00,  7.64s/it]\u001b[A\u001b[A\u001b[A"
     ]
    },
    {
     "name": "stdout",
     "output_type": "stream",
     "text": [
      "Number of candidates: 545\n",
      "Number of references: 545\n",
      "model name:  lead_1\n",
      "Number of candidates: 545\n",
      "Number of references: 545\n",
      "model name:  lead_2\n",
      "Number of candidates: 545\n",
      "Number of references: 545\n",
      "model name:  lead_3\n",
      "Number of candidates: 545\n",
      "Number of references: 545\n"
     ]
    },
    {
     "name": "stderr",
     "output_type": "stream",
     "text": [
      "\n",
      "\n",
      "\n",
      "Scoring:   0%|          | 0/13 [00:00<?, ?it/s]\u001b[A\u001b[A\u001b[A"
     ]
    },
    {
     "name": "stdout",
     "output_type": "stream",
     "text": [
      "Dataset:  swiss\n",
      "Sample size: 5000\n",
      "model name:  200805_distilbert-base-german-cased_swiss\n"
     ]
    },
    {
     "name": "stderr",
     "output_type": "stream",
     "text": [
      "\n",
      "\n",
      "\n",
      "Scoring:   8%|▊         | 1/13 [00:10<02:04, 10.35s/it]\u001b[A\u001b[A\u001b[A\n",
      "\n",
      "\n",
      "Scoring:  15%|█▌        | 2/13 [00:20<01:52, 10.21s/it]\u001b[A\u001b[A\u001b[A\n",
      "\n",
      "\n",
      "Scoring:  23%|██▎       | 3/13 [00:30<01:42, 10.25s/it]\u001b[A\u001b[A\u001b[A\n",
      "\n",
      "\n",
      "Scoring:  31%|███       | 4/13 [00:40<01:32, 10.25s/it]\u001b[A\u001b[A\u001b[A\n",
      "\n",
      "\n",
      "Scoring:  38%|███▊      | 5/13 [00:50<01:20, 10.11s/it]\u001b[A\u001b[A\u001b[A\n",
      "\n",
      "\n",
      "Scoring:  46%|████▌     | 6/13 [01:00<01:10, 10.09s/it]\u001b[A\u001b[A\u001b[A\n",
      "\n",
      "\n",
      "Scoring:  54%|█████▍    | 7/13 [01:10<01:00, 10.15s/it]\u001b[A\u001b[A\u001b[A\n",
      "\n",
      "\n",
      "Scoring:  62%|██████▏   | 8/13 [01:21<00:50, 10.14s/it]\u001b[A\u001b[A\u001b[A\n",
      "\n",
      "\n",
      "Scoring:  69%|██████▉   | 9/13 [01:31<00:40, 10.16s/it]\u001b[A\u001b[A\u001b[A\n",
      "\n",
      "\n",
      "Scoring:  77%|███████▋  | 10/13 [01:41<00:30, 10.06s/it]\u001b[A\u001b[A\u001b[A\n",
      "\n",
      "\n",
      "Scoring:  85%|████████▍ | 11/13 [01:51<00:20, 10.09s/it]\u001b[A\u001b[A\u001b[A\n",
      "\n",
      "\n",
      "Scoring:  92%|█████████▏| 12/13 [02:01<00:10, 10.06s/it]\u001b[A\u001b[A\u001b[A\n",
      "\n",
      "\n",
      "Scoring: 100%|██████████| 13/13 [02:06<00:00,  8.66s/it]\u001b[A\u001b[A\u001b[A"
     ]
    },
    {
     "name": "stdout",
     "output_type": "stream",
     "text": [
      "Number of candidates: 5000\n",
      "Number of references: 5000\n"
     ]
    },
    {
     "name": "stderr",
     "output_type": "stream",
     "text": [
      "\n",
      "\n",
      "\n",
      "Scoring:   0%|          | 0/13 [00:00<?, ?it/s]\u001b[A\u001b[A\u001b[A"
     ]
    },
    {
     "name": "stdout",
     "output_type": "stream",
     "text": [
      "model name:  200806_bert-base-german-cased_swiss\n"
     ]
    },
    {
     "name": "stderr",
     "output_type": "stream",
     "text": [
      "\n",
      "\n",
      "\n",
      "Scoring:   8%|▊         | 1/13 [00:10<02:04, 10.36s/it]\u001b[A\u001b[A\u001b[A\n",
      "\n",
      "\n",
      "Scoring:  15%|█▌        | 2/13 [00:20<01:52, 10.23s/it]\u001b[A\u001b[A\u001b[A\n",
      "\n",
      "\n",
      "Scoring:  23%|██▎       | 3/13 [00:30<01:42, 10.29s/it]\u001b[A\u001b[A\u001b[A\n",
      "\n",
      "\n",
      "Scoring:  31%|███       | 4/13 [00:40<01:32, 10.27s/it]\u001b[A\u001b[A\u001b[A\n",
      "\n",
      "\n",
      "Scoring:  38%|███▊      | 5/13 [00:50<01:21, 10.13s/it]\u001b[A\u001b[A\u001b[A\n",
      "\n",
      "\n",
      "Scoring:  46%|████▌     | 6/13 [01:00<01:10, 10.11s/it]\u001b[A\u001b[A\u001b[A\n",
      "\n",
      "\n",
      "Scoring:  54%|█████▍    | 7/13 [01:11<01:00, 10.15s/it]\u001b[A\u001b[A\u001b[A\n",
      "\n",
      "\n",
      "Scoring:  62%|██████▏   | 8/13 [01:21<00:50, 10.13s/it]\u001b[A\u001b[A\u001b[A\n",
      "\n",
      "\n",
      "Scoring:  69%|██████▉   | 9/13 [01:31<00:40, 10.15s/it]\u001b[A\u001b[A\u001b[A\n",
      "\n",
      "\n",
      "Scoring:  77%|███████▋  | 10/13 [01:41<00:30, 10.04s/it]\u001b[A\u001b[A\u001b[A\n",
      "\n",
      "\n",
      "Scoring:  85%|████████▍ | 11/13 [01:51<00:20, 10.08s/it]\u001b[A\u001b[A\u001b[A\n",
      "\n",
      "\n",
      "Scoring:  92%|█████████▏| 12/13 [02:01<00:10, 10.07s/it]\u001b[A\u001b[A\u001b[A\n",
      "\n",
      "\n",
      "Scoring: 100%|██████████| 13/13 [02:06<00:00,  8.67s/it]\u001b[A\u001b[A\u001b[A"
     ]
    },
    {
     "name": "stdout",
     "output_type": "stream",
     "text": [
      "Number of candidates: 5000\n",
      "Number of references: 5000\n"
     ]
    },
    {
     "name": "stderr",
     "output_type": "stream",
     "text": [
      "\n",
      "\n",
      "\n",
      "Scoring:   0%|          | 0/13 [00:00<?, ?it/s]\u001b[A\u001b[A\u001b[A"
     ]
    },
    {
     "name": "stdout",
     "output_type": "stream",
     "text": [
      "model name:  200811_bert-base-german-cased_swissBundes\n"
     ]
    },
    {
     "name": "stderr",
     "output_type": "stream",
     "text": [
      "\n",
      "\n",
      "\n",
      "Scoring:   8%|▊         | 1/13 [00:10<02:05, 10.44s/it]\u001b[A\u001b[A\u001b[A\n",
      "\n",
      "\n",
      "Scoring:  15%|█▌        | 2/13 [00:20<01:53, 10.29s/it]\u001b[A\u001b[A\u001b[A\n",
      "\n",
      "\n",
      "Scoring:  23%|██▎       | 3/13 [00:30<01:43, 10.32s/it]\u001b[A\u001b[A\u001b[A\n",
      "\n",
      "\n",
      "Scoring:  31%|███       | 4/13 [00:41<01:32, 10.29s/it]\u001b[A\u001b[A\u001b[A\n",
      "\n",
      "\n",
      "Scoring:  38%|███▊      | 5/13 [00:50<01:21, 10.14s/it]\u001b[A\u001b[A\u001b[A\n",
      "\n",
      "\n",
      "Scoring:  46%|████▌     | 6/13 [01:00<01:10, 10.11s/it]\u001b[A\u001b[A\u001b[A\n",
      "\n",
      "\n",
      "Scoring:  54%|█████▍    | 7/13 [01:11<01:00, 10.14s/it]\u001b[A\u001b[A\u001b[A\n",
      "\n",
      "\n",
      "Scoring:  62%|██████▏   | 8/13 [01:21<00:50, 10.13s/it]\u001b[A\u001b[A\u001b[A\n",
      "\n",
      "\n",
      "Scoring:  69%|██████▉   | 9/13 [01:31<00:40, 10.15s/it]\u001b[A\u001b[A\u001b[A\n",
      "\n",
      "\n",
      "Scoring:  77%|███████▋  | 10/13 [01:41<00:30, 10.04s/it]\u001b[A\u001b[A\u001b[A\n",
      "\n",
      "\n",
      "Scoring:  85%|████████▍ | 11/13 [01:51<00:20, 10.07s/it]\u001b[A\u001b[A\u001b[A\n",
      "\n",
      "\n",
      "Scoring:  92%|█████████▏| 12/13 [02:01<00:10, 10.06s/it]\u001b[A\u001b[A\u001b[A\n",
      "\n",
      "\n",
      "Scoring: 100%|██████████| 13/13 [02:06<00:00,  8.66s/it]\u001b[A\u001b[A\u001b[A"
     ]
    },
    {
     "name": "stdout",
     "output_type": "stream",
     "text": [
      "Number of candidates: 5000\n",
      "Number of references: 5000\n"
     ]
    },
    {
     "name": "stderr",
     "output_type": "stream",
     "text": [
      "\n",
      "\n",
      "\n",
      "Scoring:   0%|          | 0/13 [00:00<?, ?it/s]\u001b[A\u001b[A\u001b[A"
     ]
    },
    {
     "name": "stdout",
     "output_type": "stream",
     "text": [
      "model name:  200811_distilbert-base-german-cased_swissBundes\n"
     ]
    },
    {
     "name": "stderr",
     "output_type": "stream",
     "text": [
      "\n",
      "\n",
      "\n",
      "Scoring:   8%|▊         | 1/13 [00:10<02:05, 10.45s/it]\u001b[A\u001b[A\u001b[A\n",
      "\n",
      "\n",
      "Scoring:  15%|█▌        | 2/13 [00:20<01:53, 10.32s/it]\u001b[A\u001b[A\u001b[A\n",
      "\n",
      "\n",
      "Scoring:  23%|██▎       | 3/13 [00:30<01:43, 10.35s/it]\u001b[A\u001b[A\u001b[A\n",
      "\n",
      "\n",
      "Scoring:  31%|███       | 4/13 [00:41<01:33, 10.34s/it]\u001b[A\u001b[A\u001b[A\n",
      "\n",
      "\n",
      "Scoring:  38%|███▊      | 5/13 [00:51<01:21, 10.19s/it]\u001b[A\u001b[A\u001b[A\n",
      "\n",
      "\n",
      "Scoring:  46%|████▌     | 6/13 [01:01<01:11, 10.16s/it]\u001b[A\u001b[A\u001b[A\n",
      "\n",
      "\n",
      "Scoring:  54%|█████▍    | 7/13 [01:11<01:01, 10.21s/it]\u001b[A\u001b[A\u001b[A\n",
      "\n",
      "\n",
      "Scoring:  62%|██████▏   | 8/13 [01:21<00:50, 10.19s/it]\u001b[A\u001b[A\u001b[A\n",
      "\n",
      "\n",
      "Scoring:  69%|██████▉   | 9/13 [01:31<00:40, 10.20s/it]\u001b[A\u001b[A\u001b[A\n",
      "\n",
      "\n",
      "Scoring:  77%|███████▋  | 10/13 [01:41<00:30, 10.10s/it]\u001b[A\u001b[A\u001b[A\n",
      "\n",
      "\n",
      "Scoring:  85%|████████▍ | 11/13 [01:51<00:20, 10.14s/it]\u001b[A\u001b[A\u001b[A\n",
      "\n",
      "\n",
      "Scoring:  92%|█████████▏| 12/13 [02:01<00:10, 10.11s/it]\u001b[A\u001b[A\u001b[A\n",
      "\n",
      "\n",
      "Scoring: 100%|██████████| 13/13 [02:07<00:00,  8.70s/it]\u001b[A\u001b[A\u001b[A"
     ]
    },
    {
     "name": "stdout",
     "output_type": "stream",
     "text": [
      "Number of candidates: 5000\n",
      "Number of references: 5000\n"
     ]
    },
    {
     "name": "stderr",
     "output_type": "stream",
     "text": [
      "\n",
      "\n",
      "\n",
      "Scoring:   0%|          | 0/13 [00:00<?, ?it/s]\u001b[A\u001b[A\u001b[A"
     ]
    },
    {
     "name": "stdout",
     "output_type": "stream",
     "text": [
      "model name:  200812_bert-base-german-cased_bundes\n"
     ]
    },
    {
     "name": "stderr",
     "output_type": "stream",
     "text": [
      "\n",
      "\n",
      "\n",
      "Scoring:   8%|▊         | 1/13 [00:10<02:04, 10.38s/it]\u001b[A\u001b[A\u001b[A\n",
      "\n",
      "\n",
      "Scoring:  15%|█▌        | 2/13 [00:20<01:52, 10.25s/it]\u001b[A\u001b[A\u001b[A\n",
      "\n",
      "\n",
      "Scoring:  23%|██▎       | 3/13 [00:30<01:42, 10.29s/it]\u001b[A\u001b[A\u001b[A\n",
      "\n",
      "\n",
      "Scoring:  31%|███       | 4/13 [00:40<01:32, 10.28s/it]\u001b[A\u001b[A\u001b[A\n",
      "\n",
      "\n",
      "Scoring:  38%|███▊      | 5/13 [00:50<01:21, 10.13s/it]\u001b[A\u001b[A\u001b[A\n",
      "\n",
      "\n",
      "Scoring:  46%|████▌     | 6/13 [01:00<01:10, 10.10s/it]\u001b[A\u001b[A\u001b[A\n",
      "\n",
      "\n",
      "Scoring:  54%|█████▍    | 7/13 [01:11<01:00, 10.14s/it]\u001b[A\u001b[A\u001b[A\n",
      "\n",
      "\n",
      "Scoring:  62%|██████▏   | 8/13 [01:21<00:50, 10.12s/it]\u001b[A\u001b[A\u001b[A\n",
      "\n",
      "\n",
      "Scoring:  69%|██████▉   | 9/13 [01:31<00:40, 10.15s/it]\u001b[A\u001b[A\u001b[A\n",
      "\n",
      "\n",
      "Scoring:  77%|███████▋  | 10/13 [01:41<00:30, 10.04s/it]\u001b[A\u001b[A\u001b[A\n",
      "\n",
      "\n",
      "Scoring:  85%|████████▍ | 11/13 [01:51<00:20, 10.08s/it]\u001b[A\u001b[A\u001b[A\n",
      "\n",
      "\n",
      "Scoring:  92%|█████████▏| 12/13 [02:01<00:10, 10.07s/it]\u001b[A\u001b[A\u001b[A\n",
      "\n",
      "\n",
      "Scoring: 100%|██████████| 13/13 [02:06<00:00,  8.67s/it]\u001b[A\u001b[A\u001b[A"
     ]
    },
    {
     "name": "stdout",
     "output_type": "stream",
     "text": [
      "Number of candidates: 5000\n",
      "Number of references: 5000\n"
     ]
    },
    {
     "name": "stderr",
     "output_type": "stream",
     "text": [
      "\n",
      "\n",
      "\n",
      "Scoring:   0%|          | 0/13 [00:00<?, ?it/s]\u001b[A\u001b[A\u001b[A"
     ]
    },
    {
     "name": "stdout",
     "output_type": "stream",
     "text": [
      "model name:  200812_distilbert-base-german-cased_bundes\n"
     ]
    },
    {
     "name": "stderr",
     "output_type": "stream",
     "text": [
      "\n",
      "\n",
      "\n",
      "Scoring:   8%|▊         | 1/13 [00:10<02:05, 10.44s/it]\u001b[A\u001b[A\u001b[A\n",
      "\n",
      "\n",
      "Scoring:  15%|█▌        | 2/13 [00:20<01:53, 10.32s/it]\u001b[A\u001b[A\u001b[A\n",
      "\n",
      "\n",
      "Scoring:  23%|██▎       | 3/13 [00:30<01:43, 10.35s/it]\u001b[A\u001b[A\u001b[A\n",
      "\n",
      "\n",
      "Scoring:  31%|███       | 4/13 [00:41<01:32, 10.33s/it]\u001b[A\u001b[A\u001b[A\n",
      "\n",
      "\n",
      "Scoring:  38%|███▊      | 5/13 [00:51<01:21, 10.18s/it]\u001b[A\u001b[A\u001b[A\n",
      "\n",
      "\n",
      "Scoring:  46%|████▌     | 6/13 [01:01<01:11, 10.16s/it]\u001b[A\u001b[A\u001b[A\n",
      "\n",
      "\n",
      "Scoring:  54%|█████▍    | 7/13 [01:11<01:01, 10.20s/it]\u001b[A\u001b[A\u001b[A\n",
      "\n",
      "\n",
      "Scoring:  62%|██████▏   | 8/13 [01:21<00:50, 10.18s/it]\u001b[A\u001b[A\u001b[A\n",
      "\n",
      "\n",
      "Scoring:  69%|██████▉   | 9/13 [01:31<00:40, 10.20s/it]\u001b[A\u001b[A\u001b[A\n",
      "\n",
      "\n",
      "Scoring:  77%|███████▋  | 10/13 [01:41<00:30, 10.10s/it]\u001b[A\u001b[A\u001b[A\n",
      "\n",
      "\n",
      "Scoring:  85%|████████▍ | 11/13 [01:51<00:20, 10.13s/it]\u001b[A\u001b[A\u001b[A\n",
      "\n",
      "\n",
      "Scoring:  92%|█████████▏| 12/13 [02:01<00:10, 10.11s/it]\u001b[A\u001b[A\u001b[A\n",
      "\n",
      "\n",
      "Scoring: 100%|██████████| 13/13 [02:07<00:00,  8.70s/it]\u001b[A\u001b[A\u001b[A"
     ]
    },
    {
     "name": "stdout",
     "output_type": "stream",
     "text": [
      "Number of candidates: 5000\n",
      "Number of references: 5000\n",
      "model name:  lead_1\n",
      "Number of candidates: 5000\n",
      "Number of references: 5000\n",
      "model name:  lead_2\n",
      "Number of candidates: 5000\n",
      "Number of references: 5000\n",
      "model name:  lead_3\n",
      "Number of candidates: 5000\n",
      "Number of references: 5000\n",
      "CPU times: user 17min 54s, sys: 1min 38s, total: 19min 33s\n",
      "Wall time: 18min 45s\n"
     ]
    }
   ],
   "source": [
    "%%time\n",
    "sentence_separator = \"\\n\"\n",
    "batch_size = 400\n",
    "rouge_scores = {}\n",
    "predictions = {}\n",
    "\n",
    "TEST = False\n",
    "\n",
    "\n",
    "for dataset in ['bundes','swiss']:\n",
    "    predictions[dataset] = {}\n",
    "    rouge_scores[dataset] = {}\n",
    "    print(\"Dataset: \", dataset)\n",
    "    if TEST:\n",
    "        n = 2\n",
    "    else:\n",
    "        n = len(torch_tests[dataset])\n",
    "    print(\"Sample size:\", n)\n",
    "    \n",
    "    for train_name, summarizer in summarizers.items():\n",
    "        print(\"model name: \", train_name)\n",
    "        if \"lead\" in train_name:\n",
    "            predictions[dataset][train_name] = summarizer[dataset][:n]\n",
    "        else:\n",
    "            predictions[dataset][train_name] = summarizer.predict(torch_tests[dataset][:n], num_gpus=NUM_GPUS, batch_size=batch_size, sentence_separator=sentence_separator)\n",
    "        \n",
    "        rouge_scores[dataset][train_name] = compute_rouge_python(cand=predictions[dataset][train_name], ref=target[dataset][:n])\n",
    "    "
   ]
  },
  {
   "cell_type": "code",
   "execution_count": 19,
   "metadata": {
    "scrolled": false
   },
   "outputs": [
    {
     "name": "stdout",
     "output_type": "stream",
     "text": [
      "{'bundes': {'200805_distilbert-base-german-cased_swiss': {'rouge-1': {'f': 0.3827514805602676,\n",
      "                                                                      'p': 0.30461223878755994,\n",
      "                                                                      'r': 0.6075377864949992},\n",
      "                                                          'rouge-2': {'f': 0.2966035810615314,\n",
      "                                                                      'p': 0.2358905302107044,\n",
      "                                                                      'r': 0.4753467444078293},\n",
      "                                                          'rouge-l': {'f': 0.35791017468425335,\n",
      "                                                                      'p': 0.28495270654344645,\n",
      "                                                                      'r': 0.5680595056734346}},\n",
      "            '200806_bert-base-german-cased_swiss': {'rouge-1': {'f': 0.3352210738955823,\n",
      "                                                                'p': 0.2588226241776229,\n",
      "                                                                'r': 0.5537809159678695},\n",
      "                                                    'rouge-2': {'f': 0.23515089803197486,\n",
      "                                                                'p': 0.17947116344040145,\n",
      "                                                                'r': 0.4003450177361932},\n",
      "                                                    'rouge-l': {'f': 0.30574651740308123,\n",
      "                                                                'p': 0.23539352860907628,\n",
      "                                                                'r': 0.5080939049431162}},\n",
      "            '200811_bert-base-german-cased_swissBundes': {'rouge-1': {'f': 0.44248429339478995,\n",
      "                                                                      'p': 0.3549219230916659,\n",
      "                                                                      'r': 0.6860392351234301},\n",
      "                                                          'rouge-2': {'f': 0.3591286817602952,\n",
      "                                                                      'p': 0.28957932556628424,\n",
      "                                                                      'r': 0.5562041740832786},\n",
      "                                                          'rouge-l': {'f': 0.41671252551772947,\n",
      "                                                                      'p': 0.3345736616388438,\n",
      "                                                                      'r': 0.645336141738387}},\n",
      "            '200811_distilbert-base-german-cased_swissBundes': {'rouge-1': {'f': 0.41905513252656196,\n",
      "                                                                            'p': 0.3370531774591795,\n",
      "                                                                            'r': 0.6490593283922239},\n",
      "                                                                'rouge-2': {'f': 0.3371899086931384,\n",
      "                                                                            'p': 0.2715870770762061,\n",
      "                                                                            'r': 0.5240512262935064},\n",
      "                                                                'rouge-l': {'f': 0.3951482168755074,\n",
      "                                                                            'p': 0.31810562971872863,\n",
      "                                                                            'r': 0.6114674613158931}},\n",
      "            '200812_bert-base-german-cased_bundes': {'rouge-1': {'f': 0.43042639395075893,\n",
      "                                                                 'p': 0.34370854766601305,\n",
      "                                                                 'r': 0.678197690158199},\n",
      "                                                     'rouge-2': {'f': 0.3492317089308995,\n",
      "                                                                 'p': 0.2801969633908597,\n",
      "                                                                 'r': 0.5507249761226275},\n",
      "                                                     'rouge-l': {'f': 0.4060201835744327,\n",
      "                                                                 'p': 0.3247509333904115,\n",
      "                                                                 'r': 0.6384280116559625}},\n",
      "            '200812_distilbert-base-german-cased_bundes': {'rouge-1': {'f': 0.4106702549539478,\n",
      "                                                                       'p': 0.33040564744928946,\n",
      "                                                                       'r': 0.6431916136137169},\n",
      "                                                           'rouge-2': {'f': 0.3299847531362378,\n",
      "                                                                       'p': 0.2666356343571508,\n",
      "                                                                       'r': 0.5167933249898039},\n",
      "                                                           'rouge-l': {'f': 0.38712785738381156,\n",
      "                                                                       'p': 0.31158348998256313,\n",
      "                                                                       'r': 0.6062776462774868}},\n",
      "            'lead_1': {'rouge-1': {'f': 0.40508739621427986,\n",
      "                                   'p': 0.4969418526968579,\n",
      "                                   'r': 0.40559913726344676},\n",
      "                       'rouge-2': {'f': 0.331897418094971,\n",
      "                                   'p': 0.40608713878604435,\n",
      "                                   'r': 0.3358522071332551},\n",
      "                       'rouge-l': {'f': 0.38039349627809965,\n",
      "                                   'p': 0.4666895646807571,\n",
      "                                   'r': 0.38155156796128653}},\n",
      "            'lead_2': {'rouge-1': {'f': 0.4818487566104757,\n",
      "                                   'p': 0.4478880877235672,\n",
      "                                   'r': 0.6068613306117323},\n",
      "                       'rouge-2': {'f': 0.40475646341236443,\n",
      "                                   'p': 0.3774367772804796,\n",
      "                                   'r': 0.5098142908392984},\n",
      "                       'rouge-l': {'f': 0.4515023379364714,\n",
      "                                   'p': 0.42021589823945826,\n",
      "                                   'r': 0.5671726191943339}},\n",
      "            'lead_3': {'rouge-1': {'f': 0.4373841694873048,\n",
      "                                   'p': 0.35036215802739074,\n",
      "                                   'r': 0.6890163634486429},\n",
      "                       'rouge-2': {'f': 0.36482202196461616,\n",
      "                                   'p': 0.29300351489983106,\n",
      "                                   'r': 0.5750834592996004},\n",
      "                       'rouge-l': {'f': 0.4080083138069886,\n",
      "                                   'p': 0.3275495812755554,\n",
      "                                   'r': 0.6403902703954001}}},\n",
      " 'swiss': {'200805_distilbert-base-german-cased_swiss': {'rouge-1': {'f': 0.2208904643681075,\n",
      "                                                                     'p': 0.19439099368638413,\n",
      "                                                                     'r': 0.32128650503174166},\n",
      "                                                         'rouge-2': {'f': 0.059080992463295685,\n",
      "                                                                     'p': 0.05080031980511742,\n",
      "                                                                     'r': 0.09129047622938612},\n",
      "                                                         'rouge-l': {'f': 0.17480029250914067,\n",
      "                                                                     'p': 0.15219805930586502,\n",
      "                                                                     'r': 0.25962980716561235}},\n",
      "           '200806_bert-base-german-cased_swiss': {'rouge-1': {'f': 0.27208824280524824,\n",
      "                                                               'p': 0.2405912032731661,\n",
      "                                                               'r': 0.38707229221338746},\n",
      "                                                   'rouge-2': {'f': 0.09353287838593165,\n",
      "                                                               'p': 0.08082399414999177,\n",
      "                                                               'r': 0.1394100391961731},\n",
      "                                                   'rouge-l': {'f': 0.21660371338337245,\n",
      "                                                               'p': 0.18939115859560815,\n",
      "                                                               'r': 0.314245173013133}},\n",
      "           '200811_bert-base-german-cased_swissBundes': {'rouge-1': {'f': 0.26505556432815247,\n",
      "                                                                     'p': 0.23385972493849336,\n",
      "                                                                     'r': 0.3792239626572266},\n",
      "                                                         'rouge-2': {'f': 0.08827162785576693,\n",
      "                                                                     'p': 0.07617523069788017,\n",
      "                                                                     'r': 0.13273514748126886},\n",
      "                                                         'rouge-l': {'f': 0.21097790850406906,\n",
      "                                                                     'p': 0.18417475738462868,\n",
      "                                                                     'r': 0.3078226037812862}},\n",
      "           '200811_distilbert-base-german-cased_swissBundes': {'rouge-1': {'f': 0.21518158005536014,\n",
      "                                                                           'p': 0.18844316118587623,\n",
      "                                                                           'r': 0.31422379401470646},\n",
      "                                                               'rouge-2': {'f': 0.05511860672982785,\n",
      "                                                                           'p': 0.04714262578175791,\n",
      "                                                                           'r': 0.08559838105632522},\n",
      "                                                               'rouge-l': {'f': 0.17069733028829792,\n",
      "                                                                           'p': 0.1476203763126123,\n",
      "                                                                           'r': 0.25512992011695557}},\n",
      "           '200812_bert-base-german-cased_bundes': {'rouge-1': {'f': 0.23380763393858925,\n",
      "                                                                'p': 0.2069875482309864,\n",
      "                                                                'r': 0.3362122933938324},\n",
      "                                                    'rouge-2': {'f': 0.06709510906369721,\n",
      "                                                                'p': 0.05815161563337175,\n",
      "                                                                'r': 0.10204208052769037},\n",
      "                                                    'rouge-l': {'f': 0.18541935803731657,\n",
      "                                                                'p': 0.16217703926620317,\n",
      "                                                                'r': 0.2726609185881171}},\n",
      "           '200812_distilbert-base-german-cased_bundes': {'rouge-1': {'f': 0.2172372529930633,\n",
      "                                                                      'p': 0.19078767357497264,\n",
      "                                                                      'r': 0.31610029634805703},\n",
      "                                                          'rouge-2': {'f': 0.055320951567523265,\n",
      "                                                                      'p': 0.04751278580033084,\n",
      "                                                                      'r': 0.08584135258950723},\n",
      "                                                          'rouge-l': {'f': 0.17201980601987005,\n",
      "                                                                      'p': 0.14935123638393807,\n",
      "                                                                      'r': 0.25624366706184776}},\n",
      "           'lead_1': {'rouge-1': {'f': 0.19510976588784015,\n",
      "                                  'p': 0.2922889879585023,\n",
      "                                  'r': 0.17545487888510256},\n",
      "                      'rouge-2': {'f': 0.05974055491049116,\n",
      "                                  'p': 0.0918355362382523,\n",
      "                                  'r': 0.054795057037003006},\n",
      "                      'rouge-l': {'f': 0.16117349800225758,\n",
      "                                  'p': 0.24237168538904688,\n",
      "                                  'r': 0.14559626283938498}},\n",
      "           'lead_2': {'rouge-1': {'f': 0.21455198689727994,\n",
      "                                  'p': 0.22375708514251072,\n",
      "                                  'r': 0.2537945828350605},\n",
      "                      'rouge-2': {'f': 0.05706577542373108,\n",
      "                                  'p': 0.05884349418283939,\n",
      "                                  'r': 0.0708786462665916},\n",
      "                      'rouge-l': {'f': 0.16130174556711835,\n",
      "                                  'p': 0.16632034768531742,\n",
      "                                  'r': 0.19466148159584953}},\n",
      "           'lead_3': {'rouge-1': {'f': 0.21559914264825003,\n",
      "                                  'p': 0.1892772774448042,\n",
      "                                  'r': 0.31406139959879315},\n",
      "                      'rouge-2': {'f': 0.054817162531564455,\n",
      "                                  'p': 0.047210648351297804,\n",
      "                                  'r': 0.08481993415074525},\n",
      "                      'rouge-l': {'f': 0.153340049264878,\n",
      "                                  'p': 0.13261369644330775,\n",
      "                                  'r': 0.23037459998700588}}}}\n"
     ]
    }
   ],
   "source": [
    "# print out the calculated rouge scores\n",
    "pprint.pprint(rouge_scores)"
   ]
  },
  {
   "cell_type": "code",
   "execution_count": 20,
   "metadata": {},
   "outputs": [],
   "source": [
    "import pickle\n",
    "\n",
    "pickle.dump(rouge_scores, open('rouge_scores.p','wb'))"
   ]
  },
  {
   "cell_type": "code",
   "execution_count": null,
   "metadata": {},
   "outputs": [],
   "source": []
  },
  {
   "cell_type": "code",
   "execution_count": null,
   "metadata": {},
   "outputs": [],
   "source": []
  },
  {
   "cell_type": "code",
   "execution_count": null,
   "metadata": {},
   "outputs": [],
   "source": []
  },
  {
   "cell_type": "code",
   "execution_count": null,
   "metadata": {},
   "outputs": [],
   "source": []
  },
  {
   "cell_type": "code",
   "execution_count": null,
   "metadata": {},
   "outputs": [],
   "source": [
    "with open('sample_results.txt','w') as f:\n",
    "    for i in range(len(prediction)):\n",
    "        source_output = \" \".join(source[i]) \n",
    "        f.write(\"Source Text: \\n\")\n",
    "        f.write(\"\\\"\" + source_output + \"\\\" \\n\")\n",
    "        f.write(\"\\n\")\n",
    "        f.write(\"Source target: \\n\")\n",
    "        f.write(\"\\\"\" + target[i] + \"\\\" \\n\")\n",
    "        f.write(\"\\n\")\n",
    "        f.write(\"Model Prediction: \\n\")\n",
    "        f.write(\"\\\"\" + prediction[i].replace(\"\\n\", \" \") + \"\\\" \\n\")        \n",
    "        f.write(\"\\n\")\n",
    "        f.write(\"======================================\")        \n",
    "        f.write(\"\\n \\n\")"
   ]
  },
  {
   "cell_type": "code",
   "execution_count": null,
   "metadata": {},
   "outputs": [],
   "source": [
    "target[10]"
   ]
  },
  {
   "cell_type": "code",
   "execution_count": null,
   "metadata": {},
   "outputs": [],
   "source": [
    "prediction[10]"
   ]
  },
  {
   "cell_type": "code",
   "execution_count": null,
   "metadata": {},
   "outputs": [],
   "source": [
    "# for testing\n",
    "sb.glue(\"rouge_2_f_score\", rouge_scores['rouge-2']['f'])"
   ]
  },
  {
   "cell_type": "markdown",
   "metadata": {},
   "source": [
    "## Prediction on a single input sample"
   ]
  },
  {
   "cell_type": "markdown",
   "metadata": {},
   "source": [
    "## Clean up temporary folders"
   ]
  },
  {
   "cell_type": "code",
   "execution_count": null,
   "metadata": {},
   "outputs": [],
   "source": [
    "if os.path.exists(DATA_PATH):\n",
    "    shutil.rmtree(DATA_PATH, ignore_errors=True)\n",
    "if os.path.exists(CACHE_DIR):\n",
    "    shutil.rmtree(CACHE_DIR, ignore_errors=True)\n",
    "if USE_PREPROCSSED_DATA:\n",
    "    if os.path.exists(PROCESSED_DATA_PATH):\n",
    "        shutil.rmtree(PROCESSED_DATA_PATH, ignore_errors=True)"
   ]
  },
  {
   "cell_type": "code",
   "execution_count": null,
   "metadata": {},
   "outputs": [],
   "source": []
  }
 ],
 "metadata": {
  "celltoolbar": "Tags",
  "kernelspec": {
   "display_name": "Environment (conda_nlp_gpu)",
   "language": "python",
   "name": "conda_nlp_gpu"
  },
  "language_info": {
   "codemirror_mode": {
    "name": "ipython",
    "version": 3
   },
   "file_extension": ".py",
   "mimetype": "text/x-python",
   "name": "python",
   "nbconvert_exporter": "python",
   "pygments_lexer": "ipython3",
   "version": "3.6.8"
  }
 },
 "nbformat": 4,
 "nbformat_minor": 2
}
