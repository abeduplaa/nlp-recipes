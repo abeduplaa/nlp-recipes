{
 "cells": [
  {
   "cell_type": "markdown",
   "metadata": {},
   "source": [
    "Copyright (c) Microsoft Corporation. All rights reserved.\n",
    "\n",
    "Licensed under the MIT License."
   ]
  },
  {
   "cell_type": "markdown",
   "metadata": {},
   "source": [
    "## Abstractive Summarization on CNN/DM Dataset using Transformers\n",
    "\n",
    "\n",
    "### Summary\n",
    "\n",
    "This notebook demonstrates how to fine tune Transformers models like [BART](https://arxiv.org/abs/1910.13461) and [T5](https://arxiv.org/abs/1910.10683) together with HuggingFace's [transformers library](https://github.com/huggingface/transformers)for abstractive text summarization. Utility functions and classes in the NLP Best Practices repo are used to facilitate data preprocessing, model training, model scoring, result postprocessing, and model evaluation.\n",
    "\n",
    "\n",
    "\n",
    "\n",
    "### Before You Start\n",
    "\n",
    "Set QUICK_RUN = True to run the notebook on a small subset of data and a smaller number of steps. If QUICK_RUN = True, the notebook takes about 5 minutes to run on a VM with 1 Tesla K80 GPUs with 12GB GPU memory. If QUICK_RUN = False, it takes around 15 minutes for data preprocessing, 15 minutes for fine-tuning and 3 hours for running evaluation on the whole CNN/DM test dataset.\n",
    "\n",
    "### Additional Notes\n",
    "\n",
    "* **ROUGE Evalation**: To run rouge evaluation, please refer to the section of compute_rouge_perl in [summarization_evaluation.ipynb](./summarization_evaluation.ipynb) for setup.\n",
    "\n",
    "* **Distributed Training**:\n",
    "Please note that the jupyter notebook only allows to use pytorch [DataParallel](https://pytorch.org/docs/master/nn.html#dataparallel). Faster speed and larger batch size can be achieved with pytorch [DistributedDataParallel](https://pytorch.org/docs/master/notes/ddp.html)(DDP). Script [extractive_summarization_cnndm_distributed_train.py](./extractive_summarization_cnndm_distributed_train.py) shows an example of how to use DDP.\n",
    "\n"
   ]
  },
  {
   "cell_type": "code",
   "execution_count": 1,
   "metadata": {
    "tags": [
     "parameters"
    ]
   },
   "outputs": [],
   "source": [
    "%load_ext autoreload\n",
    "\n",
    "%autoreload 2\n",
    "## Set QUICK_RUN = True to run the notebook on a small subset of data and a smaller number of epochs.\n",
    "QUICK_RUN = True"
   ]
  },
  {
   "cell_type": "markdown",
   "metadata": {},
   "source": [
    "### Configuration\n"
   ]
  },
  {
   "cell_type": "code",
   "execution_count": null,
   "metadata": {
    "scrolled": true
   },
   "outputs": [],
   "source": [
    "import os\n",
    "import shutil\n",
    "import sys\n",
    "from tempfile import TemporaryDirectory\n",
    "import time\n",
    "import torch\n",
    "\n",
    "nlp_path = os.path.abspath(\"../../\")\n",
    "if nlp_path not in sys.path:\n",
    "    sys.path.insert(0, nlp_path)\n",
    "\n",
    "# from utils_nlp.dataset.cnndm import CNNDMSummarizationDataset\n",
    "from utils_nlp.eval import compute_rouge_python, compute_rouge_perl\n",
    "from utils_nlp.dataset.swiss import SwissSummarizationDataset\n",
    "\n",
    "from utils_nlp.models.transformers.abstractive_summarization_bartt5 import (\n",
    "    AbstractiveSummarizer)\n",
    "\n",
    "from utils_nlp.models.transformers.datasets import SummarizationDataset\n",
    "import nltk\n",
    "from nltk import tokenize\n",
    "\n",
    "import pandas as pd\n",
    "import scrapbook as sb\n",
    "import pprint\n",
    "start_time = time.time()"
   ]
  },
  {
   "cell_type": "markdown",
   "metadata": {},
   "source": [
    "\n",
    "### Configuration: choose the transformer model to be used"
   ]
  },
  {
   "cell_type": "markdown",
   "metadata": {},
   "source": [
    "Several pretrained models have been made available by [Hugging Face](https://github.com/huggingface/transformers). For abstractive summarization, the following pretrained models are supported. "
   ]
  },
  {
   "cell_type": "code",
   "execution_count": null,
   "metadata": {},
   "outputs": [],
   "source": [
    "pd.DataFrame({\"model_name\": AbstractiveSummarizer.list_supported_models()})"
   ]
  },
  {
   "cell_type": "code",
   "execution_count": null,
   "metadata": {
    "tags": [
     "parameters"
    ]
   },
   "outputs": [],
   "source": [
    "# Transformer model being used\n",
    "# MODEL_NAME = \"bart-large\"\n",
    "MODEL_NAME = \"airKlizz/t5-base-multi-de-wiki-news\"\n",
    "MODEL_PATH_NAME = MODEL_NAME.replace(\"/\",\"_\")\n",
    "# notebook parameters\n",
    "# the cache data path during find tuning\n",
    "CACHE_DIR = \"./\"+ MODEL_PATH_NAME + \"_cache\" #TemporaryDirectory().name\n",
    "summarizer = AbstractiveSummarizer(MODEL_NAME, cache_dir=CACHE_DIR)"
   ]
  },
  {
   "cell_type": "markdown",
   "metadata": {},
   "source": [
    "### Data Preprocessing\n",
    "\n",
    "The dataset we used for this notebook is CNN/DM dataset which contains the documents and accompanying questions from the news articles of CNN and Daily mail. The highlights in each article are used as summary. The dataset consits of ~289K training examples, ~11K valiation examples and ~11K test examples.   The code in following cell will download the CNN/DM dataset listed at https://github.com/harvardnlp/sent-summary/.\n"
   ]
  },
  {
   "cell_type": "code",
   "execution_count": null,
   "metadata": {
    "tags": [
     "parameters"
    ]
   },
   "outputs": [],
   "source": [
    "validation = False\n",
    "DATA_NAME =\"swiss\"\n",
    "\n",
    "\n",
    "# the data path used to save the downloaded data file\n",
    "DATA_PATH = \"./\"+ MODEL_PATH_NAME + \"_\" + DATA_NAME #TemporaryDirectory().name\n",
    "# The number of lines at the head of data file used for preprocessing. -1 means all the lines.\n",
    "TOP_N = 100\n",
    "if not QUICK_RUN:\n",
    "    TOP_N = -1"
   ]
  },
  {
   "cell_type": "code",
   "execution_count": null,
   "metadata": {
    "scrolled": false
   },
   "outputs": [],
   "source": [
    "\n",
    "\n",
    "\n",
    "if DATA_NAME is \"cnndm\":\n",
    "    train_dataset, test_dataset = CNNDMSummarizationDataset(top_n=TOP_N, local_cache_path=DATA_PATH)\n",
    "elif DATA_NAME is \"swiss\":\n",
    "    if validation:\n",
    "        train_dataset, validation_dataset, test_dataset = SwissSummarizationDataset(top_n=TOP_N, validation=True, language='german')\n",
    "    else:\n",
    "        train_dataset, test_dataset = SwissSummarizationDataset(top_n=TOP_N, validation=False, language='german')\n",
    "        "
   ]
  },
  {
   "cell_type": "code",
   "execution_count": null,
   "metadata": {},
   "outputs": [],
   "source": [
    "train_dataset_concat = []\n",
    "test_dataset_concat = []\n",
    "\n",
    "for d in range(len(train_dataset)):\n",
    "    train_dataset_concat.append({\n",
    "        \"src\":(\" \").join(train_dataset[d][\"src_txt\"]),\n",
    "        \"tgt\":(\" \").join(train_dataset[d][\"tgt_txt\"]),\n",
    "    })\n",
    "\n",
    "\n",
    "for d in range(len(test_dataset)):\n",
    "    test_dataset_concat.append({\n",
    "        \"src\":(\" \").join(test_dataset[d][\"src_txt\"]),\n",
    "        \"tgt\":(\" \").join(test_dataset[d][\"tgt_txt\"]),\n",
    "    })"
   ]
  },
  {
   "cell_type": "markdown",
   "metadata": {},
   "source": [
    "Preprocess the data."
   ]
  },
  {
   "cell_type": "code",
   "execution_count": null,
   "metadata": {},
   "outputs": [],
   "source": [
    "from multiprocessing import Pool\n",
    "def preprocess(summarizer, input_data_list, num_workers=50, chunk_size=100, internal_batch_size=5e3):\n",
    "        \"\"\" preprocess the data for abstractive summarization.\n",
    "\n",
    "        Args:\n",
    "            input_data_list (list of dictionary): input list where each item is\n",
    "                an dictionary with fields \"src\" and \"tgt\" and both fields are string.\n",
    "            num_workers (int, optional): The number of workers in the pool.\n",
    "                Defautls to 50.\n",
    "            chunk_size (int, optional): The size that a worker processes.\n",
    "                Defaults to 100.\n",
    "            internal_batch_size (int, optional): The size that one pool processes.\n",
    "                Defaults to 5000. Reduce this number if you see segment fault.\n",
    "\n",
    "        Returns:\n",
    "            list of dictionary with addtional fields \"source_ids\",\n",
    "                \"source_mask\" and \"target_ids\".\n",
    "        \"\"\"\n",
    "        i = 0\n",
    "        temp_dir = TemporaryDirectory().name\n",
    "        os.makedirs(temp_dir, mode=0o777, exist_ok=False)\n",
    "        temp_file = \".temp_preprocess\"\n",
    "        processed_length = 0\n",
    "        result = []\n",
    "        print(len(input_data_list))\n",
    "        pool = Pool(num_workers, initializer=summarizer.processor.initializer)\n",
    "        while processed_length < len(input_data_list):\n",
    "            max_length = int(min(processed_length+internal_batch_size, len(input_data_list)))\n",
    "            temp = []\n",
    "            for j in range(processed_length, max_length):\n",
    "                temp.append(input_data_list[j])\n",
    "            result_generator = pool.imap(summarizer.processor.encode_example, temp, chunk_size)\n",
    "            torch.save(list(result_generator), os.path.join(temp_dir, temp_file+str(i)))\n",
    "            i += 1\n",
    "            processed_length = max_length\n",
    "            #print(processed_length)\n",
    "\n",
    "        pool.close()\n",
    "        pool.join()\n",
    "        result = []\n",
    "        total_batch_number = i\n",
    "        for i in range(total_batch_number):\n",
    "            result.extend(torch.load(os.path.join(temp_dir, temp_file+str(i))))\n",
    "        if os.path.exists(temp_dir):\n",
    "            shutil.rmtree(temp_dir, ignore_errors=True)\n",
    "        return result\n",
    "\n"
   ]
  },
  {
   "cell_type": "code",
   "execution_count": null,
   "metadata": {
    "scrolled": false
   },
   "outputs": [],
   "source": [
    "%%time\n",
    "# abs_sum_train = summarizer.processor.preprocess(train_dataset)\n",
    "abs_sum_train = preprocess(summarizer, train_dataset_concat)\n",
    "# torch.save(abs_sum_train,  os.path.join(DATA_PATH, \"train_{0}_full.pt\".format(MODEL_NAME)))\n",
    "# abs_sum_train = torch.load(os.path.join(DATA_PATH, \"train_{0}_full.pt\".format(MODEL_NAME)))"
   ]
  },
  {
   "cell_type": "code",
   "execution_count": null,
   "metadata": {},
   "outputs": [],
   "source": [
    "%%time\n",
    "# abs_sum_test= summarizer.processor.preprocess(test_dataset)\n",
    "abs_sum_test= preprocess(summarizer, test_dataset_concat)"
   ]
  },
  {
   "cell_type": "code",
   "execution_count": null,
   "metadata": {},
   "outputs": [],
   "source": [
    "print(len(abs_sum_train))\n",
    "print(len(abs_sum_test))"
   ]
  },
  {
   "cell_type": "markdown",
   "metadata": {},
   "source": [
    "#### Inspect Data"
   ]
  },
  {
   "cell_type": "code",
   "execution_count": null,
   "metadata": {},
   "outputs": [],
   "source": [
    "abs_sum_train[0].keys()"
   ]
  },
  {
   "cell_type": "code",
   "execution_count": null,
   "metadata": {
    "scrolled": false
   },
   "outputs": [],
   "source": [
    "abs_sum_train[5]"
   ]
  },
  {
   "cell_type": "markdown",
   "metadata": {},
   "source": [
    "## Fine tune model\n",
    "To start model fine-tuning, we need to specify the paramters as follows."
   ]
  },
  {
   "cell_type": "code",
   "execution_count": null,
   "metadata": {
    "tags": [
     "parameters"
    ]
   },
   "outputs": [],
   "source": [
    "BATCH_SIZE_PER_GPU = 3\n",
    "GRADIENT_ACCUMULATION_STEPS = 1\n",
    "MAX_POS_LENGTH = 512\n",
    "\n",
    "# GPU used for training\n",
    "NUM_GPUS = torch.cuda.device_count()\n",
    "\n",
    "\n",
    "# Learning rate\n",
    "LEARNING_RATE=3e-5\n",
    "MAX_GRAD_NORM=0.1\n",
    "\n",
    "# How often the statistics reports show up in training, unit is step.\n",
    "REPORT_EVERY=100\n",
    "SAVE_EVERY=1000\n",
    "\n",
    "# total number of steps for training\n",
    "MAX_STEPS=100\n",
    "# number of steps for warm up\n",
    "WARMUP_STEPS=5e1\n",
    "    \n",
    "if not QUICK_RUN:\n",
    "    MAX_STEPS=1000\n",
    "    WARMUP_STEPS=5e2\n",
    "    \n",
    "# inference parameters\n",
    "TEST_PER_GPU_BATCH_SIZE = 96\n",
    "BEAM_SIZE = 3\n",
    " "
   ]
  },
  {
   "cell_type": "code",
   "execution_count": null,
   "metadata": {
    "scrolled": true
   },
   "outputs": [],
   "source": [
    "\n",
    "summarizer.fit(\n",
    "            abs_sum_train,\n",
    "            num_gpus=NUM_GPUS,\n",
    "            batch_size=BATCH_SIZE_PER_GPU*NUM_GPUS,\n",
    "            gradient_accumulation_steps=GRADIENT_ACCUMULATION_STEPS,\n",
    "            max_steps=MAX_STEPS,\n",
    "            learning_rate=LEARNING_RATE,\n",
    "            max_grad_norm=MAX_GRAD_NORM,\n",
    "            warmup_steps=WARMUP_STEPS,\n",
    "            verbose=True,\n",
    "            report_every=REPORT_EVERY,\n",
    "        )\n"
   ]
  },
  {
   "cell_type": "code",
   "execution_count": null,
   "metadata": {},
   "outputs": [],
   "source": [
    "# save a finetuned model and load a previous saved model\n",
    "\"\"\"\n",
    "import torch\n",
    "model_path = os.path.join(\n",
    "        CACHE_DIR,\n",
    "        \"abssum_modelname_{0}_steps_{1}.pt\".format(\n",
    "            MODEL_NAME, MAX_STEPS\n",
    "        ))\n",
    "summarizer.save_model(global_step=MAX_STEPS, full_name=model_path)\n",
    "\n",
    "summarizer = AbstractiveSummarizer(MODEL_NAME, cache_dir=CACHE_DIR)\n",
    "summarizer.model.load_state_dict(torch.load(model_path, map_location=\"cpu\")['model'])\n",
    "\"\"\""
   ]
  },
  {
   "cell_type": "markdown",
   "metadata": {},
   "source": [
    "### Model Evaluation\n",
    "\n",
    "[ROUGE](https://en.wikipedia.org/wiki/ROUGE_(metric)), or Recall-Oriented Understudy for Gisting Evaluation has been commonly used for evaluating text summarization.             \n",
    "For the settings in this notebook with QUICK_RUN=False, you should get ROUGE scores close to the following numbers:\n",
    "\n",
    "``\n",
    "{'rouge-1': {'f': 0.3532833731474843,\n",
    "             'p': 0.5062112092750258,\n",
    "             'r': 0.2854026986121758},\n",
    " 'rouge-2': {'f': 0.1627400891022247,\n",
    "             'p': 0.23802173638805246,\n",
    "             'r': 0.13034686738843493},\n",
    " 'rouge-l': {'f': 0.2587374492685969,\n",
    "             'p': 0.3710902340617733,\n",
    "             'r': 0.20909466938819835}}\n",
    " ``           "
   ]
  },
  {
   "cell_type": "code",
   "execution_count": null,
   "metadata": {},
   "outputs": [],
   "source": [
    "source = []\n",
    "target = []\n",
    "\n",
    "    \n",
    "for i in test_dataset_concat:\n",
    "    source.append(i[\"src\"]) \n",
    "    target.append(i['tgt'].replace(\"<t>\",\"\").replace(\"</t>\", \"\").replace(\"\\n\", \"\")) "
   ]
  },
  {
   "cell_type": "code",
   "execution_count": null,
   "metadata": {},
   "outputs": [],
   "source": [
    "%%time\n",
    "prediction = summarizer.predict(abs_sum_test, \n",
    "                                num_gpus=NUM_GPUS, \n",
    "                                batch_size=TEST_PER_GPU_BATCH_SIZE*NUM_GPUS,\n",
    "                                min_length=24, \n",
    "                                max_length=48,\n",
    "                                num_beams=BEAM_SIZE,\n",
    "                                checkpoint= \"./airKlizz_t5-base-multi-de-wiki-news_cache/fine_tuned/abssum_airKlizz/t5-base-multi-de-wiki-news.pt\")"
   ]
  },
  {
   "cell_type": "code",
   "execution_count": null,
   "metadata": {},
   "outputs": [],
   "source": [
    "%%time\n",
    "prediction = summarizer.predict(abs_sum_test, \n",
    "                                num_gpus=NUM_GPUS, \n",
    "                                batch_size=TEST_PER_GPU_BATCH_SIZE*NUM_GPUS,\n",
    "                                min_length=24, \n",
    "                                max_length=48,\n",
    "                                num_beams=BEAM_SIZE)\n"
   ]
  },
  {
   "cell_type": "code",
   "execution_count": null,
   "metadata": {},
   "outputs": [],
   "source": [
    "rouge_scores = compute_rouge_python(cand=prediction, ref=target)\n",
    "pprint.pprint(rouge_scores)"
   ]
  },
  {
   "cell_type": "code",
   "execution_count": null,
   "metadata": {},
   "outputs": [],
   "source": [
    "rouge_scores = compute_rouge_python(cand=prediction, ref=target)\n",
    "pprint.pprint(rouge_scores)"
   ]
  },
  {
   "cell_type": "code",
   "execution_count": null,
   "metadata": {},
   "outputs": [],
   "source": [
    "prediction[3]"
   ]
  },
  {
   "cell_type": "code",
   "execution_count": null,
   "metadata": {},
   "outputs": [],
   "source": [
    "target[3]"
   ]
  },
  {
   "cell_type": "code",
   "execution_count": null,
   "metadata": {},
   "outputs": [],
   "source": [
    "source[0]"
   ]
  },
  {
   "cell_type": "code",
   "execution_count": null,
   "metadata": {},
   "outputs": [],
   "source": [
    "# for testing\n",
    "sb.glue(\"rouge_2_f_score\", rouge_scores['rouge-2']['f'])"
   ]
  },
  {
   "cell_type": "markdown",
   "metadata": {},
   "source": [
    "## Prediction on a single input sample"
   ]
  },
  {
   "cell_type": "code",
   "execution_count": null,
   "metadata": {},
   "outputs": [],
   "source": [
    "source = \"\"\"\n",
    "But under the new rule, set to be announced in the next 48 hours, Border Patrol agents would immediately return anyone to Mexico — without any detainment and without any due process — who attempts to cross the southwestern border between the legal ports of entry. The person would not be held for any length of time in an American facility.\n",
    "\n",
    "Although they advised that details could change before the announcement, administration officials said the measure was needed to avert what they fear could be a systemwide outbreak of the coronavirus inside detention facilities along the border. Such an outbreak could spread quickly through the immigrant population and could infect large numbers of Border Patrol agents, leaving the southwestern border defenses weakened, the officials argued.\n",
    "The Trump administration plans to immediately turn back all asylum seekers and other foreigners attempting to enter the United States from Mexico illegally, saying the nation cannot risk allowing the coronavirus to spread through detention facilities and Border Patrol agents, four administration officials said.\n",
    "The administration officials said the ports of entry would remain open to American citizens, green-card holders and foreigners with proper documentation. Some foreigners would be blocked, including Europeans currently subject to earlier travel restrictions imposed by the administration. The points of entry will also be open to commercial traffic.\"\"\""
   ]
  },
  {
   "cell_type": "code",
   "execution_count": null,
   "metadata": {},
   "outputs": [],
   "source": [
    "small_test_dataset = SummarizationDataset(\n",
    "    None,\n",
    "    source=[source],\n",
    "    n_processes=1\n",
    ")\n",
    "preprocessed_dataset =  summarizer.processor.preprocess(small_test_dataset)\n"
   ]
  },
  {
   "cell_type": "code",
   "execution_count": null,
   "metadata": {},
   "outputs": [],
   "source": [
    "preprocessed_dataset[0].keys()"
   ]
  },
  {
   "cell_type": "code",
   "execution_count": null,
   "metadata": {},
   "outputs": [],
   "source": [
    "prediction = summarizer.predict(preprocessed_dataset, num_gpus=0, batch_size=1, min_length=24, max_length=48,)"
   ]
  },
  {
   "cell_type": "code",
   "execution_count": null,
   "metadata": {},
   "outputs": [],
   "source": [
    "prediction[0]"
   ]
  },
  {
   "cell_type": "code",
   "execution_count": null,
   "metadata": {},
   "outputs": [],
   "source": [
    "print(\"Total notebook running time {}\".format(time.time() - start_time))"
   ]
  },
  {
   "cell_type": "markdown",
   "metadata": {},
   "source": [
    "## Clean up temporary folders"
   ]
  },
  {
   "cell_type": "code",
   "execution_count": null,
   "metadata": {},
   "outputs": [],
   "source": [
    "\"\"\"\n",
    "if os.path.exists(DATA_PATH):\n",
    "    shutil.rmtree(DATA_PATH, ignore_errors=True)\n",
    "if os.path.exists(CACHE_DIR):\n",
    "    shutil.rmtree(CACHE_DIR, ignore_errors=True)\n",
    "\"\"\""
   ]
  },
  {
   "cell_type": "code",
   "execution_count": null,
   "metadata": {},
   "outputs": [],
   "source": []
  }
 ],
 "metadata": {
  "celltoolbar": "Tags",
  "kernelspec": {
   "display_name": "nlp_gpu",
   "language": "python",
   "name": "nlp_gpu"
  },
  "language_info": {
   "codemirror_mode": {
    "name": "ipython",
    "version": 3
   },
   "file_extension": ".py",
   "mimetype": "text/x-python",
   "name": "python",
   "nbconvert_exporter": "python",
   "pygments_lexer": "ipython3",
   "version": "3.6.8"
  }
 },
 "nbformat": 4,
 "nbformat_minor": 2
}
